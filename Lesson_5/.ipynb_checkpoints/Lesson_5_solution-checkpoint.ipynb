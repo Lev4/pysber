{
 "cells": [
  {
   "cell_type": "markdown",
   "metadata": {},
   "source": [
    "# Исключения и обработка ошибок"
   ]
  },
  {
   "cell_type": "markdown",
   "metadata": {},
   "source": [
    "* Понятие об исключении\n",
    "* Выброс исключения\n",
    "* Перехват исключения\n",
    "* Стандартные исключения"
   ]
  },
  {
   "cell_type": "markdown",
   "metadata": {},
   "source": [
    "# Если что-то пошло не так ...\n"
   ]
  },
  {
   "cell_type": "markdown",
   "metadata": {},
   "source": [
    "<img src=\"img\\buter.png\" width=300 align=left>"
   ]
  },
  {
   "cell_type": "markdown",
   "metadata": {},
   "source": [
    "\n",
    "#  На помощь приходят исключения! <br>\n",
    "\n",
    "Они прерывают ход программы в случае ошибок\n",
    "\n",
    "## Примеры исключений:"
   ]
  },
  {
   "cell_type": "code",
   "execution_count": 1,
   "metadata": {},
   "outputs": [
    {
     "ename": "SyntaxError",
     "evalue": "invalid syntax (<ipython-input-1-82875189ea96>, line 1)",
     "output_type": "error",
     "traceback": [
      "\u001b[0;36m  File \u001b[0;32m\"<ipython-input-1-82875189ea96>\"\u001b[0;36m, line \u001b[0;32m1\u001b[0m\n\u001b[0;31m    for el in [1,3,5]\u001b[0m\n\u001b[0m                     ^\u001b[0m\n\u001b[0;31mSyntaxError\u001b[0m\u001b[0;31m:\u001b[0m invalid syntax\n"
     ]
    }
   ],
   "source": [
    "for el in [1,3,5]"
   ]
  },
  {
   "cell_type": "code",
   "execution_count": 2,
   "metadata": {},
   "outputs": [
    {
     "ename": "ZeroDivisionError",
     "evalue": "division by zero",
     "output_type": "error",
     "traceback": [
      "\u001b[0;31m---------------------------------------------------------------------------\u001b[0m",
      "\u001b[0;31mZeroDivisionError\u001b[0m                         Traceback (most recent call last)",
      "\u001b[0;32m<ipython-input-2-adafc2937013>\u001b[0m in \u001b[0;36m<module>\u001b[0;34m\u001b[0m\n\u001b[0;32m----> 1\u001b[0;31m \u001b[0;36m5\u001b[0m \u001b[0;34m/\u001b[0m \u001b[0;36m0\u001b[0m\u001b[0;34m\u001b[0m\u001b[0;34m\u001b[0m\u001b[0m\n\u001b[0m",
      "\u001b[0;31mZeroDivisionError\u001b[0m: division by zero"
     ]
    }
   ],
   "source": [
    "5 / 0"
   ]
  },
  {
   "cell_type": "code",
   "execution_count": 3,
   "metadata": {},
   "outputs": [
    {
     "ename": "TypeError",
     "evalue": "unsupported operand type(s) for /: 'int' and 'str'",
     "output_type": "error",
     "traceback": [
      "\u001b[0;31m---------------------------------------------------------------------------\u001b[0m",
      "\u001b[0;31mTypeError\u001b[0m                                 Traceback (most recent call last)",
      "\u001b[0;32m<ipython-input-3-18e255b594ed>\u001b[0m in \u001b[0;36m<module>\u001b[0;34m\u001b[0m\n\u001b[0;32m----> 1\u001b[0;31m \u001b[0;36m5\u001b[0m \u001b[0;34m/\u001b[0m \u001b[0;34m'0'\u001b[0m\u001b[0;34m\u001b[0m\u001b[0;34m\u001b[0m\u001b[0m\n\u001b[0m",
      "\u001b[0;31mTypeError\u001b[0m: unsupported operand type(s) for /: 'int' and 'str'"
     ]
    }
   ],
   "source": [
    "5 / '0'"
   ]
  },
  {
   "cell_type": "code",
   "execution_count": 5,
   "metadata": {},
   "outputs": [
    {
     "ename": "ValueError",
     "evalue": "invalid literal for int() with base 10: 'ten'",
     "output_type": "error",
     "traceback": [
      "\u001b[0;31m---------------------------------------------------------------------------\u001b[0m",
      "\u001b[0;31mValueError\u001b[0m                                Traceback (most recent call last)",
      "\u001b[0;32m<ipython-input-5-12a85981658c>\u001b[0m in \u001b[0;36m<module>\u001b[0;34m\u001b[0m\n\u001b[0;32m----> 1\u001b[0;31m \u001b[0mint\u001b[0m\u001b[0;34m(\u001b[0m\u001b[0;34m'ten'\u001b[0m\u001b[0;34m)\u001b[0m\u001b[0;34m\u001b[0m\u001b[0;34m\u001b[0m\u001b[0m\n\u001b[0m",
      "\u001b[0;31mValueError\u001b[0m: invalid literal for int() with base 10: 'ten'"
     ]
    }
   ],
   "source": [
    "int('ten')"
   ]
  },
  {
   "cell_type": "code",
   "execution_count": 4,
   "metadata": {},
   "outputs": [
    {
     "ename": "FileNotFoundError",
     "evalue": "",
     "output_type": "error",
     "traceback": [
      "\u001b[0;31m---------------------------------------------------------------------------\u001b[0m",
      "\u001b[0;31mFileNotFoundError\u001b[0m                         Traceback (most recent call last)",
      "\u001b[0;32m<ipython-input-4-d1da56cb4cb1>\u001b[0m in \u001b[0;36m<module>\u001b[0;34m\u001b[0m\n\u001b[1;32m      1\u001b[0m \u001b[0;31m# Исключение срабатывает с помощью команды raise\u001b[0m\u001b[0;34m\u001b[0m\u001b[0;34m\u001b[0m\u001b[0;34m\u001b[0m\u001b[0m\n\u001b[0;32m----> 2\u001b[0;31m \u001b[0;32mraise\u001b[0m \u001b[0mFileNotFoundError\u001b[0m\u001b[0;34m\u001b[0m\u001b[0;34m\u001b[0m\u001b[0m\n\u001b[0m",
      "\u001b[0;31mFileNotFoundError\u001b[0m: "
     ]
    }
   ],
   "source": [
    "# Исключение срабатывает с помощью команды raise\n",
    "raise FileNotFoundError"
   ]
  },
  {
   "cell_type": "code",
   "execution_count": null,
   "metadata": {},
   "outputs": [],
   "source": [
    "# Traceback подсказка что не так и где искать ошибку "
   ]
  },
  {
   "cell_type": "code",
   "execution_count": 5,
   "metadata": {},
   "outputs": [
    {
     "ename": "FileNotFoundError",
     "evalue": "А где файл?",
     "output_type": "error",
     "traceback": [
      "\u001b[0;31m---------------------------------------------------------------------------\u001b[0m",
      "\u001b[0;31mFileNotFoundError\u001b[0m                         Traceback (most recent call last)",
      "\u001b[0;32m<ipython-input-5-3eabe171ed25>\u001b[0m in \u001b[0;36m<module>\u001b[0;34m\u001b[0m\n\u001b[0;32m----> 1\u001b[0;31m \u001b[0;32mraise\u001b[0m \u001b[0mFileNotFoundError\u001b[0m\u001b[0;34m(\u001b[0m\u001b[0;34m'А где файл?'\u001b[0m\u001b[0;34m)\u001b[0m\u001b[0;34m\u001b[0m\u001b[0;34m\u001b[0m\u001b[0m\n\u001b[0m",
      "\u001b[0;31mFileNotFoundError\u001b[0m: А где файл?"
     ]
    }
   ],
   "source": [
    "raise FileNotFoundError('А где файл?')"
   ]
  },
  {
   "cell_type": "code",
   "execution_count": 6,
   "metadata": {},
   "outputs": [],
   "source": [
    "# Можно создать свои исключения\n",
    "class MyException(Exception):\n",
    "    pass"
   ]
  },
  {
   "cell_type": "code",
   "execution_count": 7,
   "metadata": {},
   "outputs": [
    {
     "ename": "MyException",
     "evalue": "Это нестандартное исключение",
     "output_type": "error",
     "traceback": [
      "\u001b[0;31m---------------------------------------------------------------------------\u001b[0m",
      "\u001b[0;31mMyException\u001b[0m                               Traceback (most recent call last)",
      "\u001b[0;32m<ipython-input-7-1fbee6c97368>\u001b[0m in \u001b[0;36m<module>\u001b[0;34m\u001b[0m\n\u001b[0;32m----> 1\u001b[0;31m \u001b[0;32mraise\u001b[0m \u001b[0mMyException\u001b[0m\u001b[0;34m(\u001b[0m\u001b[0;34m'Это нестандартное исключение'\u001b[0m\u001b[0;34m)\u001b[0m\u001b[0;34m\u001b[0m\u001b[0;34m\u001b[0m\u001b[0m\n\u001b[0m",
      "\u001b[0;31mMyException\u001b[0m: Это нестандартное исключение"
     ]
    }
   ],
   "source": [
    "raise MyException('Это нестандартное исключение')"
   ]
  },
  {
   "cell_type": "markdown",
   "metadata": {},
   "source": [
    "# Перехват исключений"
   ]
  },
  {
   "cell_type": "code",
   "execution_count": 9,
   "metadata": {},
   "outputs": [
    {
     "name": "stdout",
     "output_type": "stream",
     "text": [
      "Please enter a number: df\n",
      "Oops!  That was no valid number.  Try again...\n",
      "Please enter a number: 1\n"
     ]
    }
   ],
   "source": [
    "while True:\n",
    "    try:\n",
    "        x = int(input(\"Please enter a number: \"))\n",
    "        break\n",
    "    except ValueError:\n",
    "        print(\"Oops!  That was no valid number.  Try again...\")"
   ]
  },
  {
   "cell_type": "code",
   "execution_count": null,
   "metadata": {},
   "outputs": [],
   "source": []
  },
  {
   "cell_type": "code",
   "execution_count": null,
   "metadata": {},
   "outputs": [],
   "source": []
  },
  {
   "cell_type": "markdown",
   "metadata": {},
   "source": [
    "Инструкция <b>finally</b> служит для реализации завершающих действий, сопутствующих операциям, выполняемым в блоке try. <br>\n",
    "Например:"
   ]
  },
  {
   "cell_type": "code",
   "execution_count": 7,
   "metadata": {},
   "outputs": [
    {
     "ename": "IndentationError",
     "evalue": "expected an indented block (<ipython-input-7-9330b401166c>, line 4)",
     "output_type": "error",
     "traceback": [
      "\u001b[0;36m  File \u001b[0;32m\"<ipython-input-7-9330b401166c>\"\u001b[0;36m, line \u001b[0;32m4\u001b[0m\n\u001b[0;31m    except:\u001b[0m\n\u001b[0m         ^\u001b[0m\n\u001b[0;31mIndentationError\u001b[0m\u001b[0;31m:\u001b[0m expected an indented block\n"
     ]
    }
   ],
   "source": [
    "f = open('foo','r')\n",
    "try:\n",
    "    # Выполнить некоторые действия\n",
    "except:\n",
    "    # Выполнить некоторые действия\n",
    "    \n",
    "f.close()\n",
    "    # Файл будет закрыт, независимо от того, что произойдет"
   ]
  },
  {
   "cell_type": "markdown",
   "metadata": {},
   "source": [
    " Другой пример"
   ]
  },
  {
   "cell_type": "code",
   "execution_count": null,
   "metadata": {},
   "outputs": [],
   "source": [
    "f = open(‘foo’,’r’)\n",
    "try:\n",
    "    # Выполнить некоторые действия\n",
    "except:\n",
    "    # Выполнить некоторые действия в случае исключения\n",
    "else:\n",
    "    # Выполнить некоторые действия в случае если все прошло без ошибок\n",
    "finally:\n",
    "    f.close()\n",
    "    # Файл будет закрыт, независимо от того, что произойдет"
   ]
  },
  {
   "cell_type": "markdown",
   "metadata": {},
   "source": [
    "# Стандартные исключения"
   ]
  },
  {
   "cell_type": "markdown",
   "metadata": {},
   "source": [
    "<a href='https://docs.python.org/3/library/exceptions.html'> Про встроенные исключения в оригинале на английском</a>\n",
    "\n",
    "<a href='https://pythonworld.ru/tipy-dannyx-v-python/isklyucheniya-v-python-konstrukciya-try-except-dlya-obrabotki-isklyuchenij.html\n",
    "'> Про встроенные исключения на русском</a>"
   ]
  },
  {
   "cell_type": "markdown",
   "metadata": {},
   "source": [
    "# Практическая часть"
   ]
  },
  {
   "cell_type": "code",
   "execution_count": 35,
   "metadata": {},
   "outputs": [
    {
     "data": {
      "application/vnd.jupyter.widget-view+json": {
       "model_id": "8ff9ced4abd64f0898f1d5faecc760e8",
       "version_major": 2,
       "version_minor": 0
      },
      "text/plain": [
       "HBox(children=(IntProgress(value=0, max=100000), HTML(value='')))"
      ]
     },
     "metadata": {},
     "output_type": "display_data"
    },
    {
     "name": "stdout",
     "output_type": "stream",
     "text": [
      "Что-то пошло не так\n",
      "Не надо делить на 0\n",
      "Что-то пошло не так\n",
      "Что-то пошло не так\n",
      "Что-то пошло не так\n",
      "Что-то пошло не так\n",
      "Что-то пошло не так\n",
      "Что-то пошло не так\n",
      "Что-то пошло не так\n",
      "Что-то пошло не так\n",
      "Что-то пошло не так\n",
      "Не надо делить на 0\n",
      "\n"
     ]
    }
   ],
   "source": [
    "# Создайте список str_nums из 100000 значений\n",
    "# В этом списке каждое значение  переведите в строку\n",
    "# Каждое кратное 10000  переведите в строку без 000, например, '10k', '20k'...\n",
    "# 10ые значения с начала и конца списка замените значения на '0'\n",
    "# Используя try except создайте новый список элементы которого будут получены по следующему алгоримту \n",
    "### 1. переведите элемент списка str_nums в int\n",
    "### 2. запишите результат деления 1000000 на этот элемент\n",
    "# В случае исключения выведите соответствующее сообщение\n",
    "# В случае исключения определенного типа, попробуйте обработать ошибку\n",
    "# <-- Ваш код здесь -->\n",
    "\n",
    "str_nums = [str(x)[:-3]+'k' if x % 10000 == 0 else str(x) for x in range(100000) ]\n",
    "str_nums[10] = '0'\n",
    "str_nums[-10] = '0'\n",
    "\n",
    "from tqdm import tqdm_notebook\n",
    "int_nums = []\n",
    "for el in tqdm_notebook(str_nums):\n",
    "    try:\n",
    "        int_el = int(el)\n",
    "        div_el = 1000000 / int_el \n",
    "        int_nums.append(div_el)\n",
    "    except ValueError:\n",
    "        print('Что-то пошло не так')\n",
    "        int_nums.append(10)\n",
    "    except ZeroDivisionError:\n",
    "        print('Не надо делить на 0')\n",
    "        int_nums.append(-1)\n"
   ]
  },
  {
   "cell_type": "markdown",
   "metadata": {},
   "source": [
    "# Еще немного практики\n",
    "#### Логирование исключений \n"
   ]
  },
  {
   "cell_type": "code",
   "execution_count": 45,
   "metadata": {},
   "outputs": [],
   "source": [
    "import logging\n",
    "import time\n",
    "import os\n",
    "\n",
    "# Создаем объект logger и файл для логирования\n",
    "logging.basicConfig(filename = 'problems.log',\n",
    "                  level= logging.DEBUG)\n",
    "logger = logging.getLogger()\n",
    "\n",
    "# Создаем функцию, которая считает временную дельту загрузки файла\n",
    "def read_file_timed(path):\n",
    "    start_time = time.time()\n",
    "    try:\n",
    "        # откройте файл в режиме чтения бинарного файла в переменную f\n",
    "        f = open(path, 'rb')\n",
    "        # считайте файл в переменную data\n",
    "        data = f.read()\n",
    "        return data  \n",
    "    except FileNotFoundError as err:\n",
    "        logger.error(err)\n",
    "#         raise\n",
    "    else:\n",
    "        f.close()\n",
    "    finally:\n",
    "        stop_time = time.time()\n",
    "        dt = stop_time - start_time\n",
    "        logger.info(\"Time required for {file} = {time}\".format(file=path,time=dt))"
   ]
  },
  {
   "cell_type": "code",
   "execution_count": 46,
   "metadata": {},
   "outputs": [],
   "source": [
    "tfile = 'Fix-Something-Went-Wrog.png'\n",
    "file_content = read_file_timed(os.path.join('data',tfile))"
   ]
  },
  {
   "cell_type": "code",
   "execution_count": null,
   "metadata": {},
   "outputs": [],
   "source": []
  },
  {
   "cell_type": "markdown",
   "metadata": {},
   "source": [
    "# Практическая часть"
   ]
  },
  {
   "cell_type": "code",
   "execution_count": 22,
   "metadata": {},
   "outputs": [],
   "source": [
    "import re"
   ]
  },
  {
   "cell_type": "code",
   "execution_count": 23,
   "metadata": {},
   "outputs": [
    {
     "data": {
      "text/plain": [
       "['df', 'df', 'df', 'df', 'df', 'df']"
      ]
     },
     "execution_count": 23,
     "metadata": {},
     "output_type": "execute_result"
    }
   ],
   "source": [
    "s = 'adfdsfadfasdfadfadfadf'\n",
    "re.findall('df',s)"
   ]
  },
  {
   "cell_type": "code",
   "execution_count": null,
   "metadata": {},
   "outputs": [],
   "source": [
    "# Дан файл report_scorm_050718.csv в папке data\n",
    "# необходимо посчитать общее количество вхождений строки \"isMobile: false\" \n",
    "# во всех ячейках колонки CMI_suspend_data"
   ]
  },
  {
   "cell_type": "code",
   "execution_count": 47,
   "metadata": {},
   "outputs": [
    {
     "name": "stdout",
     "output_type": "stream",
     "text": [
      "Fix-Something-Went-Wrong.png report_scorm_050718.csv.zip\r\n"
     ]
    }
   ],
   "source": [
    "!ls data"
   ]
  },
  {
   "cell_type": "code",
   "execution_count": 62,
   "metadata": {},
   "outputs": [
    {
     "data": {
      "text/html": [
       "<div>\n",
       "<style scoped>\n",
       "    .dataframe tbody tr th:only-of-type {\n",
       "        vertical-align: middle;\n",
       "    }\n",
       "\n",
       "    .dataframe tbody tr th {\n",
       "        vertical-align: top;\n",
       "    }\n",
       "\n",
       "    .dataframe thead th {\n",
       "        text-align: right;\n",
       "    }\n",
       "</style>\n",
       "<table border=\"1\" class=\"dataframe\">\n",
       "  <thead>\n",
       "    <tr style=\"text-align: right;\">\n",
       "      <th></th>\n",
       "      <th>Unnamed: 0</th>\n",
       "      <th>Content Package ID</th>\n",
       "      <th>CMI_suspend_data</th>\n",
       "    </tr>\n",
       "  </thead>\n",
       "  <tbody>\n",
       "    <tr>\n",
       "      <th>0</th>\n",
       "      <td>0</td>\n",
       "      <td>FS-VR1P-RTB1807_vid_TB_OV</td>\n",
       "      <td>razd1(vid1(00:00:13/00:02:47),vid2(00:00:07/00...</td>\n",
       "    </tr>\n",
       "    <tr>\n",
       "      <th>1</th>\n",
       "      <td>1</td>\n",
       "      <td>FS-VR1P-RTB1807_vid_TB_OV</td>\n",
       "      <td>razd1(vid1(00:03:37/00:02:47),vid2(00:01:53/00...</td>\n",
       "    </tr>\n",
       "    <tr>\n",
       "      <th>2</th>\n",
       "      <td>2</td>\n",
       "      <td>FS-VR1P-RTB1807_vid_TB_OV</td>\n",
       "      <td>razd1(vid1(00:06:54/00:02:47),vid2(00:04:13/00...</td>\n",
       "    </tr>\n",
       "    <tr>\n",
       "      <th>3</th>\n",
       "      <td>3</td>\n",
       "      <td>FS-VR1P-RSI1807_vid_SB_OV</td>\n",
       "      <td>razd1(vid1(00:03:42/00:02:47),vid2(00:01:49/00...</td>\n",
       "    </tr>\n",
       "    <tr>\n",
       "      <th>4</th>\n",
       "      <td>4</td>\n",
       "      <td>FS-VR1P-RTB1807_vid_TB_OV</td>\n",
       "      <td>razd1(vid1(00:07:15/00:02:47),vid2(00:06:44/00...</td>\n",
       "    </tr>\n",
       "  </tbody>\n",
       "</table>\n",
       "</div>"
      ],
      "text/plain": [
       "   Unnamed: 0         Content Package ID  \\\n",
       "0           0  FS-VR1P-RTB1807_vid_TB_OV   \n",
       "1           1  FS-VR1P-RTB1807_vid_TB_OV   \n",
       "2           2  FS-VR1P-RTB1807_vid_TB_OV   \n",
       "3           3  FS-VR1P-RSI1807_vid_SB_OV   \n",
       "4           4  FS-VR1P-RTB1807_vid_TB_OV   \n",
       "\n",
       "                                    CMI_suspend_data  \n",
       "0  razd1(vid1(00:00:13/00:02:47),vid2(00:00:07/00...  \n",
       "1  razd1(vid1(00:03:37/00:02:47),vid2(00:01:53/00...  \n",
       "2  razd1(vid1(00:06:54/00:02:47),vid2(00:04:13/00...  \n",
       "3  razd1(vid1(00:03:42/00:02:47),vid2(00:01:49/00...  \n",
       "4  razd1(vid1(00:07:15/00:02:47),vid2(00:06:44/00...  "
      ]
     },
     "execution_count": 62,
     "metadata": {},
     "output_type": "execute_result"
    }
   ],
   "source": [
    "import re\n",
    "import pandas as pd\n",
    "df = pd.read_csv(os.path.join('data','report_scorm_050718.csv.zip'))\n",
    "df.head()"
   ]
  },
  {
   "cell_type": "code",
   "execution_count": 64,
   "metadata": {},
   "outputs": [
    {
     "data": {
      "text/plain": [
       "'razd1(vid1(00:00:13/00:02:47),vid2(00:00:07/00:01:50),vid3(00:00:13/00:04:13),quest1(00:00:23@multiple_choice@5@0@1/2/3),quest2(00:00:07@choice@4@0@1),quest3(00:00:11@choice@4@0@1),page1(00:00:03)),razd2(vid1(00:00:08/00:01:19),quest1(00:00:04@choice@4@0@1),page1(00:00:01)),razd3(vid1(00:00:09/00:02:59),vid2(00:00:11/00:01:03),quest1(00:00:12@multiple_choice@5@0@1/2/3),quest2(00:00:07@choice@4@0@1),page1(00:00:03)),razd4(vid1(00:00:17/00:03:06),vid2(00:00:08/00:00:57),quest1(00:00:12@choice@4@0@1),quest2(00:00:31@multiple_choice@6@2@1/2/3/4/5),page1(00:00:32)),razd5(vid1(00:00:06/00:01:12),vid2(00:00:11/00:02:02),vid3(00:00:04/00:01:39),vid4(--:--:--/00:01:02),vid5(00:00:05/00:03:11),vid6(00:00:08/00:00:47),vid7(--:--:--/00:00:44),vid8(00:00:04/00:00:54),vid9(00:00:04/00:00:49),quest1(00:00:06@multiple_choice@5@0@1/2/3),quest2(00:00:17@multiple_choice@6@0@1/2/3/4),quest3(00:00:07@choice@4@0@1),quest4(00:00:09@choice@4@0@1),quest5(00:00:10@multiple_choice@5@0@1/2/3),quest6(00:00:17@multiple_choice@5@0@1/2/3),quest7(00:00:17@multiple_choice@5@0@1/2),quest8(00:00:11@choice@4@0@1),quest9(00:00:06@choice@4@0@1),page1(00:00:01))#vid_total(00:02:08)#vid_total_expected(00:30:34)#quest_total(00:03:27)#page_total(00:00:40)#wrong(2@78)#sessions(try1(27.06.2018, 12:17:45/27.06.2018, 12:31:51/cut/session_pauses(12)/browser(userAgent: Mozilla/5.0 (Windows NT 6.3; WOW64; Trident/7.0; .NET4.0E; .NET4.0C; .NET CLR 3.5.30729; .NET CLR 2.0.50727; .NET CLR 3.0.30729; rv:11.0) like Gecko vendor: unknown; isBrowser: true;isMobile: false;isTablet: false;isTouch: false; OSVersion: 6.3; OSName: Windows 8.1)/resolution(1440x900)/cut/completed))#total_pauses(12)#total_continues(15)#total_pause_time(00:00:42)'"
      ]
     },
     "execution_count": 64,
     "metadata": {},
     "output_type": "execute_result"
    }
   ],
   "source": [
    "s = df['CMI_suspend_data'][0]\n",
    "s"
   ]
  },
  {
   "cell_type": "code",
   "execution_count": 56,
   "metadata": {},
   "outputs": [
    {
     "data": {
      "text/plain": [
       "['isMobile: false']"
      ]
     },
     "execution_count": 56,
     "metadata": {},
     "output_type": "execute_result"
    }
   ],
   "source": [
    "pattern = \"isMobile: false\"\n",
    "re.findall(pattern,s)"
   ]
  },
  {
   "cell_type": "code",
   "execution_count": 67,
   "metadata": {},
   "outputs": [],
   "source": [
    "df['CMI_suspend_data'] = df['CMI_suspend_data'].astype('str')"
   ]
  },
  {
   "cell_type": "code",
   "execution_count": 60,
   "metadata": {},
   "outputs": [],
   "source": [
    "qp = df['CMI_suspend_data'].apply(lambda x: len(re.findall(pattern,x))).sum()"
   ]
  },
  {
   "cell_type": "code",
   "execution_count": 61,
   "metadata": {},
   "outputs": [
    {
     "data": {
      "text/plain": [
       "220276"
      ]
     },
     "execution_count": 61,
     "metadata": {},
     "output_type": "execute_result"
    }
   ],
   "source": [
    "qp"
   ]
  },
  {
   "cell_type": "code",
   "execution_count": null,
   "metadata": {},
   "outputs": [],
   "source": []
  }
 ],
 "metadata": {
  "kernelspec": {
   "display_name": "Python 3",
   "language": "python",
   "name": "python3"
  },
  "language_info": {
   "codemirror_mode": {
    "name": "ipython",
    "version": 3
   },
   "file_extension": ".py",
   "mimetype": "text/x-python",
   "name": "python",
   "nbconvert_exporter": "python",
   "pygments_lexer": "ipython3",
   "version": "3.7.3"
  }
 },
 "nbformat": 4,
 "nbformat_minor": 2
}
