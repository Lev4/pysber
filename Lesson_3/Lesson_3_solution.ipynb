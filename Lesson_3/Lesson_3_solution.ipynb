{
 "cells": [
  {
   "cell_type": "markdown",
   "metadata": {},
   "source": [
    "# Работа с файлами  в Python"
   ]
  },
  {
   "cell_type": "markdown",
   "metadata": {},
   "source": [
    "* Чтение и запись текстовых файлов\n",
    "* Чтение и запись бинарных файлов\n",
    "* Обработка данных в формате JSON\n",
    "* Сериализация объектов pickle\n",
    "* Чтение и запись сжатых файлов\n",
    "* Библиотеки os и shutil \n",
    "* Проверка существования файлов"
   ]
  },
  {
   "cell_type": "markdown",
   "metadata": {},
   "source": [
    "### Чтение и запись текстовых файлов"
   ]
  },
  {
   "cell_type": "code",
   "execution_count": 1,
   "metadata": {},
   "outputs": [],
   "source": [
    "# Чтение файлов\n",
    "f = open('somefile.txt', 'r')\n",
    "data = f.read()\n",
    "f.close()"
   ]
  },
  {
   "cell_type": "code",
   "execution_count": 4,
   "metadata": {},
   "outputs": [],
   "source": [
    "# ! somefile.txt"
   ]
  },
  {
   "cell_type": "code",
   "execution_count": 5,
   "metadata": {},
   "outputs": [],
   "source": [
    "# Запись файлов с помощью write \n",
    "# write принимает на вход строку\n",
    "text1 = 'Blah-Blah-Blah'\n",
    "f = open('somefile_new.txt', 'w')\n",
    "f.write(text1)\n",
    "f.close()"
   ]
  },
  {
   "cell_type": "code",
   "execution_count": 6,
   "metadata": {},
   "outputs": [
    {
     "name": "stdout",
     "output_type": "stream",
     "text": [
      "Blah-Blah-Blah"
     ]
    }
   ],
   "source": [
    "!cat somefile_new.txt"
   ]
  },
  {
   "cell_type": "code",
   "execution_count": 11,
   "metadata": {},
   "outputs": [],
   "source": [
    "#  Запись файлов с помощью writelines\n",
    "# writelines принимает список\n",
    "text1 = 'Blah-Blah-Blah'\n",
    "text2 = text1 * 5\n",
    "\n",
    "texts = [text1,text2]\n",
    "f = open('somefile_new.txt', 'w')\n",
    "f.writelines(texts)\n",
    "f.close()"
   ]
  },
  {
   "cell_type": "code",
   "execution_count": 12,
   "metadata": {},
   "outputs": [
    {
     "name": "stdout",
     "output_type": "stream",
     "text": [
      "Blah-Blah-BlahBlah-Blah-BlahBlah-Blah-BlahBlah-Blah-BlahBlah-Blah-BlahBlah-Blah-Blah"
     ]
    }
   ],
   "source": [
    "!cat somefile_new.txt"
   ]
  },
  {
   "cell_type": "code",
   "execution_count": 13,
   "metadata": {},
   "outputs": [],
   "source": [
    "# Важно! Разделители нужно ставить самостоятельно :)\n",
    "\n",
    "texts = [text1,text2]\n",
    "f = open('somefile_new.txt', 'w')\n",
    "f.writelines([t + '\\n' for  t in texts])\n",
    "f.close()"
   ]
  },
  {
   "cell_type": "code",
   "execution_count": 14,
   "metadata": {},
   "outputs": [
    {
     "name": "stdout",
     "output_type": "stream",
     "text": [
      "Blah-Blah-Blah\r\n",
      "Blah-Blah-BlahBlah-Blah-BlahBlah-Blah-BlahBlah-Blah-BlahBlah-Blah-Blah\r\n"
     ]
    }
   ],
   "source": [
    "# проверим что внутри somefile_new.txt\n",
    "!cat somefile_new.txt"
   ]
  },
  {
   "cell_type": "code",
   "execution_count": 15,
   "metadata": {},
   "outputs": [
    {
     "data": {
      "text/plain": [
       "['Межпланетный корабль разбился.\\n',\n",
       " '   От моего старого школьного товарища, который больше  полумесяца  правил\\n',\n",
       " 'этим кораблем, осталось лишь нечто бесформенное. А  я,  видимо,  жив.  Как\\n',\n",
       " 'случилось, что я не погиб? Может быть, это знают волшебники, но не я.\\n',\n",
       " '   Мы летели к Марсу. По расчетам моего покойного друга, наш  корабль  уже\\n',\n",
       " 'вошел в сферу притяжения Марса. Выходит, я достиг цели? Если это  так,  то\\n',\n",
       " 'душа моего  друга  может  быть  спокойной:  ради  чести  оказаться  первым\\n',\n",
       " 'китайцем на Марсе стоит и умереть! Но  на  Марс  ли  я  попал?  Могу  лишь\\n',\n",
       " 'строить догадки, никаких  доказательств  у  меня  нет.  Конечно,  астроном\\n',\n",
       " 'определил бы, что это за планета, но я, к сожалению, понимаю в  астрономии\\n',\n",
       " 'ничуть не больше, чем в древнеегипетских письменах.  Друг,  без  сомнения,\\n',\n",
       " 'просветил бы меня... Увы! Мой добрый старый друг... ']"
      ]
     },
     "execution_count": 15,
     "metadata": {},
     "output_type": "execute_result"
    }
   ],
   "source": [
    "lines = []\n",
    "with open('somefile.txt', 'rt') as f: \n",
    "    for line in f:\n",
    "        lines.append(line)\n",
    "lines"
   ]
  },
  {
   "cell_type": "code",
   "execution_count": 16,
   "metadata": {},
   "outputs": [],
   "source": [
    "# Пишем кусочки текстовых данных\n",
    "text1 = 'Blah-Blah-Blah'\n",
    "text2 = text1 * 2\n",
    "with open('somefile_new.txt', 'wt') as f:\n",
    "    f.write(text1)\n",
    "    f.write(text2)"
   ]
  },
  {
   "cell_type": "code",
   "execution_count": 17,
   "metadata": {},
   "outputs": [
    {
     "name": "stdout",
     "output_type": "stream",
     "text": [
      "Blah-Blah-BlahBlah-Blah-BlahBlah-Blah-Blah"
     ]
    }
   ],
   "source": [
    "!cat somefile_new.txt"
   ]
  },
  {
   "cell_type": "code",
   "execution_count": 18,
   "metadata": {},
   "outputs": [],
   "source": [
    "# Добавляем текст в файл\n",
    "with open('somefile_new.txt', 'a') as f:\n",
    "    f.write(text1)\n",
    "    f.write(text2)"
   ]
  },
  {
   "cell_type": "code",
   "execution_count": 21,
   "metadata": {},
   "outputs": [
    {
     "name": "stdout",
     "output_type": "stream",
     "text": [
      "Blah-Blah-BlahBlah-Blah-BlahBlah-Blah-Blah"
     ]
    }
   ],
   "source": [
    "!cat somefile_new.txt"
   ]
  },
  {
   "cell_type": "code",
   "execution_count": 20,
   "metadata": {},
   "outputs": [],
   "source": [
    "# Записываем текст в файл\n",
    "with open('somefile_new.txt', 'wt') as f:\n",
    "    f.write(text1)\n",
    "    f.write(text2)"
   ]
  },
  {
   "cell_type": "code",
   "execution_count": 28,
   "metadata": {},
   "outputs": [],
   "source": [
    "# Перенаправленная инструкция print для записи в файл\n",
    "line1 = text1 \n",
    "line2 = text2 \n",
    "with open('somefile_new.txt', 'wt') as f:\n",
    "    print(line1, file=f)\n",
    "    print(line2, file=f)"
   ]
  },
  {
   "cell_type": "code",
   "execution_count": 24,
   "metadata": {},
   "outputs": [],
   "source": [
    "# Перенаправленная инструкция print с разделителем\n",
    "with open('somefile_new.txt', 'wt') as f:\n",
    "    print(line1, 90, 20, sep=',', file=f)\n",
    "    print(line1, 90, 20, sep=',', file=f)"
   ]
  },
  {
   "cell_type": "code",
   "execution_count": 30,
   "metadata": {},
   "outputs": [
    {
     "name": "stdout",
     "output_type": "stream",
     "text": [
      "Blah-Blah-Blah\r\n",
      "Blah-Blah-BlahBlah-Blah-Blah\r\n"
     ]
    }
   ],
   "source": [
    "!cat somefile_new.txt"
   ]
  },
  {
   "cell_type": "code",
   "execution_count": 31,
   "metadata": {},
   "outputs": [
    {
     "name": "stdout",
     "output_type": "stream",
     "text": [
      "0\n",
      "1\n",
      "2\n",
      "3\n",
      "4\n"
     ]
    }
   ],
   "source": [
    "# В print можно менять знаки окончания строки\n",
    "for i in range(5): \n",
    "    print(i)\n",
    "    print(i , end='\\n')\n"
   ]
  },
  {
   "cell_type": "code",
   "execution_count": 32,
   "metadata": {},
   "outputs": [
    {
     "name": "stdout",
     "output_type": "stream",
     "text": [
      "0 1 2 3 4 "
     ]
    }
   ],
   "source": [
    "for i in range(5): \n",
    "    print(i, end=' ')"
   ]
  },
  {
   "cell_type": "markdown",
   "metadata": {},
   "source": [
    "# Чтение и запись бинарных файлов"
   ]
  },
  {
   "cell_type": "code",
   "execution_count": 33,
   "metadata": {},
   "outputs": [],
   "source": [
    "# Записать бинарные данные в файл\n",
    "with open('somefile.bin', 'wb') as f:\n",
    "    f.write(b'Hello World')"
   ]
  },
  {
   "cell_type": "code",
   "execution_count": 34,
   "metadata": {},
   "outputs": [
    {
     "name": "stdout",
     "output_type": "stream",
     "text": [
      "Hello World"
     ]
    }
   ],
   "source": [
    "!cat somefile.bin"
   ]
  },
  {
   "cell_type": "code",
   "execution_count": 35,
   "metadata": {},
   "outputs": [],
   "source": [
    "# Прочесть весь файл как одну байтовую строку\n",
    "with open('somefile.bin', 'rb') as f: \n",
    "    data = f.read()"
   ]
  },
  {
   "cell_type": "code",
   "execution_count": 36,
   "metadata": {},
   "outputs": [
    {
     "data": {
      "text/plain": [
       "b'Hello World'"
      ]
     },
     "execution_count": 36,
     "metadata": {},
     "output_type": "execute_result"
    }
   ],
   "source": [
    "data\n"
   ]
  },
  {
   "cell_type": "code",
   "execution_count": 39,
   "metadata": {},
   "outputs": [
    {
     "name": "stdout",
     "output_type": "stream",
     "text": [
      "72 H 72\n",
      "101 e 101\n",
      "108 l 108\n",
      "108 l 108\n",
      "111 o 111\n",
      "32   32\n",
      "87 W 87\n",
      "111 o 111\n",
      "114 r 114\n",
      "108 l 108\n",
      "100 d 100\n"
     ]
    }
   ],
   "source": [
    "for el in data:\n",
    "    print(el, chr(el),ord(chr(el)))"
   ]
  },
  {
   "cell_type": "markdown",
   "metadata": {},
   "source": [
    "# Pickle"
   ]
  },
  {
   "cell_type": "code",
   "execution_count": 40,
   "metadata": {},
   "outputs": [],
   "source": [
    "# пикл сериализует объекты python в бинарные файлы\n",
    "import pickle\n",
    "very_important_list = [1,3,4,5,6]"
   ]
  },
  {
   "cell_type": "code",
   "execution_count": 41,
   "metadata": {},
   "outputs": [],
   "source": [
    "fpath = 'vil.pkl'\n",
    "with open(fpath, 'wb') as f:\n",
    "    pickle.dump(very_important_list,f)"
   ]
  },
  {
   "cell_type": "code",
   "execution_count": 42,
   "metadata": {
    "scrolled": false
   },
   "outputs": [
    {
     "name": "stdout",
     "output_type": "stream",
     "text": [
      "Lesson_3.ipynb       medals.xlsx          somefile.zip\r\n",
      "\u001b[34mdata\u001b[m\u001b[m                 somefile.bin         somefile2.zip\r\n",
      "data.json            somefile.bz2         somefile_new.txt\r\n",
      "\u001b[34mimg\u001b[m\u001b[m                  somefile.gz          vil.pkl\r\n",
      "medal_on_sheets.xlsx somefile.txt\r\n"
     ]
    }
   ],
   "source": [
    "!ls"
   ]
  },
  {
   "cell_type": "code",
   "execution_count": 43,
   "metadata": {},
   "outputs": [
    {
     "name": "stdout",
     "output_type": "stream",
     "text": [
      "�\u0003]q\u0000(K\u0001K\u0003K\u0004K\u0005K\u0006e."
     ]
    }
   ],
   "source": [
    "!cat vil.pkl"
   ]
  },
  {
   "cell_type": "code",
   "execution_count": 44,
   "metadata": {},
   "outputs": [],
   "source": [
    "with open(fpath, 'rb') as f:\n",
    "    new_very_important_list = pickle.load(f)"
   ]
  },
  {
   "cell_type": "code",
   "execution_count": 45,
   "metadata": {},
   "outputs": [
    {
     "data": {
      "text/plain": [
       "[1, 3, 4, 5, 6]"
      ]
     },
     "execution_count": 45,
     "metadata": {},
     "output_type": "execute_result"
    }
   ],
   "source": [
    "new_very_important_list"
   ]
  },
  {
   "cell_type": "markdown",
   "metadata": {},
   "source": [
    "# Чтение и запись сжатых файлов"
   ]
  },
  {
   "cell_type": "code",
   "execution_count": 46,
   "metadata": {},
   "outputs": [],
   "source": [
    "import gzip\n",
    "import bz2"
   ]
  },
  {
   "cell_type": "code",
   "execution_count": 47,
   "metadata": {},
   "outputs": [],
   "source": [
    "# Сжатие с помощью gzip\n",
    "text = 'bla-bla-bla ' * 5\n",
    "with gzip.open('somefile.gz', 'wt') as f:\n",
    "    f.write(text)"
   ]
  },
  {
   "cell_type": "code",
   "execution_count": 48,
   "metadata": {},
   "outputs": [
    {
     "data": {
      "text/plain": [
       "'bla-bla-bla bla-bla-bla bla-bla-bla bla-bla-bla bla-bla-bla '"
      ]
     },
     "execution_count": 48,
     "metadata": {},
     "output_type": "execute_result"
    }
   ],
   "source": [
    "# Распаковка\n",
    "with gzip.open('somefile.gz', 'rt') as f:\n",
    "    newtext = f.read()\n",
    "newtext"
   ]
  },
  {
   "cell_type": "code",
   "execution_count": 49,
   "metadata": {},
   "outputs": [],
   "source": [
    "# Сжатие с помощью bz2\n",
    "text = 'bla-bla-bla ' * 3\n",
    "with bz2.open('somefile.bz2', 'wt') as f:\n",
    "    f.write(text)"
   ]
  },
  {
   "cell_type": "code",
   "execution_count": 50,
   "metadata": {},
   "outputs": [
    {
     "data": {
      "text/plain": [
       "'bla-bla-bla bla-bla-bla bla-bla-bla '"
      ]
     },
     "execution_count": 50,
     "metadata": {},
     "output_type": "execute_result"
    }
   ],
   "source": [
    "# Распаковка\n",
    "with bz2.open('somefile.bz2', 'rt') as f:\n",
    "    new_text = f.read()\n",
    "new_text"
   ]
  },
  {
   "cell_type": "code",
   "execution_count": 51,
   "metadata": {},
   "outputs": [
    {
     "name": "stdout",
     "output_type": "stream",
     "text": [
      "Lesson_3.ipynb       medals.xlsx          somefile.zip\r\n",
      "\u001b[34mdata\u001b[m\u001b[m                 somefile.bin         somefile2.zip\r\n",
      "data.json            somefile.bz2         somefile_new.txt\r\n",
      "\u001b[34mimg\u001b[m\u001b[m                  somefile.gz          vil.pkl\r\n",
      "medal_on_sheets.xlsx somefile.txt\r\n"
     ]
    }
   ],
   "source": [
    "!ls"
   ]
  },
  {
   "cell_type": "code",
   "execution_count": 60,
   "metadata": {},
   "outputs": [],
   "source": [
    "# Для ZIP архивов можно использовать библиотеку zipfile\n",
    "\n",
    "import zipfile\n",
    "zf = zipfile.ZipFile('somefile.zip', 'w')\n",
    "zf.write('somefile.txt')\n",
    "zf.close()"
   ]
  },
  {
   "cell_type": "code",
   "execution_count": 64,
   "metadata": {},
   "outputs": [
    {
     "name": "stdout",
     "output_type": "stream",
     "text": [
      "Lesson_3.ipynb       medals.xlsx          somefile.zip\r\n",
      "\u001b[34mdata\u001b[m\u001b[m                 somefile.bin         somefile_new.txt\r\n",
      "data.json            somefile.bz2         vil.pkl\r\n",
      "\u001b[34mimg\u001b[m\u001b[m                  somefile.gz\r\n",
      "medal_on_sheets.xlsx somefile.txt\r\n"
     ]
    }
   ],
   "source": [
    "!ls"
   ]
  },
  {
   "cell_type": "code",
   "execution_count": 54,
   "metadata": {},
   "outputs": [],
   "source": [
    "# Архивируем\n",
    "with zipfile.ZipFile('somefile2.zip', 'w') as zf:\n",
    "    zf.write('somefile.txt')"
   ]
  },
  {
   "cell_type": "code",
   "execution_count": 63,
   "metadata": {},
   "outputs": [],
   "source": [
    "# Извлекаем из архива\n",
    "fzip = zipfile.ZipFile('somefile.zip')\n",
    "fzip.extract(fzip.namelist()[0])\n",
    "fzip.close()"
   ]
  },
  {
   "cell_type": "markdown",
   "metadata": {},
   "source": [
    "# Pandas & Zip"
   ]
  },
  {
   "cell_type": "code",
   "execution_count": 148,
   "metadata": {},
   "outputs": [],
   "source": [
    "# Допустим у нас есть архив с одним csv файлом\n",
    "fpth = 'data/Summer Olympic medalists 1896 to 2008 - IOC COUNTRY CODES.csv'\n",
    "with zipfile.ZipFile(os.path.join('data','countries.zip'), 'w') as zf:\n",
    "    zf.write(fpth)"
   ]
  },
  {
   "cell_type": "code",
   "execution_count": 150,
   "metadata": {},
   "outputs": [],
   "source": [
    "# Pandas read_csv способен извлечь из неого DataFrame\n",
    "zip_countries = pd.read_csv(os.path.join('data','countries.zip'))"
   ]
  },
  {
   "cell_type": "code",
   "execution_count": 151,
   "metadata": {},
   "outputs": [
    {
     "data": {
      "text/html": [
       "<div>\n",
       "<style scoped>\n",
       "    .dataframe tbody tr th:only-of-type {\n",
       "        vertical-align: middle;\n",
       "    }\n",
       "\n",
       "    .dataframe tbody tr th {\n",
       "        vertical-align: top;\n",
       "    }\n",
       "\n",
       "    .dataframe thead th {\n",
       "        text-align: right;\n",
       "    }\n",
       "</style>\n",
       "<table border=\"1\" class=\"dataframe\">\n",
       "  <thead>\n",
       "    <tr style=\"text-align: right;\">\n",
       "      <th></th>\n",
       "      <th>Country</th>\n",
       "      <th>NOC</th>\n",
       "      <th>ISO code</th>\n",
       "    </tr>\n",
       "  </thead>\n",
       "  <tbody>\n",
       "    <tr>\n",
       "      <th>0</th>\n",
       "      <td>Afghanistan</td>\n",
       "      <td>AFG</td>\n",
       "      <td>AF</td>\n",
       "    </tr>\n",
       "    <tr>\n",
       "      <th>1</th>\n",
       "      <td>Albania</td>\n",
       "      <td>ALB</td>\n",
       "      <td>AL</td>\n",
       "    </tr>\n",
       "    <tr>\n",
       "      <th>2</th>\n",
       "      <td>Algeria</td>\n",
       "      <td>ALG</td>\n",
       "      <td>DZ</td>\n",
       "    </tr>\n",
       "    <tr>\n",
       "      <th>3</th>\n",
       "      <td>American Samoa*</td>\n",
       "      <td>ASA</td>\n",
       "      <td>AS</td>\n",
       "    </tr>\n",
       "    <tr>\n",
       "      <th>4</th>\n",
       "      <td>Andorra</td>\n",
       "      <td>AND</td>\n",
       "      <td>AD</td>\n",
       "    </tr>\n",
       "  </tbody>\n",
       "</table>\n",
       "</div>"
      ],
      "text/plain": [
       "           Country  NOC ISO code\n",
       "0      Afghanistan  AFG       AF\n",
       "1          Albania  ALB       AL\n",
       "2          Algeria  ALG       DZ\n",
       "3  American Samoa*  ASA       AS\n",
       "4          Andorra  AND       AD"
      ]
     },
     "execution_count": 151,
     "metadata": {},
     "output_type": "execute_result"
    }
   ],
   "source": [
    "zip_countries.head()"
   ]
  },
  {
   "cell_type": "markdown",
   "metadata": {},
   "source": [
    "# JSON - это не только сын Джея"
   ]
  },
  {
   "cell_type": "markdown",
   "metadata": {},
   "source": [
    "<img src='img\\jay.jpeg' width=300 align=left>"
   ]
  },
  {
   "cell_type": "code",
   "execution_count": 65,
   "metadata": {},
   "outputs": [],
   "source": [
    "# JSON - это формат для передачи данных из разных систем\n",
    "import json\n",
    "data = {\n",
    "    'name' : 'Vasya',\n",
    "    'age' : 50,\n",
    "    'sex' : 'M'\n",
    "    }\n",
    "json_str = json.dumps(data)"
   ]
  },
  {
   "cell_type": "code",
   "execution_count": 66,
   "metadata": {},
   "outputs": [
    {
     "data": {
      "text/plain": [
       "'{\"name\": \"Vasya\", \"age\": 50, \"sex\": \"M\"}'"
      ]
     },
     "execution_count": 66,
     "metadata": {},
     "output_type": "execute_result"
    }
   ],
   "source": [
    "json_str"
   ]
  },
  {
   "cell_type": "code",
   "execution_count": 67,
   "metadata": {},
   "outputs": [],
   "source": [
    "# Запись JSON-данных\n",
    "with open('data.json', 'w') as f:\n",
    "    json.dump(data, f)"
   ]
  },
  {
   "cell_type": "code",
   "execution_count": 68,
   "metadata": {},
   "outputs": [],
   "source": [
    "# Чтение данных\n",
    "with open('data.json', 'r') as f:\n",
    "    data = json.load(f)"
   ]
  },
  {
   "cell_type": "code",
   "execution_count": 69,
   "metadata": {},
   "outputs": [
    {
     "data": {
      "text/plain": [
       "{'name': 'Vasya', 'age': 50, 'sex': 'M'}"
      ]
     },
     "execution_count": 69,
     "metadata": {},
     "output_type": "execute_result"
    }
   ],
   "source": [
    "data"
   ]
  },
  {
   "cell_type": "code",
   "execution_count": 193,
   "metadata": {},
   "outputs": [],
   "source": [
    "# Синтаксис JSON очень похож синтаксис в Python\n",
    "# True отображается на true, False – на false, а None – на null."
   ]
  },
  {
   "cell_type": "code",
   "execution_count": 70,
   "metadata": {},
   "outputs": [
    {
     "data": {
      "text/plain": [
       "'false'"
      ]
     },
     "execution_count": 70,
     "metadata": {},
     "output_type": "execute_result"
    }
   ],
   "source": [
    "json.dumps(False)"
   ]
  },
  {
   "cell_type": "code",
   "execution_count": 71,
   "metadata": {},
   "outputs": [
    {
     "data": {
      "text/plain": [
       "'null'"
      ]
     },
     "execution_count": 71,
     "metadata": {},
     "output_type": "execute_result"
    }
   ],
   "source": [
    "json.dumps(None)"
   ]
  },
  {
   "cell_type": "markdown",
   "metadata": {},
   "source": [
    "# os и shutil"
   ]
  },
  {
   "cell_type": "code",
   "execution_count": 73,
   "metadata": {},
   "outputs": [],
   "source": [
    "import os"
   ]
  },
  {
   "cell_type": "code",
   "execution_count": 74,
   "metadata": {
    "scrolled": true
   },
   "outputs": [
    {
     "data": {
      "text/plain": [
       "['web_scrap.jpeg', 'jay.jpeg', 'batman_xl.jpg', 'json_logo-555px.png']"
      ]
     },
     "execution_count": 74,
     "metadata": {},
     "output_type": "execute_result"
    }
   ],
   "source": [
    "# Выдает список содержимого директории\n",
    "os.listdir('img')"
   ]
  },
  {
   "cell_type": "code",
   "execution_count": 75,
   "metadata": {},
   "outputs": [
    {
     "data": {
      "text/plain": [
       "['web_scrap.jpeg', 'jay.jpeg']"
      ]
     },
     "execution_count": 75,
     "metadata": {},
     "output_type": "execute_result"
    }
   ],
   "source": [
    "[x for x in os.listdir('img') if x.endswith('.jpeg')]"
   ]
  },
  {
   "cell_type": "code",
   "execution_count": 76,
   "metadata": {},
   "outputs": [],
   "source": [
    "# Создает директорию\n",
    "os.mkdir('test')"
   ]
  },
  {
   "cell_type": "code",
   "execution_count": 79,
   "metadata": {},
   "outputs": [
    {
     "name": "stdout",
     "output_type": "stream",
     "text": [
      "Lesson_3.ipynb       medals.xlsx          somefile.zip\r\n",
      "\u001b[34mdata\u001b[m\u001b[m                 somefile.bin         somefile_new.txt\r\n",
      "data.json            somefile.bz2         vil.pkl\r\n",
      "\u001b[34mimg\u001b[m\u001b[m                  somefile.gz\r\n",
      "medal_on_sheets.xlsx somefile.txt\r\n"
     ]
    }
   ],
   "source": [
    "!ls"
   ]
  },
  {
   "cell_type": "code",
   "execution_count": null,
   "metadata": {},
   "outputs": [],
   "source": []
  },
  {
   "cell_type": "code",
   "execution_count": 78,
   "metadata": {},
   "outputs": [],
   "source": [
    "# Удаляет директорию\n",
    "os.rmdir('test')"
   ]
  },
  {
   "cell_type": "code",
   "execution_count": 81,
   "metadata": {},
   "outputs": [
    {
     "name": "stdout",
     "output_type": "stream",
     "text": [
      "Summer Olympic medalists 1896 to 2008 - ALL MEDALISTS.tsv\r\n",
      "Summer Olympic medalists 1896 to 2008 - EDITIONS.tsv\r\n",
      "Summer Olympic medalists 1896 to 2008 - IOC COUNTRY CODES.csv\r\n",
      "bronze_top5.csv\r\n",
      "gold_top5.csv\r\n",
      "\u001b[34mmedals\u001b[m\u001b[m\r\n",
      "silver_top5.csv\r\n"
     ]
    }
   ],
   "source": [
    "!ls data"
   ]
  },
  {
   "cell_type": "code",
   "execution_count": 83,
   "metadata": {
    "scrolled": true
   },
   "outputs": [],
   "source": [
    "# Если нужно пройтись по дереву каталога можно использовать os.walk\n",
    "# for el in os.walk('data'):\n",
    "#     print(el)"
   ]
  },
  {
   "cell_type": "code",
   "execution_count": 9,
   "metadata": {},
   "outputs": [
    {
     "data": {
      "text/plain": [
       "'../img/file.txt'"
      ]
     },
     "execution_count": 9,
     "metadata": {},
     "output_type": "execute_result"
    }
   ],
   "source": [
    "# Если нужно склеить путь к файлу или директории\n",
    "os.path.join('..','img','file.txt')"
   ]
  },
  {
   "cell_type": "code",
   "execution_count": 85,
   "metadata": {},
   "outputs": [
    {
     "data": {
      "text/plain": [
       "False"
      ]
     },
     "execution_count": 85,
     "metadata": {},
     "output_type": "execute_result"
    }
   ],
   "source": [
    "# Используйте os.path, чтобы проверить, существует ли файл или каталог. Напри- мер:\n",
    "os.path.exists('img') \n",
    "os.path.exists('img/spam')\n"
   ]
  },
  {
   "cell_type": "code",
   "execution_count": 86,
   "metadata": {},
   "outputs": [
    {
     "data": {
      "text/plain": [
       "False"
      ]
     },
     "execution_count": 86,
     "metadata": {},
     "output_type": "execute_result"
    }
   ],
   "source": [
    "# Вы можете выполнить дополнительные тесты, чтобы проверить тип файла. Эти проверки возвращают False, если файл не существует:\n",
    "# Это обычный файл?\n",
    "os.path.isfile('img')\n"
   ]
  },
  {
   "cell_type": "code",
   "execution_count": 88,
   "metadata": {},
   "outputs": [
    {
     "data": {
      "text/plain": [
       "True"
      ]
     },
     "execution_count": 88,
     "metadata": {},
     "output_type": "execute_result"
    }
   ],
   "source": [
    "# Это каталог?\n",
    "os.path.isdir('img')\n"
   ]
  },
  {
   "cell_type": "code",
   "execution_count": 89,
   "metadata": {},
   "outputs": [
    {
     "data": {
      "text/plain": [
       "91132"
      ]
     },
     "execution_count": 89,
     "metadata": {},
     "output_type": "execute_result"
    }
   ],
   "source": [
    "# Если вам нужно получить метаданные (например, размер или дату изменения файла)\n",
    "# это тоже можно сделать с помощью модуля os.path:\n",
    "os.path.getsize('img/jay.jpeg')"
   ]
  },
  {
   "cell_type": "code",
   "execution_count": 90,
   "metadata": {},
   "outputs": [
    {
     "data": {
      "text/plain": [
       "1567523025.0"
      ]
     },
     "execution_count": 90,
     "metadata": {},
     "output_type": "execute_result"
    }
   ],
   "source": [
    "os.path.getmtime('img')"
   ]
  },
  {
   "cell_type": "code",
   "execution_count": 91,
   "metadata": {},
   "outputs": [
    {
     "data": {
      "text/plain": [
       "'Tue Sep  3 18:03:45 2019'"
      ]
     },
     "execution_count": 91,
     "metadata": {},
     "output_type": "execute_result"
    }
   ],
   "source": [
    "import time\n",
    "time.ctime(os.path.getmtime('img'))"
   ]
  },
  {
   "cell_type": "markdown",
   "metadata": {},
   "source": [
    "# shutil"
   ]
  },
  {
   "cell_type": "code",
   "execution_count": 92,
   "metadata": {},
   "outputs": [],
   "source": [
    "import shutil"
   ]
  },
  {
   "cell_type": "code",
   "execution_count": null,
   "metadata": {},
   "outputs": [],
   "source": [
    "# Для премещения файлов можно использовать shutil.move\n",
    "# shutil.move(src, dst)"
   ]
  },
  {
   "cell_type": "code",
   "execution_count": null,
   "metadata": {},
   "outputs": [],
   "source": [
    "# Для компирования можно воспользоваться одной из нескольких функций\n",
    "# shutil.copy(src, dst)  - копирует содержимое файла\n",
    "# shutil.copytree(src, dst)  - копирует содержимое директории"
   ]
  },
  {
   "cell_type": "code",
   "execution_count": 46,
   "metadata": {},
   "outputs": [],
   "source": [
    "# Если директория не пуста, то для ее удаления лучше использовать rmtree из shutil\n",
    "# shutil.rmtree('test')"
   ]
  },
  {
   "cell_type": "code",
   "execution_count": 105,
   "metadata": {},
   "outputs": [
    {
     "name": "stdout",
     "output_type": "stream",
     "text": [
      "Lesson_3.ipynb       medal_on_sheets.xlsx somefile.gz\r\n",
      "\u001b[34mdata\u001b[m\u001b[m                 medals.xlsx          somefile.txt\r\n",
      "data.json            somefile.bin         somefile.zip\r\n",
      "\u001b[34mimg\u001b[m\u001b[m                  somefile.bz2         vil.pkl\r\n"
     ]
    }
   ],
   "source": [
    "!ls"
   ]
  },
  {
   "cell_type": "code",
   "execution_count": 93,
   "metadata": {},
   "outputs": [],
   "source": [
    "# Создадим директории\n",
    "os.mkdir('test_dir1')\n",
    "os.mkdir('test_dir2')"
   ]
  },
  {
   "cell_type": "code",
   "execution_count": 95,
   "metadata": {},
   "outputs": [
    {
     "data": {
      "text/plain": [
       "'test_dir1/somefile_new.txt'"
      ]
     },
     "execution_count": 95,
     "metadata": {},
     "output_type": "execute_result"
    }
   ],
   "source": [
    "# Перенесем файл\n",
    "shutil.move('somefile_new.txt', 'test_dir1/somefile_new.txt')"
   ]
  },
  {
   "cell_type": "code",
   "execution_count": 103,
   "metadata": {},
   "outputs": [
    {
     "name": "stdout",
     "output_type": "stream",
     "text": [
      "somefile_new.txt\r\n"
     ]
    }
   ],
   "source": [
    "!ls test_dir3"
   ]
  },
  {
   "cell_type": "code",
   "execution_count": 97,
   "metadata": {},
   "outputs": [
    {
     "data": {
      "text/plain": [
       "'test_dir2/somefile_new.txt'"
      ]
     },
     "execution_count": 97,
     "metadata": {},
     "output_type": "execute_result"
    }
   ],
   "source": [
    "# Скопируем файл\n",
    "shutil.copy('test_dir1/somefile_new.txt', 'test_dir2/somefile_new.txt') "
   ]
  },
  {
   "cell_type": "code",
   "execution_count": 101,
   "metadata": {},
   "outputs": [
    {
     "data": {
      "text/plain": [
       "'test_dir3'"
      ]
     },
     "execution_count": 101,
     "metadata": {},
     "output_type": "execute_result"
    }
   ],
   "source": [
    "# Скопируем директорию и ее содержимое\n",
    "shutil.copytree('test_dir2', 'test_dir3') "
   ]
  },
  {
   "cell_type": "code",
   "execution_count": 104,
   "metadata": {},
   "outputs": [],
   "source": [
    "# Удалим то, что мы создали\n",
    "shutil.rmtree('test_dir1')\n",
    "shutil.rmtree('test_dir2')\n",
    "shutil.rmtree('test_dir3')"
   ]
  },
  {
   "cell_type": "markdown",
   "metadata": {},
   "source": [
    "# Практическая часть"
   ]
  },
  {
   "cell_type": "code",
   "execution_count": 106,
   "metadata": {},
   "outputs": [],
   "source": [
    "# 1. Создайте директорию poems\n",
    "os.mkdir('poems')"
   ]
  },
  {
   "cell_type": "code",
   "execution_count": 107,
   "metadata": {},
   "outputs": [],
   "source": [
    "# 2. Создайте в ней файл pushkin.txt, в который запишите text_task\n",
    "text_task = \"\"\"\n",
    "Я помню чудное мгновенье:\n",
    "Передо мной явилась ты,\n",
    "Как мимолетное виденье,\n",
    "Как гений чистой красоты.\n",
    "\"\"\"\n",
    "with open(os.path.join('poems','pushkin.txt'), 'wt') as f:\n",
    "    print(text_task, file=f)\n",
    "\n"
   ]
  },
  {
   "cell_type": "code",
   "execution_count": 109,
   "metadata": {},
   "outputs": [
    {
     "name": "stdout",
     "output_type": "stream",
     "text": [
      "pushkin.txt\r\n"
     ]
    }
   ],
   "source": [
    "!ls poems"
   ]
  },
  {
   "cell_type": "code",
   "execution_count": 110,
   "metadata": {},
   "outputs": [],
   "source": [
    "# 3. Удалите директорию poems\n",
    "shutil.rmtree('poems')"
   ]
  },
  {
   "cell_type": "markdown",
   "metadata": {},
   "source": [
    "# Pandas и присоединение таблиц"
   ]
  },
  {
   "cell_type": "code",
   "execution_count": 112,
   "metadata": {},
   "outputs": [],
   "source": [
    "import pandas as pd"
   ]
  },
  {
   "cell_type": "code",
   "execution_count": 113,
   "metadata": {},
   "outputs": [
    {
     "data": {
      "text/html": [
       "<div>\n",
       "<style scoped>\n",
       "    .dataframe tbody tr th:only-of-type {\n",
       "        vertical-align: middle;\n",
       "    }\n",
       "\n",
       "    .dataframe tbody tr th {\n",
       "        vertical-align: top;\n",
       "    }\n",
       "\n",
       "    .dataframe thead th {\n",
       "        text-align: right;\n",
       "    }\n",
       "</style>\n",
       "<table border=\"1\" class=\"dataframe\">\n",
       "  <thead>\n",
       "    <tr style=\"text-align: right;\">\n",
       "      <th></th>\n",
       "      <th>NOC</th>\n",
       "      <th>Country</th>\n",
       "      <th>Total</th>\n",
       "    </tr>\n",
       "  </thead>\n",
       "  <tbody>\n",
       "    <tr>\n",
       "      <th>0</th>\n",
       "      <td>USA</td>\n",
       "      <td>United States</td>\n",
       "      <td>2088.0</td>\n",
       "    </tr>\n",
       "    <tr>\n",
       "      <th>1</th>\n",
       "      <td>URS</td>\n",
       "      <td>Soviet Union</td>\n",
       "      <td>838.0</td>\n",
       "    </tr>\n",
       "    <tr>\n",
       "      <th>2</th>\n",
       "      <td>GBR</td>\n",
       "      <td>United Kingdom</td>\n",
       "      <td>498.0</td>\n",
       "    </tr>\n",
       "    <tr>\n",
       "      <th>3</th>\n",
       "      <td>FRA</td>\n",
       "      <td>France</td>\n",
       "      <td>378.0</td>\n",
       "    </tr>\n",
       "    <tr>\n",
       "      <th>4</th>\n",
       "      <td>GER</td>\n",
       "      <td>Germany</td>\n",
       "      <td>407.0</td>\n",
       "    </tr>\n",
       "  </tbody>\n",
       "</table>\n",
       "</div>"
      ],
      "text/plain": [
       "   NOC         Country   Total\n",
       "0  USA   United States  2088.0\n",
       "1  URS    Soviet Union   838.0\n",
       "2  GBR  United Kingdom   498.0\n",
       "3  FRA          France   378.0\n",
       "4  GER         Germany   407.0"
      ]
     },
     "execution_count": 113,
     "metadata": {},
     "output_type": "execute_result"
    }
   ],
   "source": [
    "# Прописываем пути к файлам\n",
    "bronzefpth = os.path.join('data','medals','Bronze.csv')\n",
    "silverfpth = os.path.join('data','medals','Silver.csv')\n",
    "goldfpth = os.path.join('data','medals','Gold.csv')\n",
    "# Подгружаем CSV\n",
    "bronze = pd.read_csv(bronzefpth).head(5)\n",
    "silver = pd.read_csv(silverfpth).head(5)\n",
    "gold = pd.read_csv(goldfpth).head(5)\n",
    "gold"
   ]
  },
  {
   "cell_type": "code",
   "execution_count": 114,
   "metadata": {},
   "outputs": [
    {
     "data": {
      "text/html": [
       "<div>\n",
       "<style scoped>\n",
       "    .dataframe tbody tr th:only-of-type {\n",
       "        vertical-align: middle;\n",
       "    }\n",
       "\n",
       "    .dataframe tbody tr th {\n",
       "        vertical-align: top;\n",
       "    }\n",
       "\n",
       "    .dataframe thead th {\n",
       "        text-align: right;\n",
       "    }\n",
       "</style>\n",
       "<table border=\"1\" class=\"dataframe\">\n",
       "  <thead>\n",
       "    <tr style=\"text-align: right;\">\n",
       "      <th></th>\n",
       "      <th>NOC</th>\n",
       "      <th>Country</th>\n",
       "      <th>Total</th>\n",
       "    </tr>\n",
       "  </thead>\n",
       "  <tbody>\n",
       "    <tr>\n",
       "      <th>0</th>\n",
       "      <td>USA</td>\n",
       "      <td>United States</td>\n",
       "      <td>1195.0</td>\n",
       "    </tr>\n",
       "    <tr>\n",
       "      <th>1</th>\n",
       "      <td>URS</td>\n",
       "      <td>Soviet Union</td>\n",
       "      <td>627.0</td>\n",
       "    </tr>\n",
       "    <tr>\n",
       "      <th>2</th>\n",
       "      <td>GBR</td>\n",
       "      <td>United Kingdom</td>\n",
       "      <td>591.0</td>\n",
       "    </tr>\n",
       "    <tr>\n",
       "      <th>3</th>\n",
       "      <td>FRA</td>\n",
       "      <td>France</td>\n",
       "      <td>461.0</td>\n",
       "    </tr>\n",
       "    <tr>\n",
       "      <th>4</th>\n",
       "      <td>GER</td>\n",
       "      <td>Germany</td>\n",
       "      <td>350.0</td>\n",
       "    </tr>\n",
       "  </tbody>\n",
       "</table>\n",
       "</div>"
      ],
      "text/plain": [
       "   NOC         Country   Total\n",
       "0  USA   United States  1195.0\n",
       "1  URS    Soviet Union   627.0\n",
       "2  GBR  United Kingdom   591.0\n",
       "3  FRA          France   461.0\n",
       "4  GER         Germany   350.0"
      ]
     },
     "execution_count": 114,
     "metadata": {},
     "output_type": "execute_result"
    }
   ],
   "source": [
    "silver"
   ]
  },
  {
   "cell_type": "code",
   "execution_count": 115,
   "metadata": {},
   "outputs": [
    {
     "data": {
      "text/html": [
       "<div>\n",
       "<style scoped>\n",
       "    .dataframe tbody tr th:only-of-type {\n",
       "        vertical-align: middle;\n",
       "    }\n",
       "\n",
       "    .dataframe tbody tr th {\n",
       "        vertical-align: top;\n",
       "    }\n",
       "\n",
       "    .dataframe thead th {\n",
       "        text-align: right;\n",
       "    }\n",
       "</style>\n",
       "<table border=\"1\" class=\"dataframe\">\n",
       "  <thead>\n",
       "    <tr style=\"text-align: right;\">\n",
       "      <th></th>\n",
       "      <th>NOC</th>\n",
       "      <th>Country</th>\n",
       "      <th>Total</th>\n",
       "    </tr>\n",
       "  </thead>\n",
       "  <tbody>\n",
       "    <tr>\n",
       "      <th>0</th>\n",
       "      <td>USA</td>\n",
       "      <td>United States</td>\n",
       "      <td>1052.0</td>\n",
       "    </tr>\n",
       "    <tr>\n",
       "      <th>1</th>\n",
       "      <td>URS</td>\n",
       "      <td>Soviet Union</td>\n",
       "      <td>584.0</td>\n",
       "    </tr>\n",
       "    <tr>\n",
       "      <th>2</th>\n",
       "      <td>GBR</td>\n",
       "      <td>United Kingdom</td>\n",
       "      <td>505.0</td>\n",
       "    </tr>\n",
       "    <tr>\n",
       "      <th>3</th>\n",
       "      <td>FRA</td>\n",
       "      <td>France</td>\n",
       "      <td>475.0</td>\n",
       "    </tr>\n",
       "    <tr>\n",
       "      <th>4</th>\n",
       "      <td>GER</td>\n",
       "      <td>Germany</td>\n",
       "      <td>454.0</td>\n",
       "    </tr>\n",
       "  </tbody>\n",
       "</table>\n",
       "</div>"
      ],
      "text/plain": [
       "   NOC         Country   Total\n",
       "0  USA   United States  1052.0\n",
       "1  URS    Soviet Union   584.0\n",
       "2  GBR  United Kingdom   505.0\n",
       "3  FRA          France   475.0\n",
       "4  GER         Germany   454.0"
      ]
     },
     "execution_count": 115,
     "metadata": {},
     "output_type": "execute_result"
    }
   ],
   "source": [
    "bronze"
   ]
  },
  {
   "cell_type": "code",
   "execution_count": 117,
   "metadata": {},
   "outputs": [],
   "source": [
    "medals = gold.copy()\n",
    "new_labels = ['NOC', 'Country', 'Gold']\n",
    "medals.columns = new_labels\n",
    "medals['Silver'] = silver['Total']\n",
    "medals['Bronze'] = bronze['Total']"
   ]
  },
  {
   "cell_type": "code",
   "execution_count": 125,
   "metadata": {},
   "outputs": [],
   "source": [
    "medals_m = pd.merge(gold,silver, on=['NOC', 'Country'], how='outer')"
   ]
  },
  {
   "cell_type": "code",
   "execution_count": 127,
   "metadata": {},
   "outputs": [],
   "source": [
    "medals_m2 = pd.merge(medals_m,bronze, on=['NOC', 'Country'])"
   ]
  },
  {
   "cell_type": "code",
   "execution_count": 130,
   "metadata": {},
   "outputs": [],
   "source": [
    "medals_m2.columns = ['NOC', 'Country', 'gold', 'silver', 'bronze']"
   ]
  },
  {
   "cell_type": "code",
   "execution_count": 135,
   "metadata": {},
   "outputs": [
    {
     "data": {
      "text/html": [
       "<div>\n",
       "<style scoped>\n",
       "    .dataframe tbody tr th:only-of-type {\n",
       "        vertical-align: middle;\n",
       "    }\n",
       "\n",
       "    .dataframe tbody tr th {\n",
       "        vertical-align: top;\n",
       "    }\n",
       "\n",
       "    .dataframe thead th {\n",
       "        text-align: right;\n",
       "    }\n",
       "</style>\n",
       "<table border=\"1\" class=\"dataframe\">\n",
       "  <thead>\n",
       "    <tr style=\"text-align: right;\">\n",
       "      <th></th>\n",
       "      <th>NOC</th>\n",
       "      <th>Country</th>\n",
       "      <th>gold</th>\n",
       "      <th>silver</th>\n",
       "      <th>bronze</th>\n",
       "    </tr>\n",
       "  </thead>\n",
       "  <tbody>\n",
       "    <tr>\n",
       "      <th>0</th>\n",
       "      <td>USA</td>\n",
       "      <td>United States</td>\n",
       "      <td>2088.0</td>\n",
       "      <td>1195.0</td>\n",
       "      <td>1052.0</td>\n",
       "    </tr>\n",
       "    <tr>\n",
       "      <th>1</th>\n",
       "      <td>URS</td>\n",
       "      <td>Soviet Union</td>\n",
       "      <td>838.0</td>\n",
       "      <td>627.0</td>\n",
       "      <td>584.0</td>\n",
       "    </tr>\n",
       "    <tr>\n",
       "      <th>2</th>\n",
       "      <td>GBR</td>\n",
       "      <td>United Kingdom</td>\n",
       "      <td>498.0</td>\n",
       "      <td>591.0</td>\n",
       "      <td>505.0</td>\n",
       "    </tr>\n",
       "    <tr>\n",
       "      <th>3</th>\n",
       "      <td>FRA</td>\n",
       "      <td>France</td>\n",
       "      <td>378.0</td>\n",
       "      <td>461.0</td>\n",
       "      <td>475.0</td>\n",
       "    </tr>\n",
       "    <tr>\n",
       "      <th>4</th>\n",
       "      <td>GER</td>\n",
       "      <td>Germany</td>\n",
       "      <td>407.0</td>\n",
       "      <td>350.0</td>\n",
       "      <td>454.0</td>\n",
       "    </tr>\n",
       "  </tbody>\n",
       "</table>\n",
       "</div>"
      ],
      "text/plain": [
       "   NOC         Country    gold  silver  bronze\n",
       "0  USA   United States  2088.0  1195.0  1052.0\n",
       "1  URS    Soviet Union   838.0   627.0   584.0\n",
       "2  GBR  United Kingdom   498.0   591.0   505.0\n",
       "3  FRA          France   378.0   461.0   475.0\n",
       "4  GER         Germany   407.0   350.0   454.0"
      ]
     },
     "execution_count": 135,
     "metadata": {},
     "output_type": "execute_result"
    }
   ],
   "source": [
    "medals_m2"
   ]
  },
  {
   "cell_type": "code",
   "execution_count": 136,
   "metadata": {},
   "outputs": [
    {
     "data": {
      "text/html": [
       "<div>\n",
       "<style scoped>\n",
       "    .dataframe tbody tr th:only-of-type {\n",
       "        vertical-align: middle;\n",
       "    }\n",
       "\n",
       "    .dataframe tbody tr th {\n",
       "        vertical-align: top;\n",
       "    }\n",
       "\n",
       "    .dataframe thead th {\n",
       "        text-align: right;\n",
       "    }\n",
       "</style>\n",
       "<table border=\"1\" class=\"dataframe\">\n",
       "  <thead>\n",
       "    <tr style=\"text-align: right;\">\n",
       "      <th></th>\n",
       "      <th>NOC</th>\n",
       "      <th>Country</th>\n",
       "      <th>Total</th>\n",
       "      <th>Total</th>\n",
       "      <th>Total</th>\n",
       "    </tr>\n",
       "  </thead>\n",
       "  <tbody>\n",
       "    <tr>\n",
       "      <th>0</th>\n",
       "      <td>USA</td>\n",
       "      <td>United States</td>\n",
       "      <td>2088.0</td>\n",
       "      <td>1195.0</td>\n",
       "      <td>1052.0</td>\n",
       "    </tr>\n",
       "    <tr>\n",
       "      <th>1</th>\n",
       "      <td>URS</td>\n",
       "      <td>Soviet Union</td>\n",
       "      <td>838.0</td>\n",
       "      <td>627.0</td>\n",
       "      <td>584.0</td>\n",
       "    </tr>\n",
       "    <tr>\n",
       "      <th>2</th>\n",
       "      <td>GBR</td>\n",
       "      <td>United Kingdom</td>\n",
       "      <td>498.0</td>\n",
       "      <td>591.0</td>\n",
       "      <td>505.0</td>\n",
       "    </tr>\n",
       "    <tr>\n",
       "      <th>3</th>\n",
       "      <td>FRA</td>\n",
       "      <td>France</td>\n",
       "      <td>378.0</td>\n",
       "      <td>461.0</td>\n",
       "      <td>475.0</td>\n",
       "    </tr>\n",
       "    <tr>\n",
       "      <th>4</th>\n",
       "      <td>GER</td>\n",
       "      <td>Germany</td>\n",
       "      <td>407.0</td>\n",
       "      <td>350.0</td>\n",
       "      <td>454.0</td>\n",
       "    </tr>\n",
       "  </tbody>\n",
       "</table>\n",
       "</div>"
      ],
      "text/plain": [
       "   NOC         Country   Total   Total   Total\n",
       "0  USA   United States  2088.0  1195.0  1052.0\n",
       "1  URS    Soviet Union   838.0   627.0   584.0\n",
       "2  GBR  United Kingdom   498.0   591.0   505.0\n",
       "3  FRA          France   378.0   461.0   475.0\n",
       "4  GER         Germany   407.0   350.0   454.0"
      ]
     },
     "execution_count": 136,
     "metadata": {},
     "output_type": "execute_result"
    }
   ],
   "source": [
    "pd.concat([gold,silver['Total'],bronze['Total']], axis=1)"
   ]
  },
  {
   "cell_type": "code",
   "execution_count": 120,
   "metadata": {},
   "outputs": [],
   "source": [
    "# Когда мы хотим слить несколько табиц с одинаковыми колонками в одну большую (по вертикали)\n",
    "medals_dict = {'gold': goldfpth, 'silver': silverfpth,'bronze':bronzefpth}"
   ]
  },
  {
   "cell_type": "code",
   "execution_count": 121,
   "metadata": {},
   "outputs": [],
   "source": [
    "# Можно использовать метод df.append()\n",
    "# !!! Важно, что он работает не так как append в списках, то есть не inplace\n",
    "medals_df = pd.DataFrame()\n",
    "for medal, fpth in medals_dict.items():\n",
    "    df_temp = pd.read_csv(fpth)\n",
    "    df_temp['medal'] = medal\n",
    "    medals_df = medals_df.append(df_temp)"
   ]
  },
  {
   "cell_type": "markdown",
   "metadata": {},
   "source": [
    "# Практическая часть"
   ]
  },
  {
   "cell_type": "code",
   "execution_count": 145,
   "metadata": {},
   "outputs": [],
   "source": [
    "# Даны 3 таблицы\n",
    "medalists = pd.read_csv('data/Summer Olympic medalists 1896 to 2008 - ALL MEDALISTS.tsv', sep='\\t', skiprows=4)\n",
    "editions = pd.read_csv('data/Summer Olympic medalists 1896 to 2008 - EDITIONS.tsv', sep='\\t')\n",
    "countries = pd.read_csv('data/Summer Olympic medalists 1896 to 2008 - IOC COUNTRY CODES.csv')"
   ]
  },
  {
   "cell_type": "code",
   "execution_count": 155,
   "metadata": {},
   "outputs": [
    {
     "data": {
      "text/html": [
       "<div>\n",
       "<style scoped>\n",
       "    .dataframe tbody tr th:only-of-type {\n",
       "        vertical-align: middle;\n",
       "    }\n",
       "\n",
       "    .dataframe tbody tr th {\n",
       "        vertical-align: top;\n",
       "    }\n",
       "\n",
       "    .dataframe thead th {\n",
       "        text-align: right;\n",
       "    }\n",
       "</style>\n",
       "<table border=\"1\" class=\"dataframe\">\n",
       "  <thead>\n",
       "    <tr style=\"text-align: right;\">\n",
       "      <th></th>\n",
       "      <th>City</th>\n",
       "      <th>Edition</th>\n",
       "      <th>Sport</th>\n",
       "      <th>Discipline</th>\n",
       "      <th>Athlete</th>\n",
       "      <th>NOC</th>\n",
       "      <th>Gender</th>\n",
       "      <th>Event</th>\n",
       "      <th>Event_gender</th>\n",
       "      <th>Medal</th>\n",
       "    </tr>\n",
       "  </thead>\n",
       "  <tbody>\n",
       "    <tr>\n",
       "      <th>0</th>\n",
       "      <td>Athens</td>\n",
       "      <td>1896</td>\n",
       "      <td>Aquatics</td>\n",
       "      <td>Swimming</td>\n",
       "      <td>HAJOS, Alfred</td>\n",
       "      <td>HUN</td>\n",
       "      <td>Men</td>\n",
       "      <td>100m freestyle</td>\n",
       "      <td>M</td>\n",
       "      <td>Gold</td>\n",
       "    </tr>\n",
       "    <tr>\n",
       "      <th>1</th>\n",
       "      <td>Athens</td>\n",
       "      <td>1896</td>\n",
       "      <td>Aquatics</td>\n",
       "      <td>Swimming</td>\n",
       "      <td>HERSCHMANN, Otto</td>\n",
       "      <td>AUT</td>\n",
       "      <td>Men</td>\n",
       "      <td>100m freestyle</td>\n",
       "      <td>M</td>\n",
       "      <td>Silver</td>\n",
       "    </tr>\n",
       "    <tr>\n",
       "      <th>2</th>\n",
       "      <td>Athens</td>\n",
       "      <td>1896</td>\n",
       "      <td>Aquatics</td>\n",
       "      <td>Swimming</td>\n",
       "      <td>DRIVAS, Dimitrios</td>\n",
       "      <td>GRE</td>\n",
       "      <td>Men</td>\n",
       "      <td>100m freestyle for sailors</td>\n",
       "      <td>M</td>\n",
       "      <td>Bronze</td>\n",
       "    </tr>\n",
       "  </tbody>\n",
       "</table>\n",
       "</div>"
      ],
      "text/plain": [
       "     City  Edition     Sport Discipline            Athlete  NOC Gender  \\\n",
       "0  Athens     1896  Aquatics   Swimming      HAJOS, Alfred  HUN    Men   \n",
       "1  Athens     1896  Aquatics   Swimming   HERSCHMANN, Otto  AUT    Men   \n",
       "2  Athens     1896  Aquatics   Swimming  DRIVAS, Dimitrios  GRE    Men   \n",
       "\n",
       "                        Event Event_gender   Medal  \n",
       "0              100m freestyle            M    Gold  \n",
       "1              100m freestyle            M  Silver  \n",
       "2  100m freestyle for sailors            M  Bronze  "
      ]
     },
     "execution_count": 155,
     "metadata": {},
     "output_type": "execute_result"
    }
   ],
   "source": [
    "medalists.head(3)"
   ]
  },
  {
   "cell_type": "code",
   "execution_count": 156,
   "metadata": {},
   "outputs": [
    {
     "data": {
      "text/plain": [
       "Men      21721\n",
       "Women     7495\n",
       "Name: Gender, dtype: int64"
      ]
     },
     "execution_count": 156,
     "metadata": {},
     "output_type": "execute_result"
    }
   ],
   "source": [
    "medalists.Gender.value_counts()"
   ]
  },
  {
   "cell_type": "code",
   "execution_count": 188,
   "metadata": {},
   "outputs": [],
   "source": [
    "new_medalists = pd.merge(medalists,countries, on='NOC')"
   ]
  },
  {
   "cell_type": "code",
   "execution_count": 189,
   "metadata": {},
   "outputs": [
    {
     "data": {
      "text/html": [
       "<div>\n",
       "<style scoped>\n",
       "    .dataframe tbody tr th:only-of-type {\n",
       "        vertical-align: middle;\n",
       "    }\n",
       "\n",
       "    .dataframe tbody tr th {\n",
       "        vertical-align: top;\n",
       "    }\n",
       "\n",
       "    .dataframe thead th {\n",
       "        text-align: right;\n",
       "    }\n",
       "</style>\n",
       "<table border=\"1\" class=\"dataframe\">\n",
       "  <thead>\n",
       "    <tr style=\"text-align: right;\">\n",
       "      <th></th>\n",
       "      <th>City</th>\n",
       "      <th>Edition</th>\n",
       "      <th>Sport</th>\n",
       "      <th>Discipline</th>\n",
       "      <th>Athlete</th>\n",
       "      <th>NOC</th>\n",
       "      <th>Gender</th>\n",
       "      <th>Event</th>\n",
       "      <th>Event_gender</th>\n",
       "      <th>Medal</th>\n",
       "      <th>Country</th>\n",
       "      <th>ISO code</th>\n",
       "    </tr>\n",
       "  </thead>\n",
       "  <tbody>\n",
       "    <tr>\n",
       "      <th>0</th>\n",
       "      <td>Athens</td>\n",
       "      <td>1896</td>\n",
       "      <td>Aquatics</td>\n",
       "      <td>Swimming</td>\n",
       "      <td>HAJOS, Alfred</td>\n",
       "      <td>HUN</td>\n",
       "      <td>Men</td>\n",
       "      <td>100m freestyle</td>\n",
       "      <td>M</td>\n",
       "      <td>Gold</td>\n",
       "      <td>Hungary</td>\n",
       "      <td>HU</td>\n",
       "    </tr>\n",
       "    <tr>\n",
       "      <th>1</th>\n",
       "      <td>Athens</td>\n",
       "      <td>1896</td>\n",
       "      <td>Aquatics</td>\n",
       "      <td>Swimming</td>\n",
       "      <td>HAJOS, Alfred</td>\n",
       "      <td>HUN</td>\n",
       "      <td>Men</td>\n",
       "      <td>1200m freestyle</td>\n",
       "      <td>M</td>\n",
       "      <td>Gold</td>\n",
       "      <td>Hungary</td>\n",
       "      <td>HU</td>\n",
       "    </tr>\n",
       "    <tr>\n",
       "      <th>2</th>\n",
       "      <td>Athens</td>\n",
       "      <td>1896</td>\n",
       "      <td>Athletics</td>\n",
       "      <td>Athletics</td>\n",
       "      <td>SZOKOLYI, Alajos</td>\n",
       "      <td>HUN</td>\n",
       "      <td>Men</td>\n",
       "      <td>100m</td>\n",
       "      <td>M</td>\n",
       "      <td>Bronze</td>\n",
       "      <td>Hungary</td>\n",
       "      <td>HU</td>\n",
       "    </tr>\n",
       "    <tr>\n",
       "      <th>3</th>\n",
       "      <td>Athens</td>\n",
       "      <td>1896</td>\n",
       "      <td>Athletics</td>\n",
       "      <td>Athletics</td>\n",
       "      <td>DANI, Nandor</td>\n",
       "      <td>HUN</td>\n",
       "      <td>Men</td>\n",
       "      <td>800m</td>\n",
       "      <td>M</td>\n",
       "      <td>Silver</td>\n",
       "      <td>Hungary</td>\n",
       "      <td>HU</td>\n",
       "    </tr>\n",
       "    <tr>\n",
       "      <th>4</th>\n",
       "      <td>Athens</td>\n",
       "      <td>1896</td>\n",
       "      <td>Athletics</td>\n",
       "      <td>Athletics</td>\n",
       "      <td>KELLNER, Gyula</td>\n",
       "      <td>HUN</td>\n",
       "      <td>Men</td>\n",
       "      <td>marathon</td>\n",
       "      <td>M</td>\n",
       "      <td>Bronze</td>\n",
       "      <td>Hungary</td>\n",
       "      <td>HU</td>\n",
       "    </tr>\n",
       "  </tbody>\n",
       "</table>\n",
       "</div>"
      ],
      "text/plain": [
       "     City  Edition      Sport Discipline           Athlete  NOC Gender  \\\n",
       "0  Athens     1896   Aquatics   Swimming     HAJOS, Alfred  HUN    Men   \n",
       "1  Athens     1896   Aquatics   Swimming     HAJOS, Alfred  HUN    Men   \n",
       "2  Athens     1896  Athletics  Athletics  SZOKOLYI, Alajos  HUN    Men   \n",
       "3  Athens     1896  Athletics  Athletics      DANI, Nandor  HUN    Men   \n",
       "4  Athens     1896  Athletics  Athletics    KELLNER, Gyula  HUN    Men   \n",
       "\n",
       "             Event Event_gender   Medal  Country ISO code  \n",
       "0   100m freestyle            M    Gold  Hungary       HU  \n",
       "1  1200m freestyle            M    Gold  Hungary       HU  \n",
       "2             100m            M  Bronze  Hungary       HU  \n",
       "3             800m            M  Silver  Hungary       HU  \n",
       "4         marathon            M  Bronze  Hungary       HU  "
      ]
     },
     "execution_count": 189,
     "metadata": {},
     "output_type": "execute_result"
    }
   ],
   "source": [
    "new_medalists.head()"
   ]
  },
  {
   "cell_type": "code",
   "execution_count": null,
   "metadata": {},
   "outputs": [],
   "source": [
    "new_medalists_g = new_medalists.groupby(['ISO code','Edition','Gender'])['Athlete'].count().reset_index()"
   ]
  },
  {
   "cell_type": "code",
   "execution_count": 191,
   "metadata": {},
   "outputs": [
    {
     "data": {
      "text/html": [
       "<div>\n",
       "<style scoped>\n",
       "    .dataframe tbody tr th:only-of-type {\n",
       "        vertical-align: middle;\n",
       "    }\n",
       "\n",
       "    .dataframe tbody tr th {\n",
       "        vertical-align: top;\n",
       "    }\n",
       "\n",
       "    .dataframe thead th {\n",
       "        text-align: right;\n",
       "    }\n",
       "</style>\n",
       "<table border=\"1\" class=\"dataframe\">\n",
       "  <thead>\n",
       "    <tr style=\"text-align: right;\">\n",
       "      <th></th>\n",
       "      <th>ISO code</th>\n",
       "      <th>Edition</th>\n",
       "      <th>Gender</th>\n",
       "      <th>Athlete</th>\n",
       "    </tr>\n",
       "  </thead>\n",
       "  <tbody>\n",
       "    <tr>\n",
       "      <th>0</th>\n",
       "      <td>AE</td>\n",
       "      <td>2004</td>\n",
       "      <td>Men</td>\n",
       "      <td>1</td>\n",
       "    </tr>\n",
       "    <tr>\n",
       "      <th>1</th>\n",
       "      <td>AF</td>\n",
       "      <td>2008</td>\n",
       "      <td>Men</td>\n",
       "      <td>1</td>\n",
       "    </tr>\n",
       "    <tr>\n",
       "      <th>2</th>\n",
       "      <td>AM</td>\n",
       "      <td>1996</td>\n",
       "      <td>Men</td>\n",
       "      <td>2</td>\n",
       "    </tr>\n",
       "    <tr>\n",
       "      <th>3</th>\n",
       "      <td>AM</td>\n",
       "      <td>2000</td>\n",
       "      <td>Men</td>\n",
       "      <td>1</td>\n",
       "    </tr>\n",
       "    <tr>\n",
       "      <th>4</th>\n",
       "      <td>AM</td>\n",
       "      <td>2008</td>\n",
       "      <td>Men</td>\n",
       "      <td>6</td>\n",
       "    </tr>\n",
       "  </tbody>\n",
       "</table>\n",
       "</div>"
      ],
      "text/plain": [
       "  ISO code  Edition Gender  Athlete\n",
       "0       AE     2004    Men        1\n",
       "1       AF     2008    Men        1\n",
       "2       AM     1996    Men        2\n",
       "3       AM     2000    Men        1\n",
       "4       AM     2008    Men        6"
      ]
     },
     "execution_count": 191,
     "metadata": {},
     "output_type": "execute_result"
    }
   ],
   "source": [
    "new_medalists_g.head()"
   ]
  },
  {
   "cell_type": "code",
   "execution_count": 192,
   "metadata": {},
   "outputs": [],
   "source": [
    "mdgen = pd.pivot_table(new_medalists_g, index=['ISO code','Edition'], columns='Gender', values='Athlete' )"
   ]
  },
  {
   "cell_type": "code",
   "execution_count": 197,
   "metadata": {},
   "outputs": [],
   "source": [
    "# mdgen"
   ]
  },
  {
   "cell_type": "code",
   "execution_count": 201,
   "metadata": {},
   "outputs": [],
   "source": [
    "mdgen = mdgen.fillna(0)"
   ]
  },
  {
   "cell_type": "code",
   "execution_count": 202,
   "metadata": {},
   "outputs": [],
   "source": [
    "mdgen['Total'] = mdgen[['Men','Women']].sum(axis=1)"
   ]
  },
  {
   "cell_type": "code",
   "execution_count": 203,
   "metadata": {},
   "outputs": [],
   "source": [
    "mdgen['Men_pct'] = mdgen['Men'] / mdgen['Total'] * 100\n",
    "mdgen['Women_pct'] = mdgen['Women'] / mdgen['Total'] * 100\n",
    "mdgen['Men_pct'] = mdgen['Men_pct'].astype('int')\n",
    "mdgen['Women_pct'] = mdgen['Women_pct'].astype('int')"
   ]
  },
  {
   "cell_type": "code",
   "execution_count": 206,
   "metadata": {},
   "outputs": [],
   "source": [
    "mdgen = mdgen.reset_index()"
   ]
  },
  {
   "cell_type": "code",
   "execution_count": 210,
   "metadata": {},
   "outputs": [],
   "source": [
    "# mdgen[mdgen['ISO code'] == 'US']"
   ]
  },
  {
   "cell_type": "code",
   "execution_count": null,
   "metadata": {},
   "outputs": [],
   "source": [
    "# Определите гендерное распределение (в процентах) медалистов по странам по годам \n",
    "# Выведите результаты в виде таблицы вместе с полем ISO code\n"
   ]
  },
  {
   "cell_type": "markdown",
   "metadata": {},
   "source": [
    "# Немного про Pandas & Excel"
   ]
  },
  {
   "cell_type": "markdown",
   "metadata": {},
   "source": [
    "<img src='img\\batman_xl.jpg' width=400 align=left>\n"
   ]
  },
  {
   "cell_type": "code",
   "execution_count": 211,
   "metadata": {},
   "outputs": [],
   "source": [
    "# Сохраним medals_df в файл excel\n",
    "medals_df.to_excel('medals.xlsx', index=False)"
   ]
  },
  {
   "cell_type": "code",
   "execution_count": 142,
   "metadata": {},
   "outputs": [
    {
     "data": {
      "text/html": [
       "<div>\n",
       "<style scoped>\n",
       "    .dataframe tbody tr th:only-of-type {\n",
       "        vertical-align: middle;\n",
       "    }\n",
       "\n",
       "    .dataframe tbody tr th {\n",
       "        vertical-align: top;\n",
       "    }\n",
       "\n",
       "    .dataframe thead th {\n",
       "        text-align: right;\n",
       "    }\n",
       "</style>\n",
       "<table border=\"1\" class=\"dataframe\">\n",
       "  <thead>\n",
       "    <tr style=\"text-align: right;\">\n",
       "      <th></th>\n",
       "      <th>NOC</th>\n",
       "      <th>Country</th>\n",
       "      <th>Total</th>\n",
       "      <th>medal</th>\n",
       "    </tr>\n",
       "  </thead>\n",
       "  <tbody>\n",
       "    <tr>\n",
       "      <th>0</th>\n",
       "      <td>USA</td>\n",
       "      <td>United States</td>\n",
       "      <td>2088.0</td>\n",
       "      <td>gold</td>\n",
       "    </tr>\n",
       "    <tr>\n",
       "      <th>1</th>\n",
       "      <td>URS</td>\n",
       "      <td>Soviet Union</td>\n",
       "      <td>838.0</td>\n",
       "      <td>gold</td>\n",
       "    </tr>\n",
       "    <tr>\n",
       "      <th>2</th>\n",
       "      <td>GBR</td>\n",
       "      <td>United Kingdom</td>\n",
       "      <td>498.0</td>\n",
       "      <td>gold</td>\n",
       "    </tr>\n",
       "    <tr>\n",
       "      <th>3</th>\n",
       "      <td>FRA</td>\n",
       "      <td>France</td>\n",
       "      <td>378.0</td>\n",
       "      <td>gold</td>\n",
       "    </tr>\n",
       "    <tr>\n",
       "      <th>4</th>\n",
       "      <td>GER</td>\n",
       "      <td>Germany</td>\n",
       "      <td>407.0</td>\n",
       "      <td>gold</td>\n",
       "    </tr>\n",
       "  </tbody>\n",
       "</table>\n",
       "</div>"
      ],
      "text/plain": [
       "   NOC         Country   Total medal\n",
       "0  USA   United States  2088.0  gold\n",
       "1  URS    Soviet Union   838.0  gold\n",
       "2  GBR  United Kingdom   498.0  gold\n",
       "3  FRA          France   378.0  gold\n",
       "4  GER         Germany   407.0  gold"
      ]
     },
     "execution_count": 142,
     "metadata": {},
     "output_type": "execute_result"
    }
   ],
   "source": [
    "# Если в excel - файле только один лист, или нужен только первый\n",
    "df = pd.read_excel('medals.xlsx')\n",
    "df.head()"
   ]
  },
  {
   "cell_type": "code",
   "execution_count": 214,
   "metadata": {},
   "outputs": [
    {
     "data": {
      "text/plain": [
       "['gold', 'silver', 'bronze']"
      ]
     },
     "execution_count": 214,
     "metadata": {},
     "output_type": "execute_result"
    }
   ],
   "source": [
    "# Если нужно считать несколько листов из файла, то \n",
    "# можно использовать pd.read_excel c параметром sheet_name \n",
    "xls = pd.ExcelFile('medal_on_sheets.xlsx')\n",
    "xls.sheet_names"
   ]
  },
  {
   "cell_type": "code",
   "execution_count": null,
   "metadata": {},
   "outputs": [],
   "source": [
    "medals_from_excel = pd.DataFrame()\n",
    "for sheet_name in xls.sheet_names:\n",
    "    temp_df = pd.read_excel('medal_on_sheets.xlsx', sheet_name=sheet_name)\n",
    "    medals_from_excel= medals_from_excel.append(temp_df)"
   ]
  },
  {
   "cell_type": "code",
   "execution_count": 217,
   "metadata": {},
   "outputs": [
    {
     "data": {
      "text/html": [
       "<div>\n",
       "<style scoped>\n",
       "    .dataframe tbody tr th:only-of-type {\n",
       "        vertical-align: middle;\n",
       "    }\n",
       "\n",
       "    .dataframe tbody tr th {\n",
       "        vertical-align: top;\n",
       "    }\n",
       "\n",
       "    .dataframe thead th {\n",
       "        text-align: right;\n",
       "    }\n",
       "</style>\n",
       "<table border=\"1\" class=\"dataframe\">\n",
       "  <thead>\n",
       "    <tr style=\"text-align: right;\">\n",
       "      <th></th>\n",
       "      <th>NOC</th>\n",
       "      <th>Country</th>\n",
       "      <th>Total</th>\n",
       "    </tr>\n",
       "  </thead>\n",
       "  <tbody>\n",
       "    <tr>\n",
       "      <th>0</th>\n",
       "      <td>USA</td>\n",
       "      <td>United States</td>\n",
       "      <td>2088</td>\n",
       "    </tr>\n",
       "    <tr>\n",
       "      <th>1</th>\n",
       "      <td>URS</td>\n",
       "      <td>Soviet Union</td>\n",
       "      <td>838</td>\n",
       "    </tr>\n",
       "    <tr>\n",
       "      <th>2</th>\n",
       "      <td>GBR</td>\n",
       "      <td>United Kingdom</td>\n",
       "      <td>498</td>\n",
       "    </tr>\n",
       "    <tr>\n",
       "      <th>3</th>\n",
       "      <td>FRA</td>\n",
       "      <td>France</td>\n",
       "      <td>378</td>\n",
       "    </tr>\n",
       "    <tr>\n",
       "      <th>4</th>\n",
       "      <td>GER</td>\n",
       "      <td>Germany</td>\n",
       "      <td>407</td>\n",
       "    </tr>\n",
       "    <tr>\n",
       "      <th>0</th>\n",
       "      <td>USA</td>\n",
       "      <td>United States</td>\n",
       "      <td>1195</td>\n",
       "    </tr>\n",
       "    <tr>\n",
       "      <th>1</th>\n",
       "      <td>URS</td>\n",
       "      <td>Soviet Union</td>\n",
       "      <td>627</td>\n",
       "    </tr>\n",
       "    <tr>\n",
       "      <th>2</th>\n",
       "      <td>GBR</td>\n",
       "      <td>United Kingdom</td>\n",
       "      <td>591</td>\n",
       "    </tr>\n",
       "    <tr>\n",
       "      <th>3</th>\n",
       "      <td>FRA</td>\n",
       "      <td>France</td>\n",
       "      <td>461</td>\n",
       "    </tr>\n",
       "    <tr>\n",
       "      <th>4</th>\n",
       "      <td>GER</td>\n",
       "      <td>Germany</td>\n",
       "      <td>350</td>\n",
       "    </tr>\n",
       "    <tr>\n",
       "      <th>0</th>\n",
       "      <td>USA</td>\n",
       "      <td>United States</td>\n",
       "      <td>1052</td>\n",
       "    </tr>\n",
       "    <tr>\n",
       "      <th>1</th>\n",
       "      <td>URS</td>\n",
       "      <td>Soviet Union</td>\n",
       "      <td>584</td>\n",
       "    </tr>\n",
       "    <tr>\n",
       "      <th>2</th>\n",
       "      <td>GBR</td>\n",
       "      <td>United Kingdom</td>\n",
       "      <td>505</td>\n",
       "    </tr>\n",
       "    <tr>\n",
       "      <th>3</th>\n",
       "      <td>FRA</td>\n",
       "      <td>France</td>\n",
       "      <td>475</td>\n",
       "    </tr>\n",
       "    <tr>\n",
       "      <th>4</th>\n",
       "      <td>GER</td>\n",
       "      <td>Germany</td>\n",
       "      <td>454</td>\n",
       "    </tr>\n",
       "  </tbody>\n",
       "</table>\n",
       "</div>"
      ],
      "text/plain": [
       "   NOC         Country  Total\n",
       "0  USA   United States   2088\n",
       "1  URS    Soviet Union    838\n",
       "2  GBR  United Kingdom    498\n",
       "3  FRA          France    378\n",
       "4  GER         Germany    407\n",
       "0  USA   United States   1195\n",
       "1  URS    Soviet Union    627\n",
       "2  GBR  United Kingdom    591\n",
       "3  FRA          France    461\n",
       "4  GER         Germany    350\n",
       "0  USA   United States   1052\n",
       "1  URS    Soviet Union    584\n",
       "2  GBR  United Kingdom    505\n",
       "3  FRA          France    475\n",
       "4  GER         Germany    454"
      ]
     },
     "execution_count": 217,
     "metadata": {},
     "output_type": "execute_result"
    }
   ],
   "source": [
    "# medals_from_excel"
   ]
  },
  {
   "cell_type": "markdown",
   "metadata": {},
   "source": [
    "### Как сохранить DataFrame в ексель на разных листах?\n"
   ]
  },
  {
   "cell_type": "code",
   "execution_count": 218,
   "metadata": {},
   "outputs": [],
   "source": [
    "# Создаем файл\n",
    "writer = pd.ExcelWriter('medal_on_sheets2.xlsx', engine='xlsxwriter')"
   ]
  },
  {
   "cell_type": "code",
   "execution_count": 219,
   "metadata": {},
   "outputs": [],
   "source": [
    "# Записываем на листы\n",
    "gold.to_excel(writer, sheet_name='gold', index=False)\n",
    "silver.to_excel(writer, sheet_name='silver', index=False)\n",
    "bronze.to_excel(writer, sheet_name='bronze', index=False)\n",
    "# Сохраняем и закрвыаем \n",
    "writer.save()"
   ]
  },
  {
   "cell_type": "code",
   "execution_count": 220,
   "metadata": {},
   "outputs": [
    {
     "name": "stdout",
     "output_type": "stream",
     "text": [
      "Lesson_3.ipynb        medal_on_sheets2.xlsx somefile.txt\r\n",
      "\u001b[34mdata\u001b[m\u001b[m                  medals.xlsx           somefile.zip\r\n",
      "data.json             somefile.bin          vil.pkl\r\n",
      "\u001b[34mimg\u001b[m\u001b[m                   somefile.bz2          ~$medals.xlsx\r\n",
      "medal_on_sheets.xlsx  somefile.gz\r\n"
     ]
    }
   ],
   "source": [
    "!ls"
   ]
  },
  {
   "cell_type": "code",
   "execution_count": 221,
   "metadata": {},
   "outputs": [],
   "source": [
    "# Или так c помощью менеджера контекста with\n",
    "with pd.ExcelWriter('medal_on_sheets3.xlsx', engine='xlsxwriter') as writer:\n",
    "    for i, tab in enumerate([gold,silver,bronze]):\n",
    "        tab.to_excel(writer, sheet_name=str(i), index=False)"
   ]
  },
  {
   "cell_type": "markdown",
   "metadata": {},
   "source": [
    "# Практическая часть "
   ]
  },
  {
   "cell_type": "code",
   "execution_count": 222,
   "metadata": {},
   "outputs": [
    {
     "data": {
      "text/html": [
       "<div>\n",
       "<style scoped>\n",
       "    .dataframe tbody tr th:only-of-type {\n",
       "        vertical-align: middle;\n",
       "    }\n",
       "\n",
       "    .dataframe tbody tr th {\n",
       "        vertical-align: top;\n",
       "    }\n",
       "\n",
       "    .dataframe thead th {\n",
       "        text-align: right;\n",
       "    }\n",
       "</style>\n",
       "<table border=\"1\" class=\"dataframe\">\n",
       "  <thead>\n",
       "    <tr style=\"text-align: right;\">\n",
       "      <th></th>\n",
       "      <th>City</th>\n",
       "      <th>Edition</th>\n",
       "      <th>Sport</th>\n",
       "      <th>Discipline</th>\n",
       "      <th>Athlete</th>\n",
       "      <th>NOC</th>\n",
       "      <th>Gender</th>\n",
       "      <th>Event</th>\n",
       "      <th>Event_gender</th>\n",
       "      <th>Medal</th>\n",
       "    </tr>\n",
       "  </thead>\n",
       "  <tbody>\n",
       "    <tr>\n",
       "      <th>0</th>\n",
       "      <td>Athens</td>\n",
       "      <td>1896</td>\n",
       "      <td>Aquatics</td>\n",
       "      <td>Swimming</td>\n",
       "      <td>HAJOS, Alfred</td>\n",
       "      <td>HUN</td>\n",
       "      <td>Men</td>\n",
       "      <td>100m freestyle</td>\n",
       "      <td>M</td>\n",
       "      <td>Gold</td>\n",
       "    </tr>\n",
       "    <tr>\n",
       "      <th>1</th>\n",
       "      <td>Athens</td>\n",
       "      <td>1896</td>\n",
       "      <td>Aquatics</td>\n",
       "      <td>Swimming</td>\n",
       "      <td>HERSCHMANN, Otto</td>\n",
       "      <td>AUT</td>\n",
       "      <td>Men</td>\n",
       "      <td>100m freestyle</td>\n",
       "      <td>M</td>\n",
       "      <td>Silver</td>\n",
       "    </tr>\n",
       "    <tr>\n",
       "      <th>2</th>\n",
       "      <td>Athens</td>\n",
       "      <td>1896</td>\n",
       "      <td>Aquatics</td>\n",
       "      <td>Swimming</td>\n",
       "      <td>DRIVAS, Dimitrios</td>\n",
       "      <td>GRE</td>\n",
       "      <td>Men</td>\n",
       "      <td>100m freestyle for sailors</td>\n",
       "      <td>M</td>\n",
       "      <td>Bronze</td>\n",
       "    </tr>\n",
       "    <tr>\n",
       "      <th>3</th>\n",
       "      <td>Athens</td>\n",
       "      <td>1896</td>\n",
       "      <td>Aquatics</td>\n",
       "      <td>Swimming</td>\n",
       "      <td>MALOKINIS, Ioannis</td>\n",
       "      <td>GRE</td>\n",
       "      <td>Men</td>\n",
       "      <td>100m freestyle for sailors</td>\n",
       "      <td>M</td>\n",
       "      <td>Gold</td>\n",
       "    </tr>\n",
       "    <tr>\n",
       "      <th>4</th>\n",
       "      <td>Athens</td>\n",
       "      <td>1896</td>\n",
       "      <td>Aquatics</td>\n",
       "      <td>Swimming</td>\n",
       "      <td>CHASAPIS, Spiridon</td>\n",
       "      <td>GRE</td>\n",
       "      <td>Men</td>\n",
       "      <td>100m freestyle for sailors</td>\n",
       "      <td>M</td>\n",
       "      <td>Silver</td>\n",
       "    </tr>\n",
       "  </tbody>\n",
       "</table>\n",
       "</div>"
      ],
      "text/plain": [
       "     City  Edition     Sport Discipline             Athlete  NOC Gender  \\\n",
       "0  Athens     1896  Aquatics   Swimming       HAJOS, Alfred  HUN    Men   \n",
       "1  Athens     1896  Aquatics   Swimming    HERSCHMANN, Otto  AUT    Men   \n",
       "2  Athens     1896  Aquatics   Swimming   DRIVAS, Dimitrios  GRE    Men   \n",
       "3  Athens     1896  Aquatics   Swimming  MALOKINIS, Ioannis  GRE    Men   \n",
       "4  Athens     1896  Aquatics   Swimming  CHASAPIS, Spiridon  GRE    Men   \n",
       "\n",
       "                        Event Event_gender   Medal  \n",
       "0              100m freestyle            M    Gold  \n",
       "1              100m freestyle            M  Silver  \n",
       "2  100m freestyle for sailors            M  Bronze  \n",
       "3  100m freestyle for sailors            M    Gold  \n",
       "4  100m freestyle for sailors            M  Silver  "
      ]
     },
     "execution_count": 222,
     "metadata": {},
     "output_type": "execute_result"
    }
   ],
   "source": [
    "# Сохраните DataFrame medalists в файл medalists.xlsx\n",
    "# В этом файле данные по каждой строне должны быть на отдельном листе\n",
    "medalists.head()"
   ]
  },
  {
   "cell_type": "code",
   "execution_count": 226,
   "metadata": {},
   "outputs": [
    {
     "data": {
      "application/vnd.jupyter.widget-view+json": {
       "model_id": "0956d7040ff7486ebf9e6e7af8fc7560",
       "version_major": 2,
       "version_minor": 0
      },
      "text/plain": [
       "HBox(children=(IntProgress(value=0, max=138), HTML(value='')))"
      ]
     },
     "metadata": {},
     "output_type": "display_data"
    },
    {
     "name": "stdout",
     "output_type": "stream",
     "text": [
      "\n"
     ]
    }
   ],
   "source": [
    "from tqdm import tqdm_notebook\n",
    "\n",
    "country_names = medalists.NOC.unique()\n",
    "with pd.ExcelWriter('medalists.xlsx', engine='xlsxwriter') as writer:\n",
    "    for el in tqdm_notebook(country_names):\n",
    "        medalists[medalists['NOC'] == el].to_excel(writer, sheet_name=el, index=False)"
   ]
  },
  {
   "cell_type": "markdown",
   "metadata": {},
   "source": [
    "# Pandas & ..."
   ]
  },
  {
   "cell_type": "markdown",
   "metadata": {},
   "source": [
    "<img src=\"img\\web_scrap.jpeg\" width=500 align=left>"
   ]
  },
  {
   "cell_type": "code",
   "execution_count": 229,
   "metadata": {},
   "outputs": [],
   "source": [
    "import pandas as pd\n",
    "import requests\n",
    "from tqdm import tqdm_notebook"
   ]
  },
  {
   "cell_type": "code",
   "execution_count": 230,
   "metadata": {},
   "outputs": [],
   "source": [
    "headers = {'X-Requested-With': 'XMLHttpRequest'}\n",
    "payload = ({'region':'77'})\n",
    "url = 'http://www.rosneft-azs.ru/map_search'"
   ]
  },
  {
   "cell_type": "code",
   "execution_count": 231,
   "metadata": {},
   "outputs": [],
   "source": [
    "r = requests.post(url, data=payload, headers=headers)"
   ]
  },
  {
   "cell_type": "code",
   "execution_count": 281,
   "metadata": {},
   "outputs": [],
   "source": [
    "res = r.json()\n",
    "stations = res['stations']"
   ]
  },
  {
   "cell_type": "code",
   "execution_count": 283,
   "metadata": {},
   "outputs": [],
   "source": [
    "price_content = res['stations'][0]['price']\n",
    "fuel_types = [x['type'] for x in price_content]\n",
    "\n",
    "adict = {}\n",
    "adict['Azs'] = []\n",
    "adict['Address'] = []\n",
    "for k in fuel_types:\n",
    "    adict[k] = []\n",
    "\n",
    "# Заполняем списки с помощью цикла\n",
    "for station in tqdm_notebook(stations):     \n",
    "    adict['Azs'].append(station['id'])\n",
    "    adict['Address'].append(station['address'])\n",
    "    for d in station['price']:\n",
    "        for t in fuel_types:\n",
    "            if d['type'] == t:\n",
    "                adict[t].append(d['price'])"
   ]
  },
  {
   "cell_type": "code",
   "execution_count": 248,
   "metadata": {},
   "outputs": [],
   "source": [
    "# Почему сюда не подходит метод .fromkeys() ?\n",
    "# adict = dict.fromkeys(['Azs','Address','Price92','Price95'],[])"
   ]
  },
  {
   "cell_type": "code",
   "execution_count": 280,
   "metadata": {},
   "outputs": [
    {
     "data": {
      "text/html": [
       "<div>\n",
       "<style scoped>\n",
       "    .dataframe tbody tr th:only-of-type {\n",
       "        vertical-align: middle;\n",
       "    }\n",
       "\n",
       "    .dataframe tbody tr th {\n",
       "        vertical-align: top;\n",
       "    }\n",
       "\n",
       "    .dataframe thead th {\n",
       "        text-align: right;\n",
       "    }\n",
       "</style>\n",
       "<table border=\"1\" class=\"dataframe\">\n",
       "  <thead>\n",
       "    <tr style=\"text-align: right;\">\n",
       "      <th></th>\n",
       "      <th>Azs</th>\n",
       "      <th>Address</th>\n",
       "      <th>92</th>\n",
       "      <th>92_fora</th>\n",
       "      <th>95</th>\n",
       "      <th>95_fora</th>\n",
       "      <th>98</th>\n",
       "      <th>98_fora</th>\n",
       "      <th>100</th>\n",
       "      <th>100_pulsar</th>\n",
       "      <th>diesel</th>\n",
       "      <th>diesel_fora</th>\n",
       "      <th>gas</th>\n",
       "      <th>methane</th>\n",
       "    </tr>\n",
       "  </thead>\n",
       "  <tbody>\n",
       "    <tr>\n",
       "      <th>0</th>\n",
       "      <td>56505</td>\n",
       "      <td>Новосибирская обл., г. Новосибирск, ул. Фабрич...</td>\n",
       "      <td>41.25</td>\n",
       "      <td>0.00</td>\n",
       "      <td>44.40</td>\n",
       "      <td>0.00</td>\n",
       "      <td>49.5</td>\n",
       "      <td>0</td>\n",
       "      <td>0.0</td>\n",
       "      <td>0.0</td>\n",
       "      <td>47.05</td>\n",
       "      <td>0</td>\n",
       "      <td>0.0</td>\n",
       "      <td>0.0</td>\n",
       "    </tr>\n",
       "    <tr>\n",
       "      <th>1</th>\n",
       "      <td>58520</td>\n",
       "      <td>Ростовская обл., Мясниковский р-н, п. Чалтырь,...</td>\n",
       "      <td>43.39</td>\n",
       "      <td>43.89</td>\n",
       "      <td>0.00</td>\n",
       "      <td>47.72</td>\n",
       "      <td>0.0</td>\n",
       "      <td>0</td>\n",
       "      <td>0.0</td>\n",
       "      <td>0.0</td>\n",
       "      <td>44.85</td>\n",
       "      <td>0</td>\n",
       "      <td>0.0</td>\n",
       "      <td>0.0</td>\n",
       "    </tr>\n",
       "    <tr>\n",
       "      <th>2</th>\n",
       "      <td>58316</td>\n",
       "      <td>Владимирская обл., Судогодский р-н, д. Лаврово...</td>\n",
       "      <td>41.60</td>\n",
       "      <td>0.00</td>\n",
       "      <td>44.60</td>\n",
       "      <td>45.10</td>\n",
       "      <td>0.0</td>\n",
       "      <td>0</td>\n",
       "      <td>0.0</td>\n",
       "      <td>0.0</td>\n",
       "      <td>44.30</td>\n",
       "      <td>0</td>\n",
       "      <td>0.0</td>\n",
       "      <td>0.0</td>\n",
       "    </tr>\n",
       "    <tr>\n",
       "      <th>3</th>\n",
       "      <td>58519</td>\n",
       "      <td>Ростовская обл., г. Ростов-на-Дону, ул. 40 Лет...</td>\n",
       "      <td>43.39</td>\n",
       "      <td>0.00</td>\n",
       "      <td>47.22</td>\n",
       "      <td>47.92</td>\n",
       "      <td>0.0</td>\n",
       "      <td>0</td>\n",
       "      <td>0.0</td>\n",
       "      <td>0.0</td>\n",
       "      <td>44.85</td>\n",
       "      <td>0</td>\n",
       "      <td>0.0</td>\n",
       "      <td>0.0</td>\n",
       "    </tr>\n",
       "    <tr>\n",
       "      <th>4</th>\n",
       "      <td>58509</td>\n",
       "      <td>Калужская обл., г. Калуга, ул. Зерновая, 34</td>\n",
       "      <td>40.15</td>\n",
       "      <td>0.00</td>\n",
       "      <td>43.20</td>\n",
       "      <td>44.00</td>\n",
       "      <td>0.0</td>\n",
       "      <td>0</td>\n",
       "      <td>0.0</td>\n",
       "      <td>0.0</td>\n",
       "      <td>42.85</td>\n",
       "      <td>0</td>\n",
       "      <td>0.0</td>\n",
       "      <td>0.0</td>\n",
       "    </tr>\n",
       "  </tbody>\n",
       "</table>\n",
       "</div>"
      ],
      "text/plain": [
       "     Azs                                            Address     92  92_fora  \\\n",
       "0  56505  Новосибирская обл., г. Новосибирск, ул. Фабрич...  41.25     0.00   \n",
       "1  58520  Ростовская обл., Мясниковский р-н, п. Чалтырь,...  43.39    43.89   \n",
       "2  58316  Владимирская обл., Судогодский р-н, д. Лаврово...  41.60     0.00   \n",
       "3  58519  Ростовская обл., г. Ростов-на-Дону, ул. 40 Лет...  43.39     0.00   \n",
       "4  58509        Калужская обл., г. Калуга, ул. Зерновая, 34  40.15     0.00   \n",
       "\n",
       "      95  95_fora    98  98_fora  100  100_pulsar  diesel  diesel_fora  gas  \\\n",
       "0  44.40     0.00  49.5        0  0.0         0.0   47.05            0  0.0   \n",
       "1   0.00    47.72   0.0        0  0.0         0.0   44.85            0  0.0   \n",
       "2  44.60    45.10   0.0        0  0.0         0.0   44.30            0  0.0   \n",
       "3  47.22    47.92   0.0        0  0.0         0.0   44.85            0  0.0   \n",
       "4  43.20    44.00   0.0        0  0.0         0.0   42.85            0  0.0   \n",
       "\n",
       "   methane  \n",
       "0      0.0  \n",
       "1      0.0  \n",
       "2      0.0  \n",
       "3      0.0  \n",
       "4      0.0  "
      ]
     },
     "execution_count": 280,
     "metadata": {},
     "output_type": "execute_result"
    }
   ],
   "source": [
    "rn = pd.DataFrame(adict)\n",
    "rn.head()"
   ]
  },
  {
   "cell_type": "markdown",
   "metadata": {},
   "source": [
    "# Практическая часть.."
   ]
  },
  {
   "cell_type": "code",
   "execution_count": 299,
   "metadata": {},
   "outputs": [
    {
     "data": {
      "application/vnd.jupyter.widget-view+json": {
       "model_id": "2cb892a5fb0d41438d37ebc5746abe4c",
       "version_major": 2,
       "version_minor": 0
      },
      "text/plain": [
       "HBox(children=(IntProgress(value=0, max=2301), HTML(value='')))"
      ]
     },
     "metadata": {},
     "output_type": "display_data"
    },
    {
     "name": "stdout",
     "output_type": "stream",
     "text": [
      "\n"
     ]
    },
    {
     "data": {
      "text/html": [
       "<div>\n",
       "<style scoped>\n",
       "    .dataframe tbody tr th:only-of-type {\n",
       "        vertical-align: middle;\n",
       "    }\n",
       "\n",
       "    .dataframe tbody tr th {\n",
       "        vertical-align: top;\n",
       "    }\n",
       "\n",
       "    .dataframe thead th {\n",
       "        text-align: right;\n",
       "    }\n",
       "</style>\n",
       "<table border=\"1\" class=\"dataframe\">\n",
       "  <thead>\n",
       "    <tr style=\"text-align: right;\">\n",
       "      <th></th>\n",
       "      <th>Azs</th>\n",
       "      <th>Address</th>\n",
       "      <th>92</th>\n",
       "      <th>92_fora</th>\n",
       "      <th>95</th>\n",
       "      <th>95_fora</th>\n",
       "      <th>98</th>\n",
       "      <th>98_fora</th>\n",
       "      <th>100</th>\n",
       "      <th>100_pulsar</th>\n",
       "      <th>diesel</th>\n",
       "      <th>diesel_fora</th>\n",
       "      <th>gas</th>\n",
       "      <th>methane</th>\n",
       "    </tr>\n",
       "  </thead>\n",
       "  <tbody>\n",
       "    <tr>\n",
       "      <th>0</th>\n",
       "      <td>56505</td>\n",
       "      <td>Новосибирская обл., г. Новосибирск, ул. Фабрич...</td>\n",
       "      <td>41.25</td>\n",
       "      <td>0.00</td>\n",
       "      <td>44.40</td>\n",
       "      <td>0.00</td>\n",
       "      <td>49.5</td>\n",
       "      <td>0</td>\n",
       "      <td>0.0</td>\n",
       "      <td>0.0</td>\n",
       "      <td>47.05</td>\n",
       "      <td>0</td>\n",
       "      <td>0.0</td>\n",
       "      <td>0.0</td>\n",
       "    </tr>\n",
       "    <tr>\n",
       "      <th>1</th>\n",
       "      <td>58520</td>\n",
       "      <td>Ростовская обл., Мясниковский р-н, п. Чалтырь,...</td>\n",
       "      <td>43.39</td>\n",
       "      <td>43.89</td>\n",
       "      <td>0.00</td>\n",
       "      <td>47.72</td>\n",
       "      <td>0.0</td>\n",
       "      <td>0</td>\n",
       "      <td>0.0</td>\n",
       "      <td>0.0</td>\n",
       "      <td>44.85</td>\n",
       "      <td>0</td>\n",
       "      <td>0.0</td>\n",
       "      <td>0.0</td>\n",
       "    </tr>\n",
       "    <tr>\n",
       "      <th>2</th>\n",
       "      <td>58316</td>\n",
       "      <td>Владимирская обл., Судогодский р-н, д. Лаврово...</td>\n",
       "      <td>41.60</td>\n",
       "      <td>0.00</td>\n",
       "      <td>44.60</td>\n",
       "      <td>45.10</td>\n",
       "      <td>0.0</td>\n",
       "      <td>0</td>\n",
       "      <td>0.0</td>\n",
       "      <td>0.0</td>\n",
       "      <td>44.30</td>\n",
       "      <td>0</td>\n",
       "      <td>0.0</td>\n",
       "      <td>0.0</td>\n",
       "    </tr>\n",
       "    <tr>\n",
       "      <th>3</th>\n",
       "      <td>58519</td>\n",
       "      <td>Ростовская обл., г. Ростов-на-Дону, ул. 40 Лет...</td>\n",
       "      <td>43.39</td>\n",
       "      <td>0.00</td>\n",
       "      <td>47.22</td>\n",
       "      <td>47.92</td>\n",
       "      <td>0.0</td>\n",
       "      <td>0</td>\n",
       "      <td>0.0</td>\n",
       "      <td>0.0</td>\n",
       "      <td>44.85</td>\n",
       "      <td>0</td>\n",
       "      <td>0.0</td>\n",
       "      <td>0.0</td>\n",
       "    </tr>\n",
       "    <tr>\n",
       "      <th>4</th>\n",
       "      <td>58509</td>\n",
       "      <td>Калужская обл., г. Калуга, ул. Зерновая, 34</td>\n",
       "      <td>40.15</td>\n",
       "      <td>0.00</td>\n",
       "      <td>43.20</td>\n",
       "      <td>44.00</td>\n",
       "      <td>0.0</td>\n",
       "      <td>0</td>\n",
       "      <td>0.0</td>\n",
       "      <td>0.0</td>\n",
       "      <td>42.85</td>\n",
       "      <td>0</td>\n",
       "      <td>0.0</td>\n",
       "      <td>0.0</td>\n",
       "    </tr>\n",
       "  </tbody>\n",
       "</table>\n",
       "</div>"
      ],
      "text/plain": [
       "     Azs                                            Address     92  92_fora  \\\n",
       "0  56505  Новосибирская обл., г. Новосибирск, ул. Фабрич...  41.25     0.00   \n",
       "1  58520  Ростовская обл., Мясниковский р-н, п. Чалтырь,...  43.39    43.89   \n",
       "2  58316  Владимирская обл., Судогодский р-н, д. Лаврово...  41.60     0.00   \n",
       "3  58519  Ростовская обл., г. Ростов-на-Дону, ул. 40 Лет...  43.39     0.00   \n",
       "4  58509        Калужская обл., г. Калуга, ул. Зерновая, 34  40.15     0.00   \n",
       "\n",
       "      95  95_fora    98  98_fora  100  100_pulsar  diesel  diesel_fora  gas  \\\n",
       "0  44.40     0.00  49.5        0  0.0         0.0   47.05            0  0.0   \n",
       "1   0.00    47.72   0.0        0  0.0         0.0   44.85            0  0.0   \n",
       "2  44.60    45.10   0.0        0  0.0         0.0   44.30            0  0.0   \n",
       "3  47.22    47.92   0.0        0  0.0         0.0   44.85            0  0.0   \n",
       "4  43.20    44.00   0.0        0  0.0         0.0   42.85            0  0.0   \n",
       "\n",
       "   methane  \n",
       "0      0.0  \n",
       "1      0.0  \n",
       "2      0.0  \n",
       "3      0.0  \n",
       "4      0.0  "
      ]
     },
     "execution_count": 299,
     "metadata": {},
     "output_type": "execute_result"
    }
   ],
   "source": [
    "# Добавить в таблицу другие виды топлива\n",
    "\n",
    "price_content = res['stations'][0]['price']\n",
    "fuel_types = [x['type'] for x in price_content]\n",
    "\n",
    "adict = {}\n",
    "adict['Azs'] = []\n",
    "adict['Address'] = []\n",
    "for k in fuel_types:\n",
    "    adict[k] = []\n",
    "\n",
    "# Заполняем списки с помощью цикла\n",
    "for station in tqdm_notebook(stations):     \n",
    "    adict['Azs'].append(station['id'])\n",
    "    adict['Address'].append(station['address'])\n",
    "    for d in station['price']:\n",
    "        for t in fuel_types:\n",
    "            if d['type'] == t:\n",
    "                adict[t].append(d['price'])\n",
    "                \n",
    "rn = pd.DataFrame(adict)\n",
    "rn.head()"
   ]
  },
  {
   "cell_type": "code",
   "execution_count": 300,
   "metadata": {},
   "outputs": [
    {
     "data": {
      "text/html": [
       "<div>\n",
       "<style scoped>\n",
       "    .dataframe tbody tr th:only-of-type {\n",
       "        vertical-align: middle;\n",
       "    }\n",
       "\n",
       "    .dataframe tbody tr th {\n",
       "        vertical-align: top;\n",
       "    }\n",
       "\n",
       "    .dataframe thead th {\n",
       "        text-align: right;\n",
       "    }\n",
       "</style>\n",
       "<table border=\"1\" class=\"dataframe\">\n",
       "  <thead>\n",
       "    <tr style=\"text-align: right;\">\n",
       "      <th></th>\n",
       "      <th>Azs</th>\n",
       "      <th>Address</th>\n",
       "      <th>92</th>\n",
       "      <th>92_fora</th>\n",
       "      <th>95</th>\n",
       "      <th>95_fora</th>\n",
       "      <th>98</th>\n",
       "      <th>98_fora</th>\n",
       "      <th>100</th>\n",
       "      <th>100_pulsar</th>\n",
       "      <th>diesel</th>\n",
       "      <th>diesel_fora</th>\n",
       "      <th>gas</th>\n",
       "      <th>methane</th>\n",
       "      <th>Regions</th>\n",
       "    </tr>\n",
       "  </thead>\n",
       "  <tbody>\n",
       "    <tr>\n",
       "      <th>0</th>\n",
       "      <td>56505</td>\n",
       "      <td>Новосибирская обл., г. Новосибирск, ул. Фабрич...</td>\n",
       "      <td>41.25</td>\n",
       "      <td>0.00</td>\n",
       "      <td>44.40</td>\n",
       "      <td>0.00</td>\n",
       "      <td>49.5</td>\n",
       "      <td>0</td>\n",
       "      <td>0.0</td>\n",
       "      <td>0.0</td>\n",
       "      <td>47.05</td>\n",
       "      <td>0</td>\n",
       "      <td>0.0</td>\n",
       "      <td>0.0</td>\n",
       "      <td>Новосибирская обл.</td>\n",
       "    </tr>\n",
       "    <tr>\n",
       "      <th>1</th>\n",
       "      <td>58520</td>\n",
       "      <td>Ростовская обл., Мясниковский р-н, п. Чалтырь,...</td>\n",
       "      <td>43.39</td>\n",
       "      <td>43.89</td>\n",
       "      <td>0.00</td>\n",
       "      <td>47.72</td>\n",
       "      <td>0.0</td>\n",
       "      <td>0</td>\n",
       "      <td>0.0</td>\n",
       "      <td>0.0</td>\n",
       "      <td>44.85</td>\n",
       "      <td>0</td>\n",
       "      <td>0.0</td>\n",
       "      <td>0.0</td>\n",
       "      <td>Ростовская обл.</td>\n",
       "    </tr>\n",
       "    <tr>\n",
       "      <th>2</th>\n",
       "      <td>58316</td>\n",
       "      <td>Владимирская обл., Судогодский р-н, д. Лаврово...</td>\n",
       "      <td>41.60</td>\n",
       "      <td>0.00</td>\n",
       "      <td>44.60</td>\n",
       "      <td>45.10</td>\n",
       "      <td>0.0</td>\n",
       "      <td>0</td>\n",
       "      <td>0.0</td>\n",
       "      <td>0.0</td>\n",
       "      <td>44.30</td>\n",
       "      <td>0</td>\n",
       "      <td>0.0</td>\n",
       "      <td>0.0</td>\n",
       "      <td>Владимирская обл.</td>\n",
       "    </tr>\n",
       "    <tr>\n",
       "      <th>3</th>\n",
       "      <td>58519</td>\n",
       "      <td>Ростовская обл., г. Ростов-на-Дону, ул. 40 Лет...</td>\n",
       "      <td>43.39</td>\n",
       "      <td>0.00</td>\n",
       "      <td>47.22</td>\n",
       "      <td>47.92</td>\n",
       "      <td>0.0</td>\n",
       "      <td>0</td>\n",
       "      <td>0.0</td>\n",
       "      <td>0.0</td>\n",
       "      <td>44.85</td>\n",
       "      <td>0</td>\n",
       "      <td>0.0</td>\n",
       "      <td>0.0</td>\n",
       "      <td>Ростовская обл.</td>\n",
       "    </tr>\n",
       "    <tr>\n",
       "      <th>4</th>\n",
       "      <td>58509</td>\n",
       "      <td>Калужская обл., г. Калуга, ул. Зерновая, 34</td>\n",
       "      <td>40.15</td>\n",
       "      <td>0.00</td>\n",
       "      <td>43.20</td>\n",
       "      <td>44.00</td>\n",
       "      <td>0.0</td>\n",
       "      <td>0</td>\n",
       "      <td>0.0</td>\n",
       "      <td>0.0</td>\n",
       "      <td>42.85</td>\n",
       "      <td>0</td>\n",
       "      <td>0.0</td>\n",
       "      <td>0.0</td>\n",
       "      <td>Калужская обл.</td>\n",
       "    </tr>\n",
       "  </tbody>\n",
       "</table>\n",
       "</div>"
      ],
      "text/plain": [
       "     Azs                                            Address     92  92_fora  \\\n",
       "0  56505  Новосибирская обл., г. Новосибирск, ул. Фабрич...  41.25     0.00   \n",
       "1  58520  Ростовская обл., Мясниковский р-н, п. Чалтырь,...  43.39    43.89   \n",
       "2  58316  Владимирская обл., Судогодский р-н, д. Лаврово...  41.60     0.00   \n",
       "3  58519  Ростовская обл., г. Ростов-на-Дону, ул. 40 Лет...  43.39     0.00   \n",
       "4  58509        Калужская обл., г. Калуга, ул. Зерновая, 34  40.15     0.00   \n",
       "\n",
       "      95  95_fora    98  98_fora  100  100_pulsar  diesel  diesel_fora  gas  \\\n",
       "0  44.40     0.00  49.5        0  0.0         0.0   47.05            0  0.0   \n",
       "1   0.00    47.72   0.0        0  0.0         0.0   44.85            0  0.0   \n",
       "2  44.60    45.10   0.0        0  0.0         0.0   44.30            0  0.0   \n",
       "3  47.22    47.92   0.0        0  0.0         0.0   44.85            0  0.0   \n",
       "4  43.20    44.00   0.0        0  0.0         0.0   42.85            0  0.0   \n",
       "\n",
       "   methane             Regions  \n",
       "0      0.0  Новосибирская обл.  \n",
       "1      0.0     Ростовская обл.  \n",
       "2      0.0   Владимирская обл.  \n",
       "3      0.0     Ростовская обл.  \n",
       "4      0.0      Калужская обл.  "
      ]
     },
     "execution_count": 300,
     "metadata": {},
     "output_type": "execute_result"
    }
   ],
   "source": [
    "# Сделать отдельну колонку Regions, отделив регионы от адреса АЗС \n",
    "rn['Regions'] = rn.Address.apply(lambda x:x.split(',')[0])\n",
    "rn.head()"
   ]
  },
  {
   "cell_type": "code",
   "execution_count": null,
   "metadata": {},
   "outputs": [],
   "source": [
    "# Выбрать АЗС из Белоруссии и сохранить в rnbelarus\n",
    "belarus_regions = rn[(rn[95] > 0) & (rn[95] < 10) ]['Regions'].unique().tolist()\n",
    "rnbelarus = rn[rn.Regions.isin(belarus_regions)]"
   ]
  },
  {
   "cell_type": "code",
   "execution_count": 308,
   "metadata": {},
   "outputs": [],
   "source": [
    "rnbelarus=rnbelarus.reset_index()"
   ]
  },
  {
   "cell_type": "code",
   "execution_count": 315,
   "metadata": {},
   "outputs": [],
   "source": [
    "# Пересчитать цены rnbelarus в рубли 31,5823 на 04.09.2019 на сайте ЦБ\n",
    "belrub = 31.5823\n",
    "rnbelarus[fuel_types] = rnbelarus[fuel_types] * belrub"
   ]
  },
  {
   "cell_type": "code",
   "execution_count": 303,
   "metadata": {},
   "outputs": [],
   "source": [
    "# Убрать АЗС из Белоруссии из таблциы rn\n",
    "rn = rn[~rn.Regions.isin(belarus_regions)]"
   ]
  },
  {
   "cell_type": "code",
   "execution_count": 321,
   "metadata": {},
   "outputs": [],
   "source": [
    "# Расчитать средние цены на топливо по регионам\n",
    "rn_region_prices = rn.groupby('Regions')[fuel_types].median()"
   ]
  },
  {
   "cell_type": "code",
   "execution_count": 345,
   "metadata": {},
   "outputs": [],
   "source": [
    "# Создать директорию regional_prices\n",
    "os.mkdir('regional_prices')"
   ]
  },
  {
   "cell_type": "code",
   "execution_count": 398,
   "metadata": {},
   "outputs": [],
   "source": [
    "# !ls"
   ]
  },
  {
   "cell_type": "code",
   "execution_count": 347,
   "metadata": {},
   "outputs": [],
   "source": [
    "# shutil.rmtree('regional_prices')"
   ]
  },
  {
   "cell_type": "code",
   "execution_count": 386,
   "metadata": {},
   "outputs": [
    {
     "data": {
      "application/vnd.jupyter.widget-view+json": {
       "model_id": "db4702f2b5e3431bafac5576be58b4b9",
       "version_major": 2,
       "version_minor": 0
      },
      "text/plain": [
       "HBox(children=(IntProgress(value=0, max=81), HTML(value='')))"
      ]
     },
     "metadata": {},
     "output_type": "display_data"
    },
    {
     "name": "stdout",
     "output_type": "stream",
     "text": [
      "\n"
     ]
    }
   ],
   "source": [
    "# Записать в отдельный .csv файл цены для каждого региона. \n",
    "# Разделить должен быть знак табуляции sep='\\t'\n",
    "# Название файла записать как название региона, заменив пробел на _\n",
    "rn_regions = rn.Regions.unique().tolist()\n",
    "for region in tqdm_notebook(rn_regions):\n",
    "    filename = '_'.join(region.split(' '))\n",
    "    if filename.endswith('.'):\n",
    "        filename += 'csv'\n",
    "    else:\n",
    "        filename += '.csv'\n",
    "    fpath = os.path.join('regional_prices', filename)\n",
    "    rn[rn.Regions == region].to_csv(fpath, sep='\\t', index=False)\n",
    "    "
   ]
  },
  {
   "cell_type": "code",
   "execution_count": 387,
   "metadata": {},
   "outputs": [],
   "source": [
    "# Выведите содержимое директории в переменную list_of_files\n",
    "list_of_files = os.listdir('regional_prices')"
   ]
  },
  {
   "cell_type": "code",
   "execution_count": 389,
   "metadata": {},
   "outputs": [
    {
     "data": {
      "application/vnd.jupyter.widget-view+json": {
       "model_id": "3e1cbca503f447d6b8c67c07bdfbfb2d",
       "version_major": 2,
       "version_minor": 0
      },
      "text/plain": [
       "HBox(children=(IntProgress(value=0, max=81), HTML(value='')))"
      ]
     },
     "metadata": {},
     "output_type": "display_data"
    },
    {
     "name": "stdout",
     "output_type": "stream",
     "text": [
      "\n"
     ]
    }
   ],
   "source": [
    "# Создайте словарь regional_prices и заполните его таким образом, чтобы\n",
    "# ключ был название файла без .csv, а значения - список строк, счиатанных из файла\n",
    "regional_prices = {}\n",
    "list_of_files = [x for x in list_of_files if x.endswith('csv')]\n",
    "for el in tqdm_notebook(list_of_files):\n",
    "    k = '.'.join(el.split('.')[:-1])\n",
    "    fpth = os.path.join('regional_prices', el)\n",
    "    with open(fpth, 'r') as f:\n",
    "        rndata = f.read()\n",
    "        regional_prices[k] = rndata"
   ]
  },
  {
   "cell_type": "code",
   "execution_count": 390,
   "metadata": {},
   "outputs": [],
   "source": [
    "# Соберите таблицу rnnew из словаря regional_prices\n",
    "manyrows=[]\n",
    "for v in regional_prices.values():\n",
    "    rows = v.split('\\n')\n",
    "    manyrows.extend(rows)\n",
    "\n",
    "header = manyrows[0]\n",
    "manyrows = [x.split('\\t') for x in manyrows[1:] if x != header]\n",
    "rnnew = pd.DataFrame(manyrows, columns=header.split('\\t'))"
   ]
  },
  {
   "cell_type": "code",
   "execution_count": 399,
   "metadata": {},
   "outputs": [
    {
     "data": {
      "text/html": [
       "<div>\n",
       "<style scoped>\n",
       "    .dataframe tbody tr th:only-of-type {\n",
       "        vertical-align: middle;\n",
       "    }\n",
       "\n",
       "    .dataframe tbody tr th {\n",
       "        vertical-align: top;\n",
       "    }\n",
       "\n",
       "    .dataframe thead th {\n",
       "        text-align: right;\n",
       "    }\n",
       "</style>\n",
       "<table border=\"1\" class=\"dataframe\">\n",
       "  <thead>\n",
       "    <tr style=\"text-align: right;\">\n",
       "      <th></th>\n",
       "      <th>Azs</th>\n",
       "      <th>Address</th>\n",
       "      <th>92</th>\n",
       "      <th>92_fora</th>\n",
       "      <th>95</th>\n",
       "      <th>95_fora</th>\n",
       "      <th>98</th>\n",
       "      <th>98_fora</th>\n",
       "      <th>100</th>\n",
       "      <th>100_pulsar</th>\n",
       "      <th>diesel</th>\n",
       "      <th>diesel_fora</th>\n",
       "      <th>gas</th>\n",
       "      <th>methane</th>\n",
       "      <th>Regions</th>\n",
       "    </tr>\n",
       "  </thead>\n",
       "  <tbody>\n",
       "    <tr>\n",
       "      <th>0</th>\n",
       "      <td>58181</td>\n",
       "      <td>Ярославская обл., Ярославский р-н, п. Карачиха...</td>\n",
       "      <td>40.7</td>\n",
       "      <td>0.0</td>\n",
       "      <td>43.68</td>\n",
       "      <td>44.41</td>\n",
       "      <td>0.0</td>\n",
       "      <td>0</td>\n",
       "      <td>0.0</td>\n",
       "      <td>0.0</td>\n",
       "      <td>44.53</td>\n",
       "      <td>0</td>\n",
       "      <td>0.0</td>\n",
       "      <td>0.0</td>\n",
       "      <td>Ярославская обл.</td>\n",
       "    </tr>\n",
       "    <tr>\n",
       "      <th>1</th>\n",
       "      <td>58182</td>\n",
       "      <td>Ярославская обл., Некрасовский р-н, п. Некрасо...</td>\n",
       "      <td>0.0</td>\n",
       "      <td>0.0</td>\n",
       "      <td>0.0</td>\n",
       "      <td>0.0</td>\n",
       "      <td>0.0</td>\n",
       "      <td>0</td>\n",
       "      <td>0.0</td>\n",
       "      <td>0.0</td>\n",
       "      <td>0.0</td>\n",
       "      <td>0</td>\n",
       "      <td>0.0</td>\n",
       "      <td>0.0</td>\n",
       "      <td>Ярославская обл.</td>\n",
       "    </tr>\n",
       "    <tr>\n",
       "      <th>2</th>\n",
       "      <td>58183</td>\n",
       "      <td>Ярославская обл., Ярославский р-н, г. Ярославл...</td>\n",
       "      <td>40.95</td>\n",
       "      <td>0.0</td>\n",
       "      <td>43.68</td>\n",
       "      <td>44.41</td>\n",
       "      <td>0.0</td>\n",
       "      <td>0</td>\n",
       "      <td>0.0</td>\n",
       "      <td>0.0</td>\n",
       "      <td>44.53</td>\n",
       "      <td>0</td>\n",
       "      <td>0.0</td>\n",
       "      <td>0.0</td>\n",
       "      <td>Ярославская обл.</td>\n",
       "    </tr>\n",
       "    <tr>\n",
       "      <th>3</th>\n",
       "      <td>58184</td>\n",
       "      <td>Ярославская обл., г. Ярославль, ул. Колышкина,...</td>\n",
       "      <td>0.0</td>\n",
       "      <td>0.0</td>\n",
       "      <td>0.0</td>\n",
       "      <td>0.0</td>\n",
       "      <td>0.0</td>\n",
       "      <td>0</td>\n",
       "      <td>0.0</td>\n",
       "      <td>0.0</td>\n",
       "      <td>0.0</td>\n",
       "      <td>0</td>\n",
       "      <td>0.0</td>\n",
       "      <td>0.0</td>\n",
       "      <td>Ярославская обл.</td>\n",
       "    </tr>\n",
       "    <tr>\n",
       "      <th>4</th>\n",
       "      <td>58185</td>\n",
       "      <td>Ярославская обл., г. Ярославль, ш. Тормозное, 107</td>\n",
       "      <td>40.95</td>\n",
       "      <td>0.0</td>\n",
       "      <td>43.68</td>\n",
       "      <td>44.41</td>\n",
       "      <td>47.67</td>\n",
       "      <td>0</td>\n",
       "      <td>0.0</td>\n",
       "      <td>0.0</td>\n",
       "      <td>44.53</td>\n",
       "      <td>0</td>\n",
       "      <td>0.0</td>\n",
       "      <td>0.0</td>\n",
       "      <td>Ярославская обл.</td>\n",
       "    </tr>\n",
       "  </tbody>\n",
       "</table>\n",
       "</div>"
      ],
      "text/plain": [
       "     Azs                                            Address     92 92_fora  \\\n",
       "0  58181  Ярославская обл., Ярославский р-н, п. Карачиха...   40.7     0.0   \n",
       "1  58182  Ярославская обл., Некрасовский р-н, п. Некрасо...    0.0     0.0   \n",
       "2  58183  Ярославская обл., Ярославский р-н, г. Ярославл...  40.95     0.0   \n",
       "3  58184  Ярославская обл., г. Ярославль, ул. Колышкина,...    0.0     0.0   \n",
       "4  58185  Ярославская обл., г. Ярославль, ш. Тормозное, 107  40.95     0.0   \n",
       "\n",
       "      95 95_fora     98 98_fora  100 100_pulsar diesel diesel_fora  gas  \\\n",
       "0  43.68   44.41    0.0       0  0.0        0.0  44.53           0  0.0   \n",
       "1    0.0     0.0    0.0       0  0.0        0.0    0.0           0  0.0   \n",
       "2  43.68   44.41    0.0       0  0.0        0.0  44.53           0  0.0   \n",
       "3    0.0     0.0    0.0       0  0.0        0.0    0.0           0  0.0   \n",
       "4  43.68   44.41  47.67       0  0.0        0.0  44.53           0  0.0   \n",
       "\n",
       "  methane           Regions  \n",
       "0     0.0  Ярославская обл.  \n",
       "1     0.0  Ярославская обл.  \n",
       "2     0.0  Ярославская обл.  \n",
       "3     0.0  Ярославская обл.  \n",
       "4     0.0  Ярославская обл.  "
      ]
     },
     "execution_count": 399,
     "metadata": {},
     "output_type": "execute_result"
    }
   ],
   "source": [
    "rnnew.head()"
   ]
  },
  {
   "cell_type": "code",
   "execution_count": null,
   "metadata": {},
   "outputs": [],
   "source": []
  }
 ],
 "metadata": {
  "kernelspec": {
   "display_name": "Python 3",
   "language": "python",
   "name": "python3"
  },
  "language_info": {
   "codemirror_mode": {
    "name": "ipython",
    "version": 3
   },
   "file_extension": ".py",
   "mimetype": "text/x-python",
   "name": "python",
   "nbconvert_exporter": "python",
   "pygments_lexer": "ipython3",
   "version": "3.7.3"
  }
 },
 "nbformat": 4,
 "nbformat_minor": 2
}
