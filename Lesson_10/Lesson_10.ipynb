{
 "cells": [
  {
   "cell_type": "markdown",
   "metadata": {},
   "source": [
    "# Как вам ReBoot?"
   ]
  },
  {
   "cell_type": "markdown",
   "metadata": {},
   "source": [
    "<img src='img/trump-simpson-funny-2.jpg' width=500 align=left>\n",
    "\n"
   ]
  },
  {
   "cell_type": "markdown",
   "metadata": {},
   "source": [
    "# Мы это знаем?"
   ]
  },
  {
   "cell_type": "markdown",
   "metadata": {},
   "source": [
    "## Модуль 1. Начало работы\n",
    "* Версии и реализации языка Python \n",
    "* Основные принципы работы интерпретатора Python\n",
    "* Установка интерпретатора и среды разработки используемых на курсе\n",
    "* Основные элементы программирования\n",
    "\n",
    "## Модуль 2. Управляющие конструкции и коллекции\n",
    "* Словарь\n",
    "* Список\n",
    "* Кортеж\n",
    "* Последовательность\n",
    "* Ветвление\n",
    "* Циклы\n",
    "* Простой ввод и простой вывод\n",
    "\n",
    "## Модуль 3. Функции \n",
    "\n",
    "* Функция\n",
    "* Перебор (for)\n",
    "* Генератор-функция\n",
    "\n",
    "## Модуль 4. Модули и пакеты\n",
    "* Создание собственного модуля\n",
    "* Создание пакета\n",
    "* Подсистема pip\n",
    "* Краткий обзор стандартной библиотеки\n",
    "* Установка стороннего модуля\n",
    "\n",
    "## Модуль 5. Работа с файловой системой\n",
    "* Работа с файлами\n",
    "* Работа с каталогами\n",
    "* Обработка параметров командной строки\n",
    "\n",
    "## Модуль 6. Исключения и обработка ошибок\n",
    "* Понятие об исключении\n",
    "* Выброс исключения\n",
    "* Перехват исключения\n",
    "* Стандартные исключения\n",
    "\n",
    "## Модуль 7. Регулярные выражения и основы синтаксического разбора\n",
    "* Понятие о регулярном выражении\n",
    "* Синтаксис регулярных выражений\n",
    "* Применение регулярных выражений\n",
    "\n",
    "\n",
    "## Модуль 8. Элементы функционального программирования\n",
    "* Функция как объект\n",
    "* Операция замыкания (closure) и операция каррирования (currying)\n",
    "* Понятие о декораторе\n",
    "\n",
    "# Бонус\n",
    "## Модуль 9. Работа с таблицами и матрицами\n",
    "* Объекты DataFrame и Series в pandas\n",
    "* Свои функции в DataFrame\n",
    "* Джоины, мерджи, конкаты\n",
    "* Агрегирование groupby и сводные таблицы\n",
    "* Линейная алгебра и numpy\n",
    "\n",
    "## Модуль 10. Рисуем графики \n",
    "* Графики в Pandas, Matplotlib и Seaborn\n",
    "* Добавляем интерактивность с помощью ipywidgets\n",
    "* Интерактивность c помощью Plotly"
   ]
  },
  {
   "cell_type": "code",
   "execution_count": null,
   "metadata": {},
   "outputs": [],
   "source": []
  },
  {
   "cell_type": "code",
   "execution_count": null,
   "metadata": {},
   "outputs": [],
   "source": []
  },
  {
   "cell_type": "markdown",
   "metadata": {},
   "source": [
    "<hr>\n",
    "<a href=\"https://sbtatlas.sigma.sbrf.ru/wiki/display/SberProfi/Python+Development\">Python_Community_Sber</a>\n",
    "\n"
   ]
  },
  {
   "cell_type": "markdown",
   "metadata": {},
   "source": [
    "# Что мы знаем о генераторах?"
   ]
  },
  {
   "cell_type": "code",
   "execution_count": 30,
   "metadata": {},
   "outputs": [],
   "source": [
    "import sys"
   ]
  },
  {
   "cell_type": "code",
   "execution_count": 60,
   "metadata": {},
   "outputs": [],
   "source": [
    "# Итерируемый объект - список\n",
    "myiterator = [x*x for x in range(3)]"
   ]
  },
  {
   "cell_type": "code",
   "execution_count": 65,
   "metadata": {},
   "outputs": [
    {
     "name": "stdout",
     "output_type": "stream",
     "text": [
      "0\n",
      "1\n",
      "4\n"
     ]
    }
   ],
   "source": [
    "for i in myiterator:\n",
    "    print(i)"
   ]
  },
  {
   "cell_type": "code",
   "execution_count": 74,
   "metadata": {},
   "outputs": [],
   "source": [
    "# Генератор\n",
    "mygenerator = (x*x for x in range(3))"
   ]
  },
  {
   "cell_type": "code",
   "execution_count": 76,
   "metadata": {},
   "outputs": [],
   "source": [
    "for i in mygenerator:\n",
    "    print(i)"
   ]
  },
  {
   "cell_type": "code",
   "execution_count": 73,
   "metadata": {
    "scrolled": true
   },
   "outputs": [
    {
     "name": "stdout",
     "output_type": "stream",
     "text": [
      "Список весит 96 байт\n",
      "Генератор весит 120 байт\n"
     ]
    }
   ],
   "source": [
    "print(\"Список весит {} байт\".format(sys.getsizeof(myiterator)))\n",
    "print(\"Генератор весит {} байт\".format(sys.getsizeof(mygenerator)))"
   ]
  },
  {
   "cell_type": "code",
   "execution_count": 98,
   "metadata": {},
   "outputs": [],
   "source": [
    "# myiterator = [x*x for x in range(5**10)]\n",
    "# mygenerator = (x*x for x in range(5**10))\n",
    "# print(\"Список : {} байт\".format(sys.getsizeof(myiterator)))\n",
    "# print(\"Генератор : {} байт\".format(sys.getsizeof(mygenerator)))\n"
   ]
  },
  {
   "cell_type": "code",
   "execution_count": 99,
   "metadata": {},
   "outputs": [],
   "source": [
    "# Альтернатиный вариант - функция генератор\n",
    "def createGenerator():\n",
    "    mylist = range(3)\n",
    "    for i in mylist :\n",
    "        yield i*i\n"
   ]
  },
  {
   "cell_type": "code",
   "execution_count": 97,
   "metadata": {},
   "outputs": [
    {
     "name": "stdout",
     "output_type": "stream",
     "text": [
      "<generator object createGenerator at 0x1056e29a8>\n"
     ]
    }
   ],
   "source": [
    "mygenerator = createGenerator() \n",
    "print(mygenerator) "
   ]
  },
  {
   "cell_type": "code",
   "execution_count": 96,
   "metadata": {},
   "outputs": [],
   "source": [
    "for i in mygenerator:\n",
    "    print(i)"
   ]
  },
  {
   "cell_type": "code",
   "execution_count": 100,
   "metadata": {},
   "outputs": [],
   "source": [
    "# Функция - генератор бесконечной последовательности\n",
    "def infinite_sequence():\n",
    "    num = 0\n",
    "    while True:\n",
    "        yield num\n",
    "        num += 1"
   ]
  },
  {
   "cell_type": "code",
   "execution_count": 103,
   "metadata": {},
   "outputs": [],
   "source": [
    "# for i in infinite_sequence():\n",
    "#     print(i)"
   ]
  },
  {
   "cell_type": "code",
   "execution_count": 117,
   "metadata": {},
   "outputs": [],
   "source": [
    "def is_palindrome(num):\n",
    "\n",
    "    if num // 10 == 0:\n",
    "        return False\n",
    "    temp = num\n",
    "    reversed_num = 0\n",
    "\n",
    "    while temp != 0:\n",
    "        reversed_num = (reversed_num * 10) + (temp % 10)\n",
    "        temp = temp // 10\n",
    "\n",
    "    if num == reversed_num:\n",
    "        return num\n",
    "    else:\n",
    "        return False"
   ]
  },
  {
   "cell_type": "code",
   "execution_count": 118,
   "metadata": {},
   "outputs": [],
   "source": [
    "# for i in infinite_sequence():\n",
    "#     pal = is_palindrome(i)\n",
    "#     if pal:\n",
    "#         print(pal)"
   ]
  },
  {
   "cell_type": "code",
   "execution_count": 121,
   "metadata": {},
   "outputs": [
    {
     "name": "stdout",
     "output_type": "stream",
     "text": [
      "Wikipedia ( (listen) wik-ih-PEE-dee-ə or  (listen) wik-ee-PEE-dee-ə) is a multilingual online encyclopedia created and maintained as an open collaboration project using a wiki-based editing system. It is the largest and most popular general reference work on the World Wide Web, and is one of the most popular websites ranked by Alexa as of September 2019. It features exclusively free content and no commercial ads, and is owned and supported by the Wikimedia Foundation, a non-profit organization funded primarily through donations.Wikipedia was launched on January 15, 2001, by Jimmy Wales and Larry Sanger. Sanger coined its name, as a portmanteau of \"wiki\" (the Hawai'ian word for \"quick\") and \"encyclopedia\". Initially an English-language encyclopedia, versions in other languages were quickly developed. With at least 5,939,997 articles, the English Wikipedia is the largest of the more than 290 Wikipedia encyclopedias. Overall, Wikipedia comprises more than 40 million articles in 301 different languages and by February 2014 it had reached 18 billion page views and nearly 500 million unique visitors per month.In 2005, Nature published a peer review comparing 42 hard science articles from Encyclopædia Britannica and Wikipedia and found that Wikipedia's level of accuracy approached that of Britannica, although critics suggested that it might not have fared so well in a similar study of a random sampling of all articles or one focused on social science or contentious social issues. The following year, Time magazine stated that the open-door policy of allowing anyone to edit had made Wikipedia the biggest and possibly the best encyclopedia in the world, and was a testament to the vision of Jimmy Wales.Wikipedia has been criticized for exhibiting systemic bias, for presenting a mixture of \"truths, half truths, and some falsehoods\", and for being subject to manipulation and spin in controversial topics. However, Facebook announced that by 2017 it would help readers detect fake news by suggesting links to related Wikipedia articles. YouTube announced a similar plan in 2018. In addition, Wikipedia has gender bias, particularly on its English-language site, where the dominant majority of editors are male. However, Edit-a-thons have been held to encourage female editors and increase the coverage of women's topics.\n"
     ]
    }
   ],
   "source": [
    "import wikipedia\n",
    "print(wikipedia.summary(\"Wikipedia\"))"
   ]
  },
  {
   "cell_type": "code",
   "execution_count": 122,
   "metadata": {},
   "outputs": [
    {
     "data": {
      "text/plain": [
       "['Barack Obama',\n",
       " 'Barack Obama Sr.',\n",
       " 'Efforts to impeach Barack Obama',\n",
       " 'Family of Barack Obama',\n",
       " 'Presidency of Barack Obama',\n",
       " 'United States presidential approval rating',\n",
       " 'Barack (disambiguation)',\n",
       " 'Barack Obama citizenship conspiracy theories',\n",
       " 'Barack (brandy)',\n",
       " 'Barack Adama']"
      ]
     },
     "execution_count": 122,
     "metadata": {},
     "output_type": "execute_result"
    }
   ],
   "source": [
    "wikipedia.search(\"Barack\")"
   ]
  },
  {
   "cell_type": "code",
   "execution_count": 126,
   "metadata": {},
   "outputs": [],
   "source": [
    "wikipedia.set_lang(\"ru\")  "
   ]
  },
  {
   "cell_type": "code",
   "execution_count": 133,
   "metadata": {},
   "outputs": [],
   "source": [
    "msc = wikipedia.page(\"Москва\")"
   ]
  },
  {
   "cell_type": "code",
   "execution_count": 134,
   "metadata": {},
   "outputs": [
    {
     "data": {
      "text/plain": [
       "'Москва'"
      ]
     },
     "execution_count": 134,
     "metadata": {},
     "output_type": "execute_result"
    }
   ],
   "source": [
    "msc.title"
   ]
  },
  {
   "cell_type": "code",
   "execution_count": 135,
   "metadata": {},
   "outputs": [
    {
     "data": {
      "text/plain": [
       "'https://ru.wikipedia.org/wiki/%D0%9C%D0%BE%D1%81%D0%BA%D0%B2%D0%B0'"
      ]
     },
     "execution_count": 135,
     "metadata": {},
     "output_type": "execute_result"
    }
   ],
   "source": [
    "# Выводим ссылку\n",
    "msc.url"
   ]
  },
  {
   "cell_type": "code",
   "execution_count": 139,
   "metadata": {},
   "outputs": [],
   "source": [
    "# Выводим содержимое страницы\n",
    "# msc.content"
   ]
  }
 ],
 "metadata": {
  "kernelspec": {
   "display_name": "Python 3",
   "language": "python",
   "name": "python3"
  },
  "language_info": {
   "codemirror_mode": {
    "name": "ipython",
    "version": 3
   },
   "file_extension": ".py",
   "mimetype": "text/x-python",
   "name": "python",
   "nbconvert_exporter": "python",
   "pygments_lexer": "ipython3",
   "version": "3.7.3"
  }
 },
 "nbformat": 4,
 "nbformat_minor": 2
}
