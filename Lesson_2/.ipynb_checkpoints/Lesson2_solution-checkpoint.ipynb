{
 "cells": [
  {
   "cell_type": "markdown",
   "metadata": {},
   "source": [
    "# Циклы, тернарные операторы, функции"
   ]
  },
  {
   "cell_type": "markdown",
   "metadata": {},
   "source": [
    "### Логические операторы"
   ]
  },
  {
   "cell_type": "markdown",
   "metadata": {},
   "source": [
    "* and \n",
    "* or \n",
    "* not \n",
    "* in\n",
    "* not in\n",
    "* Выполняется ли равенство ==  \n",
    "* Выполняется ли неравенство !=\n",
    "* Больше или меньше  >< >= <=\n"
   ]
  },
  {
   "cell_type": "markdown",
   "metadata": {},
   "source": [
    "#### Тернарные операторы"
   ]
  },
  {
   "cell_type": "code",
   "execution_count": 1,
   "metadata": {
    "scrolled": true
   },
   "outputs": [
    {
     "data": {
      "text/plain": [
       "False"
      ]
     },
     "execution_count": 1,
     "metadata": {},
     "output_type": "execute_result"
    }
   ],
   "source": [
    "# проверят выполняется ли условие\n",
    "True != True"
   ]
  },
  {
   "cell_type": "code",
   "execution_count": 2,
   "metadata": {},
   "outputs": [
    {
     "name": "stdout",
     "output_type": "stream",
     "text": [
      "+\n"
     ]
    }
   ],
   "source": [
    "# if\n",
    "a = 10\n",
    "if a > 0:\n",
    "    print('+')"
   ]
  },
  {
   "cell_type": "code",
   "execution_count": 3,
   "metadata": {},
   "outputs": [
    {
     "name": "stdout",
     "output_type": "stream",
     "text": [
      "-\n"
     ]
    }
   ],
   "source": [
    "# Дополнительное условие elif\n",
    "a = -8\n",
    "if a > 0:\n",
    "    print('+')\n",
    "elif -10 < a < -5 :\n",
    "    print('-')"
   ]
  },
  {
   "cell_type": "code",
   "execution_count": 4,
   "metadata": {},
   "outputs": [
    {
     "name": "stdout",
     "output_type": "stream",
     "text": [
      "---\n"
     ]
    }
   ],
   "source": [
    "# Еще одно дополнительное условие elif\n",
    "a = -10\n",
    "if a > 0:\n",
    "    print('+')\n",
    "elif -10 < a < -5 :\n",
    "    print('-')\n",
    "elif -15 < a <= -10  :\n",
    "    print('---')"
   ]
  },
  {
   "cell_type": "code",
   "execution_count": 5,
   "metadata": {},
   "outputs": [
    {
     "name": "stdout",
     "output_type": "stream",
     "text": [
      "...\n"
     ]
    }
   ],
   "source": [
    "# Альтернативное условие else\n",
    "a = 0\n",
    "if a > 0:\n",
    "    print('+')\n",
    "elif -10 < a < -5 :\n",
    "    print('-')\n",
    "elif -15 < a <= -10  :\n",
    "    print('---')\n",
    "else :\n",
    "    print('...')"
   ]
  },
  {
   "cell_type": "code",
   "execution_count": 6,
   "metadata": {},
   "outputs": [
    {
     "name": "stdout",
     "output_type": "stream",
     "text": [
      "Bavaria - Ой не забыть быть чипсоны\n",
      "Corona - Ой надо купить буррито!\n",
      "Ragegast - Ой не забыть быть чипсоны\n",
      "Lambic - Ой не забыть быть чипсоны\n",
      "Perroni - Ой надо взять пиццу\n"
     ]
    }
   ],
   "source": [
    "# пример использвоания if в цикле\n",
    "beerlist = ['Bavaria', 'Corona', 'Ragegast','Lambic', 'Perroni']\n",
    "for beer in beerlist:\n",
    "    if beer == 'Corona':\n",
    "        print('{} - Ой надо купить буррито!'.format(beer))\n",
    "    elif beer == 'Perroni':\n",
    "        print('{} - Ой надо взять пиццу'.format(beer))\n",
    "    else:\n",
    "        print('{} - Ой не забыть быть чипсоны'.format(beer))"
   ]
  },
  {
   "cell_type": "markdown",
   "metadata": {
    "collapsed": true
   },
   "source": [
    "### Циклы"
   ]
  },
  {
   "cell_type": "markdown",
   "metadata": {},
   "source": [
    "<img src=\"img\\eat_sleep.png\" align='left'>"
   ]
  },
  {
   "cell_type": "code",
   "execution_count": 7,
   "metadata": {},
   "outputs": [
    {
     "name": "stdout",
     "output_type": "stream",
     "text": [
      "fruit =  apple\n",
      "fruit =  banana\n",
      "fruit =  mango\n"
     ]
    }
   ],
   "source": [
    "# Для поочередного перебора элементов ЛЮБОЙ последовательности в Python есть специальный цикл\n",
    "# переменной fruit при каждой итерации(полном обороте) цикла присваиваются элементы поочереди\n",
    "fruits = ['apple','banana','mango']\n",
    "for fruit in fruits:  \n",
    "    print('fruit = ', fruit)"
   ]
  },
  {
   "cell_type": "code",
   "execution_count": 8,
   "metadata": {},
   "outputs": [
    {
     "name": "stdout",
     "output_type": "stream",
     "text": [
      "el =  H\n",
      "el =  e\n",
      "el =  l\n",
      "el =  l\n",
      "el =  o\n"
     ]
    }
   ],
   "source": [
    "# со строкой тоже работает\n",
    "for el in 'Hello':  \n",
    "    print('el = ', el)\n"
   ]
  },
  {
   "cell_type": "code",
   "execution_count": 9,
   "metadata": {},
   "outputs": [
    {
     "name": "stdout",
     "output_type": "stream",
     "text": [
      "t_el =  1\n",
      "t_el =  2\n",
      "t_el =  3\n",
      "t_el =  4\n",
      "t_el =  5\n",
      "t_el =  10\n"
     ]
    }
   ],
   "source": [
    "# и с кортежем\n",
    "for t_el in (1, 2, 3, 4, 5, 10):  \n",
    "    print('t_el = ', t_el)\n"
   ]
  },
  {
   "cell_type": "code",
   "execution_count": 10,
   "metadata": {},
   "outputs": [
    {
     "name": "stdout",
     "output_type": "stream",
     "text": [
      "el =  1\n"
     ]
    }
   ],
   "source": [
    "#  break позволяет выйти из цикла до его завершения\n",
    "for el in [1, 2, 'Hello', 4]:\n",
    "    print('el = ', el)\n",
    "    break"
   ]
  },
  {
   "cell_type": "code",
   "execution_count": 11,
   "metadata": {},
   "outputs": [
    {
     "name": "stdout",
     "output_type": "stream",
     "text": [
      "hheellll  wwrrlldd"
     ]
    }
   ],
   "source": [
    "# continue позволяет пропустить итерацию\n",
    "for i in 'hello world':\n",
    "    if i == 'o':\n",
    "        continue\n",
    "    print(i * 2, end='')"
   ]
  },
  {
   "cell_type": "code",
   "execution_count": 12,
   "metadata": {},
   "outputs": [
    {
     "name": "stdout",
     "output_type": "stream",
     "text": [
      "Буквы a в строке нет\n"
     ]
    }
   ],
   "source": [
    "# else может проверить выход из цикла с помощью break и выполнить инструкцию в этом случае\n",
    "for i in 'hello world':\n",
    "#     print(i)\n",
    "    if i == 'a':\n",
    "        break\n",
    "else:\n",
    "    print('Буквы a в строке нет')"
   ]
  },
  {
   "cell_type": "markdown",
   "metadata": {},
   "source": [
    "### Генератор последовательности range"
   ]
  },
  {
   "cell_type": "code",
   "execution_count": 13,
   "metadata": {},
   "outputs": [
    {
     "data": {
      "text/plain": [
       "range(0, 10)"
      ]
     },
     "execution_count": 13,
     "metadata": {},
     "output_type": "execute_result"
    }
   ],
   "source": [
    "x = range(10)\n",
    "x"
   ]
  },
  {
   "cell_type": "code",
   "execution_count": 14,
   "metadata": {},
   "outputs": [
    {
     "data": {
      "text/plain": [
       "range"
      ]
     },
     "execution_count": 14,
     "metadata": {},
     "output_type": "execute_result"
    }
   ],
   "source": [
    "type(x)"
   ]
  },
  {
   "cell_type": "code",
   "execution_count": 15,
   "metadata": {},
   "outputs": [
    {
     "data": {
      "text/plain": [
       "[10, 12, 14, 16, 18]"
      ]
     },
     "execution_count": 15,
     "metadata": {},
     "output_type": "execute_result"
    }
   ],
   "source": [
    "x = range(10, 20, 2)\n",
    "list(x)"
   ]
  },
  {
   "cell_type": "code",
   "execution_count": 16,
   "metadata": {},
   "outputs": [
    {
     "data": {
      "text/plain": [
       "[20, 18, 16, 14, 12]"
      ]
     },
     "execution_count": 16,
     "metadata": {},
     "output_type": "execute_result"
    }
   ],
   "source": [
    "x = range(20, 10, -2)\n",
    "list(x)"
   ]
  },
  {
   "cell_type": "code",
   "execution_count": 17,
   "metadata": {},
   "outputs": [
    {
     "name": "stdout",
     "output_type": "stream",
     "text": [
      "10\n",
      "8\n",
      "6\n",
      "4\n",
      "2\n"
     ]
    }
   ],
   "source": [
    "# for\n",
    "for i in range(10, 1, -2):\n",
    "    print(i)"
   ]
  },
  {
   "cell_type": "code",
   "execution_count": 18,
   "metadata": {},
   "outputs": [
    {
     "name": "stdout",
     "output_type": "stream",
     "text": [
      "[10, 20, 30, 40, 50]\n"
     ]
    }
   ],
   "source": [
    "alist = []\n",
    "for i in range(10,60,10):   \n",
    "    alist.append(i)\n",
    "print(alist)"
   ]
  },
  {
   "cell_type": "code",
   "execution_count": 19,
   "metadata": {},
   "outputs": [
    {
     "name": "stdout",
     "output_type": "stream",
     "text": [
      "fruit =  apple\n",
      "fruit =  banana\n",
      "fruit =  mango\n"
     ]
    }
   ],
   "source": [
    "# Перебор элементов по индексам\n",
    "fruits = ['apple', 'banana', 'mango']\n",
    "i = 0\n",
    "while len(fruits) > i:\n",
    "    print('fruit = ', fruits[i])\n",
    "    i += 1\n",
    "#     i = i + 1"
   ]
  },
  {
   "cell_type": "code",
   "execution_count": 20,
   "metadata": {},
   "outputs": [
    {
     "name": "stdout",
     "output_type": "stream",
     "text": [
      "9\n",
      "8\n",
      "7\n"
     ]
    }
   ],
   "source": [
    "n = 10\n",
    "while n > 0:\n",
    "    n -= 1\n",
    "    if n == 6:\n",
    "        continue\n",
    "    elif n == 5 :\n",
    "        break\n",
    "    print(n)"
   ]
  },
  {
   "cell_type": "code",
   "execution_count": 21,
   "metadata": {},
   "outputs": [
    {
     "name": "stdout",
     "output_type": "stream",
     "text": [
      "fruit =  apple\n",
      "fruit =  banana\n",
      "fruit =  mango\n"
     ]
    }
   ],
   "source": [
    "# переменной fruit при каждой итерации(полном обороте) цикла присваиваются элементы поочереди\n",
    "for fruit in fruits:  \n",
    "    print('fruit = ', fruit)"
   ]
  },
  {
   "cell_type": "code",
   "execution_count": 22,
   "metadata": {},
   "outputs": [
    {
     "name": "stdout",
     "output_type": "stream",
     "text": [
      "Bavaria\n",
      "Corona\n",
      "Ragegast\n",
      "Lambic\n",
      "Perroni\n"
     ]
    }
   ],
   "source": [
    "# С помощью цикла можно пройти по всем элементам списка\n",
    "beerlist = ['Bavaria', 'Corona', 'Ragegast','Lambic', 'Perroni']\n",
    "for beer in beerlist:\n",
    "    print(beer)"
   ]
  },
  {
   "cell_type": "code",
   "execution_count": 23,
   "metadata": {},
   "outputs": [
    {
     "name": "stdout",
     "output_type": "stream",
     "text": [
      "Bavaria\n",
      "Corona\n",
      "Ragegast\n",
      "Lambic\n",
      "Perroni\n"
     ]
    }
   ],
   "source": [
    "# В цикле можно использовать индекс для вывода элементов списка\n",
    "for i in range(len(beerlist)):\n",
    "    print(beerlist[i])"
   ]
  },
  {
   "cell_type": "code",
   "execution_count": 24,
   "metadata": {},
   "outputs": [
    {
     "name": "stdout",
     "output_type": "stream",
     "text": [
      "0 Bavaria\n",
      "1 Corona\n",
      "2 Ragegast\n",
      "3 Lambic\n",
      "4 Perroni\n"
     ]
    }
   ],
   "source": [
    "# Итерируясь по списку можно выводить и индекс элемента\n",
    "for i, beer in enumerate(beerlist):\n",
    "    print(i, beer)"
   ]
  },
  {
   "cell_type": "code",
   "execution_count": 25,
   "metadata": {},
   "outputs": [
    {
     "data": {
      "text/plain": [
       "[(0, 'Bavaria'), (1, 'Corona'), (2, 'Ragegast'), (3, 'Lambic'), (4, 'Perroni')]"
      ]
     },
     "execution_count": 25,
     "metadata": {},
     "output_type": "execute_result"
    }
   ],
   "source": [
    "# enumerate выводить список кортежей из элементов списка\n",
    "list(enumerate(beerlist))"
   ]
  },
  {
   "cell_type": "code",
   "execution_count": 26,
   "metadata": {},
   "outputs": [],
   "source": [
    "# Сделаем словарь для примера\n",
    "newdict = dict(zip(beerlist,list(range(50,100,10))))\n"
   ]
  },
  {
   "cell_type": "code",
   "execution_count": 27,
   "metadata": {},
   "outputs": [
    {
     "name": "stdout",
     "output_type": "stream",
     "text": [
      "Марка: Bavaria\n",
      "Марка: Corona\n",
      "Марка: Ragegast\n",
      "Марка: Lambic\n",
      "Марка: Perroni\n"
     ]
    }
   ],
   "source": [
    "# По словарю можно проходить циклом по ключам\n",
    "for key in newdict.keys():\n",
    "    print('Марка: {}'.format(key))"
   ]
  },
  {
   "cell_type": "code",
   "execution_count": 28,
   "metadata": {},
   "outputs": [
    {
     "name": "stdout",
     "output_type": "stream",
     "text": [
      "купить 50 бутылок или...\n",
      "купить 60 бутылок или...\n",
      "купить 70 бутылок или...\n",
      "купить 80 бутылок или...\n",
      "купить 90 бутылок или...\n"
     ]
    }
   ],
   "source": [
    "# По словарю можно проходить циклом по значениям\n",
    "for val in newdict.values():\n",
    "    print('купить {} бутылок или...'.format(val))"
   ]
  },
  {
   "cell_type": "code",
   "execution_count": 29,
   "metadata": {},
   "outputs": [
    {
     "data": {
      "text/plain": [
       "['Bavaria', 'Corona', 'Ragegast', 'Lambic', 'Perroni']"
      ]
     },
     "execution_count": 29,
     "metadata": {},
     "output_type": "execute_result"
    }
   ],
   "source": [
    "beerlist"
   ]
  },
  {
   "cell_type": "code",
   "execution_count": 30,
   "metadata": {},
   "outputs": [
    {
     "data": {
      "text/plain": [
       "[50, 60, 70, 80, 90]"
      ]
     },
     "execution_count": 30,
     "metadata": {},
     "output_type": "execute_result"
    }
   ],
   "source": [
    "list(range(50,100,10))"
   ]
  },
  {
   "cell_type": "code",
   "execution_count": 31,
   "metadata": {},
   "outputs": [
    {
     "data": {
      "text/plain": [
       "{'Bavaria': 50, 'Corona': 60, 'Ragegast': 70, 'Lambic': 80, 'Perroni': 90}"
      ]
     },
     "execution_count": 31,
     "metadata": {},
     "output_type": "execute_result"
    }
   ],
   "source": [
    "newdict"
   ]
  },
  {
   "cell_type": "code",
   "execution_count": 32,
   "metadata": {},
   "outputs": [
    {
     "name": "stdout",
     "output_type": "stream",
     "text": [
      "Марка: Bavaria, купить 50 бутылок\n",
      "Марка: Corona, купить 60 бутылок\n",
      "Марка: Ragegast, купить 70 бутылок\n",
      "Марка: Lambic, купить 80 бутылок\n",
      "Марка: Perroni, купить 90 бутылок\n"
     ]
    }
   ],
   "source": [
    "# По словарю можно проходить циклом по ключам и значениям\n",
    "for key, value in newdict.items():\n",
    "    print('Марка: {}, купить {} бутылок'.format(key,value))"
   ]
  },
  {
   "cell_type": "code",
   "execution_count": 33,
   "metadata": {},
   "outputs": [
    {
     "name": "stdout",
     "output_type": "stream",
     "text": [
      "0\n",
      "1\n",
      "2\n"
     ]
    }
   ],
   "source": [
    "# Если мы используем круглые скобки и range, то мы создаем гененератор\n",
    "seq =(x for x in range(10))\n",
    "# Функция next() позволяет переходить к следующему элементу генератора\n",
    "print(next(seq))\n",
    "print(next(seq))\n",
    "print(next(seq))"
   ]
  },
  {
   "cell_type": "markdown",
   "metadata": {},
   "source": [
    "# List comprehension (или  сладенькое)"
   ]
  },
  {
   "cell_type": "code",
   "execution_count": 34,
   "metadata": {},
   "outputs": [],
   "source": [
    "# Допустим у нас есть список \n",
    "nums = [2, 4, 6, 8, 10]"
   ]
  },
  {
   "cell_type": "code",
   "execution_count": 35,
   "metadata": {},
   "outputs": [
    {
     "data": {
      "text/plain": [
       "[2, 4, 6, 8, 10]"
      ]
     },
     "execution_count": 35,
     "metadata": {},
     "output_type": "execute_result"
    }
   ],
   "source": [
    "# Обычный цикл\n",
    "nums_new = []\n",
    "for i in range(1, 6):\n",
    "    nums_new.append(2*i)\n",
    "nums_new"
   ]
  },
  {
   "cell_type": "code",
   "execution_count": 36,
   "metadata": {},
   "outputs": [
    {
     "data": {
      "text/plain": [
       "[2, 4, 6, 8, 10]"
      ]
     },
     "execution_count": 36,
     "metadata": {},
     "output_type": "execute_result"
    }
   ],
   "source": [
    "[(2*i) for i in range(1,6)]"
   ]
  },
  {
   "cell_type": "code",
   "execution_count": 37,
   "metadata": {},
   "outputs": [
    {
     "data": {
      "text/plain": [
       "{2, 4, 6, 8, 10}"
      ]
     },
     "execution_count": 37,
     "metadata": {},
     "output_type": "execute_result"
    }
   ],
   "source": [
    "{(2*i) for i in range(1,6)}"
   ]
  },
  {
   "cell_type": "code",
   "execution_count": 38,
   "metadata": {},
   "outputs": [
    {
     "data": {
      "text/plain": [
       "[1, 2, 3, 4, 5, 6, 7, 8, 9, 10]"
      ]
     },
     "execution_count": 38,
     "metadata": {},
     "output_type": "execute_result"
    }
   ],
   "source": [
    "[num for num in range(1, 11)]"
   ]
  },
  {
   "cell_type": "code",
   "execution_count": 39,
   "metadata": {},
   "outputs": [
    {
     "data": {
      "text/plain": [
       "[2, 4, 6, 8, 10]"
      ]
     },
     "execution_count": 39,
     "metadata": {},
     "output_type": "execute_result"
    }
   ],
   "source": [
    "# Добавим условие\n",
    "[num for num in range(1, 11) if num % 2 == 0]"
   ]
  },
  {
   "cell_type": "code",
   "execution_count": 40,
   "metadata": {},
   "outputs": [
    {
     "data": {
      "text/plain": [
       "['_', 2, '_', 4, '_', 6, '_', 8, '_', 10]"
      ]
     },
     "execution_count": 40,
     "metadata": {},
     "output_type": "execute_result"
    }
   ],
   "source": [
    "# Добавим альтернативное условие\n",
    "[num if num % 2 == 0 else '_' for num in range(1, 11)]"
   ]
  },
  {
   "cell_type": "code",
   "execution_count": 41,
   "metadata": {},
   "outputs": [
    {
     "data": {
      "text/plain": [
       "[(1, 'a'),\n",
       " (1, 'b'),\n",
       " (1, 'c'),\n",
       " (2, 'a'),\n",
       " (2, 'b'),\n",
       " (2, 'c'),\n",
       " (3, 'a'),\n",
       " (3, 'b'),\n",
       " (3, 'c')]"
      ]
     },
     "execution_count": 41,
     "metadata": {},
     "output_type": "execute_result"
    }
   ],
   "source": [
    "# Циклы в цикле\n",
    "numbers = [1, 2, 3]\n",
    "letters = ['a','b','c']\n",
    "[(i, j) for i in numbers for j in letters]"
   ]
  },
  {
   "cell_type": "code",
   "execution_count": 42,
   "metadata": {},
   "outputs": [],
   "source": [
    "# Когда циклов много\n",
    "# [(i, j, k) for i in numbers for j in letters for k in range(3)]"
   ]
  },
  {
   "cell_type": "code",
   "execution_count": 43,
   "metadata": {},
   "outputs": [
    {
     "data": {
      "text/plain": [
       "[[(1, 'a'), (2, 'a'), (3, 'a')],\n",
       " [(1, 'b'), (2, 'b'), (3, 'b')],\n",
       " [(1, 'c'), (2, 'c'), (3, 'c')]]"
      ]
     },
     "execution_count": 43,
     "metadata": {},
     "output_type": "execute_result"
    }
   ],
   "source": [
    "# Если на выходе нужен  список в списке\n",
    "[[(i, j) for i in numbers] for j in letters]"
   ]
  },
  {
   "cell_type": "code",
   "execution_count": 44,
   "metadata": {},
   "outputs": [
    {
     "data": {
      "text/plain": [
       "{'a': 97,\n",
       " 'b': 98,\n",
       " 'c': 99,\n",
       " 'd': 100,\n",
       " 'e': 101,\n",
       " 'f': 102,\n",
       " 'g': 103,\n",
       " 'h': 104,\n",
       " 'i': 105,\n",
       " 'j': 106,\n",
       " 'k': 107,\n",
       " 'l': 108,\n",
       " 'm': 109,\n",
       " 'n': 110,\n",
       " 'o': 111,\n",
       " 'p': 112,\n",
       " 'q': 113,\n",
       " 'r': 114,\n",
       " 's': 115,\n",
       " 't': 116,\n",
       " 'u': 117,\n",
       " 'v': 118,\n",
       " 'w': 119,\n",
       " 'x': 120,\n",
       " 'y': 121,\n",
       " 'z': 122}"
      ]
     },
     "execution_count": 44,
     "metadata": {},
     "output_type": "execute_result"
    }
   ],
   "source": [
    "# Генератор словарей\n",
    "{chr(num): num for num in range(97,123)}"
   ]
  },
  {
   "cell_type": "markdown",
   "metadata": {},
   "source": [
    "### tqdm"
   ]
  },
  {
   "cell_type": "code",
   "execution_count": 45,
   "metadata": {},
   "outputs": [
    {
     "data": {
      "application/vnd.jupyter.widget-view+json": {
       "model_id": "4a31fb3d16bd43239893291750a84fee",
       "version_major": 2,
       "version_minor": 0
      },
      "text/plain": [
       "HBox(children=(IntProgress(value=0, max=1000), HTML(value='')))"
      ]
     },
     "metadata": {},
     "output_type": "display_data"
    },
    {
     "name": "stdout",
     "output_type": "stream",
     "text": [
      "\n"
     ]
    }
   ],
   "source": [
    "# Прогресс бар \n",
    "from tqdm import tqdm_notebook\n",
    "x = [x**y for x in tqdm_notebook(range(1000)) for y in range(1000)]"
   ]
  },
  {
   "cell_type": "markdown",
   "metadata": {},
   "source": [
    "# Практика "
   ]
  },
  {
   "cell_type": "code",
   "execution_count": 46,
   "metadata": {},
   "outputs": [
    {
     "data": {
      "text/plain": [
       "[1, 4, 9, 16, 25, 36, 49, 64, 81, 100]"
      ]
     },
     "execution_count": 46,
     "metadata": {},
     "output_type": "execute_result"
    }
   ],
   "source": [
    "# Создайте список  squares из значений последовательности возведеных в квадрат чисел\n",
    "# Например: от 1 до 10\n",
    "squares = [x**2 for x in range(1,11)]\n",
    "squares"
   ]
  },
  {
   "cell_type": "code",
   "execution_count": 47,
   "metadata": {},
   "outputs": [
    {
     "data": {
      "text/plain": [
       "[[0, 0, 0, 0, 0],\n",
       " [0, 0, 0, 0, 0],\n",
       " [0, 0, 0, 0, 0],\n",
       " [0, 0, 0, 0, 0],\n",
       " [0, 0, 0, 0, 0]]"
      ]
     },
     "execution_count": 47,
     "metadata": {},
     "output_type": "execute_result"
    }
   ],
   "source": [
    "# Создайте матрицу 5 на 5 используя список в списке\n",
    "# С помощью лист комперхеншена\n",
    "[[0 for y in range(5)] for x in range(5)]"
   ]
  },
  {
   "cell_type": "code",
   "execution_count": 48,
   "metadata": {},
   "outputs": [
    {
     "name": "stdout",
     "output_type": "stream",
     "text": [
      "0\n",
      "1\n",
      "2\n",
      "3\n",
      "4\n",
      "5\n",
      "6\n",
      "7\n",
      "8\n",
      "9\n",
      "10\n",
      "11\n",
      "12\n",
      "13\n",
      "14\n",
      "15\n",
      "16\n",
      "17\n",
      "18\n",
      "19\n",
      "20\n",
      "21\n",
      "22\n",
      "23\n",
      "24\n",
      "25\n",
      "26\n",
      "27\n",
      "28\n",
      "29\n"
     ]
    }
   ],
   "source": [
    "# Создайте генератор из последовательности элементов от 0 до 30 в \n",
    "# Сохраните ее в переменную result\n",
    "#----- Ваш код здесь ----\n",
    "result = (x for x in range(30))\n",
    "# Выведите первые 5 элементов result с помощью функции next()\n",
    "print(next(result))\n",
    "print(next(result))\n",
    "print(next(result))\n",
    "print(next(result))\n",
    "print(next(result))\n",
    "\n",
    "# Выведете оставшиеся элементы с помощью цикла\n",
    "for el in result:\n",
    "    print(el)"
   ]
  },
  {
   "cell_type": "code",
   "execution_count": 49,
   "metadata": {},
   "outputs": [
    {
     "data": {
      "text/plain": [
       "['samwise', 'aragorn', 'legolas', 'boromir']"
      ]
     },
     "execution_count": 49,
     "metadata": {},
     "output_type": "execute_result"
    }
   ],
   "source": [
    "# Дан список fellowship \n",
    "fellowship = ['frodo', 'samwise', 'merry', 'aragorn', 'legolas', 'boromir', 'gimli']\n",
    "\n",
    "# Создайте новый список new_fellowship из fellowship если длина элемента больше или равна 7\n",
    "new_fellowship = [x for x in fellowship if len(x) >= 7 ]\n",
    "\n",
    "# Выведите new_fellowship\n",
    "new_fellowship\n"
   ]
  },
  {
   "cell_type": "code",
   "execution_count": 50,
   "metadata": {},
   "outputs": [
    {
     "name": "stdout",
     "output_type": "stream",
     "text": [
      "6\n",
      "5\n",
      "5\n",
      "6\n",
      "7\n"
     ]
    }
   ],
   "source": [
    "# Данн список строк\n",
    "lannister = ['cersei', 'jaime', 'tywin', 'tyrion', 'joffrey']\n",
    "\n",
    "# Создайте объект lengths - генератор из длин елементов списка \n",
    "lengths = (len(x) for x in lannister)\n",
    "\n",
    "# Выведите значения lengths с помощью цикла\n",
    "for el in lengths:\n",
    "    print(el)"
   ]
  },
  {
   "cell_type": "markdown",
   "metadata": {},
   "source": [
    "### Функции"
   ]
  },
  {
   "cell_type": "code",
   "execution_count": 51,
   "metadata": {},
   "outputs": [],
   "source": [
    "# Пример функции без аргументов\n",
    "def hello_maker():\n",
    "    \n",
    "    \"\"\"\n",
    "    Функция выдает приветствие\n",
    "    \"\"\"\n",
    "    print('hello')"
   ]
  },
  {
   "cell_type": "code",
   "execution_count": 52,
   "metadata": {},
   "outputs": [
    {
     "data": {
      "text/plain": [
       "25"
      ]
     },
     "execution_count": 52,
     "metadata": {},
     "output_type": "execute_result"
    }
   ],
   "source": [
    "# Пример функции с аргументом\n",
    "def plus10(x):\n",
    "    a = x + 10\n",
    "    return a\n",
    "\n",
    "result = plus10(15)\n",
    "result"
   ]
  },
  {
   "cell_type": "code",
   "execution_count": 53,
   "metadata": {},
   "outputs": [
    {
     "data": {
      "text/plain": [
       "15"
      ]
     },
     "execution_count": 53,
     "metadata": {},
     "output_type": "execute_result"
    }
   ],
   "source": [
    "# Пример функции с аргмунтом, заданным по умолчанию\n",
    "def plus10(x=5):\n",
    "    a = x + 10\n",
    "    return a\n",
    "\n",
    "result = plus10()\n",
    "result"
   ]
  },
  {
   "cell_type": "code",
   "execution_count": 54,
   "metadata": {},
   "outputs": [
    {
     "name": "stdout",
     "output_type": "stream",
     "text": [
      "hello\n",
      "hello\n",
      "hello\n"
     ]
    }
   ],
   "source": [
    "# Пример функции в цикле\n",
    "# Переменная в виде _ задана символично. \n",
    "# Она используется только для итерирования по последовательности\n",
    "for _ in range(3):\n",
    "    hello_maker()"
   ]
  },
  {
   "cell_type": "code",
   "execution_count": 55,
   "metadata": {},
   "outputs": [],
   "source": [
    "zoo_animals = ['monkey', 'lion', 'elephant', 'bear']\n",
    "\n",
    "# Пример функции с двумя аргументами\n",
    "def zoo_checker(zoo, animal):\n",
    "    if animal in zoo:\n",
    "        print('{} live in the zoo'.format(animal))\n",
    "    else:\n",
    "        print('{} live in the jungle'.format(animal))"
   ]
  },
  {
   "cell_type": "code",
   "execution_count": 56,
   "metadata": {},
   "outputs": [
    {
     "name": "stdout",
     "output_type": "stream",
     "text": [
      "monkey live in the zoo\n",
      "python live in the jungle\n"
     ]
    }
   ],
   "source": [
    "zoo_checker(zoo=['monkey', 'lion', 'elephant', 'bear'], animal='monkey')\n",
    "zoo_checker(zoo_animals, 'python')"
   ]
  },
  {
   "cell_type": "code",
   "execution_count": 57,
   "metadata": {},
   "outputs": [
    {
     "name": "stdout",
     "output_type": "stream",
     "text": [
      "Hi Peter\n",
      "Hi John\n",
      "Hi Jack\n",
      "Hi Everybody\n"
     ]
    }
   ],
   "source": [
    "# Когда мы не знаем все аргументы, которые передаются в функцию\n",
    "# Мы указываем *args в качестве аргумента\n",
    "# В этом случае функция получает на вход список\n",
    "def hello_maker2(*args):\n",
    "    for name in args:\n",
    "        print('Hi {}'.format(name))\n",
    "\n",
    "hello_maker2('Peter', 'John', 'Jack', 'Everybody')"
   ]
  },
  {
   "cell_type": "code",
   "execution_count": 58,
   "metadata": {},
   "outputs": [
    {
     "name": "stdout",
     "output_type": "stream",
     "text": [
      "name : Peter\n",
      "car : Tesla\n",
      "food : vegan\n",
      "country : EU\n"
     ]
    }
   ],
   "source": [
    "# Когда мы не знаем все именованные аргументы, которые передаются в функцию\n",
    "# Нужно использовать **kwargs в качестве аргумента\n",
    "# В этом случае функция получает на вход словарь\n",
    "\n",
    "def man_info(**kwargs):\n",
    "    for k,v in kwargs.items():\n",
    "        print('{} : {}'.format(k,v))\n",
    "        \n",
    "man_info(name='Peter', car='Tesla', food='vegan', country='EU')"
   ]
  },
  {
   "cell_type": "code",
   "execution_count": 59,
   "metadata": {},
   "outputs": [],
   "source": [
    "# В функциях важно прописывать комментарии в docstring\n",
    "# Это может в будущем разобраться коде\n",
    "def hello_maker2(*args):\n",
    "    \n",
    "    \"\"\"\n",
    "    Приветсвует всех по передаваемым в качестве аргументов именам\n",
    "    \"\"\"\n",
    "    for name in args:\n",
    "        print('Hi {}'.format(name))"
   ]
  },
  {
   "cell_type": "code",
   "execution_count": 60,
   "metadata": {},
   "outputs": [
    {
     "name": "stdout",
     "output_type": "stream",
     "text": [
      "Hi Dude\n"
     ]
    }
   ],
   "source": [
    "hello_maker2('Dude')"
   ]
  },
  {
   "cell_type": "code",
   "execution_count": 61,
   "metadata": {},
   "outputs": [],
   "source": [
    "# Напишите 2 функции, которые будут переводить сообщение посимвольно в цифры и обратно \n",
    "# Используйтпе ord и chr\n",
    "# Должно получиться что-то подобное:\n",
    "# Сообщение: Houston, we have a problem -> [72,111,117,115,..., 32,98,108,101,109]\n",
    "# [72,111,117,115,..., 32,98,108,101,109] -> Houston, we have a problem\n",
    "def symbols2nums(s):\n",
    "    nums = [ord(x) for x in s]\n",
    "    return nums\n",
    "\n",
    "def nums2symbols(nlist):\n",
    "    sym = ''.join([chr(x) for x in nlist])\n",
    "    return sym"
   ]
  },
  {
   "cell_type": "code",
   "execution_count": 62,
   "metadata": {},
   "outputs": [
    {
     "data": {
      "text/plain": [
       "'Housto'"
      ]
     },
     "execution_count": 62,
     "metadata": {},
     "output_type": "execute_result"
    }
   ],
   "source": [
    "nums2symbols([72,111,117,115,116,111])"
   ]
  },
  {
   "cell_type": "markdown",
   "metadata": {},
   "source": [
    "### Анонимные функции "
   ]
  },
  {
   "cell_type": "code",
   "execution_count": 63,
   "metadata": {},
   "outputs": [
    {
     "data": {
      "text/plain": [
       "6"
      ]
     },
     "execution_count": 63,
     "metadata": {},
     "output_type": "execute_result"
    }
   ],
   "source": [
    "lamfunc = lambda x:x*2\n",
    "lamfunc(3)"
   ]
  },
  {
   "cell_type": "code",
   "execution_count": 64,
   "metadata": {},
   "outputs": [
    {
     "data": {
      "text/plain": [
       "10"
      ]
     },
     "execution_count": 64,
     "metadata": {},
     "output_type": "execute_result"
    }
   ],
   "source": [
    "lamfunc_y = lambda x, y: x*2 + y\n",
    "lamfunc_y(3,4)"
   ]
  },
  {
   "cell_type": "code",
   "execution_count": 65,
   "metadata": {},
   "outputs": [
    {
     "data": {
      "text/plain": [
       "[('Гинес', 100), ('Шпатен', 90), ('Хугарден', 70), ('Жигулевское', 10)]"
      ]
     },
     "execution_count": 65,
     "metadata": {},
     "output_type": "execute_result"
    }
   ],
   "source": [
    "# Пример использования лямбда функции для сортировки словаря\n",
    "beers = {'Жигулевское':10, 'Гинес':100, 'Хугарден':70, 'Шпатен':90}\n",
    "sorted(beers.items(), key=lambda x:x[1], reverse=True)"
   ]
  },
  {
   "cell_type": "markdown",
   "metadata": {},
   "source": [
    "### Map"
   ]
  },
  {
   "cell_type": "code",
   "execution_count": 66,
   "metadata": {},
   "outputs": [
    {
     "data": {
      "text/plain": [
       "[1, 4, 9, 16]"
      ]
     },
     "execution_count": 66,
     "metadata": {},
     "output_type": "execute_result"
    }
   ],
   "source": [
    "# map может применить функцию ко всем элеметам списка\n",
    "# Результаы можно выевести в виде списка\n",
    "list(map(lambda x:x**2, [1,2,3,4]))"
   ]
  },
  {
   "cell_type": "code",
   "execution_count": 67,
   "metadata": {},
   "outputs": [
    {
     "data": {
      "text/plain": [
       "(1, 4, 9, 16)"
      ]
     },
     "execution_count": 67,
     "metadata": {},
     "output_type": "execute_result"
    }
   ],
   "source": [
    "# Кортежа\n",
    "tuple(map(lambda x:x**2, [1,2,3,4]))"
   ]
  },
  {
   "cell_type": "code",
   "execution_count": 68,
   "metadata": {},
   "outputs": [
    {
     "data": {
      "text/plain": [
       "{1, 4, 9, 16}"
      ]
     },
     "execution_count": 68,
     "metadata": {},
     "output_type": "execute_result"
    }
   ],
   "source": [
    "# Множества\n",
    "set(map(lambda x:x**2, [1,2,3,4]))"
   ]
  },
  {
   "cell_type": "code",
   "execution_count": 69,
   "metadata": {},
   "outputs": [
    {
     "name": "stdout",
     "output_type": "stream",
     "text": [
      "[0, 0]\n",
      "[1, 2]\n",
      "[4, 4]\n",
      "[9, 6]\n",
      "[16, 8]\n"
     ]
    }
   ],
   "source": [
    "# В map можно передовать список из функций\n",
    "def multiply(x):\n",
    "    return (x*x)\n",
    "\n",
    "def add(x):\n",
    "    return (x+x)\n",
    "\n",
    "funcs = [multiply, add]\n",
    "for i in range(5):\n",
    "    value = list(map(lambda x: x(i), funcs))\n",
    "    print(value)"
   ]
  },
  {
   "cell_type": "markdown",
   "metadata": {},
   "source": [
    "### Filter"
   ]
  },
  {
   "cell_type": "code",
   "execution_count": 70,
   "metadata": {},
   "outputs": [
    {
     "name": "stdout",
     "output_type": "stream",
     "text": [
      "[-5, -4, -3, -2, -1]\n"
     ]
    }
   ],
   "source": [
    "# С помощью filter можно проверять элементы списка на выполнение условий\n",
    "# условие выполняется - True\n",
    "number_list = list(range(-5, 5))\n",
    "less_than_zero = list(filter(lambda x: x < 0, number_list))\n",
    "print(less_than_zero)"
   ]
  },
  {
   "cell_type": "markdown",
   "metadata": {},
   "source": [
    "### Reduce"
   ]
  },
  {
   "cell_type": "code",
   "execution_count": 71,
   "metadata": {},
   "outputs": [
    {
     "data": {
      "text/plain": [
       "24"
      ]
     },
     "execution_count": 71,
     "metadata": {},
     "output_type": "execute_result"
    }
   ],
   "source": [
    "# Может быть полезен когда нужно получить результат вычислений с элементами списка\n",
    "product = 1\n",
    "somelist = [1, 2, 3, 4]\n",
    "for num in somelist:\n",
    "    product = product * num\n",
    "\n",
    "product"
   ]
  },
  {
   "cell_type": "code",
   "execution_count": 72,
   "metadata": {},
   "outputs": [
    {
     "data": {
      "text/plain": [
       "24"
      ]
     },
     "execution_count": 72,
     "metadata": {},
     "output_type": "execute_result"
    }
   ],
   "source": [
    "from functools import reduce\n",
    "product = reduce((lambda x, y: x * y), [1, 2, 3, 4])\n",
    "product"
   ]
  },
  {
   "cell_type": "markdown",
   "metadata": {},
   "source": [
    "# zip "
   ]
  },
  {
   "cell_type": "code",
   "execution_count": null,
   "metadata": {},
   "outputs": [],
   "source": []
  },
  {
   "cell_type": "code",
   "execution_count": 73,
   "metadata": {},
   "outputs": [
    {
     "ename": "TypeError",
     "evalue": "'list' object is not callable",
     "output_type": "error",
     "traceback": [
      "\u001b[0;31m---------------------------------------------------------------------------\u001b[0m",
      "\u001b[0;31mTypeError\u001b[0m                                 Traceback (most recent call last)",
      "\u001b[0;32m<ipython-input-73-6f5b8a76f06a>\u001b[0m in \u001b[0;36m<module>\u001b[0;34m\u001b[0m\n\u001b[1;32m      1\u001b[0m \u001b[0;31m# Функция zip собирает сочетания элементов списков по их индексам\u001b[0m\u001b[0;34m\u001b[0m\u001b[0;34m\u001b[0m\u001b[0;34m\u001b[0m\u001b[0m\n\u001b[1;32m      2\u001b[0m \u001b[0;31m# Первый с первым, второй со вторым и так далее\u001b[0m\u001b[0;34m\u001b[0m\u001b[0;34m\u001b[0m\u001b[0;34m\u001b[0m\u001b[0m\n\u001b[0;32m----> 3\u001b[0;31m \u001b[0ma\u001b[0m \u001b[0;34m=\u001b[0m \u001b[0mlist\u001b[0m\u001b[0;34m(\u001b[0m\u001b[0mrange\u001b[0m\u001b[0;34m(\u001b[0m\u001b[0;36m10\u001b[0m\u001b[0;34m)\u001b[0m\u001b[0;34m)\u001b[0m\u001b[0;34m\u001b[0m\u001b[0;34m\u001b[0m\u001b[0m\n\u001b[0m\u001b[1;32m      4\u001b[0m \u001b[0mb\u001b[0m \u001b[0;34m=\u001b[0m \u001b[0mlist\u001b[0m\u001b[0;34m(\u001b[0m\u001b[0mrange\u001b[0m\u001b[0;34m(\u001b[0m\u001b[0;36m10\u001b[0m\u001b[0;34m,\u001b[0m\u001b[0;36m20\u001b[0m\u001b[0;34m)\u001b[0m\u001b[0;34m)\u001b[0m\u001b[0;34m\u001b[0m\u001b[0;34m\u001b[0m\u001b[0m\n\u001b[1;32m      5\u001b[0m \u001b[0mc\u001b[0m \u001b[0;34m=\u001b[0m \u001b[0mlist\u001b[0m\u001b[0;34m(\u001b[0m\u001b[0mrange\u001b[0m\u001b[0;34m(\u001b[0m\u001b[0;36m20\u001b[0m\u001b[0;34m,\u001b[0m\u001b[0;36m30\u001b[0m\u001b[0;34m)\u001b[0m\u001b[0;34m)\u001b[0m\u001b[0;34m\u001b[0m\u001b[0;34m\u001b[0m\u001b[0m\n",
      "\u001b[0;31mTypeError\u001b[0m: 'list' object is not callable"
     ]
    }
   ],
   "source": [
    "# Функция zip собирает сочетания элементов списков по их индексам\n",
    "# Первый с первым, второй со вторым и так далее\n",
    "a = list(range(10))\n",
    "b = list(range(10,20))\n",
    "c = list(range(20,30))\n",
    "tuple(zip(a,b,c))"
   ]
  },
  {
   "cell_type": "code",
   "execution_count": 74,
   "metadata": {},
   "outputs": [
    {
     "ename": "NameError",
     "evalue": "name 'b' is not defined",
     "output_type": "error",
     "traceback": [
      "\u001b[0;31m---------------------------------------------------------------------------\u001b[0m",
      "\u001b[0;31mNameError\u001b[0m                                 Traceback (most recent call last)",
      "\u001b[0;32m<ipython-input-74-4653338f4775>\u001b[0m in \u001b[0;36m<module>\u001b[0;34m\u001b[0m\n\u001b[0;32m----> 1\u001b[0;31m \u001b[0mlist\u001b[0m\u001b[0;34m(\u001b[0m\u001b[0mzip\u001b[0m\u001b[0;34m(\u001b[0m\u001b[0ma\u001b[0m\u001b[0;34m,\u001b[0m\u001b[0mb\u001b[0m\u001b[0;34m,\u001b[0m\u001b[0mc\u001b[0m\u001b[0;34m)\u001b[0m\u001b[0;34m)\u001b[0m\u001b[0;34m\u001b[0m\u001b[0;34m\u001b[0m\u001b[0m\n\u001b[0m",
      "\u001b[0;31mNameError\u001b[0m: name 'b' is not defined"
     ]
    }
   ],
   "source": [
    "list(zip(a,b,c))"
   ]
  },
  {
   "cell_type": "code",
   "execution_count": 9,
   "metadata": {},
   "outputs": [
    {
     "data": {
      "text/plain": [
       "{'Bavaria': 10, 'Corona': 20, 'Ragegast': 30, 'Lambic': 40, 'Perroni': 50}"
      ]
     },
     "execution_count": 9,
     "metadata": {},
     "output_type": "execute_result"
    }
   ],
   "source": [
    "# для создания словарей из 2х списков удобно пользоваться функцией zip\n",
    "beerlist = ['Bavaria', 'Corona', 'Ragegast','Lambic', 'Perroni']\n",
    "alist = [x for x in range(10,60,10)]\n",
    "newdict = dict(zip(beerlist, alist))\n",
    "newdict"
   ]
  },
  {
   "cell_type": "markdown",
   "metadata": {},
   "source": [
    "# Про Pandas"
   ]
  },
  {
   "cell_type": "markdown",
   "metadata": {},
   "source": [
    "<img src=\"img\\pandas_pic.jpg\" width =700 aling='left'>"
   ]
  },
  {
   "cell_type": "code",
   "execution_count": 2,
   "metadata": {},
   "outputs": [],
   "source": [
    "# Подгружем пандас\n",
    "import pandas as pd\n",
    "import numpy as np\n",
    "# Загружаем датасет с помощью метода read_csv\n",
    "pizza = pd.read_csv('Datafiniti_Pizza_Restaurants_and_the_Pizza_They_Sell_May19.csv')"
   ]
  },
  {
   "cell_type": "code",
   "execution_count": 3,
   "metadata": {},
   "outputs": [
    {
     "data": {
      "text/html": [
       "<div>\n",
       "<style scoped>\n",
       "    .dataframe tbody tr th:only-of-type {\n",
       "        vertical-align: middle;\n",
       "    }\n",
       "\n",
       "    .dataframe tbody tr th {\n",
       "        vertical-align: top;\n",
       "    }\n",
       "\n",
       "    .dataframe thead th {\n",
       "        text-align: right;\n",
       "    }\n",
       "</style>\n",
       "<table border=\"1\" class=\"dataframe\">\n",
       "  <thead>\n",
       "    <tr style=\"text-align: right;\">\n",
       "      <th></th>\n",
       "      <th>id</th>\n",
       "      <th>dateAdded</th>\n",
       "      <th>dateUpdated</th>\n",
       "      <th>address</th>\n",
       "      <th>categories</th>\n",
       "      <th>primaryCategories</th>\n",
       "      <th>city</th>\n",
       "      <th>country</th>\n",
       "      <th>keys</th>\n",
       "      <th>latitude</th>\n",
       "      <th>...</th>\n",
       "      <th>menus.currency</th>\n",
       "      <th>menus.dateSeen</th>\n",
       "      <th>menus.description</th>\n",
       "      <th>menus.name</th>\n",
       "      <th>name</th>\n",
       "      <th>postalCode</th>\n",
       "      <th>priceRangeCurrency</th>\n",
       "      <th>priceRangeMin</th>\n",
       "      <th>priceRangeMax</th>\n",
       "      <th>province</th>\n",
       "    </tr>\n",
       "  </thead>\n",
       "  <tbody>\n",
       "    <tr>\n",
       "      <th>0</th>\n",
       "      <td>AVz3Y-7h3D1zeR_xDAqm</td>\n",
       "      <td>2017-06-30T05:05:40Z</td>\n",
       "      <td>2019-05-01T15:43:09Z</td>\n",
       "      <td>4203 E Kiehl Ave</td>\n",
       "      <td>Pizza,Restaurant,American restaurants,Pizza Pl...</td>\n",
       "      <td>Accommodation &amp; Food Services</td>\n",
       "      <td>Sherwood</td>\n",
       "      <td>US</td>\n",
       "      <td>us/ar/sherwood/4203ekiehlave/-1051391616</td>\n",
       "      <td>34.832300</td>\n",
       "      <td>...</td>\n",
       "      <td>USD</td>\n",
       "      <td>2018-05-01T04:25:37.197Z,2018-04-16T04:36:02.3...</td>\n",
       "      <td>NaN</td>\n",
       "      <td>Cheese Pizza</td>\n",
       "      <td>Shotgun Dans Pizza</td>\n",
       "      <td>72120</td>\n",
       "      <td>USD</td>\n",
       "      <td>0</td>\n",
       "      <td>25</td>\n",
       "      <td>AR</td>\n",
       "    </tr>\n",
       "    <tr>\n",
       "      <th>1</th>\n",
       "      <td>AVweGPFF_7pvs4fzAAzQ</td>\n",
       "      <td>2016-04-02T04:02:49Z</td>\n",
       "      <td>2019-05-01T15:27:50Z</td>\n",
       "      <td>25 E Camelback Rd</td>\n",
       "      <td>Pizza,Pizza Place,Restaurants</td>\n",
       "      <td>Accommodation &amp; Food Services</td>\n",
       "      <td>Phoenix</td>\n",
       "      <td>US</td>\n",
       "      <td>us/az/phoenix/25ecamelbackrd/-727422936</td>\n",
       "      <td>33.509266</td>\n",
       "      <td>...</td>\n",
       "      <td>USD</td>\n",
       "      <td>2018-03-03T02:38:06.381Z,2018-01-18T20:18:10.0...</td>\n",
       "      <td>NaN</td>\n",
       "      <td>Pizza Cookie</td>\n",
       "      <td>Sauce Pizza Wine</td>\n",
       "      <td>85012</td>\n",
       "      <td>USD</td>\n",
       "      <td>0</td>\n",
       "      <td>25</td>\n",
       "      <td>AZ</td>\n",
       "    </tr>\n",
       "  </tbody>\n",
       "</table>\n",
       "<p>2 rows × 24 columns</p>\n",
       "</div>"
      ],
      "text/plain": [
       "                     id             dateAdded           dateUpdated  \\\n",
       "0  AVz3Y-7h3D1zeR_xDAqm  2017-06-30T05:05:40Z  2019-05-01T15:43:09Z   \n",
       "1  AVweGPFF_7pvs4fzAAzQ  2016-04-02T04:02:49Z  2019-05-01T15:27:50Z   \n",
       "\n",
       "             address                                         categories  \\\n",
       "0   4203 E Kiehl Ave  Pizza,Restaurant,American restaurants,Pizza Pl...   \n",
       "1  25 E Camelback Rd                      Pizza,Pizza Place,Restaurants   \n",
       "\n",
       "               primaryCategories      city country  \\\n",
       "0  Accommodation & Food Services  Sherwood      US   \n",
       "1  Accommodation & Food Services   Phoenix      US   \n",
       "\n",
       "                                       keys   latitude  ...  menus.currency  \\\n",
       "0  us/ar/sherwood/4203ekiehlave/-1051391616  34.832300  ...             USD   \n",
       "1   us/az/phoenix/25ecamelbackrd/-727422936  33.509266  ...             USD   \n",
       "\n",
       "                                      menus.dateSeen  menus.description  \\\n",
       "0  2018-05-01T04:25:37.197Z,2018-04-16T04:36:02.3...                NaN   \n",
       "1  2018-03-03T02:38:06.381Z,2018-01-18T20:18:10.0...                NaN   \n",
       "\n",
       "     menus.name                name postalCode priceRangeCurrency  \\\n",
       "0  Cheese Pizza  Shotgun Dans Pizza      72120                USD   \n",
       "1  Pizza Cookie    Sauce Pizza Wine      85012                USD   \n",
       "\n",
       "  priceRangeMin priceRangeMax province  \n",
       "0             0            25       AR  \n",
       "1             0            25       AZ  \n",
       "\n",
       "[2 rows x 24 columns]"
      ]
     },
     "execution_count": 3,
     "metadata": {},
     "output_type": "execute_result"
    }
   ],
   "source": [
    "# Теперь в переменной pizza находится объект DataFrame\n",
    "# Первые строчки таблицы\n",
    "pizza.head(2)"
   ]
  },
  {
   "cell_type": "code",
   "execution_count": 4,
   "metadata": {},
   "outputs": [
    {
     "name": "stdout",
     "output_type": "stream",
     "text": [
      "<class 'pandas.core.frame.DataFrame'>\n",
      "RangeIndex: 10000 entries, 0 to 9999\n",
      "Data columns (total 24 columns):\n",
      "id                    10000 non-null object\n",
      "dateAdded             10000 non-null object\n",
      "dateUpdated           10000 non-null object\n",
      "address               10000 non-null object\n",
      "categories            10000 non-null object\n",
      "primaryCategories     10000 non-null object\n",
      "city                  10000 non-null object\n",
      "country               10000 non-null object\n",
      "keys                  10000 non-null object\n",
      "latitude              10000 non-null float64\n",
      "longitude             10000 non-null float64\n",
      "menuPageURL           1679 non-null object\n",
      "menus.amountMax       10000 non-null float64\n",
      "menus.amountMin       10000 non-null float64\n",
      "menus.currency        10000 non-null object\n",
      "menus.dateSeen        10000 non-null object\n",
      "menus.description     3718 non-null object\n",
      "menus.name            10000 non-null object\n",
      "name                  10000 non-null object\n",
      "postalCode            9996 non-null object\n",
      "priceRangeCurrency    10000 non-null object\n",
      "priceRangeMin         10000 non-null int64\n",
      "priceRangeMax         10000 non-null int64\n",
      "province              10000 non-null object\n",
      "dtypes: float64(4), int64(2), object(18)\n",
      "memory usage: 1.8+ MB\n"
     ]
    },
    {
     "data": {
      "text/plain": [
       "(10000, 24)"
      ]
     },
     "execution_count": 4,
     "metadata": {},
     "output_type": "execute_result"
    }
   ],
   "source": [
    "# Информация о таблице\n",
    "pizza.info()\n",
    "# Размеры таблицы\n",
    "pizza.shape"
   ]
  },
  {
   "cell_type": "code",
   "execution_count": 5,
   "metadata": {},
   "outputs": [],
   "source": [
    "# Если нужно удалить колонки используем метод \n",
    "pizza = pizza.drop(['menus.dateSeen'], axis=1)\n",
    "\n",
    "# Другой вариант с inplace=True\n",
    "# pizza.drop(['menus.dateSeen'], axis=1, inplace=True)"
   ]
  },
  {
   "cell_type": "code",
   "execution_count": 6,
   "metadata": {},
   "outputs": [
    {
     "data": {
      "text/plain": [
       "Index(['id', 'dateAdded', 'dateUpdated', 'address', 'categories',\n",
       "       'primaryCategories', 'city', 'country', 'keys', 'latitude', 'longitude',\n",
       "       'menuPageURL', 'menus.amountMax', 'menus.amountMin', 'menus.currency',\n",
       "       'menus.description', 'menus.name', 'name', 'postalCode',\n",
       "       'priceRangeCurrency', 'priceRangeMin', 'priceRangeMax', 'province'],\n",
       "      dtype='object')"
      ]
     },
     "execution_count": 6,
     "metadata": {},
     "output_type": "execute_result"
    }
   ],
   "source": [
    "# Выводим названия колонок с помощью атрибута columns\n",
    "pizza.columns"
   ]
  },
  {
   "cell_type": "code",
   "execution_count": 7,
   "metadata": {},
   "outputs": [
    {
     "data": {
      "text/plain": [
       "array(['Shotgun Dans Pizza', 'Sauce Pizza Wine', 'Mios Pizzeria', ...,\n",
       "       'Bella Italia', 'Wood and Fire', \"Carbone's Pizzeria\"],\n",
       "      dtype=object)"
      ]
     },
     "execution_count": 7,
     "metadata": {},
     "output_type": "execute_result"
    }
   ],
   "source": [
    "# Количество уникальных значений в колонке можно получить методом nunique()\n",
    "pizza.name.nunique()\n",
    "# Получить только уникальные значения в колонке можно с помощью метода unique()\n",
    "# Функция выдает массив тид данных array его можно перевести в список .tolist()\n",
    "pizza.name.unique()"
   ]
  },
  {
   "cell_type": "code",
   "execution_count": 8,
   "metadata": {},
   "outputs": [],
   "source": [
    "# Группируем с помощью groupby\n",
    "# количество уникальных названий по регионам \n",
    "# группируем по регионам 'province' - в круглых скобках\n",
    "# агрегируемую колонку указываем в квадратных скобках\n",
    "\n",
    "pizzaz_by_province = pizza.groupby('province')['name'].nunique()\n",
    "\n",
    "# когда колонка одна groupby выдает объект Series\n",
    "# чтобы его перевести в DataFrame используется .reset_index()\n",
    "\n",
    "pizzaz_by_province = pizzaz_by_province.reset_index()"
   ]
  },
  {
   "cell_type": "code",
   "execution_count": 9,
   "metadata": {},
   "outputs": [],
   "source": [
    "# pizza.groupby('province')['priceRangeMax'].mean()"
   ]
  },
  {
   "cell_type": "code",
   "execution_count": 10,
   "metadata": {},
   "outputs": [
    {
     "data": {
      "text/plain": [
       "Index(['province', 'name'], dtype='object')"
      ]
     },
     "execution_count": 10,
     "metadata": {},
     "output_type": "execute_result"
    }
   ],
   "source": [
    "# проверяем названия колонок\n",
    "pizzaz_by_province.columns"
   ]
  },
  {
   "cell_type": "code",
   "execution_count": 11,
   "metadata": {},
   "outputs": [],
   "source": [
    "# Меняем названия на те что нам нравятся\n",
    "pizzaz_by_province.columns = ['province', 'quantity']"
   ]
  },
  {
   "cell_type": "code",
   "execution_count": 12,
   "metadata": {},
   "outputs": [],
   "source": [
    "# pizzaz_by_province"
   ]
  },
  {
   "cell_type": "code",
   "execution_count": 13,
   "metadata": {},
   "outputs": [],
   "source": [
    "# Сортируем по полю quantity\n",
    "# с помощью метода sort_values\n",
    "pizzaz_by_province.sort_values(by='quantity', ascending=False, inplace=True)"
   ]
  },
  {
   "cell_type": "code",
   "execution_count": 14,
   "metadata": {},
   "outputs": [
    {
     "data": {
      "text/html": [
       "<div>\n",
       "<style scoped>\n",
       "    .dataframe tbody tr th:only-of-type {\n",
       "        vertical-align: middle;\n",
       "    }\n",
       "\n",
       "    .dataframe tbody tr th {\n",
       "        vertical-align: top;\n",
       "    }\n",
       "\n",
       "    .dataframe thead th {\n",
       "        text-align: right;\n",
       "    }\n",
       "</style>\n",
       "<table border=\"1\" class=\"dataframe\">\n",
       "  <thead>\n",
       "    <tr style=\"text-align: right;\">\n",
       "      <th></th>\n",
       "      <th>province</th>\n",
       "      <th>quantity</th>\n",
       "    </tr>\n",
       "  </thead>\n",
       "  <tbody>\n",
       "    <tr>\n",
       "      <th>30</th>\n",
       "      <td>NY</td>\n",
       "      <td>395</td>\n",
       "    </tr>\n",
       "    <tr>\n",
       "      <th>4</th>\n",
       "      <td>CA</td>\n",
       "      <td>219</td>\n",
       "    </tr>\n",
       "    <tr>\n",
       "      <th>34</th>\n",
       "      <td>PA</td>\n",
       "      <td>172</td>\n",
       "    </tr>\n",
       "  </tbody>\n",
       "</table>\n",
       "</div>"
      ],
      "text/plain": [
       "   province  quantity\n",
       "30       NY       395\n",
       "4        CA       219\n",
       "34       PA       172"
      ]
     },
     "execution_count": 14,
     "metadata": {},
     "output_type": "execute_result"
    }
   ],
   "source": [
    "pizzaz_by_province.head(3)"
   ]
  },
  {
   "cell_type": "code",
   "execution_count": 15,
   "metadata": {},
   "outputs": [],
   "source": [
    "# Размечаем те регионы, где много пиццерий с помощью numpy\n",
    "pizzaz_by_province['many_or_not_many'] = np.where(pizzaz_by_province.quantity > 100, 1, 0)\n",
    "# pizzaz_by_province['many_or_not_many'] = np.where(pizzaz_by_province.quantity > 100, 'many', 'not_many')"
   ]
  },
  {
   "cell_type": "code",
   "execution_count": 16,
   "metadata": {},
   "outputs": [],
   "source": [
    "# Размечаем те регионы, где много пиццерий с помощью pandas\n",
    "\n",
    "# Неправильный вариант\n",
    "# pizzaz_by_province[pizzaz_by_province['quantity'] > 100]['many_or_not_many_pd'] = 1\n",
    "# pizzaz_by_province[pizzaz_by_province['quantity'] <=100]['many_or_not_many_pd'] = 0\n",
    "\n",
    "# # Правильный вариант\n",
    "pizzaz_by_province.loc[pizzaz_by_province['quantity'] > 100, 'many_or_not_many_pd'] = 1\n",
    "pizzaz_by_province.loc[pizzaz_by_province['quantity'] <= 100, 'many_or_not_many_pd'] = 0"
   ]
  },
  {
   "cell_type": "code",
   "execution_count": 17,
   "metadata": {},
   "outputs": [],
   "source": [
    "# pizzaz_by_province"
   ]
  },
  {
   "cell_type": "code",
   "execution_count": 18,
   "metadata": {},
   "outputs": [],
   "source": [
    "# Меняем тип данных в колонке с помощью метода .astype()\n",
    "pizzaz_by_province['many_or_not_many_pd'] = pizzaz_by_province['many_or_not_many_pd'].astype('int')"
   ]
  },
  {
   "cell_type": "code",
   "execution_count": 19,
   "metadata": {},
   "outputs": [
    {
     "data": {
      "text/plain": [
       "46.29545454545455"
      ]
     },
     "execution_count": 19,
     "metadata": {},
     "output_type": "execute_result"
    }
   ],
   "source": [
    "# Рассчитываем сумму или среднее значений по колонке\n",
    "pizzaz_by_province.quantity.sum()\n",
    "pizzaz_by_province.quantity.mean()"
   ]
  },
  {
   "cell_type": "code",
   "execution_count": 20,
   "metadata": {},
   "outputs": [],
   "source": [
    "# Применение функции к элекментам колонки"
   ]
  },
  {
   "cell_type": "code",
   "execution_count": 21,
   "metadata": {},
   "outputs": [],
   "source": [
    "def qdevtwo(x):\n",
    "    \n",
    "    '''\n",
    "    Функция проверяет \n",
    "        если число делится на 2 без остатка, выдает 1,\n",
    "        в противном случае выдает 0\n",
    "    '''\n",
    "    if int(x) % 2 == 0:\n",
    "        return 1\n",
    "    else:\n",
    "        return 0\n",
    "        \n",
    "pizzaz_by_province['dev2'] = pizzaz_by_province.quantity.apply(lambda x: qdevtwo(x))"
   ]
  },
  {
   "cell_type": "code",
   "execution_count": 22,
   "metadata": {},
   "outputs": [],
   "source": [
    "# Другой вариант (обычно более медленный и неудобный )\n",
    "# Цикл проходит по всем элементам колонки, используя их в качестве аргументов для qdevtwo()\n",
    "\n",
    "dev2list = []\n",
    "for i in range(pizzaz_by_province.shape[0]):\n",
    "    val =  pizzaz_by_province.iloc[i,1]\n",
    "    dev2list.append(qdevtwo(val))\n",
    "\n",
    "pizzaz_by_province['dev2_loop'] = dev2list"
   ]
  },
  {
   "cell_type": "code",
   "execution_count": 23,
   "metadata": {},
   "outputs": [
    {
     "data": {
      "text/html": [
       "<div>\n",
       "<style scoped>\n",
       "    .dataframe tbody tr th:only-of-type {\n",
       "        vertical-align: middle;\n",
       "    }\n",
       "\n",
       "    .dataframe tbody tr th {\n",
       "        vertical-align: top;\n",
       "    }\n",
       "\n",
       "    .dataframe thead th {\n",
       "        text-align: right;\n",
       "    }\n",
       "</style>\n",
       "<table border=\"1\" class=\"dataframe\">\n",
       "  <thead>\n",
       "    <tr style=\"text-align: right;\">\n",
       "      <th></th>\n",
       "      <th>province</th>\n",
       "      <th>quantity</th>\n",
       "      <th>many_or_not_many</th>\n",
       "      <th>many_or_not_many_pd</th>\n",
       "      <th>dev2</th>\n",
       "      <th>dev2_loop</th>\n",
       "    </tr>\n",
       "  </thead>\n",
       "  <tbody>\n",
       "    <tr>\n",
       "      <th>30</th>\n",
       "      <td>NY</td>\n",
       "      <td>395</td>\n",
       "      <td>1</td>\n",
       "      <td>1</td>\n",
       "      <td>0</td>\n",
       "      <td>0</td>\n",
       "    </tr>\n",
       "    <tr>\n",
       "      <th>4</th>\n",
       "      <td>CA</td>\n",
       "      <td>219</td>\n",
       "      <td>1</td>\n",
       "      <td>1</td>\n",
       "      <td>0</td>\n",
       "      <td>0</td>\n",
       "    </tr>\n",
       "    <tr>\n",
       "      <th>34</th>\n",
       "      <td>PA</td>\n",
       "      <td>172</td>\n",
       "      <td>1</td>\n",
       "      <td>1</td>\n",
       "      <td>1</td>\n",
       "      <td>1</td>\n",
       "    </tr>\n",
       "    <tr>\n",
       "      <th>8</th>\n",
       "      <td>FL</td>\n",
       "      <td>145</td>\n",
       "      <td>1</td>\n",
       "      <td>1</td>\n",
       "      <td>0</td>\n",
       "      <td>0</td>\n",
       "    </tr>\n",
       "    <tr>\n",
       "      <th>38</th>\n",
       "      <td>TX</td>\n",
       "      <td>117</td>\n",
       "      <td>1</td>\n",
       "      <td>1</td>\n",
       "      <td>0</td>\n",
       "      <td>0</td>\n",
       "    </tr>\n",
       "  </tbody>\n",
       "</table>\n",
       "</div>"
      ],
      "text/plain": [
       "   province  quantity  many_or_not_many  many_or_not_many_pd  dev2  dev2_loop\n",
       "30       NY       395                 1                    1     0          0\n",
       "4        CA       219                 1                    1     0          0\n",
       "34       PA       172                 1                    1     1          1\n",
       "8        FL       145                 1                    1     0          0\n",
       "38       TX       117                 1                    1     0          0"
      ]
     },
     "execution_count": 23,
     "metadata": {},
     "output_type": "execute_result"
    }
   ],
   "source": [
    "pizzaz_by_province.head()"
   ]
  },
  {
   "cell_type": "markdown",
   "metadata": {},
   "source": [
    "# Практическое задание"
   ]
  },
  {
   "cell_type": "code",
   "execution_count": 24,
   "metadata": {},
   "outputs": [
    {
     "data": {
      "text/html": [
       "<div>\n",
       "<style scoped>\n",
       "    .dataframe tbody tr th:only-of-type {\n",
       "        vertical-align: middle;\n",
       "    }\n",
       "\n",
       "    .dataframe tbody tr th {\n",
       "        vertical-align: top;\n",
       "    }\n",
       "\n",
       "    .dataframe thead th {\n",
       "        text-align: right;\n",
       "    }\n",
       "</style>\n",
       "<table border=\"1\" class=\"dataframe\">\n",
       "  <thead>\n",
       "    <tr style=\"text-align: right;\">\n",
       "      <th></th>\n",
       "      <th>id</th>\n",
       "      <th>categories</th>\n",
       "      <th>primaryCategories</th>\n",
       "      <th>city</th>\n",
       "      <th>country</th>\n",
       "      <th>menus.currency</th>\n",
       "      <th>menus.description</th>\n",
       "      <th>menus.name</th>\n",
       "      <th>name</th>\n",
       "      <th>priceRangeMin</th>\n",
       "      <th>priceRangeMax</th>\n",
       "      <th>province</th>\n",
       "    </tr>\n",
       "  </thead>\n",
       "  <tbody>\n",
       "    <tr>\n",
       "      <th>0</th>\n",
       "      <td>AVz3Y-7h3D1zeR_xDAqm</td>\n",
       "      <td>Pizza,Restaurant,American restaurants,Pizza Pl...</td>\n",
       "      <td>Accommodation &amp; Food Services</td>\n",
       "      <td>Sherwood</td>\n",
       "      <td>US</td>\n",
       "      <td>USD</td>\n",
       "      <td>NaN</td>\n",
       "      <td>Cheese Pizza</td>\n",
       "      <td>Shotgun Dans Pizza</td>\n",
       "      <td>0</td>\n",
       "      <td>25</td>\n",
       "      <td>AR</td>\n",
       "    </tr>\n",
       "    <tr>\n",
       "      <th>1</th>\n",
       "      <td>AVweGPFF_7pvs4fzAAzQ</td>\n",
       "      <td>Pizza,Pizza Place,Restaurants</td>\n",
       "      <td>Accommodation &amp; Food Services</td>\n",
       "      <td>Phoenix</td>\n",
       "      <td>US</td>\n",
       "      <td>USD</td>\n",
       "      <td>NaN</td>\n",
       "      <td>Pizza Cookie</td>\n",
       "      <td>Sauce Pizza Wine</td>\n",
       "      <td>0</td>\n",
       "      <td>25</td>\n",
       "      <td>AZ</td>\n",
       "    </tr>\n",
       "    <tr>\n",
       "      <th>2</th>\n",
       "      <td>AVwdRGa9_7pvs4fz4E3K</td>\n",
       "      <td>Restaurant,Pizza Place,Restaurants</td>\n",
       "      <td>Accommodation &amp; Food Services</td>\n",
       "      <td>Cincinnati</td>\n",
       "      <td>US</td>\n",
       "      <td>USD</td>\n",
       "      <td>a saucelessampcomma double cheese pizza with a...</td>\n",
       "      <td>Pizza Blanca</td>\n",
       "      <td>Mios Pizzeria</td>\n",
       "      <td>0</td>\n",
       "      <td>25</td>\n",
       "      <td>OH</td>\n",
       "    </tr>\n",
       "  </tbody>\n",
       "</table>\n",
       "</div>"
      ],
      "text/plain": [
       "                     id                                         categories  \\\n",
       "0  AVz3Y-7h3D1zeR_xDAqm  Pizza,Restaurant,American restaurants,Pizza Pl...   \n",
       "1  AVweGPFF_7pvs4fzAAzQ                      Pizza,Pizza Place,Restaurants   \n",
       "2  AVwdRGa9_7pvs4fz4E3K                 Restaurant,Pizza Place,Restaurants   \n",
       "\n",
       "               primaryCategories        city country menus.currency  \\\n",
       "0  Accommodation & Food Services    Sherwood      US            USD   \n",
       "1  Accommodation & Food Services     Phoenix      US            USD   \n",
       "2  Accommodation & Food Services  Cincinnati      US            USD   \n",
       "\n",
       "                                   menus.description    menus.name  \\\n",
       "0                                                NaN  Cheese Pizza   \n",
       "1                                                NaN  Pizza Cookie   \n",
       "2  a saucelessampcomma double cheese pizza with a...  Pizza Blanca   \n",
       "\n",
       "                 name  priceRangeMin  priceRangeMax province  \n",
       "0  Shotgun Dans Pizza              0             25       AR  \n",
       "1    Sauce Pizza Wine              0             25       AZ  \n",
       "2       Mios Pizzeria              0             25       OH  "
      ]
     },
     "execution_count": 24,
     "metadata": {},
     "output_type": "execute_result"
    }
   ],
   "source": [
    "#1. Взять датасет c пицериями и ублать лишние колонки :\n",
    "#   'dateAdded', 'dateUpdated', 'address', 'keys',\n",
    "#  'latitude', 'longitude','menuPageURL', 'menus.amountMax',\n",
    "#  'menus.amountMin', 'postalCode', 'priceRangeCurrency'\n",
    "\n",
    "pizzacols = pizza.columns.tolist()\n",
    "\n",
    "dropcols = ['dateAdded', 'dateUpdated', 'address',\n",
    "            'keys','latitude', 'longitude','menuPageURL',\n",
    "            'menus.amountMax','menus.amountMin', 'postalCode', 'priceRangeCurrency']\n",
    "\n",
    "# Можно использовать метод drop\n",
    "pizza.drop(dropcols, axis=1, inplace=True)\n",
    "\n",
    "# Можно просто переопределить pizza, выбрав те колонки, которые нам нужны\n",
    "# pizza = pizza[[x for x in pizzacols if x not in dropcols]]\n",
    "pizza.head(3)"
   ]
  },
  {
   "cell_type": "code",
   "execution_count": 25,
   "metadata": {},
   "outputs": [
    {
     "data": {
      "text/html": [
       "<div>\n",
       "<style scoped>\n",
       "    .dataframe tbody tr th:only-of-type {\n",
       "        vertical-align: middle;\n",
       "    }\n",
       "\n",
       "    .dataframe tbody tr th {\n",
       "        vertical-align: top;\n",
       "    }\n",
       "\n",
       "    .dataframe thead th {\n",
       "        text-align: right;\n",
       "    }\n",
       "</style>\n",
       "<table border=\"1\" class=\"dataframe\">\n",
       "  <thead>\n",
       "    <tr style=\"text-align: right;\">\n",
       "      <th></th>\n",
       "      <th>id</th>\n",
       "      <th>categories</th>\n",
       "      <th>primaryCategories</th>\n",
       "      <th>city</th>\n",
       "      <th>country</th>\n",
       "      <th>menus.currency</th>\n",
       "      <th>menus.description</th>\n",
       "      <th>menus.name</th>\n",
       "      <th>name</th>\n",
       "      <th>priceRangeMin</th>\n",
       "      <th>priceRangeMax</th>\n",
       "      <th>province</th>\n",
       "    </tr>\n",
       "  </thead>\n",
       "  <tbody>\n",
       "    <tr>\n",
       "      <th>0</th>\n",
       "      <td>AVz3Y-7h3D1zeR_xDAqm</td>\n",
       "      <td>Pizza,Restaurant,American restaurants,Pizza Pl...</td>\n",
       "      <td>Accommodation &amp; Food Services</td>\n",
       "      <td>Sherwood</td>\n",
       "      <td>RU</td>\n",
       "      <td>USD</td>\n",
       "      <td>NaN</td>\n",
       "      <td>Cheese Pizza</td>\n",
       "      <td>Shotgun Dans Pizza</td>\n",
       "      <td>0</td>\n",
       "      <td>25</td>\n",
       "      <td>AR</td>\n",
       "    </tr>\n",
       "    <tr>\n",
       "      <th>1</th>\n",
       "      <td>AVweGPFF_7pvs4fzAAzQ</td>\n",
       "      <td>Pizza,Pizza Place,Restaurants</td>\n",
       "      <td>Accommodation &amp; Food Services</td>\n",
       "      <td>Phoenix</td>\n",
       "      <td>RU</td>\n",
       "      <td>USD</td>\n",
       "      <td>NaN</td>\n",
       "      <td>Pizza Cookie</td>\n",
       "      <td>Sauce Pizza Wine</td>\n",
       "      <td>0</td>\n",
       "      <td>25</td>\n",
       "      <td>AZ</td>\n",
       "    </tr>\n",
       "    <tr>\n",
       "      <th>2</th>\n",
       "      <td>AVwdRGa9_7pvs4fz4E3K</td>\n",
       "      <td>Restaurant,Pizza Place,Restaurants</td>\n",
       "      <td>Accommodation &amp; Food Services</td>\n",
       "      <td>Cincinnati</td>\n",
       "      <td>RU</td>\n",
       "      <td>USD</td>\n",
       "      <td>a saucelessampcomma double cheese pizza with a...</td>\n",
       "      <td>Pizza Blanca</td>\n",
       "      <td>Mios Pizzeria</td>\n",
       "      <td>0</td>\n",
       "      <td>25</td>\n",
       "      <td>OH</td>\n",
       "    </tr>\n",
       "  </tbody>\n",
       "</table>\n",
       "</div>"
      ],
      "text/plain": [
       "                     id                                         categories  \\\n",
       "0  AVz3Y-7h3D1zeR_xDAqm  Pizza,Restaurant,American restaurants,Pizza Pl...   \n",
       "1  AVweGPFF_7pvs4fzAAzQ                      Pizza,Pizza Place,Restaurants   \n",
       "2  AVwdRGa9_7pvs4fz4E3K                 Restaurant,Pizza Place,Restaurants   \n",
       "\n",
       "               primaryCategories        city country menus.currency  \\\n",
       "0  Accommodation & Food Services    Sherwood      RU            USD   \n",
       "1  Accommodation & Food Services     Phoenix      RU            USD   \n",
       "2  Accommodation & Food Services  Cincinnati      RU            USD   \n",
       "\n",
       "                                   menus.description    menus.name  \\\n",
       "0                                                NaN  Cheese Pizza   \n",
       "1                                                NaN  Pizza Cookie   \n",
       "2  a saucelessampcomma double cheese pizza with a...  Pizza Blanca   \n",
       "\n",
       "                 name  priceRangeMin  priceRangeMax province  \n",
       "0  Shotgun Dans Pizza              0             25       AR  \n",
       "1    Sauce Pizza Wine              0             25       AZ  \n",
       "2       Mios Pizzeria              0             25       OH  "
      ]
     },
     "execution_count": 25,
     "metadata": {},
     "output_type": "execute_result"
    }
   ],
   "source": [
    "# 2. Заменить значения в колонке country c US на RU\n",
    "pizza.country = 'RU'\n",
    "# или то же самое только в скобках\n",
    "# pizza['country'] = 'RU'\n",
    "pizza.head(3)"
   ]
  },
  {
   "cell_type": "code",
   "execution_count": null,
   "metadata": {},
   "outputs": [],
   "source": [
    "\n"
   ]
  },
  {
   "cell_type": "code",
   "execution_count": 26,
   "metadata": {},
   "outputs": [],
   "source": [
    "# 3. Добавить значения в колонке menus.currency RUB, а в тех регионах, где пицерий меньше 10 добавить BTC\n",
    "\n",
    "# Читерский способ 1.\n",
    "pizza = pd.merge(pizza, pizzaz_by_province[['province','quantity']], on='province', how='inner')\n",
    "# Читерский способ 2.\n",
    "prov_qu = dict(zip(pizzaz_by_province['province'].tolist(),pizzaz_by_province['quantity'].tolist()))\n",
    "pizza['quantity'] = pizza['province'].map(prov_qu)\n",
    "\n"
   ]
  },
  {
   "cell_type": "code",
   "execution_count": 27,
   "metadata": {},
   "outputs": [],
   "source": [
    "pizza['menus.currency'] = np.where(pizza['quantity'] < 10,  'USD,RUB,BTC','USD,RUB',)"
   ]
  },
  {
   "cell_type": "code",
   "execution_count": 28,
   "metadata": {},
   "outputs": [
    {
     "data": {
      "text/html": [
       "<div>\n",
       "<style scoped>\n",
       "    .dataframe tbody tr th:only-of-type {\n",
       "        vertical-align: middle;\n",
       "    }\n",
       "\n",
       "    .dataframe tbody tr th {\n",
       "        vertical-align: top;\n",
       "    }\n",
       "\n",
       "    .dataframe thead th {\n",
       "        text-align: right;\n",
       "    }\n",
       "</style>\n",
       "<table border=\"1\" class=\"dataframe\">\n",
       "  <thead>\n",
       "    <tr style=\"text-align: right;\">\n",
       "      <th></th>\n",
       "      <th>id</th>\n",
       "      <th>categories</th>\n",
       "      <th>primaryCategories</th>\n",
       "      <th>city</th>\n",
       "      <th>country</th>\n",
       "      <th>menus.currency</th>\n",
       "      <th>menus.description</th>\n",
       "      <th>menus.name</th>\n",
       "      <th>name</th>\n",
       "      <th>priceRangeMin</th>\n",
       "      <th>priceRangeMax</th>\n",
       "      <th>province</th>\n",
       "      <th>quantity</th>\n",
       "    </tr>\n",
       "  </thead>\n",
       "  <tbody>\n",
       "    <tr>\n",
       "      <th>0</th>\n",
       "      <td>AVz3Y-7h3D1zeR_xDAqm</td>\n",
       "      <td>Pizza,Restaurant,American restaurants,Pizza Pl...</td>\n",
       "      <td>Accommodation &amp; Food Services</td>\n",
       "      <td>Sherwood</td>\n",
       "      <td>RU</td>\n",
       "      <td>USD,RUB</td>\n",
       "      <td>NaN</td>\n",
       "      <td>Cheese Pizza</td>\n",
       "      <td>Shotgun Dans Pizza</td>\n",
       "      <td>0</td>\n",
       "      <td>25</td>\n",
       "      <td>AR</td>\n",
       "      <td>10</td>\n",
       "    </tr>\n",
       "    <tr>\n",
       "      <th>1</th>\n",
       "      <td>AWEKVN4rRxPSIh2RrOUT</td>\n",
       "      <td>Pizza Place</td>\n",
       "      <td>Accommodation &amp; Food Services</td>\n",
       "      <td>Conway</td>\n",
       "      <td>RU</td>\n",
       "      <td>USD,RUB</td>\n",
       "      <td>NaN</td>\n",
       "      <td>Taco Pizza</td>\n",
       "      <td>Larrys Pizza Conway</td>\n",
       "      <td>0</td>\n",
       "      <td>25</td>\n",
       "      <td>AR</td>\n",
       "      <td>10</td>\n",
       "    </tr>\n",
       "    <tr>\n",
       "      <th>2</th>\n",
       "      <td>AVwcnkKN_7pvs4fzxHf-</td>\n",
       "      <td>Pizza,Restaurant,Karaoke,Pizza Place,Restaurants</td>\n",
       "      <td>Accommodation &amp; Food Services</td>\n",
       "      <td>Fayetteville</td>\n",
       "      <td>RU</td>\n",
       "      <td>USD,RUB</td>\n",
       "      <td>NaN</td>\n",
       "      <td>6 Personal Pizza</td>\n",
       "      <td>US Pizza Co</td>\n",
       "      <td>0</td>\n",
       "      <td>25</td>\n",
       "      <td>AR</td>\n",
       "      <td>10</td>\n",
       "    </tr>\n",
       "    <tr>\n",
       "      <th>3</th>\n",
       "      <td>AVwcnkKN_7pvs4fzxHf-</td>\n",
       "      <td>Pizza,Restaurant,Karaoke,Pizza Place,Restaurants</td>\n",
       "      <td>Accommodation &amp; Food Services</td>\n",
       "      <td>Fayetteville</td>\n",
       "      <td>RU</td>\n",
       "      <td>USD,RUB</td>\n",
       "      <td>Pizza sauce and fresh mozzarella cheese 6ampquot</td>\n",
       "      <td>Cheezy Pizza</td>\n",
       "      <td>US Pizza Co</td>\n",
       "      <td>0</td>\n",
       "      <td>25</td>\n",
       "      <td>AR</td>\n",
       "      <td>10</td>\n",
       "    </tr>\n",
       "    <tr>\n",
       "      <th>4</th>\n",
       "      <td>AVwcnkKN_7pvs4fzxHf-</td>\n",
       "      <td>Pizza,Restaurant,Karaoke,Pizza Place,Restaurants</td>\n",
       "      <td>Accommodation &amp; Food Services</td>\n",
       "      <td>Fayetteville</td>\n",
       "      <td>RU</td>\n",
       "      <td>USD,RUB</td>\n",
       "      <td>NaN</td>\n",
       "      <td>U.s. Pizza Style Wings</td>\n",
       "      <td>US Pizza Co</td>\n",
       "      <td>0</td>\n",
       "      <td>25</td>\n",
       "      <td>AR</td>\n",
       "      <td>10</td>\n",
       "    </tr>\n",
       "  </tbody>\n",
       "</table>\n",
       "</div>"
      ],
      "text/plain": [
       "                     id                                         categories  \\\n",
       "0  AVz3Y-7h3D1zeR_xDAqm  Pizza,Restaurant,American restaurants,Pizza Pl...   \n",
       "1  AWEKVN4rRxPSIh2RrOUT                                        Pizza Place   \n",
       "2  AVwcnkKN_7pvs4fzxHf-   Pizza,Restaurant,Karaoke,Pizza Place,Restaurants   \n",
       "3  AVwcnkKN_7pvs4fzxHf-   Pizza,Restaurant,Karaoke,Pizza Place,Restaurants   \n",
       "4  AVwcnkKN_7pvs4fzxHf-   Pizza,Restaurant,Karaoke,Pizza Place,Restaurants   \n",
       "\n",
       "               primaryCategories          city country menus.currency  \\\n",
       "0  Accommodation & Food Services      Sherwood      RU        USD,RUB   \n",
       "1  Accommodation & Food Services        Conway      RU        USD,RUB   \n",
       "2  Accommodation & Food Services  Fayetteville      RU        USD,RUB   \n",
       "3  Accommodation & Food Services  Fayetteville      RU        USD,RUB   \n",
       "4  Accommodation & Food Services  Fayetteville      RU        USD,RUB   \n",
       "\n",
       "                                  menus.description              menus.name  \\\n",
       "0                                               NaN            Cheese Pizza   \n",
       "1                                               NaN              Taco Pizza   \n",
       "2                                               NaN        6 Personal Pizza   \n",
       "3  Pizza sauce and fresh mozzarella cheese 6ampquot            Cheezy Pizza   \n",
       "4                                               NaN  U.s. Pizza Style Wings   \n",
       "\n",
       "                  name  priceRangeMin  priceRangeMax province  quantity  \n",
       "0   Shotgun Dans Pizza              0             25       AR        10  \n",
       "1  Larrys Pizza Conway              0             25       AR        10  \n",
       "2          US Pizza Co              0             25       AR        10  \n",
       "3          US Pizza Co              0             25       AR        10  \n",
       "4          US Pizza Co              0             25       AR        10  "
      ]
     },
     "execution_count": 28,
     "metadata": {},
     "output_type": "execute_result"
    }
   ],
   "source": [
    "pizza.head()"
   ]
  },
  {
   "cell_type": "code",
   "execution_count": 172,
   "metadata": {},
   "outputs": [
    {
     "data": {
      "text/plain": [
       "2"
      ]
     },
     "execution_count": 172,
     "metadata": {},
     "output_type": "execute_result"
    }
   ],
   "source": [
    "# 4. Рассчитайте количество пицерий в городе 'Santa Barbara' в переменную sb_pizza_num\n",
    "term1 = pizza.city == 'Santa Barbara'\n",
    "term2 = pizza.province == 'CA'\n",
    "sb_pizza_num = pizza[term1 & term2].name.nunique()\n",
    "sb_pizza_num"
   ]
  },
  {
   "cell_type": "code",
   "execution_count": 173,
   "metadata": {},
   "outputs": [
    {
     "data": {
      "text/plain": [
       "219"
      ]
     },
     "execution_count": 173,
     "metadata": {},
     "output_type": "execute_result"
    }
   ],
   "source": [
    "# 5. Рассчитайте количество пицерий в Калифорнии (province == CA) в ca_pizza_num\n",
    "ca_pizza_num =  pizza[pizza.province == 'CA'].name.nunique()\n",
    "ca_pizza_num"
   ]
  },
  {
   "cell_type": "code",
   "execution_count": 169,
   "metadata": {},
   "outputs": [
    {
     "data": {
      "text/plain": [
       "0.91"
      ]
     },
     "execution_count": 169,
     "metadata": {},
     "output_type": "execute_result"
    }
   ],
   "source": [
    "# 6. Рассчитайте и выведите долю 'Santa Barbara' в пицериях Калифорнии\n",
    "round(sb_pizza_num / ca_pizza_num * 100,2)"
   ]
  },
  {
   "cell_type": "code",
   "execution_count": 174,
   "metadata": {},
   "outputs": [
    {
     "data": {
      "text/html": [
       "<div>\n",
       "<style scoped>\n",
       "    .dataframe tbody tr th:only-of-type {\n",
       "        vertical-align: middle;\n",
       "    }\n",
       "\n",
       "    .dataframe tbody tr th {\n",
       "        vertical-align: top;\n",
       "    }\n",
       "\n",
       "    .dataframe thead th {\n",
       "        text-align: right;\n",
       "    }\n",
       "</style>\n",
       "<table border=\"1\" class=\"dataframe\">\n",
       "  <thead>\n",
       "    <tr style=\"text-align: right;\">\n",
       "      <th></th>\n",
       "      <th>priceRangeMin</th>\n",
       "      <th>priceRangeMax</th>\n",
       "    </tr>\n",
       "    <tr>\n",
       "      <th>primaryCategories</th>\n",
       "      <th></th>\n",
       "      <th></th>\n",
       "    </tr>\n",
       "  </thead>\n",
       "  <tbody>\n",
       "    <tr>\n",
       "      <th>Accommodation &amp; Food Services</th>\n",
       "      <td>4.617519</td>\n",
       "      <td>27.744777</td>\n",
       "    </tr>\n",
       "    <tr>\n",
       "      <th>Accommodation &amp; Food Services,Management of Companies &amp; Enterprises</th>\n",
       "      <td>16.304348</td>\n",
       "      <td>34.782609</td>\n",
       "    </tr>\n",
       "    <tr>\n",
       "      <th>Educational Services,Accommodation &amp; Food Services</th>\n",
       "      <td>0.000000</td>\n",
       "      <td>25.000000</td>\n",
       "    </tr>\n",
       "    <tr>\n",
       "      <th>Management of Companies &amp; Enterprises</th>\n",
       "      <td>6.976744</td>\n",
       "      <td>29.186047</td>\n",
       "    </tr>\n",
       "    <tr>\n",
       "      <th>Retail</th>\n",
       "      <td>5.555556</td>\n",
       "      <td>28.333333</td>\n",
       "    </tr>\n",
       "    <tr>\n",
       "      <th>Retail,Accommodation &amp; Food Services</th>\n",
       "      <td>6.818182</td>\n",
       "      <td>25.818182</td>\n",
       "    </tr>\n",
       "    <tr>\n",
       "      <th>Wholesale Trade,Accommodation &amp; Food Services</th>\n",
       "      <td>0.000000</td>\n",
       "      <td>25.000000</td>\n",
       "    </tr>\n",
       "    <tr>\n",
       "      <th>Wholesale Trade,Accommodation &amp; Food Services,Manufacturing</th>\n",
       "      <td>0.000000</td>\n",
       "      <td>25.000000</td>\n",
       "    </tr>\n",
       "  </tbody>\n",
       "</table>\n",
       "</div>"
      ],
      "text/plain": [
       "                                                    priceRangeMin  \\\n",
       "primaryCategories                                                   \n",
       "Accommodation & Food Services                            4.617519   \n",
       "Accommodation & Food Services,Management of Com...      16.304348   \n",
       "Educational Services,Accommodation & Food Services       0.000000   \n",
       "Management of Companies & Enterprises                    6.976744   \n",
       "Retail                                                   5.555556   \n",
       "Retail,Accommodation & Food Services                     6.818182   \n",
       "Wholesale Trade,Accommodation & Food Services            0.000000   \n",
       "Wholesale Trade,Accommodation & Food Services,M...       0.000000   \n",
       "\n",
       "                                                    priceRangeMax  \n",
       "primaryCategories                                                  \n",
       "Accommodation & Food Services                           27.744777  \n",
       "Accommodation & Food Services,Management of Com...      34.782609  \n",
       "Educational Services,Accommodation & Food Services      25.000000  \n",
       "Management of Companies & Enterprises                   29.186047  \n",
       "Retail                                                  28.333333  \n",
       "Retail,Accommodation & Food Services                    25.818182  \n",
       "Wholesale Trade,Accommodation & Food Services           25.000000  \n",
       "Wholesale Trade,Accommodation & Food Services,M...      25.000000  "
      ]
     },
     "execution_count": 174,
     "metadata": {},
     "output_type": "execute_result"
    }
   ],
   "source": [
    "# 7. Рассчитайте средние значения priceRangeMin и priceRangeMax по primaryCategories\n",
    "pizza.groupby('primaryCategories')['priceRangeMin','priceRangeMax'].mean()"
   ]
  },
  {
   "cell_type": "code",
   "execution_count": 29,
   "metadata": {},
   "outputs": [
    {
     "data": {
      "text/html": [
       "<div>\n",
       "<style scoped>\n",
       "    .dataframe tbody tr th:only-of-type {\n",
       "        vertical-align: middle;\n",
       "    }\n",
       "\n",
       "    .dataframe tbody tr th {\n",
       "        vertical-align: top;\n",
       "    }\n",
       "\n",
       "    .dataframe thead th {\n",
       "        text-align: right;\n",
       "    }\n",
       "</style>\n",
       "<table border=\"1\" class=\"dataframe\">\n",
       "  <thead>\n",
       "    <tr style=\"text-align: right;\">\n",
       "      <th></th>\n",
       "      <th>menus.name</th>\n",
       "      <th>id</th>\n",
       "    </tr>\n",
       "  </thead>\n",
       "  <tbody>\n",
       "    <tr>\n",
       "      <th>1106</th>\n",
       "      <td>Cheese Pizza</td>\n",
       "      <td>299</td>\n",
       "    </tr>\n",
       "    <tr>\n",
       "      <th>4628</th>\n",
       "      <td>White Pizza</td>\n",
       "      <td>225</td>\n",
       "    </tr>\n",
       "    <tr>\n",
       "      <th>1943</th>\n",
       "      <td>Hawaiian Pizza</td>\n",
       "      <td>149</td>\n",
       "    </tr>\n",
       "    <tr>\n",
       "      <th>960</th>\n",
       "      <td>Buffalo Chicken Pizza</td>\n",
       "      <td>112</td>\n",
       "    </tr>\n",
       "    <tr>\n",
       "      <th>3052</th>\n",
       "      <td>Pizza</td>\n",
       "      <td>111</td>\n",
       "    </tr>\n",
       "  </tbody>\n",
       "</table>\n",
       "</div>"
      ],
      "text/plain": [
       "                 menus.name   id\n",
       "1106           Cheese Pizza  299\n",
       "4628            White Pizza  225\n",
       "1943         Hawaiian Pizza  149\n",
       "960   Buffalo Chicken Pizza  112\n",
       "3052                  Pizza  111"
      ]
     },
     "execution_count": 29,
     "metadata": {},
     "output_type": "execute_result"
    }
   ],
   "source": [
    "# 8. Выведите топ-5 самых популярных названий пицц по menus.name\n",
    "# Группируем по пиццам и считаем по количество по id\n",
    "pizza_g = pizza.groupby('menus.name')['id'].count()\n",
    "# Переводим в DataFrame\n",
    "pizza_g = pizza_g.reset_index()\n",
    "# Сортируем по убыванию\n",
    "pizza_g = pizza_g.sort_values(by='id', ascending=False)\n",
    "# Выводим первые 5 строк отсортированной таблицы\n",
    "pizza_g.head()\n"
   ]
  },
  {
   "cell_type": "code",
   "execution_count": 88,
   "metadata": {},
   "outputs": [
    {
     "data": {
      "text/plain": [
       "'pepperoni'"
      ]
     },
     "execution_count": 88,
     "metadata": {},
     "output_type": "execute_result"
    }
   ],
   "source": [
    "# 9. Выведите самый редкий ингридиент из описания menus.description (опционально)\n",
    "pizza_content =  pizza[~pizza['menus.description'].isnull()]['menus.description'].tolist()\n",
    "pizza_content = [x.replace('ampcomma',',') for x in pizza_content]\n",
    "pizza_content = [x.replace('ampamp','') for x in pizza_content]\n",
    "pizza_content = [x.replace('6ampquot','') for x in pizza_content]\n",
    "pizza_content = [x.split(',') for x in pizza_content]\n",
    "\n",
    "pizza_content_all_in_one = []\n",
    "for p in pizza_content:\n",
    "    pizza_content_all_in_one.extend(p)\n",
    "pizza_content_all_in_one = [x.strip().lower() for x in pizza_content_all_in_one] \n",
    "\n",
    "from collections import Counter\n",
    "pizza_dict = Counter(pizza_content_all_in_one)\n",
    "top4ik = sorted(pizza_dict.items(),\n",
    "                key=lambda x: x[1],\n",
    "               reverse=True) \n",
    "# top4ik[0][0]"
   ]
  },
  {
   "cell_type": "code",
   "execution_count": 89,
   "metadata": {},
   "outputs": [
    {
     "data": {
      "text/plain": [
       "[('pepperoni', 209),\n",
       " ('mushrooms', 184),\n",
       " ('onions', 173),\n",
       " ('mozzarella', 137),\n",
       " ('green peppers', 121),\n",
       " ('ham', 114),\n",
       " ('bacon', 103),\n",
       " ('tomatoes', 103),\n",
       " ('sausage', 95),\n",
       " ('black olives', 84),\n",
       " ('spinach', 73),\n",
       " ('garlic', 69),\n",
       " ('mozzarella cheese', 66),\n",
       " ('italian sausage', 62),\n",
       " ('onion', 58),\n",
       " ('red onions', 57),\n",
       " ('mushroom', 55),\n",
       " ('chicken', 53),\n",
       " ('with cheese and tomato sauce.', 48),\n",
       " ('pineapple', 47),\n",
       " ('cheese', 42),\n",
       " ('ricotta', 40),\n",
       " ('tomato', 36),\n",
       " ('olives', 33),\n",
       " ('broccoli', 32),\n",
       " ('beef', 31),\n",
       " ('salami', 31),\n",
       " ('canadian bacon', 30),\n",
       " ('grilled chicken', 30),\n",
       " ('olive oil', 29),\n",
       " ('bbq sauce', 29),\n",
       " ('green pepper', 29),\n",
       " ('roma tomatoes', 28),\n",
       " ('red onion', 25),\n",
       " ('bell peppers', 25),\n",
       " ('fresh basil', 24),\n",
       " ('fresh mozzarella', 24),\n",
       " ('ground beef', 24),\n",
       " ('fresh garlic', 24),\n",
       " ('feta cheese', 24),\n",
       " ('parmesan', 24),\n",
       " ('artichoke hearts', 24),\n",
       " ('basil', 23),\n",
       " ('tomato sauce', 23),\n",
       " ('peppers', 22),\n",
       " ('feta', 20),\n",
       " ('marinara', 20),\n",
       " ('one large pizza with up to 6 toppings', 19),\n",
       " ('lettuce', 19),\n",
       " ('pesto', 19),\n",
       " ('pepperoni or cheese original round no limit carry out plus tax', 18),\n",
       " ('provolone', 17),\n",
       " ('roasted garlic', 17),\n",
       " ('fresh mushrooms', 17),\n",
       " ('jalapenos', 16),\n",
       " ('roasted red peppers', 16),\n",
       " ('eggplant', 16),\n",
       " ('choose one of our fresh dough options then top your pizza with everyone39s favorite toppings with this custom madefromscratch pizza even the pickiest of eaters will be happy too',\n",
       "  16),\n",
       " ('fresh spinach', 16),\n",
       " ('cilantro', 16),\n",
       " ('banana peppers', 15),\n",
       " ('all varieties', 15),\n",
       " ('fresh tomatoes', 15),\n",
       " ('romano', 15),\n",
       " ('pizza sauce', 14),\n",
       " ('steak', 14),\n",
       " ('sundried tomatoes', 14),\n",
       " ('cheddar cheese', 13),\n",
       " ('canadian style bacon', 13),\n",
       " ('green olives', 12),\n",
       " ('ricotta cheese', 12),\n",
       " ('and signature gourmet cheese blend.', 12),\n",
       " ('with up to 5 toppings', 11),\n",
       " ('including specialties', 11),\n",
       " ('extra cheese', 11),\n",
       " ('meatballs', 11),\n",
       " ('fresh tomato', 11),\n",
       " ('red sauce mozzarella and pepperoni recommended on an original crust', 11),\n",
       " ('creamy garlic sauce mozzarella spinach zucchini mushrooms artichoke hearts roma tomatoes mixed onions and herb and cheese blend on a gluten free crust',\n",
       "  11),\n",
       " ('red sauce mozzarella canadian bacon and pineapple recommended on an original crust',\n",
       "  11),\n",
       " ('carry out plus taxes', 11),\n",
       " ('country bacon', 11),\n",
       " ('sweet red onions', 10),\n",
       " ('and mozzarella cheese', 10),\n",
       " ('zucchini', 10),\n",
       " ('green onions', 10),\n",
       " ('vegetarian', 10),\n",
       " ('linguica', 10),\n",
       " ('enjoy your own creation on a glutenfree crust topped with everyone39s favorite toppings with this custom madefromscratch pizza even the pickiest of eaters will be happy too',\n",
       "  10),\n",
       " ('hamburger', 9),\n",
       " ('three medium three topping pizzas', 9),\n",
       " ('roma tomato', 9),\n",
       " ('large', 9),\n",
       " ('white onions', 9),\n",
       " ('red sauce mozzarella pepperoni italian sausage mushrooms and olives topped with green peppers roma tomatoes and herb and cheese blend',\n",
       "  9),\n",
       " ('red sauce mozzarella pepperoni italian sausage mushrooms olives and herb and cheese blend on a gluten free crust',\n",
       "  9),\n",
       " ('alfredo sauce', 9),\n",
       " ('asiago', 9),\n",
       " ('cheddar', 9),\n",
       " ('artichoke', 9),\n",
       " ('kalamata olives', 9),\n",
       " ('extra virgin olive oil', 9),\n",
       " ('mozzarella and cheddar cheese', 8),\n",
       " ('caramelized onions', 8),\n",
       " ('pork sausage', 8),\n",
       " ('fresh white mushrooms', 8),\n",
       " ('sour cream', 8),\n",
       " ('anchovies', 8),\n",
       " ('red sauce mozzarella pepperoni italian sausage mushrooms olives and herb and cheese blend recommended on an original crust',\n",
       "  8),\n",
       " ('red sauce mozzarella pepperoni italian sausage ground beef mushrooms mixed onions green peppers and olives on a gluten free crust',\n",
       "  8),\n",
       " ('cremini mushrooms', 8),\n",
       " ('red sauce', 8),\n",
       " ('creamy garlic sauce mozzarella chicken bacon artichoke hearts spinach parmesan and zesty herbs on a gluten free crust',\n",
       "  8),\n",
       " ('black olive', 8),\n",
       " ('parmesan cheese', 8),\n",
       " ('and roma tomato.', 8),\n",
       " ('prosciutto', 7),\n",
       " ('hot sauce', 7),\n",
       " ('oregano', 7),\n",
       " ('red sauce mozzarella salami pepperoni italian sausage mushrooms mixed onions and olives on a gluten free crust',\n",
       "  7),\n",
       " ('creamy garlic sauce mozzarella chicken roma tomatoes green onions and herb and cheese blend on a gluten free crust',\n",
       "  7),\n",
       " ('sauce', 7),\n",
       " ('spicy italian sausage', 7),\n",
       " ('fresh dough chocolate chips mini marshmallows and crisp topping', 7),\n",
       " ('creamy garlic sauce mozzarella chicken bacon roma tomatoes and mixed onions topped with roma tomatoes bacon and a blend of mozzarella and cheddar cheeses',\n",
       "  7),\n",
       " ('crispy bacon', 7),\n",
       " ('roasted peppers', 7),\n",
       " ('fresh onions', 7),\n",
       " ('cooked tomatoes', 7),\n",
       " ('refried beans', 7),\n",
       " ('ham and pineapple', 6),\n",
       " ('fontina', 6),\n",
       " ('small 2topping pizza and a small garden salad', 6),\n",
       " ('artichokes', 6),\n",
       " ('taco meat', 6),\n",
       " ('ultimate combination of pepperoni', 6),\n",
       " ('all natural italian sausage', 6),\n",
       " ('crisp green peppers and black olives', 6),\n",
       " ('mozzarella cheese and pizza sauce', 6),\n",
       " ('sliced tomatoes', 6),\n",
       " ('green peppers and onions', 6),\n",
       " ('red sauce mozzarella salami pepperoni italian sausage mushrooms mixed onions and olives recommended on an original crust',\n",
       "  6),\n",
       " ('make 39n bake pizza kit with an individual original crust red sauce and mozzarella',\n",
       "  6),\n",
       " ('pesto sauce', 6),\n",
       " ('meatball', 6),\n",
       " ('serrano chilies', 6),\n",
       " ('fresh cilantro', 6),\n",
       " ('smoked gouda', 6),\n",
       " ('cremini mushrooms rustic pepperoni spicy italian sausage fresh torn basil mozzarella and wild greek oregano served with choice of soup',\n",
       "  6),\n",
       " ('spicy marinara italian sausage spicy capicola ham salami mozzarella shaved parmesan fresh basil and oregano',\n",
       "  6),\n",
       " ('arugula', 6),\n",
       " ('red sauce mozzarella salami pepperoni italian sausage ground beef and mixed onions topped with roma tomatoes green onions and a blend of mozzarella and cheddar cheeses',\n",
       "  6),\n",
       " ('creamy garlic sauce mozzarella chicken roma tomatoes green onions and herb and cheese blend recommended on an original crust',\n",
       "  6),\n",
       " ('red sauce mushrooms olives mixed onions green peppers and roma tomatoes',\n",
       "  6),\n",
       " ('olive oil and garlic mozzarella chicken spinach sundried tomatoes feta and zesty herbs on a gluten free crust',\n",
       "  6),\n",
       " ('red sauce mozzarella pepperoni italian sausage ground beef mushrooms mixed onions green peppers and olives recommended on an original crust',\n",
       "  6),\n",
       " ('creamy garlic sauce mozzarella angus steak roasted garlic mushrooms green onions and parmesan recommended on a thin crust',\n",
       "  6),\n",
       " ('chopped garlic and topped with more cheese', 6),\n",
       " ('the perfect blending of pepperoni', 6),\n",
       " ('thin crust', 6),\n",
       " ('10 slices', 6),\n",
       " ('round 18ampquot', 6),\n",
       " ('garlic white sauce', 6),\n",
       " ('cheese blend (mozzarella and cheddar)', 6),\n",
       " ('and basil.', 6),\n",
       " ('garlic infused olive oil', 6),\n",
       " ('jalapeno peppers', 5),\n",
       " ('sweet chili sauce mozzarella chicken zucchini mixed onions and crushed red pepper recommended on a thin crust',\n",
       "  5),\n",
       " ('sweet chili sauce mozzarella chicken zucchini mixed onions and crushed red pepper on a gluten free crust',\n",
       "  5),\n",
       " ('red sauce mozzarella and pepperoni on a gluten free crust', 5),\n",
       " ('chicken breast', 5),\n",
       " ('sweet corn', 5),\n",
       " ('cremini mushrooms rustic pepperoni spicy italian sausage fresh torn basil mozzarella and wild greek oregano',\n",
       "  5),\n",
       " ('pepperoni tomato sauce and mozzarella includes choice of a fountain beverage lemonade apple juice milk or chocolate milk',\n",
       "  5),\n",
       " ('fresh pineapple applewood smoked ham and slivered scallions', 5),\n",
       " ('tender marinated steak fireroasted poblanos cilantro pesto yellow onions mozzarella monterey jack and fresh cilantro served with housemade salsa verde',\n",
       "  5),\n",
       " ('served with hand stretched dough san marzano style tomato sauce and whole milk mozzarella cheese',\n",
       "  5),\n",
       " ('housemade lemongarlic shrimp with caramelized onions mozzarella parmesan and red chili topped with fresh arugula and wild greek oregano',\n",
       "  5),\n",
       " ('capers', 5),\n",
       " ('smoked bacon', 5),\n",
       " ('gorgonzola', 5),\n",
       " ('red sauce mozzarella canadian bacon and pineapple on a gluten free crust',\n",
       "  5),\n",
       " ('red sauce mozzarella canadian bacon salami pepperoni italian sausage and ground beef recommended on an original crust',\n",
       "  5),\n",
       " ('creamy garlic sauce mozzarella spicy fennel sausage sundried tomatoes mushrooms spinach and parmesan recommended on a thin crust',\n",
       "  5),\n",
       " ('red sauce mozzarella canadian bacon pepperoni italian sausage and bacon topped with ground beef and a blend of mozzarella and cheddar cheeses',\n",
       "  5),\n",
       " ('ranch dressing', 5),\n",
       " ('marinara sauce', 5),\n",
       " ('white garlic sauce', 5),\n",
       " ('chicken or steak. bbq sauce', 5),\n",
       " ('red and green bell peppers', 5),\n",
       " ('fresh cilantro and topped with more cheese', 5),\n",
       " ('made with 100 whole milk mozzarella', 5),\n",
       " ('grilled chicken breast', 5),\n",
       " ('extra cheese.', 5),\n",
       " ('and feta cheese. prepared daily on our homemade crust with pizza sauce and mozzarella cheese.',\n",
       "  5),\n",
       " ('beef meatball', 5),\n",
       " ('serves 23', 4),\n",
       " ('sauce choices  southwestern ranch', 4),\n",
       " ('picante', 4),\n",
       " ('four cheeses and two topping choices baked between two golden crusts', 4),\n",
       " ('purple onions', 4),\n",
       " ('diced tomatoes', 4),\n",
       " ('teriyaki sauce', 4),\n",
       " ('pineapple with mozzarella and cheddar cheeses', 4),\n",
       " ('white sauce', 4),\n",
       " ('provolone cheese', 4),\n",
       " ('gluten free crust and topped with our classic marinara sauce', 4),\n",
       " ('fresh sliced tomatoes', 4),\n",
       " ('topped with pepperoni', 4),\n",
       " ('red sauce mozzarella canadian bacon salami pepperoni italian sausage and ground beef on a gluten free crust',\n",
       "  4),\n",
       " ('create your own pizza', 4),\n",
       " ('red peppers', 4),\n",
       " ('chipotle pesto', 4),\n",
       " ('chicken sausage', 4),\n",
       " ('corn', 4),\n",
       " ('homemade roasted garlic sauce', 4),\n",
       " ('rustic pepperoni', 4),\n",
       " ('spicy italian sausage rustic pepperoni cremini mushrooms mozzarella red onions green peppers olives and wild greek oregano',\n",
       "  4),\n",
       " ('bbq sauce chicken and mozzarella includes choice of a fountain beverage lemonade apple juice milk or chocolate milk',\n",
       "  4),\n",
       " ('our legendary bbq sauce smoked gouda red onions and cilantro transform this original to iconic',\n",
       "  4),\n",
       " ('fresh and traditional mozzarella monterrey jack smoked gouda and romano with tomato and fresh basil vegetarian',\n",
       "  4),\n",
       " ('pineapple applewood smoked ham tomato sauce and mozzarella includes choice of a fountain beverage lemonade apple juice milk or chocolate milk',\n",
       "  4),\n",
       " ('shrimp', 4),\n",
       " ('and parmesan.', 4),\n",
       " ('green bell peppers', 4),\n",
       " ('our legendary bbq sauce smoked gouda red onions and fresh cilantro served with choice of soup',\n",
       "  4),\n",
       " ('the classic italian tomatoes with fresh mozzarella fresh basil and parmesan vegetarian',\n",
       "  4),\n",
       " ('olive oil and garlic mozzarella tomatoes black olives red onions and feta cheese',\n",
       "  4),\n",
       " ('marinara mozzarella pepperoni ham sausage green peppers onions mushrooms and bacon',\n",
       "  4),\n",
       " ('includes garlic butter', 4),\n",
       " ('sweet peppers', 4),\n",
       " ('black olives and four cheeses', 4),\n",
       " ('canadian bacon and pineapple', 4),\n",
       " ('chicken or steak. blended with mexican spices', 4),\n",
       " ('seasoned chicken', 4),\n",
       " ('lean ground beef', 4),\n",
       " ('not available for delivery', 4),\n",
       " ('no cheese', 4),\n",
       " ('san marzano tomatoes', 4),\n",
       " ('mild buffalo sauce', 4),\n",
       " ('real parmigianoreggiano cheese', 4),\n",
       " ('garlic butter', 4),\n",
       " ('olive oil and garlic mozzarella chicken spinach sundried tomatoes feta and zesty herbs recommended on a thin crust',\n",
       "  4),\n",
       " ('tortilla chips', 4),\n",
       " ('sun dried tomatoes', 4),\n",
       " ('2 orders of italian breadsticks pitcher of cocacola 2 liter for delivery',\n",
       "  4),\n",
       " ('gyro meat', 4),\n",
       " ('parmesan and ricotta cheese', 4),\n",
       " ('smoky provolone', 4),\n",
       " ('artisan tuscan herbed chicken', 4),\n",
       " ('pepperoni italian sausage ground beef mushrooms mixed onions green peppers black olives red sauce original crust',\n",
       "  4),\n",
       " ('salami pepperoni italian sausage mushrooms mixed onions black olives cheddar red sauce original crust',\n",
       "  4),\n",
       " ('homemade pizza sauce', 4),\n",
       " ('freshly chopped garlic', 4),\n",
       " ('chorizo', 3),\n",
       " ('pancetta', 3),\n",
       " ('(sauce and mozzarella cheese)', 3),\n",
       " ('a sauceless', 3),\n",
       " ('double cheese pizza with a garlic accent', 3),\n",
       " ('served with tomatoes on a sesame seed crust', 3),\n",
       " ('select one topping', 3),\n",
       " ('small classic specialty pizza and small garden salad', 3),\n",
       " ('ranch sauce', 3),\n",
       " ('and oregano', 3),\n",
       " ('hot peppers', 3),\n",
       " ('additional toppings extra', 3),\n",
       " ('real cheese made of mozzarella and pepperoni', 3),\n",
       " ('mayo', 3),\n",
       " ('loaded with extra cheese', 3),\n",
       " ('diced tomato', 3),\n",
       " ('blend of spinach and garlic parmesan alfredo sauce', 3),\n",
       " ('red onions and our delicious barbeque sauce', 3),\n",
       " ('bacon and hamburger', 3),\n",
       " ('weampaposll make it any way you like it', 3),\n",
       " ('creamy garlic sauce mozzarella spicy fennel sausage sundried tomatoes mushrooms spinach and parmesan on a gluten free crust',\n",
       "  3),\n",
       " ('taco sauce', 3),\n",
       " ('onions and tomato', 3),\n",
       " ('tomato sauce.', 3),\n",
       " ('topped with mozzarella', 3),\n",
       " ('homemade tomato sauce', 3),\n",
       " ('with homemade tomato sauce', 3),\n",
       " ('and sausage.', 3),\n",
       " ('and extra cheese', 3),\n",
       " ('add toppings for an extra charge', 3),\n",
       " ('bell pepper', 3),\n",
       " ('spicy chicken', 3),\n",
       " ('carrots', 3),\n",
       " ('bbq chicken', 3),\n",
       " ('shaved parmesan', 3),\n",
       " ('our original round pizza topped with pepperoni', 3),\n",
       " ('6 slices fresh pineapple applewood smoked ham and slivered scallions', 3),\n",
       " ('sweet caramelized onions fresh mozzarella parmesan slivered scallions and cracked black pepper',\n",
       "  3),\n",
       " ('ovenroasted artichoke hearts roasted garlic sauteed spinach mozzarella and parmesan over a layer of our legendary spinach artichoke dip vegetarian',\n",
       "  3),\n",
       " ('the classic italian tomatoes with fresh mozzarella basil and parmesan vegetarian',\n",
       "  3),\n",
       " ('mushrooms pepperoni italian sausage mozzarella and tomato sauce includes choice of a fountain beverage lemonade apple juice milk or chocolate milk',\n",
       "  3),\n",
       " ('crisp romaine tossed with your choice of dressing and topped with cheddar goldfish includes choice of a fountain beverage lemonade apple juice milk or chocolate milk',\n",
       "  3),\n",
       " ('our legendary bbq sauce smoked gouda red onions and cilantro transforms this original to iconic',\n",
       "  3),\n",
       " ('tomato sauce and mozzarella includes choice of a fountain beverage lemonade apple juice milk or chocolate milk vegetarian',\n",
       "  3),\n",
       " ('a combination of rustic and spicy pepperoni with fresh mozzarella and wild geek oregano',\n",
       "  3),\n",
       " ('tomato sauce and mozzarella cheese', 3),\n",
       " ('green peppers and mozzarella cheese', 3),\n",
       " ('primo pepperoni italian sausage linguica bbq drizzle tomatoes red and green onions on zesty red sauce',\n",
       "  3),\n",
       " ('cremini mushrooms rustic pepperoni spicy italian sausage fresh torn basil mozzarella and wild oregano',\n",
       "  3),\n",
       " ('broccolini eggplant cremini mushrooms sundried tomatoes roasted corn red onions and mozzarella served with choice of soup vegetarian',\n",
       "  3),\n",
       " ('fresh and traditional mozzarella monterrey jack smoked gouda and pecorino romano with tomato and fresh basil vegetarian',\n",
       "  3),\n",
       " ('a combination of rustic and spicy pepperoni with fresh mozzarella and wild greek oregano served with choice of soup',\n",
       "  3),\n",
       " ('fresh green peppers', 3),\n",
       " ('olive oil and garlic mozzarella pepperoni salami onions mushrooms and parmesan',\n",
       "  3),\n",
       " ('onions and green peppers', 3),\n",
       " ('mozzarella cheese and sauce', 3),\n",
       " ('jalapeno', 3),\n",
       " ('sour cream and cilantro', 3),\n",
       " ('artichoke heart', 3),\n",
       " ('chipotle sauce', 3),\n",
       " ('make 39n bake pizza kit kit includes an individual original crust red sauce mozzarella and pepperoni',\n",
       "  3),\n",
       " ('tomatoes and feta cheese', 3),\n",
       " ('fresh tomatoes and basil', 3),\n",
       " ('2nd pizza of equal or lesser value', 3),\n",
       " ('spicy sausage', 3),\n",
       " ('barbecue sauce', 3),\n",
       " ('plum tomatoes', 3),\n",
       " ('original hand tossed', 3),\n",
       " ('crispy thin crust', 3),\n",
       " ('deep dish', 3),\n",
       " ('honey whole wheat', 3),\n",
       " ('creamy garlic sauce mozzarella spinach zucchini mushrooms artichoke hearts roma tomatoes mixed onions and herb and cheese blend recommended on thin crust',\n",
       "  3),\n",
       " ('creamy garlic sauce mozzarella angus steak roasted garlic mushrooms green onions and parmesan on a glutenfree crust',\n",
       "  3),\n",
       " ('thinly sliced beef steak with onions', 3),\n",
       " ('white american and smoked provolone cheese', 3),\n",
       " ('italian sausage and topped with more cheese.', 3),\n",
       " ('and pizza sauce', 3),\n",
       " ('fresh ricotta', 3),\n",
       " ('pepper', 3),\n",
       " ('pulled pork', 3),\n",
       " ('pizza sauce and mozzarella cheese', 3),\n",
       " ('honey mustard sauce', 3),\n",
       " ('mozzarella and ricotta.', 3),\n",
       " ('shredded parmesan', 3),\n",
       " ('and olives oil', 3),\n",
       " ('red sauce mushrooms olives mixed onions green peppers and roma tomatoes on a gluten free crust',\n",
       "  3),\n",
       " ('mozzarella and fresh basil', 3),\n",
       " ('parsley flakes', 3),\n",
       " ('pecorino romano', 3),\n",
       " ('garlic oil', 3),\n",
       " ('mozzarella.', 3),\n",
       " ('full pound of chicken wings', 3),\n",
       " ('garlicky white sauce topped with garlic chicken breast', 3),\n",
       " ('cloves of savory roasted garlic and mild mozzarella', 3),\n",
       " ('lean steak', 3),\n",
       " ('italian sausage and topped with more cheese', 3),\n",
       " ('canadian', 3),\n",
       " ('style bacon', 3),\n",
       " ('shredded parmesan and olive oil', 3),\n",
       " ('and tomato sauce.', 3),\n",
       " ('pepperoni spinach black olives tomatoes feta cheese zesty herbs red sauce artisan thin crust',\n",
       "  3),\n",
       " ('canadian bacon pineapple mozzarella cheddar red sauce original crust', 3),\n",
       " ('two layers of original crust stuffed with canadian bacon pepperoni italian sausage bacon red sauce topped with ground beef cheddar red sauce',\n",
       "  3),\n",
       " ('cooked or fresh tomatoes. prepared daily on our homemade crust with pizza sauce and mozzarella cheese.',\n",
       "  3),\n",
       " ('brushed with oil and topped with mozzarella', 3),\n",
       " ('sliced onions', 3),\n",
       " ('and goat cheese. prepared daily on our homemade crust with pizza sauce and mozzarella cheese.',\n",
       "  3),\n",
       " ('and onions. prepared daily on our homemade crust with pizza sauce and mozzarella cheese.',\n",
       "  3),\n",
       " ('pepperoni italian sausage mushrooms black olives cheddar herb  cheese blend red sauce original crust',\n",
       "  3),\n",
       " ('italian beef', 3),\n",
       " ('squash', 3),\n",
       " ('pineapple and ham.', 3),\n",
       " ('and fried chicken.', 3),\n",
       " ('our signature tomato sauce', 3),\n",
       " ('signature gourmet cheese blend', 3),\n",
       " ('creamy alfredo sauce', 3),\n",
       " ('sauteed spinach and sun dried tomatoes (served on a double dough crust)',\n",
       "  3),\n",
       " ('thin crust pizza layered with sweet baby ray39s bbq sauce and chunks of chicken topped with mozzarella cheese',\n",
       "  3),\n",
       " ('double pepperoni and extra cheese', 3),\n",
       " ('fresh mushroom tomato bell pepper white onion pineapple and black olive',\n",
       "  3),\n",
       " ('glutenfree', 3),\n",
       " ('eggs', 2),\n",
       " ('cheddar and mozzarella cheeses', 2),\n",
       " ('green peppers and black olives', 2),\n",
       " ('canadian bacon and hamburger', 2),\n",
       " ('mushrooms and tomatoes', 2),\n",
       " ('onions and mushrooms', 2),\n",
       " ('pizza sauce and your choice of 3 toppings.', 2),\n",
       " ('smoked mozzarella', 2),\n",
       " ('mozzarella and cheddar', 2),\n",
       " ('red onion and jalapenos.', 2),\n",
       " ('house made mozzarella', 2),\n",
       " ('fontina cheese', 2),\n",
       " ('our light', 2),\n",
       " ('crushed garlic', 2),\n",
       " ('cauliflower', 2),\n",
       " ('olive oil  garlic', 2),\n",
       " ('onions and provolone', 2),\n",
       " ('coupon or offer', 2),\n",
       " ('topped with provolone cheese', 2),\n",
       " ('pineapple and bacon', 2),\n",
       " ('picante sauce', 2),\n",
       " ('onions and sliced tomatoes on your choice of crust', 2),\n",
       " ('pizza sauce  provolone cheese', 2),\n",
       " ('tangy bbq sauce', 2),\n",
       " ('and crisp green peppers', 2),\n",
       " ('sauerkraut', 2),\n",
       " ('mushrooms and green peppers', 2),\n",
       " ('white onion', 2),\n",
       " ('our original round pizza topped with green pepper', 2),\n",
       " ('mushroom and olive.', 2),\n",
       " ('premium mozzarella cheese', 2),\n",
       " ('and pizza sauce.', 2),\n",
       " ('pepperoni and cheese', 2),\n",
       " ('topped with green peppers', 2),\n",
       " ('our classic deluxe pizza baked in the detroit style tradition', 2),\n",
       " ('red onions and green peppers', 2),\n",
       " ('mild peppers', 2),\n",
       " ('pineapple and mozzarella cheese', 2),\n",
       " ('spicy coined sausage', 2),\n",
       " ('red onions and black olives', 2),\n",
       " ('sesame seeds', 2),\n",
       " ('lettuce and tomatoes', 2),\n",
       " ('mushrooms and fresh tomatoes.', 2),\n",
       " ('italian dressing', 2),\n",
       " ('with bolognese meat sauce', 2),\n",
       " ('covered in 100 whole milk mozzarella parmesan gorgonzola and ricotta topped with fresh basil and fresh garlic hand tossed made to order and covered in 100 whole milk mozzarella',\n",
       "  2),\n",
       " ('mushrooms onions green peppers black olives and tomatoes', 2),\n",
       " ('pepperoni salami sausage mushrooms onions green peppers and black olives',\n",
       "  2),\n",
       " ('nutella', 2),\n",
       " ('mushrooms and sausage', 2),\n",
       " ('bacon bits', 2),\n",
       " ('red bell peppers', 2),\n",
       " ('and cilantro.', 2),\n",
       " ('classic cheese or create your own pizza.', 2),\n",
       " ('garlic.', 2),\n",
       " ('4cheese sunnyside up egg and chili flakes with parmesan cream sauce', 2),\n",
       " ('handcrafted spicy salumi garlic fresh mozzarella whipped burrata basil with fresh tomato sauce',\n",
       "  2),\n",
       " ('', 2),\n",
       " ('fresh rounds of tomatoes', 2),\n",
       " ('peanut sauce', 2),\n",
       " ('fresh bean sprouts', 2),\n",
       " ('spicy marinara', 2),\n",
       " ('spicy capicola ham', 2),\n",
       " ('fresh torn basil', 2),\n",
       " ('mozzarella and wild greek oregano', 2),\n",
       " ('5 pizzas and 1 salad served with a sweets platter', 2),\n",
       " ('a combination of rustic and spicy pepperoni with fresh mozzarella and wild greek oregano',\n",
       "  2),\n",
       " ('sweet caramelized onions', 2),\n",
       " ('red onions and fresh cilantro transform this original to iconic.', 2),\n",
       " ('baby broccoli', 2),\n",
       " ('roasted corn', 2),\n",
       " ('10 pizzas and 2 salads served with a sweets platter', 2),\n",
       " ('serves 810 consists of 5 pizzas 1 salad a sweets tray  sourdough baguette with herbed oil one 1 wild mushroom pizza one 1 california veggie pizza one 1 five cheese  fresh tomato pizza two 2 traditional cheese pizzas and one 1 quinoa  arugula salad',\n",
       "  2),\n",
       " ('serves 1520 consists of 10 pizzas 2 salads a sweets tray  sourdough baguette with herbed oil two 2 wild mushroom pizzas two 2 california veggie pizzas two 2 five cheese  fresh tomato pizzas four 4 traditional cheese pizzas one 1 quinoa  arugula salad and one 1 roasted veggie salad',\n",
       "  2),\n",
       " ('nueske39s applewood smoked bacon grilled chicken and mozzarella hearthbaked then topped with avocado wild arugula fresh tomatoes torn basil and romaine tossed in lemonpepper mayo',\n",
       "  2),\n",
       " ('6 slices broccolini japanese eggplant cremini mushrooms sundried tomatoes roasted corn red onions and mozzarella vegetarian',\n",
       "  2),\n",
       " ('serves 1520 consists of 10 pizzas 2 salads a sweets tray  sourdough baguette with herbed oil two 2 the original bbq chicken pizza two 2 thai chicken pizza two 2 carne asada pizza two 2 roasted garlic chicken pizza two 2 wild mushroom pizza one 1 thai crunch salad and one 1 waldorf chicken salad',\n",
       "  2),\n",
       " ('cremini mushrooms sauteed spinach and california olive ranch extra olive oil with romano and parmesan served with choice of soup vegetarian',\n",
       "  2),\n",
       " ('6 slices a combination of rustic and spicy pepperoni with fresh mozzarella and wild geek oregano',\n",
       "  2),\n",
       " ('cremini mushrooms sauteed spinach and california olive ranch extra olive oil with romano and parmesan served with choice of salad vegetarian',\n",
       "  2),\n",
       " ('serves 810 consists of 5 pizzas 1 salad a sweets tray  sourdough baguette with herbed oil one 1 the original bbq chicken pizza one 1 thai chicken pizza one 1 roasted garlic chicken pizza one 1 mushroom pepperoni sausage pizza one 1 five cheese  fresh tomato pizza and one 1 the original bbq chicken chopped salad',\n",
       "  2),\n",
       " ('black and green olives', 2),\n",
       " ('apple wood smoked bacon', 2),\n",
       " ('baby clams', 2),\n",
       " ('and black olives.', 2),\n",
       " ('mozzarella and parmesan', 2),\n",
       " ('2layer and big flavor', 2),\n",
       " ('skinny thin or deep dish cheese with our unique fresh kid39s special sauce',\n",
       "  2),\n",
       " ('and red sauce.', 2),\n",
       " ('ham crisp bacon juicy pineapple tomatoes red and green onions on polynesian sauce',\n",
       "  2),\n",
       " ('primo pepperoni or chicken italian sausage linguica bbq drizzle tomatoes red and green onions and a drizzle of bbq sauce',\n",
       "  2),\n",
       " ('artichoke hearts zucchini spinach mushrooms tomatoes garlic red and green onions and italian seasoning on our creamy garlic sauce vegetarian',\n",
       "  2),\n",
       " ('pepperoni italian sausage tomatoes mushrooms green onions and lots of garlic on our creamy garlic sauce',\n",
       "  2),\n",
       " ('mini pepperoni and large pieces of crispy bacon are piled atop our 3cheese blend zesty red sauce all generously sprinkled with parmesan cheese',\n",
       "  2),\n",
       " ('primo pepperoni linguica bacon and italian sausage on zesty red sauce', 2),\n",
       " ('primo pepperoni italian sausage linguica bacon mushrooms tomatoes artichoke hearts and green onions on zesty red sauce',\n",
       "  2),\n",
       " ('6 slices housemade lemongarlic shrimp with caramelized onions mozzarella parmesan and red chili topped with fresh arugula and wild greek oregano',\n",
       "  2),\n",
       " ('crisp lettuce tortilla strips and housemade herb ranch top this hearthbaked crust with layers of black beans melted cheddar and monterrey jack served with flameroasted salsa vegetarian',\n",
       "  2),\n",
       " ('a combination of rustic and spicy pepperoni with fresh mozzarella and wild oregano',\n",
       "  2),\n",
       " ('spicy sweet caribbean sauce authentic jamaican spices nueske39s applewood smoked bacon red onions bell peppers and scallions',\n",
       "  2),\n",
       " ('6 slices vegetarian', 2),\n",
       " ('grilled chicken breast with peanut sauce and mozzarella hearthbaked then topped with crisp bean sprouts julienned carrots slivered scallions and fresh cilantro',\n",
       "  2),\n",
       " ('cremini mushrooms sauteed spinach and california olive oil with romano and parmesan served with choice of soup vegetarian',\n",
       "  2),\n",
       " ('our legendary bbq sauce', 2),\n",
       " ('canadian ham', 2),\n",
       " ('whole milk mozzarella and cheddar cheese with our original red sauce', 2),\n",
       " ('ranch', 2),\n",
       " ('spinedn', 2),\n",
       " ('fda greene black and green olives', 2),\n",
       " ('diced taesolaes', 2),\n",
       " ('muzzareflo cheese', 2),\n",
       " ('bambeque sauce', 2),\n",
       " ('chicken breast onions', 2),\n",
       " ('pepperoni and mozzarella cheese', 2),\n",
       " ('eight slices', 2),\n",
       " ('pomodoro mozzarella italian ham beef pepperoni sausage and homemade meatballs',\n",
       "  2),\n",
       " ('pomodoro mozzarella and marinated sausage', 2),\n",
       " ('organic tomato sauce partskim mozzarella and allnatural pepperoni', 2),\n",
       " ('organic pesto sauce fresh mozzarella charred sweet tomatoes and fresh basil',\n",
       "  2),\n",
       " ('up to three toppings included', 2),\n",
       " ('organic tomato sauce homemade roasted garlic sauce mozzarella', 2),\n",
       " ('vegan cheese', 2),\n",
       " ('veggie burger crumbles', 2),\n",
       " ('bosc pears', 2),\n",
       " ('sweet caramelized onions and hazelnuts', 2),\n",
       " ('bbq sauce cheese blend bbq chicken mushrooms and onions', 2),\n",
       " ('olive oil and garlic mozzarella sausage mushrooms bacon onions and ricotta cheese',\n",
       "  2),\n",
       " ('marinara garlic cheese blend tomatoes basil and fresh mozzarella cheese',\n",
       "  2),\n",
       " ('olive oil and garlic sauce mozzarella mushrooms tomatoes ricotta cheese and oregano',\n",
       "  2),\n",
       " ('primo pepperoni', 2),\n",
       " ('crisp bacon', 2),\n",
       " ('juicy pineapple', 2),\n",
       " ('includes self serve soft drink', 2),\n",
       " ('italian sausage pepperoni salami and linguica on zesty red sauce', 2),\n",
       " ('garlic and mozzarella cheese', 2),\n",
       " ('available for pick up only', 2),\n",
       " ('black bean', 2),\n",
       " ('buffalo sauce', 2),\n",
       " ('parsley', 2),\n",
       " ('organic tomato sauce and partskim mozzarella', 2),\n",
       " ('bermuda onion', 2),\n",
       " ('sweet italian sausage', 2),\n",
       " ('pizza sauce pepperoni and mozzarella cheese', 2),\n",
       " ('served with french fries', 2),\n",
       " ('real bacon', 2),\n",
       " ('onion green pepper', 2),\n",
       " ('and onions', 2),\n",
       " ('fresh mushroom', 2),\n",
       " ('mozzarella and sauce', 2),\n",
       " ('mozzarella and pecorino romano cheese', 2),\n",
       " ('mozzarella and tomato sauce', 2),\n",
       " ('blend of chopped tomatoes onions basil and roasted garlic with balsamic vinegar on an olive oil base',\n",
       "  2),\n",
       " ('roasted bbq chicken fresh garlic roasted red onions and basil on a bbq sauce base',\n",
       "  2),\n",
       " ('pepperoncini', 2),\n",
       " ('romano cheese', 2),\n",
       " ('spicy ground beef', 2),\n",
       " ('american cheese', 2),\n",
       " ('ricotta and mozzarella cheese', 2),\n",
       " ('and black olives', 2),\n",
       " ('grated cheese', 2),\n",
       " ('buffalo fries', 2),\n",
       " ('12ampquot deepdish pizza', 2),\n",
       " ('slice', 2),\n",
       " ('specialty pizzas include our oneofakind everything monster', 2),\n",
       " ('veggie max', 2),\n",
       " ('meaty max', 2),\n",
       " ('bacon cheeseburger', 2),\n",
       " ('taco pizza', 2),\n",
       " ('spinach alfredo and chicken fajita', 2),\n",
       " ('20 buffalo wings with any pizza purchase even when pizza coupon used', 2),\n",
       " ('any 1 topping of your choice minimum purchase of 3 pizzas required purchese may be a combination of the two sizes',\n",
       "  2),\n",
       " ('sweet corn maque choux and arrabbiata', 2),\n",
       " ('smoked provolone cheese fresh mushrooms bell peppers black olives green olives white onions and diced tomatoes',\n",
       "  2),\n",
       " ('cheese or pepperoni', 2),\n",
       " ('and green peppers', 2),\n",
       " ('personal 100', 2),\n",
       " ('medium 175', 2),\n",
       " ('rudinoampaposs sauce', 2),\n",
       " ('pizza sauce and mozzarella and provolone cheeses on fresh', 2),\n",
       " ('premium mozzarella cheese italian sausage onion green peppers and mild peppers',\n",
       "  2),\n",
       " ('premium mozzarella cheese mushrooms onions green peppers black olives and tomatoes',\n",
       "  2),\n",
       " ('housemade pico de gallo mozzarella spicy lime chicken breast red onions sliced avocado sour cream green onions and cilantro',\n",
       "  2),\n",
       " ('housemade marinara mozzarella allnatural pepperoni smoked ham fennel sausage smoked bacon and fresh torn oregano',\n",
       "  2),\n",
       " ('organic tomato sauce blended with housemade roasted garlic sauce mozzarella artichoke hearts capers roma tomatoes and fresh basil',\n",
       "  2),\n",
       " ('salt', 2),\n",
       " ('ham and bacon', 2),\n",
       " ('mozzarella cheese and fresh garlic swirled with a pesto sauce', 2),\n",
       " ('brocolli', 2),\n",
       " ('eg plant', 2),\n",
       " ('smoked pulled pork caramelized onions and mozzarella cheese', 2),\n",
       " ('sauce and mozzarella', 2),\n",
       " ('ricotta and mozzarella', 2),\n",
       " ('no sauce', 2),\n",
       " ('blue cheese', 2),\n",
       " ('with pepperoni', 2),\n",
       " ('crushed tomatoes', 2),\n",
       " ('this pizza special not available for delivery.', 2),\n",
       " ('small', 2),\n",
       " ('12 liter soda limit 2 specials per order', 2),\n",
       " ('please call for selection', 2),\n",
       " ('capicolla', 2),\n",
       " ('pickles', 2),\n",
       " ('onions mushrooms green peppers black olives hot peppers and tomato no substitutions deletions okay',\n",
       "  2),\n",
       " ('fontinella', 2),\n",
       " ('sirloin steak', 2),\n",
       " ('cheddar and mozzarella', 2),\n",
       " ('fresh baby spinach', 2),\n",
       " ('cheeses made with 100 real mozzarella', 2),\n",
       " ('feta and provolone', 2),\n",
       " ('sprinkled with garlic herb seasoning on a cheesy parmesan asiago crust', 2),\n",
       " ('sliced ham', 2),\n",
       " ('provolone and cheddar on a cheesy cheddar crust', 2),\n",
       " ('with mushrooms', 2),\n",
       " ('round white pie topped with fresh mozzarella ricotta and parmesan cheese',\n",
       "  2),\n",
       " ('sheet', 2),\n",
       " ('picante tomato sauce', 2),\n",
       " ('roasted sweet peppers', 2),\n",
       " ('onions and black olives it39s topped with mounds of cheddar cheese', 2),\n",
       " ('topped with mozzarella and provolone', 2),\n",
       " ('classic red sauce', 2),\n",
       " ('pineapple chunks', 2),\n",
       " ('and italian spices.', 2),\n",
       " ('tomato sauce  mozzarella', 2),\n",
       " ('whole wheat crust', 2),\n",
       " ('cheese and one topping', 2),\n",
       " ('fresh mozzarella and basil', 2),\n",
       " ('cheeses', 2),\n",
       " ('mozzarella cheese plum tomato sauce and imported anchovies', 2),\n",
       " ('twice baked crust with smooth tomato vodka cream sauce and a mix of italian cheeses',\n",
       "  2),\n",
       " ('olive oil plum tomato sauce fresh basil and a blend of italian cheeses', 2),\n",
       " ('sauces are gluten free', 2),\n",
       " ('and ricotta.', 2),\n",
       " ('the same great chicken parmesan pizza topped with fresh sliced jalapenos and sauteed onions',\n",
       "  2),\n",
       " ('thin crust sicilian style fresh mozzarella fresh tomato fresh crushed garlic imported pecorino romano cheese pie',\n",
       "  2),\n",
       " ('calamata olives', 2),\n",
       " ('marinara ricotta smoked mozzarella', 2),\n",
       " ('smoked mozz meatball marinara ricotta parmesan', 2),\n",
       " ('romano and mozzarella cheese', 2),\n",
       " ('black olives and tomatoes', 2),\n",
       " ('sausage meatballs and pepperoni', 2),\n",
       " ('1 by 1 square 12 slices mozzarella cheese and tomato and tomato sauce', 2),\n",
       " ('tomato sauce mozzarella cheese mushrooms ham olives artichokes and basil',\n",
       "  2),\n",
       " ('tomato sauce mozzarella chicken tomato and onions', 2),\n",
       " ('fresh mozzarella cheese plum tomatoes red onions and seasoned bread crumbs',\n",
       "  2),\n",
       " ('fresh mozzarella cheese sliced fresh tomato and basil', 2),\n",
       " ('includes up to 8 toppings', 2),\n",
       " ('tomato mozzarella ricotta fennel sausage artichokes and parmesan', 2),\n",
       " ('tomato mozzarella prosciutto olive shiitake mushroom and eggplant', 2),\n",
       " ('tomato mozzarella anchovy and oregano', 2),\n",
       " ('tomato mozzarella chicken sausage broccoli rabe and parmesan', 2),\n",
       " ('creamy garlic parmesan sauce topped with grilled chicken applewood smoked bacon and diced roma tomatoes flavored up with toasted parmesan on the crust edge best on our hand tossed crust',\n",
       "  2),\n",
       " ('premium crushed tomato sauce topped with fresh green bell peppers fresh red onions fresh mushrooms diced roma tomatoes and roasted spinach flavored up with our hut favorite on the rust edge best on our thin n crispy crust',\n",
       "  2),\n",
       " ('classic marinara sauce topped with grilled chicken slowroasted ham sweet pineapple and fresh green bell peppers',\n",
       "  2),\n",
       " ('fresh mozzarella and spicy salumi', 2),\n",
       " ('with chunks of chicken breast', 2),\n",
       " ('scallions parsley black olives mozzarella and zucchini', 2),\n",
       " ('salami cherry peppers onions and mozzarella', 2),\n",
       " ('deep dished square pizza made with tomato sauce and seasoned mozzarella cheese 18in cut into 12 slices',\n",
       "  2),\n",
       " ('spices', 2),\n",
       " ('assorted mixed greens', 2),\n",
       " ('cucumbers and olives', 2),\n",
       " ('bacon and ranch dressing', 2),\n",
       " ('hot', 2),\n",
       " ('grated parmesan', 2),\n",
       " ('with bucket of wings', 2),\n",
       " ('all your favorite pizza toppings covered with cheese and served on a very hot plate we rec the 10ampquot size',\n",
       "  2),\n",
       " ('ranch and alfredo dressing', 2),\n",
       " ('pepperoni sausage mushroom bacon onion and green pepper', 2),\n",
       " ('minced garlic', 2),\n",
       " ('pizza forum italian sauce', 2),\n",
       " ('select blended cheeses', 2),\n",
       " ('pineapple and bbq sauce', 2),\n",
       " ('hickory smoked bacon', 2),\n",
       " ('serves up to 5', 2),\n",
       " ('shredded lettuce and roma tomatoes.', 2),\n",
       " ('smoked oysters', 2),\n",
       " ('baby shrimp', 2),\n",
       " ('clams', 2),\n",
       " ('teriyaki chicken', 2),\n",
       " ('chicken breast marinated in bbq sauce', 2),\n",
       " ('spaghetti topped with marinara sauce', 2),\n",
       " ('and meatballs', 2),\n",
       " ('greek olives', 2),\n",
       " ('olives oil', 2),\n",
       " ('sausage  pepperoni', 2),\n",
       " ('super slice of the day', 2),\n",
       " ('white meat garlic chicken', 2),\n",
       " ('gyro topping', 2),\n",
       " ('a complete food italian sausage', 2),\n",
       " ('sprinkled with italian spices very popular', 2),\n",
       " ('classic cheese ham and pineapple', 2),\n",
       " ('bbq sauce classic cheese bbq chicken roasted peppers red onion fresh tomatoes cilantro and corn serves 12 people',\n",
       "  2),\n",
       " ('homemade salsa classic cheese spicy lime chicken red onion fresh avocado sour cream and cilantro serves 12 people',\n",
       "  2),\n",
       " ('classic cheese mushrooms and italian sausage', 2),\n",
       " ('organic tomato sauce homemade roasted garlic sauce classic cheese artichoke hearts capers fresh tomatoes and fresh basil serves 12 people',\n",
       "  2),\n",
       " ('homemade roasted garlic sauce classic cheese fresh tomatoes parmesan cheese and fresh basil serves 12 people',\n",
       "  2),\n",
       " ('mozzarella fontina and choice of sauce', 2),\n",
       " ('topped with prosciutto crudo diced tomatoes and fresh basil 12ampquot individual size thin crust baked in a wood fire oven does not include tomato sauce just mozzarella cheese',\n",
       "  2),\n",
       " ('herbs', 2),\n",
       " ('red sauce and black olives with mozzarella and asiago', 2),\n",
       " ('cream cheese', 2),\n",
       " ('herbed chicken', 2),\n",
       " ('parmesan and a splash of balsamic vinegar', 2),\n",
       " ('bacon and finished with flavorful cilantro', 2),\n",
       " ('tons of fresh mozzarella and basil with the flavors of olive oil', 2),\n",
       " ('italian herbs', 2),\n",
       " ('savory minced garlic and spicy italian sausage', 2),\n",
       " ('black frijoles and salsa', 2),\n",
       " ('queso cheddar', 2),\n",
       " ('sweet basil and olive oil pesto', 2),\n",
       " ('green onions and roasted garlic with asiago', 2),\n",
       " ('parmesan and mozzarella', 2),\n",
       " ('seasoned black beans', 2),\n",
       " ('cilantro and spicy chipotle salsa', 2),\n",
       " ('portuguese linguica', 2),\n",
       " ('roasted red bell peppers', 2),\n",
       " ('spicy peanut sauce', 2),\n",
       " ('real cheese made of mozzarella', 2),\n",
       " ('hand tossed homemade dough covered with our own red sauce', 2),\n",
       " ('topped with fresh mozzarella cheese and baked right on the brick', 2),\n",
       " ('fresh or cooked tomatoes', 2),\n",
       " ('two layers of original crust stuffed with salami pepperoni italian sausage ground beef mixed onions red sauce topped with tomatoes green onions red sauce',\n",
       "  2),\n",
       " ('canadian bacon salami pepperoni italian sausage ground beef cheddar red sauce original crust',\n",
       "  2),\n",
       " ('seasoned taco meat', 2),\n",
       " ('enchilada sauce', 2),\n",
       " ('smothered with cheddar cheese and sour cream on the top. prepared daily on our homemade crust with pizza sauce and mozzarella cheese.',\n",
       "  2),\n",
       " ('diced pepperoni', 2),\n",
       " ('and shrimp. prepared daily on our homemade crust with pizza sauce and mozzarella cheese.',\n",
       "  2),\n",
       " ('and side of tzatziki sauce. prepared daily on our homemade crust with pizza sauce and mozzarella cheese.',\n",
       "  2),\n",
       " ('pizza with parmesan', 2),\n",
       " ('swiss', 2),\n",
       " ('barbecued chicken', 2),\n",
       " ('and pineapple. prepared daily on our homemade crust with pizza sauce and mozzarella cheese.',\n",
       "  2),\n",
       " ('and artichoke hearts. prepared daily on our homemade crust with pizza sauce and mozzarella cheese.',\n",
       "  2),\n",
       " ('two layers of original crust stuffed with pepperoni italian sausage mushrooms black olives red sauce topped with green peppers tomatoes herb  cheese blend red sauce',\n",
       "  2),\n",
       " ('chicken spinach sundried tomatoes feta zesty herbs olive oil and garlic artisan thin crust',\n",
       "  2),\n",
       " ('goat cheese', 2),\n",
       " ('take out', 2),\n",
       " ('thick crust', 2),\n",
       " ('garlic sauce', 2),\n",
       " ('on your choice of crust with your choice of cheese', 2),\n",
       " ('ham and extra cheese', 2),\n",
       " ('wood fired chicken', 2),\n",
       " ('red bell pepper', 2),\n",
       " ('creamy garlic sauce', 2),\n",
       " ('fresh mozzarella and tomato', 2),\n",
       " ('and cheddarjack.', 2),\n",
       " ('buffalo mozzarella', 2),\n",
       " ('and kalamata olive.', 2),\n",
       " ('olives and x cheese', 2),\n",
       " ('freshly sliced pepperoni', 2),\n",
       " ('ripe tomatoes', 2),\n",
       " ('fiery jalapenos', 2),\n",
       " ('fresh red and green peppers', 2),\n",
       " ('topped with ripe tomatoes', 2),\n",
       " ('our traditional pizza sauce topped with fresh mozzarella', 2),\n",
       " ('chicken strips', 2),\n",
       " ('light sauce topped with sliced tomatoes', 2),\n",
       " ('thin crust pizza layered with ketchup', 2),\n",
       " ('topped with ground beef', 2),\n",
       " ('american and mozzarella cheeses tastes just like a cheeseburger', 2),\n",
       " ('thin crust pizza with mushrooms', 2),\n",
       " ('sausage bacon beef ham and pepperoni', 2),\n",
       " ('canadian bacon pineapple extra cheese', 2),\n",
       " ('tomato sauce fior di latte prosciutto and arugula served with fresh basil homemade flore di latte and ricotta made with organic flour',\n",
       "  2),\n",
       " ('baked in a pan with a bottom crust followed by mozzarella cheese and toppings',\n",
       "  2),\n",
       " ('thick and chewy', 2),\n",
       " ('zesty buffalo chicken and red onions with bleu cheese sauce garnished with fresh celery slices and more bleu cheese glutenfree',\n",
       "  2),\n",
       " ('chicken pineapple bbq sauce and extra cheese', 2),\n",
       " ('smoked ham pepperoni fresh mushrooms white onions bell peppers black olives tomatoes and extra cheese glutenfree',\n",
       "  2),\n",
       " ('fresh mozzarella tomatoes and fresh basil with olive oil and garlic', 2),\n",
       " ('sausage pepperoni green peppers onions and fresh mushrooms with extra mozzarella and romano cheese',\n",
       "  2),\n",
       " ('ham pineapple and extra cheese glutenfree', 2),\n",
       " ('ham pineapple and extra cheese', 2),\n",
       " ('pepperoni genoa salami smoked ham ground beef and italian sausage', 2),\n",
       " ('chicken smoked ham fresh mushrooms bacon creamy alfredo sauce and extra cheese',\n",
       "  2),\n",
       " ('provolone  tomato sauce', 2),\n",
       " ('pizza sauce and fresh mozzarella cheese', 1),\n",
       " ('sliced pepperoni', 1),\n",
       " ('chopped bell pepper and onions baked with our pizza sauce and fresh mozzarella cheese',\n",
       "  1),\n",
       " ('chopped bell pepper', 1),\n",
       " ('and black olives baked with our pizza sauce and fresh mozzarella cheese',\n",
       "  1),\n",
       " ('a variety of ingredients chosen by our pizzaiolo (pizza chef)', 1),\n",
       " ('traditional crust a buffalo sauce based pie with chicken', 1),\n",
       " ('blend of cheeses', 1),\n",
       " ('homemade marinara', 1),\n",
       " ('diced green peppers', 1),\n",
       " ('onions and pepperoni topped with mozzarella cheese and served with frito scoops',\n",
       "  1),\n",
       " ('green olives and jalapenos', 1),\n",
       " ('overloaded with canadian bacon and pineapple', 1),\n",
       " ('traditional crust a bbq sauce based pie with chicken', 1),\n",
       " ('pizza sauce and loaded with pepperoni.', 1),\n",
       " ('ricota cheese. cheese. garlic.', 1),\n",
       " ('brothers special includes pepperoni sausage mushrooms bell peppers onions and extra cheese thick crust',\n",
       "  1),\n",
       " ('our original round pizza topped with ham and pineapple.', 1),\n",
       " ('ziti and mozzarella with marinara sauce', 1),\n",
       " ('whole milk ricotta and mozzarella cheeses', 1),\n",
       " ('cheese tomato sauce sausage and mushrooms', 1),\n",
       " ('egg pancetta and chives', 1),\n",
       " ('pesto cherry tomatoes and garlic', 1),\n",
       " ('cheese tomato sauce olives and sopressata salami', 1),\n",
       " ('serves 10. 1 classic caesar salad', 1),\n",
       " ('6 pizzas of your choice', 1),\n",
       " ('served warm with vanilla ice cream', 1),\n",
       " ('drizzled with chocolate and caramel sauces', 1),\n",
       " ('organic egg', 1),\n",
       " ('personal pizza 12 in', 1),\n",
       " ('small pizza 16 in', 1),\n",
       " ('large pizza 18 in', 1),\n",
       " ('served with 20 oz drink', 1),\n",
       " ('your choice of sauce feeds 1012 people', 1),\n",
       " ('code ds926', 1),\n",
       " ('includes 2x 1634 dough ball pizza sauce and mozzarella cheese', 1),\n",
       " ('breaded chicken', 1),\n",
       " ('mozzarella and parmesan blend', 1),\n",
       " ('house made mozzarella and fresh basil', 1),\n",
       " ('chopped lettuce', 1),\n",
       " ('tomato and mayonnaise', 1),\n",
       " ('fig jam', 1),\n",
       " ('goat cheese and house made mozzarella', 1),\n",
       " ('herb oil', 1),\n",
       " ('chili flakes and lemon zest', 1),\n",
       " ('wing sauce', 1),\n",
       " ('celery and ranch dressing', 1),\n",
       " ('served warm with 2 scoops of vanilla ice cream drizzled with chocolate and caramel sauce',\n",
       "  1),\n",
       " ('psvone pepperoni and house made mozzarella', 1),\n",
       " ('green onions and bbq sauce', 1),\n",
       " ('fontina and ricotta cheese', 1),\n",
       " ('caramelized onions and olives', 1),\n",
       " ('youre in for a medley of flavors including italian sausage pepperoni meatballs along with mixed bell peppers mushrooms onions black olives and mozzarella cheese simply put its great',\n",
       "  1),\n",
       " ('tomato and alfredo sauce', 1),\n",
       " ('extra ingredients 075', 1),\n",
       " ('prepared in a pan this pizza starts with a layer of buttery crust', 1),\n",
       " ('then is filled loads of our specialty blend of rosatiampaposs cheese then gently covered with a second buttery layer of crust and topped of with our homemade pizza sauce',\n",
       "  1),\n",
       " ('our own creationthin pizza features a unique hand rolled edge and is slightly thicker than our traditional thin crust',\n",
       "  1),\n",
       " ('a rosatiampaposs specialty', 1),\n",
       " ('flaky crust is always crispy and golden brownperfecta', 1),\n",
       " ('this pizza features a thick and tasty crust topped with your favorite ingredients and lots of cheese',\n",
       "  1),\n",
       " ('mozzarella with your choice of spinach or roma tomatoes.', 1),\n",
       " ('special cheese sauce', 1),\n",
       " ('marinated steak', 1),\n",
       " ('smothered in provolone cheese.', 1),\n",
       " ('lots of cheese and ingredients stuffed between two layers of buttery crust',\n",
       "  1),\n",
       " ('and topped off with our own homemade sauce.', 1),\n",
       " ('includes broccoli', 1),\n",
       " ('green peppers  mushrooms white or red sauce', 1),\n",
       " ('sauteed in a marinara sauce then baked with mozzarella', 1),\n",
       " ('sliced italian prosciutto and fresh garlic', 1),\n",
       " ('roma tomatoes and pesto.', 1),\n",
       " ('roma tomatos and black olives.', 1),\n",
       " ('garlic oil and mozzarella.', 1),\n",
       " ('ricotta. mozzarella. sausage.', 1),\n",
       " ('any two above ingredients', 1),\n",
       " ('addampaposl items 450', 1),\n",
       " ('addampaposl items 125', 1),\n",
       " ('addampaposl items 050', 1),\n",
       " ('bacon and provolone', 1),\n",
       " ('two large 12ampquot pizzas with one topping each not valid with any other grubhub special',\n",
       "  1),\n",
       " ('pepperoni and provolone', 1),\n",
       " ('a large 12ampquot pizza with one topping not valid with any other grubhub special',\n",
       "  1),\n",
       " ('and mayonnaise', 1),\n",
       " ('garlic butter white sauce', 1),\n",
       " ('topped with real cheese', 1),\n",
       " ('buy one cheese pizza', 1),\n",
       " ('get one cheese pizza free', 1),\n",
       " ('single pizza and approx 10 wings', 1),\n",
       " ('our homestyle baked macaroni and cheese piled directly on our fresh dough and topped with crispy bacon',\n",
       "  1),\n",
       " ('not part of bogo offers', 1),\n",
       " ('our homemade pizza sauce', 1),\n",
       " ('fresh diced chicken', 1),\n",
       " ('smothered with provolone cheese', 1),\n",
       " ('onions on our southwestern ranch sauce served with lettuce', 1),\n",
       " ('sour cream  fritos on the side', 1),\n",
       " ('and cheese', 1),\n",
       " ('pineapple bacon with garlic sauce', 1),\n",
       " ('seasoned ground beef tomatoes and onions', 1),\n",
       " ('bacon seasoned ground beef and cheddar cheese', 1),\n",
       " ('choice of garlic butter or red sauce chicken and cheese', 1),\n",
       " ('bbq sauce grilled chicken pineapple and red onions', 1),\n",
       " ('ranch bacon sauce buffalo chicken mozzarella and romano cheese', 1),\n",
       " ('served on fresh sesame seed crust', 1),\n",
       " ('with alfredo sauce', 1),\n",
       " ('topped with fresh basil', 1),\n",
       " ('and roma tomatoes', 1),\n",
       " ('classic pepperoni', 1),\n",
       " ('onions and a sprinkling of extra cheese on your choice of crust', 1),\n",
       " ('four types of cheese including cheddar', 1),\n",
       " ('four types of cheese including feta', 1),\n",
       " ('two pepperonis', 1),\n",
       " ('old world and classic', 1),\n",
       " ('with marcoampaposs special italian seasoning', 1),\n",
       " ('strips of real chicken breast  smoked applewood bacon', 1),\n",
       " ('comes with your choice of 1 topping each additional topping is 150 for small  300 for large',\n",
       "  1),\n",
       " ('pepperoni sausage', 1),\n",
       " ('green pepper and onion', 1),\n",
       " ('cinnamonsugar', 1),\n",
       " ('a local favorite blend of potato', 1),\n",
       " ('and cheddar cheese served with a side of ranch', 1),\n",
       " ('additional toppings 075', 1),\n",
       " ('additional toppings 100', 1),\n",
       " ('our marinara sauce', 1),\n",
       " ('five cheese blend and your choice of two toppings', 1),\n",
       " ('a blend of eggs', 1),\n",
       " ('seasonings and four cheeses for fluffy souffle like pizza', 1),\n",
       " ('additional toppings extra  cheese excluded', 1),\n",
       " ('bbq chicken covered with a blend of four cheeses', 1),\n",
       " ('spinach greens flavored with oil', 1),\n",
       " ('and pepper', 1),\n",
       " ('covered with our blend of cheeses and baked to perfection', 1),\n",
       " ('marinara sauce mozzarella and pepperoni', 1),\n",
       " ('marinara sauce mushrooms green peppers red peppers roma tomatoes black olives mozzarella sprinkled with fresh parsley vegetarian',\n",
       "  1),\n",
       " ('3 slices', 1),\n",
       " ('marinara sauce real bacon green peppers pineapple and mozzarella', 1),\n",
       " ('marinara sauce mozzarella pepperoni and italian sausage', 1),\n",
       " ('olive oil garlic spinach black olives green olives mozzarella feta cheese topped with roma tomatoes vegetarian',\n",
       "  1),\n",
       " ('pepperoni sausage ham bacon and beef', 1),\n",
       " ('open face with pizza sauce pepperoni and cheese', 1),\n",
       " ('pepperoni sausage onion and extra cheese', 1),\n",
       " ('smaller spicier pepperoni that crisps and curls as it bakes', 1),\n",
       " ('white pizza brushed with olive oil roasted garlic fresh basil tomatoes and topped with provolone and romano cheese',\n",
       "  1),\n",
       " ('gluten free crust and topped with your choice of select pizza hut gluten free toppings',\n",
       "  1),\n",
       " ('great combination of premium all white meat chicken', 1),\n",
       " ('broccoli spinach and tomatoes on our buttery garlic sauce', 1),\n",
       " ('seasoned steak patties with pizza sauce pepperoni provolone and mozzarella',\n",
       "  1),\n",
       " ('topped with original pizza sauce and provolone', 1),\n",
       " ('extra pepperoni and extra cheese', 1),\n",
       " ('pepperoni sausage green peppers red onions and mushrooms', 1),\n",
       " ('pepperoni sausage banana peppers onions and tomatoes', 1),\n",
       " ('pepperoni sausage ham bacon and crumbled meatballs', 1),\n",
       " ('and roasted garlic bbq sauce.', 1),\n",
       " ('potato skins loaded with pizza cheese and pepperoni. sour cream on the side',\n",
       "  1),\n",
       " ('daiya vegan cheese freshly cut roma tomatoes yellow onions and green peppers banana peppers black olives basil roasted garlic on our 1034 naturecrust organic nongmo vegan multigrain',\n",
       "  1),\n",
       " ('salsa cheddar', 1),\n",
       " ('thinly sliced corn beef', 1),\n",
       " ('provolone swiss mix with just the right amount of mustard.', 1),\n",
       " ('mozz', 1),\n",
       " ('special pizza sauce', 1),\n",
       " ('with mozzarella cheese', 1),\n",
       " ('prosciutto arugula and shaved parmesan drizzled with balsamic glaze', 1),\n",
       " ('pizza sauce  your choice of any three toppings', 1),\n",
       " ('pepperoni  pizza sauce', 1),\n",
       " ('10 slices each topping 159', 1),\n",
       " ('lite sauce', 1),\n",
       " ('mayo on side', 1),\n",
       " ('extra cheese and pizza sauce served with fries', 1),\n",
       " ('with marinara sauce', 1),\n",
       " ('tomato.', 1),\n",
       " ('cheese  pizza sauce', 1),\n",
       " ('chicken and bbq sauce', 1),\n",
       " ('brickfat free cheese blend', 1),\n",
       " ('garlic and black olives 293 calories 3g fiber 9g fat', 1),\n",
       " ('zesty tomato basil sauce and a hint of seasonings', 1),\n",
       " ('diced tomato garlic', 1),\n",
       " ('asiago cheese and zesty tomato basil sauce', 1),\n",
       " ('sliced tomato and mushrooms', 1),\n",
       " ('mozzarella cheese  pizza sauce', 1),\n",
       " ('bacon and double cheese', 1),\n",
       " ('bbq sauce and cheddar cheese', 1),\n",
       " ('free medium 1 topping pizza with purchase of large regular price pizza', 1),\n",
       " ('tomato with ranch or mayo', 1),\n",
       " ('12ampquot 8 slices add toppings 150', 1),\n",
       " ('topped with fresh pineapple ham', 1),\n",
       " ('applewood smoked bacon and red onions', 1),\n",
       " ('skip the meat but not the flavor wour vegetarian pizza', 1),\n",
       " ('mushrooms  sliced black olives', 1),\n",
       " ('a delicious blend of brick and mozzarella cheeses topped with flavorful sliced meatballs',\n",
       "  1),\n",
       " ('mushrooms  red onions', 1),\n",
       " ('green peppers onions black olives banana peppers and mushrooms', 1),\n",
       " ('ham bacon pineapple and extra cheese', 1),\n",
       " ('pepperoni ham italian sausage bacon and ground beef', 1),\n",
       " ('grilled chicken onions mushrooms and banana peppers', 1),\n",
       " ('pepperoni ham bacon italian sausage ground beef mushrooms green peppers onions black olives banana peppers and pineapple',\n",
       "  1),\n",
       " ('ham bacon spicy coined sausage pineapple jalapenos and extra cheese spicy',\n",
       "  1),\n",
       " ('mozzarella parmesan romano asiago provolone and fontina cheeses and italian herb seasonings',\n",
       "  1),\n",
       " ('3 large 1topping pizzas', 1),\n",
       " ('onions green peppers fresh baby portabella mushrooms black olives and roma tomatoes',\n",
       "  1),\n",
       " ('grilled all white chicken bacon onions and roma tomatoes', 1),\n",
       " ('bbq chicken and bacon pizza with pineapple', 1),\n",
       " ('add chicken or feta cheese', 1),\n",
       " ('additional charge', 1),\n",
       " ('bacon and cheddar and mozzarella cheeses', 1),\n",
       " ('one medium cheese pizza', 1),\n",
       " ('two large one topping pizzas with a 2 liter of pepsi', 1),\n",
       " ('howie bread and dipping sauce', 1),\n",
       " ('mushroom and mozzarella cheese', 1),\n",
       " ('beef and mozzarella cheese', 1),\n",
       " ('black olive and extra cheese', 1),\n",
       " ('pizza sauce and loaded with pepperoni', 1),\n",
       " ('add pepperoni for free', 1),\n",
       " ('other toppings come at additional cost', 1),\n",
       " ('cheese and 1 item', 1),\n",
       " ('banana peppers and pineapple', 1),\n",
       " ('jalapenos and extra cheese', 1),\n",
       " ('mayo and extra cheese no pizza sauce', 1),\n",
       " ('mushrooms and banana peppers', 1),\n",
       " ('bacon and ground beef', 1),\n",
       " ('pineapple and extra cheese', 1),\n",
       " ('jalapenos and extra cheese double baked', 1),\n",
       " ('macaroni', 1),\n",
       " ('cheddar cheese and bacon no pizza sauce', 1),\n",
       " ('banana peppers and mushrooms', 1),\n",
       " ('our chicken caesar pizza recipe was named the best pizza in the american pan division out of a pool of the worldampaposs best pizza chefs at the 2012 international pizza challenge in las vegas topped with our brick and mozzarella cheese blend',\n",
       "  1),\n",
       " ('tender white mea', 1),\n",
       " ('the ancient parthenon architects couldnampapost have built a pizza with this much taste topped with ham',\n",
       "  1),\n",
       " ('you donampapost have to sacrifice flavor for a gluten free diet after his wife was diagnosed with celiac disease',\n",
       "  1),\n",
       " ('detroit style pizza co coowner shawn randazzo was inspired to create a gluten free pizza thatampaposs just as delicious as our other pizzas weampaposre pro',\n",
       "  1),\n",
       " ('available 11am3pm friday through sunday', 1),\n",
       " ('a nod to the pizza capital of the world', 1),\n",
       " ('our old forge style pizza is made in the thin and crispy tradition started by grandma ghigiarelli',\n",
       "  1),\n",
       " ('who first served her recipe to hungry miners in old forge', 1),\n",
       " ('pa', 1),\n",
       " ('circa 1920', 1),\n",
       " ('skip the meat but not the flavor with our vegetarian pizza', 1),\n",
       " ('mushrooms and sliced black olives', 1),\n",
       " ('this round pizza is not your typical blowtorched conveyor oven chain pizza we bake our pizzas in bottomfired deck ovens for fantastic flavor and mouthwatering texture choose between five flavored crusts garlic butter',\n",
       "  1),\n",
       " ('red hot', 1),\n",
       " ('garlic bu', 1),\n",
       " ('our tangy bbq chicken pizza won the global pizza worldampaposs most prestigious award by featuring our delicious blend of brick and mozzarella cheeses topped with tender chicken',\n",
       "  1),\n",
       " ('applewood smoked bacon', 1),\n",
       " ('red onions and fresh garlic finished with cattlemanampaposs gol', 1),\n",
       " ('experience the rich flavor of motor city history our world champion dough is handstretched and pressed into wellseasoned',\n",
       "  1),\n",
       " ('square blue steel pans', 1),\n",
       " ('then lined with pepperoni and a blend of mozzarella and brick cheeses before being baked in real deck oven',\n",
       "  1),\n",
       " ('topped with tomato slices', 1),\n",
       " ('roasted garlic and red onions', 1),\n",
       " ...]"
      ]
     },
     "execution_count": 89,
     "metadata": {},
     "output_type": "execute_result"
    }
   ],
   "source": [
    "top4ik"
   ]
  },
  {
   "cell_type": "code",
   "execution_count": 31,
   "metadata": {},
   "outputs": [],
   "source": [
    "# 10. Создайте директорию pizza_provinces\n",
    "# Вариант №1 создать ее руками"
   ]
  },
  {
   "cell_type": "code",
   "execution_count": 32,
   "metadata": {},
   "outputs": [],
   "source": [
    "# Вариант №2 с использованием консольной команды mkdir\n",
    "# !mkdir pizza_provinces\n",
    "# !ls выводим файлы и папки, проверяем есть ли pizza_provinces\n",
    "# !rm -r pizza_provinces удаляем при необходимости"
   ]
  },
  {
   "cell_type": "code",
   "execution_count": 33,
   "metadata": {},
   "outputs": [],
   "source": [
    "# Вариант №3 с помощью пакета os\n",
    "import os\n",
    "# os.mkdir('pizza_provinces')  создает директорию\n",
    "# os.listdir() показывает содержимое текущей директории"
   ]
  },
  {
   "cell_type": "code",
   "execution_count": 34,
   "metadata": {},
   "outputs": [],
   "source": [
    "# фантазия на эту тему...\n",
    "from shutil import rmtree\n",
    "def make_new_dir(dirname):\n",
    "    \n",
    "    \"\"\"\n",
    "    Функция создает новую директорию dirname. Если такая директория уже существует, предлагает удалить ее и создать заново.\n",
    "    - dirname str\n",
    "    \"\"\"\n",
    "    \n",
    "    if os.path.isdir(dirname):\n",
    "\n",
    "        x = input('Такая директория уже существует! \\nУдалить {} и создать заново ? да(y) или нет(n)\\n'.format(dirname))\n",
    "        if x == 'y':\n",
    "            rmtree(dirname) # удалит директорию и все что в ней есть\n",
    "            os.mkdir(dirname)\n",
    "            print('Сделано! Директория {} создана.'.format(dirname))\n",
    "        elif x == 'n':\n",
    "            print('ОК! Не трогаем {}'.format(dirname))\n",
    "        else:\n",
    "            'Моя твоя не понимать, введи либо y либо n'\n",
    "    else:\n",
    "        os.mkdir(dirname)\n",
    "        print('Директория {} создана'.format(dirname))"
   ]
  },
  {
   "cell_type": "code",
   "execution_count": 35,
   "metadata": {},
   "outputs": [
    {
     "name": "stdout",
     "output_type": "stream",
     "text": [
      "Такая директория уже существует! \n",
      "Удалить pizza_provinces и создать заново ? да(y) или нет(n)\n",
      "y\n",
      "Сделано! Директория pizza_provinces создана.\n"
     ]
    }
   ],
   "source": [
    "make_new_dir(dirname='pizza_provinces')"
   ]
  },
  {
   "cell_type": "code",
   "execution_count": 36,
   "metadata": {},
   "outputs": [
    {
     "data": {
      "application/vnd.jupyter.widget-view+json": {
       "model_id": "44998ac8acb54347ad4a4d836c360699",
       "version_major": 2,
       "version_minor": 0
      },
      "text/plain": [
       "HBox(children=(IntProgress(value=0, max=44), HTML(value='')))"
      ]
     },
     "metadata": {},
     "output_type": "display_data"
    },
    {
     "name": "stdout",
     "output_type": "stream",
     "text": [
      "\n"
     ]
    }
   ],
   "source": [
    "# 11. Сохраните в эту директорию файлы с пицериями по регионам provinces \n",
    "# В задании важно учесть условие:\n",
    "#  Если регион начинается \"A\" то файл .xlsx, если 'N' то .csv, в остальных случаях .txt\n",
    "#  Пример: 'AR.xlsx' содержит в себе все пицерии из региона 'AR'\n",
    "\n",
    "from tqdm import tqdm_notebook\n",
    "provinces = pizza.province.unique().tolist()\n",
    "for prov in tqdm_notebook(provinces):\n",
    "    if prov.startswith('A'): # для проверки содержания начала строки удобно использовать метод startswith('A') \n",
    "        filename = ''.join([prov,'.xlsx']) \n",
    "        fpth = os.path.join('pizza_provinces',filename)\n",
    "        pizza[pizza.province == prov].to_excel(fpth, index=False)\n",
    "    \n",
    "    elif prov[0] == 'N':\n",
    "        filename = ''.join([prov,'.csv']) \n",
    "        fpth = os.path.join('pizza_provinces',filename)\n",
    "        pizza[pizza.province == prov].to_csv(fpth)\n",
    "    else:\n",
    "        filename = ''.join([prov,'.txt']) \n",
    "        fpth = os.path.join('pizza_provinces',filename)\n",
    "        pizza[pizza.province == prov].to_csv(fpth)"
   ]
  },
  {
   "cell_type": "code",
   "execution_count": 37,
   "metadata": {},
   "outputs": [],
   "source": [
    "# 12. Напишите функцию, которая на вход будет принимать регион, а на выходе выдавать город, где больше всего пцццерий\n",
    "provinces = pizza.province.unique().tolist()\n",
    "def max_pizza_city(df, region):\n",
    "    '''\n",
    "    Функция выводит город, где больше всего пицерий\n",
    "    df: DataFrame с пиццами и пиццериями\n",
    "    region: str, регион, в котором проверяем пиццерии\n",
    "    '''\n",
    "    pizzareg = df[df.province == region] # выбираем регион из большой таблицы\n",
    "    pizzareg_group = pizzareg.groupby('city')['name'].nunique() # считаем пиццы по городам\n",
    "    pizzareg_group = pizzareg_group.reset_index() # переводим Series в DataFrame\n",
    "    pizzareg_group = pizzareg_group.sort_values(by='name', ascending=False) # сортируем по убыванию\n",
    "    top_city = pizzareg_group.city.tolist()[0] # переводим в список, из которого берем 1й элемент\n",
    "    return top_city"
   ]
  },
  {
   "cell_type": "code",
   "execution_count": 41,
   "metadata": {},
   "outputs": [
    {
     "data": {
      "text/plain": [
       "'Los Angeles'"
      ]
     },
     "execution_count": 41,
     "metadata": {},
     "output_type": "execute_result"
    }
   ],
   "source": [
    "max_pizza_city(pizza, 'CA')"
   ]
  },
  {
   "cell_type": "code",
   "execution_count": 42,
   "metadata": {},
   "outputs": [],
   "source": [
    "# 13. Рассчитайте и запишите в колонку city_len количество символов в названии города 2мя способами\n",
    "# Способ 1й (быстрый)\n",
    "pizza['city_len'] = pizza.city.apply(lambda x: len(x))"
   ]
  },
  {
   "cell_type": "code",
   "execution_count": 43,
   "metadata": {},
   "outputs": [],
   "source": [
    "# list(enumerate(pizza.columns))"
   ]
  },
  {
   "cell_type": "code",
   "execution_count": 44,
   "metadata": {},
   "outputs": [
    {
     "data": {
      "application/vnd.jupyter.widget-view+json": {
       "model_id": "3d5f23e1cd0642ea9b88471a83fdd1c8",
       "version_major": 2,
       "version_minor": 0
      },
      "text/plain": [
       "HBox(children=(IntProgress(value=0, max=10000), HTML(value='')))"
      ]
     },
     "metadata": {},
     "output_type": "display_data"
    },
    {
     "name": "stdout",
     "output_type": "stream",
     "text": [
      "\n"
     ]
    }
   ],
   "source": [
    "# Способ 2й (помедленнее)\n",
    "pizza['city_len'] = 0 # создаем колонку\n",
    "for i in tqdm_notebook(range(pizza.shape[0])): \n",
    "    city = pizza.iloc[i,3] # выбираем город\n",
    "    city_len = len(city) # считаем длину \n",
    "    pizza.iloc[i,12] = city_len # записываем в таблицу"
   ]
  },
  {
   "cell_type": "code",
   "execution_count": null,
   "metadata": {},
   "outputs": [],
   "source": []
  },
  {
   "cell_type": "code",
   "execution_count": null,
   "metadata": {},
   "outputs": [],
   "source": []
  }
 ],
 "metadata": {
  "kernelspec": {
   "display_name": "Python 3",
   "language": "python",
   "name": "python3"
  },
  "language_info": {
   "codemirror_mode": {
    "name": "ipython",
    "version": 3
   },
   "file_extension": ".py",
   "mimetype": "text/x-python",
   "name": "python",
   "nbconvert_exporter": "python",
   "pygments_lexer": "ipython3",
   "version": "3.7.3"
  }
 },
 "nbformat": 4,
 "nbformat_minor": 2
}
