{
 "cells": [
  {
   "cell_type": "markdown",
   "metadata": {},
   "source": [
    "# Циклы, тернарные операторы, функции"
   ]
  },
  {
   "cell_type": "markdown",
   "metadata": {},
   "source": [
    "### Логические операторы"
   ]
  },
  {
   "cell_type": "markdown",
   "metadata": {},
   "source": [
    "* and \n",
    "* or \n",
    "* not \n",
    "* in\n",
    "* not in\n",
    "* Выполняется ли равенство ==  \n",
    "* Выполняется ли неравенство !=\n",
    "* Больше или меньше  >< >= <=\n"
   ]
  },
  {
   "cell_type": "markdown",
   "metadata": {},
   "source": [
    "#### Тернарные операторы"
   ]
  },
  {
   "cell_type": "code",
   "execution_count": 1,
   "metadata": {
    "scrolled": true
   },
   "outputs": [
    {
     "data": {
      "text/plain": [
       "False"
      ]
     },
     "execution_count": 1,
     "metadata": {},
     "output_type": "execute_result"
    }
   ],
   "source": [
    "# проверят выполняется ли условие\n",
    "True != True"
   ]
  },
  {
   "cell_type": "code",
   "execution_count": 2,
   "metadata": {},
   "outputs": [
    {
     "name": "stdout",
     "output_type": "stream",
     "text": [
      "+\n"
     ]
    }
   ],
   "source": [
    "# if\n",
    "a = 10\n",
    "if a > 0:\n",
    "    print('+')"
   ]
  },
  {
   "cell_type": "code",
   "execution_count": 65,
   "metadata": {},
   "outputs": [
    {
     "name": "stdout",
     "output_type": "stream",
     "text": [
      "-\n"
     ]
    }
   ],
   "source": [
    "# Дополнительное условие elif\n",
    "a = -8\n",
    "if a > 0:\n",
    "    print('+')\n",
    "elif -10 < a < -5 :\n",
    "    print('-')"
   ]
  },
  {
   "cell_type": "code",
   "execution_count": 66,
   "metadata": {},
   "outputs": [
    {
     "name": "stdout",
     "output_type": "stream",
     "text": [
      "---\n"
     ]
    }
   ],
   "source": [
    "# Еще одно дополнительное условие elif\n",
    "a = -10\n",
    "if a > 0:\n",
    "    print('+')\n",
    "elif -10 < a < -5 :\n",
    "    print('-')\n",
    "elif -15 < a <= -10  :\n",
    "    print('---')"
   ]
  },
  {
   "cell_type": "code",
   "execution_count": 62,
   "metadata": {},
   "outputs": [
    {
     "name": "stdout",
     "output_type": "stream",
     "text": [
      "...\n"
     ]
    }
   ],
   "source": [
    "# Альтернативное условие else\n",
    "a = 0\n",
    "if a > 0:\n",
    "    print('+')\n",
    "elif -10 < a < -5 :\n",
    "    print('-')\n",
    "elif -15 < a <= -10  :\n",
    "    print('---')\n",
    "else :\n",
    "    print('...')"
   ]
  },
  {
   "cell_type": "code",
   "execution_count": 4,
   "metadata": {},
   "outputs": [
    {
     "name": "stdout",
     "output_type": "stream",
     "text": [
      "Bavaria - Ой не забыть быть чипсоны\n",
      "Corona - Ой надо купить буррито!\n",
      "Ragegast - Ой не забыть быть чипсоны\n",
      "Lambic - Ой не забыть быть чипсоны\n",
      "Perroni - Ой надо взять пиццу\n"
     ]
    }
   ],
   "source": [
    "# пример использвоания if в цикле\n",
    "beerlist = ['Bavaria', 'Corona', 'Ragegast','Lambic', 'Perroni']\n",
    "for beer in beerlist:\n",
    "    if beer == 'Corona':\n",
    "        print('{} - Ой надо купить буррито!'.format(beer))\n",
    "    elif beer == 'Perroni':\n",
    "        print('{} - Ой надо взять пиццу'.format(beer))\n",
    "    else:\n",
    "        print('{} - Ой не забыть быть чипсоны'.format(beer))"
   ]
  },
  {
   "cell_type": "markdown",
   "metadata": {
    "collapsed": true
   },
   "source": [
    "### Циклы"
   ]
  },
  {
   "cell_type": "markdown",
   "metadata": {},
   "source": [
    "<img src=\"img\\eat_sleep.png\" align='left'>"
   ]
  },
  {
   "cell_type": "code",
   "execution_count": 79,
   "metadata": {},
   "outputs": [
    {
     "name": "stdout",
     "output_type": "stream",
     "text": [
      "fruit =  apple\n",
      "fruit =  banana\n",
      "fruit =  mango\n"
     ]
    }
   ],
   "source": [
    "# Для поочередного перебора элементов ЛЮБОЙ последовательности в Python есть специальный цикл\n",
    "# переменной fruit при каждой итерации(полном обороте) цикла присваиваются элементы поочереди\n",
    "for fruit in fruits:  \n",
    "    print('fruit = ', fruit)"
   ]
  },
  {
   "cell_type": "code",
   "execution_count": 80,
   "metadata": {},
   "outputs": [
    {
     "name": "stdout",
     "output_type": "stream",
     "text": [
      "el =  H\n",
      "el =  e\n",
      "el =  l\n",
      "el =  l\n",
      "el =  o\n"
     ]
    }
   ],
   "source": [
    "# со строкой тоже работает\n",
    "for el in 'Hello':  \n",
    "    print('el = ', el)\n"
   ]
  },
  {
   "cell_type": "code",
   "execution_count": 82,
   "metadata": {},
   "outputs": [
    {
     "name": "stdout",
     "output_type": "stream",
     "text": [
      "t_el =  1\n",
      "t_el =  2\n",
      "t_el =  3\n",
      "t_el =  4\n",
      "t_el =  5\n",
      "t_el =  10\n"
     ]
    }
   ],
   "source": [
    "# и с кортежем\n",
    "for t_el in 1, 2, 3, 4, 5, 10:  \n",
    "    print('t_el = ', t_el)\n"
   ]
  },
  {
   "cell_type": "code",
   "execution_count": 84,
   "metadata": {},
   "outputs": [
    {
     "name": "stdout",
     "output_type": "stream",
     "text": [
      "el =  1\n"
     ]
    }
   ],
   "source": [
    "#  break позволяет выйти из цикла до его завершения\n",
    "for el in [1, 2, 'Hello', 4]:\n",
    "    print('el = ', el)\n",
    "    break"
   ]
  },
  {
   "cell_type": "code",
   "execution_count": 74,
   "metadata": {},
   "outputs": [
    {
     "name": "stdout",
     "output_type": "stream",
     "text": [
      "hheellll  wwrrlldd"
     ]
    }
   ],
   "source": [
    "# continue позволяет пропустить итерацию\n",
    "for i in 'hello world':\n",
    "    if i == 'o':\n",
    "        continue\n",
    "    print(i * 2, end='')"
   ]
  },
  {
   "cell_type": "code",
   "execution_count": 94,
   "metadata": {},
   "outputs": [
    {
     "name": "stdout",
     "output_type": "stream",
     "text": [
      "Буквы a в строке нет\n"
     ]
    }
   ],
   "source": [
    "# else может проверить выход из цикла с помощью break и выполнить инструкцию в этом случае\n",
    "for i in 'hello world':\n",
    "#     print(i)\n",
    "    if i == 'a':\n",
    "        break\n",
    "else:\n",
    "    print('Буквы a в строке нет')"
   ]
  },
  {
   "cell_type": "markdown",
   "metadata": {},
   "source": [
    "### Генератор последовательности range"
   ]
  },
  {
   "cell_type": "code",
   "execution_count": 95,
   "metadata": {},
   "outputs": [
    {
     "data": {
      "text/plain": [
       "range(0, 10)"
      ]
     },
     "execution_count": 95,
     "metadata": {},
     "output_type": "execute_result"
    }
   ],
   "source": [
    "x = range(10)\n",
    "x"
   ]
  },
  {
   "cell_type": "code",
   "execution_count": 96,
   "metadata": {},
   "outputs": [
    {
     "data": {
      "text/plain": [
       "range"
      ]
     },
     "execution_count": 96,
     "metadata": {},
     "output_type": "execute_result"
    }
   ],
   "source": [
    "type(x)"
   ]
  },
  {
   "cell_type": "code",
   "execution_count": 97,
   "metadata": {},
   "outputs": [
    {
     "data": {
      "text/plain": [
       "[10, 12, 14, 16, 18]"
      ]
     },
     "execution_count": 97,
     "metadata": {},
     "output_type": "execute_result"
    }
   ],
   "source": [
    "x = range(10, 20, 2)\n",
    "list(x)"
   ]
  },
  {
   "cell_type": "code",
   "execution_count": 98,
   "metadata": {},
   "outputs": [
    {
     "data": {
      "text/plain": [
       "[20, 18, 16, 14, 12]"
      ]
     },
     "execution_count": 98,
     "metadata": {},
     "output_type": "execute_result"
    }
   ],
   "source": [
    "x = range(20, 10, -2)\n",
    "list(x)"
   ]
  },
  {
   "cell_type": "code",
   "execution_count": 52,
   "metadata": {},
   "outputs": [
    {
     "name": "stdout",
     "output_type": "stream",
     "text": [
      "10\n",
      "8\n",
      "6\n",
      "4\n",
      "2\n"
     ]
    }
   ],
   "source": [
    "# for\n",
    "for i in range(10, 1, -2):\n",
    "    print(i)"
   ]
  },
  {
   "cell_type": "code",
   "execution_count": 60,
   "metadata": {},
   "outputs": [
    {
     "name": "stdout",
     "output_type": "stream",
     "text": [
      "[10, 20, 30, 40, 50]\n"
     ]
    }
   ],
   "source": [
    "alist = []\n",
    "for i in range(10,60,10):   \n",
    "    alist.append(i)\n",
    "print(alist)"
   ]
  },
  {
   "cell_type": "code",
   "execution_count": 99,
   "metadata": {},
   "outputs": [
    {
     "name": "stdout",
     "output_type": "stream",
     "text": [
      "fruit =  apple\n",
      "fruit =  banana\n",
      "fruit =  mango\n"
     ]
    }
   ],
   "source": [
    "# Перебор элементов по индексам\n",
    "fruits = ['apple', 'banana', 'mango']\n",
    "i = 0\n",
    "while len(fruits) > i:\n",
    "    print('fruit = ', fruits[i])\n",
    "    i += 1\n",
    "#     i = i + 1"
   ]
  },
  {
   "cell_type": "code",
   "execution_count": 101,
   "metadata": {},
   "outputs": [
    {
     "name": "stdout",
     "output_type": "stream",
     "text": [
      "9\n",
      "8\n",
      "7\n",
      "6\n",
      "5\n",
      "4\n",
      "3\n",
      "2\n",
      "1\n",
      "0\n"
     ]
    }
   ],
   "source": [
    "n = 10\n",
    "while n > 0:\n",
    "    n -= 1\n",
    "    print(n)"
   ]
  },
  {
   "cell_type": "code",
   "execution_count": 100,
   "metadata": {},
   "outputs": [
    {
     "name": "stdout",
     "output_type": "stream",
     "text": [
      "fruit =  apple\n",
      "fruit =  banana\n",
      "fruit =  mango\n"
     ]
    }
   ],
   "source": [
    "# переменной fruit при каждой итерации(полном обороте) цикла присваиваются элементы поочереди\n",
    "for fruit in fruits:  \n",
    "    print('fruit = ', fruit)"
   ]
  },
  {
   "cell_type": "code",
   "execution_count": 78,
   "metadata": {},
   "outputs": [
    {
     "name": "stdout",
     "output_type": "stream",
     "text": [
      "Bavaria\n",
      "Corona\n",
      "Ragegast\n",
      "Lambic\n",
      "Perroni\n"
     ]
    }
   ],
   "source": [
    "# С помощью цикла можно пройти по всем элементам списка\n",
    "beerlist = ['Bavaria', 'Corona', 'Ragegast','Lambic', 'Perroni']\n",
    "for beer in beerlist:\n",
    "    print(beer)"
   ]
  },
  {
   "cell_type": "code",
   "execution_count": 82,
   "metadata": {},
   "outputs": [
    {
     "name": "stdout",
     "output_type": "stream",
     "text": [
      "Bavaria\n",
      "Corona\n",
      "Ragegast\n",
      "Lambic\n",
      "Perroni\n"
     ]
    }
   ],
   "source": [
    "# В цикле можно использовать индекс для вывода элементов списка\n",
    "for i in range(len(beerlist)):\n",
    "    print(beerlist[i])"
   ]
  },
  {
   "cell_type": "code",
   "execution_count": 83,
   "metadata": {},
   "outputs": [
    {
     "name": "stdout",
     "output_type": "stream",
     "text": [
      "0 Bavaria\n",
      "1 Corona\n",
      "2 Ragegast\n",
      "3 Lambic\n",
      "4 Perroni\n"
     ]
    }
   ],
   "source": [
    "# Итерируясь по списку можно выводить и индекс элемента\n",
    "for i, beer in enumerate(beerlist):\n",
    "    print(i, beer)"
   ]
  },
  {
   "cell_type": "code",
   "execution_count": 86,
   "metadata": {},
   "outputs": [
    {
     "data": {
      "text/plain": [
       "[(0, 'Bavaria'), (1, 'Corona'), (2, 'Ragegast'), (3, 'Lambic'), (4, 'Perroni')]"
      ]
     },
     "execution_count": 86,
     "metadata": {},
     "output_type": "execute_result"
    }
   ],
   "source": [
    "# enumerate выводить список кортежей из элементов списка\n",
    "list(enumerate(beerlist))"
   ]
  },
  {
   "cell_type": "code",
   "execution_count": 72,
   "metadata": {},
   "outputs": [
    {
     "name": "stdout",
     "output_type": "stream",
     "text": [
      "Марка: Bavaria\n",
      "Марка: Corona\n",
      "Марка: Ragegast\n",
      "Марка: Lambic\n",
      "Марка: Perroni\n"
     ]
    }
   ],
   "source": [
    "# По словарю можно проходить циклом по ключам\n",
    "for key in newdict.keys():\n",
    "    print('Марка: {}'.format(key))"
   ]
  },
  {
   "cell_type": "code",
   "execution_count": 75,
   "metadata": {},
   "outputs": [
    {
     "name": "stdout",
     "output_type": "stream",
     "text": [
      "купить 10 бутылок или...\n",
      "купить 20 бутылок или...\n",
      "купить 30 бутылок или...\n",
      "купить 40 бутылок или...\n",
      "купить 50 бутылок или...\n"
     ]
    }
   ],
   "source": [
    "# По словарю можно проходить циклом по значениям\n",
    "for val in newdict.values():\n",
    "    print('купить {} бутылок или...'.format(val))"
   ]
  },
  {
   "cell_type": "code",
   "execution_count": 67,
   "metadata": {},
   "outputs": [
    {
     "name": "stdout",
     "output_type": "stream",
     "text": [
      "Марка: Bavaria, купить 10 бутылок\n",
      "Марка: Corona, купить 20 бутылок\n",
      "Марка: Ragegast, купить 30 бутылок\n",
      "Марка: Lambic, купить 40 бутылок\n",
      "Марка: Perroni, купить 50 бутылок\n"
     ]
    }
   ],
   "source": [
    "# По словарю можно проходить циклом по ключам и значениям\n",
    "for key, value in newdict.items():\n",
    "    print('Марка: {}, купить {} бутылок'.format(key,value))"
   ]
  },
  {
   "cell_type": "code",
   "execution_count": 121,
   "metadata": {},
   "outputs": [
    {
     "name": "stdout",
     "output_type": "stream",
     "text": [
      "0\n",
      "1\n",
      "2\n"
     ]
    }
   ],
   "source": [
    "# Если мы используем круглые скобки и range, то мы создаем гененератор\n",
    "seq =(x for x in range(10))\n",
    "# Функция next() позволяет переходить к следующему элементу генератора\n",
    "print(next(seq))\n",
    "print(next(seq))\n",
    "print(next(seq))"
   ]
  },
  {
   "cell_type": "markdown",
   "metadata": {},
   "source": [
    "# List comprehension (или  сладенькое)"
   ]
  },
  {
   "cell_type": "code",
   "execution_count": 2,
   "metadata": {},
   "outputs": [],
   "source": [
    "# Допустим у нас есть список \n",
    "nums = [2, 4, 6, 8, 10]"
   ]
  },
  {
   "cell_type": "code",
   "execution_count": 3,
   "metadata": {},
   "outputs": [
    {
     "data": {
      "text/plain": [
       "[2, 4, 6, 8, 10]"
      ]
     },
     "execution_count": 3,
     "metadata": {},
     "output_type": "execute_result"
    }
   ],
   "source": [
    "# Обычный цикл\n",
    "nums_new = []\n",
    "for i in range(1, 6):\n",
    "    nums_new.append(2*i)\n",
    "nums_new"
   ]
  },
  {
   "cell_type": "code",
   "execution_count": 4,
   "metadata": {},
   "outputs": [
    {
     "data": {
      "text/plain": [
       "[2, 4, 6, 8, 10]"
      ]
     },
     "execution_count": 4,
     "metadata": {},
     "output_type": "execute_result"
    }
   ],
   "source": [
    "[(2*i) for i in range(1,6)]"
   ]
  },
  {
   "cell_type": "code",
   "execution_count": 5,
   "metadata": {},
   "outputs": [
    {
     "data": {
      "text/plain": [
       "{2, 4, 6, 8, 10}"
      ]
     },
     "execution_count": 5,
     "metadata": {},
     "output_type": "execute_result"
    }
   ],
   "source": [
    "{(2*i) for i in range(1,6)}"
   ]
  },
  {
   "cell_type": "code",
   "execution_count": 6,
   "metadata": {},
   "outputs": [
    {
     "data": {
      "text/plain": [
       "[1, 2, 3, 4, 5, 6, 7, 8, 9, 10]"
      ]
     },
     "execution_count": 6,
     "metadata": {},
     "output_type": "execute_result"
    }
   ],
   "source": [
    "[num for num in range(1, 11)]"
   ]
  },
  {
   "cell_type": "code",
   "execution_count": 7,
   "metadata": {},
   "outputs": [
    {
     "data": {
      "text/plain": [
       "[2, 4, 6, 8, 10]"
      ]
     },
     "execution_count": 7,
     "metadata": {},
     "output_type": "execute_result"
    }
   ],
   "source": [
    "# Добавим условие\n",
    "[num for num in range(1, 11) if num % 2 == 0]"
   ]
  },
  {
   "cell_type": "code",
   "execution_count": 8,
   "metadata": {},
   "outputs": [
    {
     "data": {
      "text/plain": [
       "['_', 2, '_', 4, '_', 6, '_', 8, '_', 10]"
      ]
     },
     "execution_count": 8,
     "metadata": {},
     "output_type": "execute_result"
    }
   ],
   "source": [
    "# Добавим альтернативное условие\n",
    "[num if num % 2 == 0 else '_' for num in range(1, 11)]"
   ]
  },
  {
   "cell_type": "code",
   "execution_count": 9,
   "metadata": {},
   "outputs": [
    {
     "data": {
      "text/plain": [
       "[(1, 'a'),\n",
       " (1, 'b'),\n",
       " (1, 'c'),\n",
       " (2, 'a'),\n",
       " (2, 'b'),\n",
       " (2, 'c'),\n",
       " (3, 'a'),\n",
       " (3, 'b'),\n",
       " (3, 'c')]"
      ]
     },
     "execution_count": 9,
     "metadata": {},
     "output_type": "execute_result"
    }
   ],
   "source": [
    "# Циклы в цикле\n",
    "numbers = [1, 2, 3]\n",
    "letters = ['a','b','c']\n",
    "[(i, j) for i in numbers for j in letters]"
   ]
  },
  {
   "cell_type": "code",
   "execution_count": null,
   "metadata": {},
   "outputs": [],
   "source": [
    "# Когда циклов много\n",
    "# [(i, j, k) for i in numbers for j in letters for k in range(3)]\n",
    "\n",
    "# Если на выходе нужен  список в списке\n",
    "[[(i, j) for i in numbers] for j in letters]"
   ]
  },
  {
   "cell_type": "code",
   "execution_count": 31,
   "metadata": {},
   "outputs": [
    {
     "data": {
      "text/plain": [
       "{'a': 97,\n",
       " 'b': 98,\n",
       " 'c': 99,\n",
       " 'd': 100,\n",
       " 'e': 101,\n",
       " 'f': 102,\n",
       " 'g': 103,\n",
       " 'h': 104,\n",
       " 'i': 105,\n",
       " 'j': 106,\n",
       " 'k': 107,\n",
       " 'l': 108,\n",
       " 'm': 109,\n",
       " 'n': 110,\n",
       " 'o': 111,\n",
       " 'p': 112,\n",
       " 'q': 113,\n",
       " 'r': 114,\n",
       " 's': 115,\n",
       " 't': 116,\n",
       " 'u': 117,\n",
       " 'v': 118,\n",
       " 'w': 119,\n",
       " 'x': 120,\n",
       " 'y': 121,\n",
       " 'z': 122}"
      ]
     },
     "execution_count": 31,
     "metadata": {},
     "output_type": "execute_result"
    }
   ],
   "source": [
    "# Генератор словарей\n",
    "{chr(num): num for num in range(97,123)}"
   ]
  },
  {
   "cell_type": "markdown",
   "metadata": {},
   "source": [
    "### tqdm"
   ]
  },
  {
   "cell_type": "code",
   "execution_count": 24,
   "metadata": {},
   "outputs": [
    {
     "data": {
      "application/vnd.jupyter.widget-view+json": {
       "model_id": "655877ded14042e794e0f8b39ba89d0f",
       "version_major": 2,
       "version_minor": 0
      },
      "text/plain": [
       "HBox(children=(IntProgress(value=0, max=1000), HTML(value='')))"
      ]
     },
     "metadata": {},
     "output_type": "display_data"
    },
    {
     "name": "stdout",
     "output_type": "stream",
     "text": [
      "\n"
     ]
    }
   ],
   "source": [
    "# Прогресс бар \n",
    "from tqdm import tqdm_notebook\n",
    "x = [x**y for x in tqdm_notebook(range(1000)) for y in range(1000)]"
   ]
  },
  {
   "cell_type": "markdown",
   "metadata": {},
   "source": [
    "# Практика "
   ]
  },
  {
   "cell_type": "code",
   "execution_count": null,
   "metadata": {},
   "outputs": [],
   "source": [
    "# Создайте список  squares из значений последовательности возведеных в квадрат\n",
    "#----- Ваш код здесь ----"
   ]
  },
  {
   "cell_type": "code",
   "execution_count": null,
   "metadata": {},
   "outputs": [],
   "source": [
    "# Создайте матрицу 5 на 5 используя список в списке\n",
    "# С помощью лист комперхеншена\n",
    "#----- Ваш код здесь ----"
   ]
  },
  {
   "cell_type": "code",
   "execution_count": null,
   "metadata": {},
   "outputs": [],
   "source": [
    "# Создайте генератор последовательность элементов от 0 до 30 в \n",
    "# Сохраните ее в переменную result\n",
    "#----- Ваш код здесь ----\n",
    "# Выведите первые 5 элементов result с помощью функции next()\n",
    "#----- Ваш код здесь ----\n",
    "# Выведете оставшиеся элементы с помощью цикла\n",
    "#----- Ваш код здесь ----\n"
   ]
  },
  {
   "cell_type": "code",
   "execution_count": null,
   "metadata": {},
   "outputs": [],
   "source": [
    "# Дан список fellowship \n",
    "fellowship = ['frodo', 'samwise', 'merry', 'aragorn', 'legolas', 'boromir', 'gimli']\n",
    "\n",
    "# Создайте новый список new_fellowship из fellowship если длина элемента больше или равна 7\n",
    "#----- Ваш код здесь ----\n",
    "\n",
    "# Выведите new_fellowship\n",
    "#----- Ваш код здесь ----\n"
   ]
  },
  {
   "cell_type": "code",
   "execution_count": 253,
   "metadata": {},
   "outputs": [],
   "source": [
    "# Данн список строк\n",
    "lannister = ['cersei', 'jaime', 'tywin', 'tyrion', 'joffrey']\n",
    "\n",
    "# Создайте объект генератор из длин елементов списка\n",
    "#----- Ваш код здесь ----\n",
    "\n",
    "# Выведите значения lengths с помощью цикла\n",
    "#----- Ваш код здесь ----"
   ]
  },
  {
   "cell_type": "markdown",
   "metadata": {},
   "source": [
    "### Функции"
   ]
  },
  {
   "cell_type": "code",
   "execution_count": 12,
   "metadata": {},
   "outputs": [],
   "source": [
    "def hello_maker():\n",
    "    \n",
    "    \"\"\"\n",
    "    Функция выдает приветствие\n",
    "    \"\"\"\n",
    "    print('hello')"
   ]
  },
  {
   "cell_type": "code",
   "execution_count": 16,
   "metadata": {},
   "outputs": [],
   "source": [
    "def plus10(x):\n",
    "    a = x + 10\n",
    "    return a"
   ]
  },
  {
   "cell_type": "code",
   "execution_count": 15,
   "metadata": {},
   "outputs": [
    {
     "name": "stdout",
     "output_type": "stream",
     "text": [
      "hello\n",
      "hello\n",
      "hello\n",
      "hello\n",
      "hello\n",
      "hello\n",
      "hello\n",
      "hello\n",
      "hello\n",
      "hello\n"
     ]
    }
   ],
   "source": [
    "for _ in range(10):\n",
    "    hello_maker()"
   ]
  },
  {
   "cell_type": "code",
   "execution_count": 108,
   "metadata": {},
   "outputs": [],
   "source": [
    "zoo_animals = ['monkey', 'lion', 'elephant', 'bear']\n",
    "\n",
    "def zoo_checker(zoo, animal):\n",
    "    if animal in zoo:\n",
    "        print('{} live in the zoo'.format(animal))\n",
    "    else:\n",
    "        print('{} live in the jungle'.format(animal))"
   ]
  },
  {
   "cell_type": "code",
   "execution_count": 109,
   "metadata": {},
   "outputs": [
    {
     "name": "stdout",
     "output_type": "stream",
     "text": [
      "monkey live in the zoo\n"
     ]
    }
   ],
   "source": [
    "zoo_checker(zoo=['monkey', 'lion', 'elephant', 'bear'], animal='monkey')"
   ]
  },
  {
   "cell_type": "code",
   "execution_count": 110,
   "metadata": {
    "scrolled": true
   },
   "outputs": [
    {
     "name": "stdout",
     "output_type": "stream",
     "text": [
      "python live in the jungle\n"
     ]
    }
   ],
   "source": [
    "zoo_checker(zoo_animals, 'python')"
   ]
  },
  {
   "cell_type": "code",
   "execution_count": 111,
   "metadata": {},
   "outputs": [],
   "source": [
    "# Когда мы не знаем все аргументы, которые передаются в функцию\n",
    "def hello_maker2(*args):\n",
    "    for name in args:\n",
    "        print('Hi {}'.format(name))"
   ]
  },
  {
   "cell_type": "code",
   "execution_count": 119,
   "metadata": {},
   "outputs": [
    {
     "name": "stdout",
     "output_type": "stream",
     "text": [
      "Hi Peter\n",
      "Hi John\n",
      "Hi Jack\n",
      "Hi Everybody\n"
     ]
    }
   ],
   "source": [
    "hello_maker2('Peter', 'John', 'Jack', 'Everybody')"
   ]
  },
  {
   "cell_type": "code",
   "execution_count": 117,
   "metadata": {},
   "outputs": [],
   "source": [
    "# В функциях важно прописывать комментарии в docstring\n",
    "def hello_maker2(*args):\n",
    "    \n",
    "    \"\"\"\n",
    "    Приветсвует всех по передаваемым в качестве аргументов именам\n",
    "    \"\"\"\n",
    "    for name in args:\n",
    "        print('Hi {}'.format(name))"
   ]
  },
  {
   "cell_type": "code",
   "execution_count": 120,
   "metadata": {},
   "outputs": [
    {
     "name": "stdout",
     "output_type": "stream",
     "text": [
      "Hi Dude\n"
     ]
    }
   ],
   "source": [
    "hello_maker2('Dude')"
   ]
  },
  {
   "cell_type": "code",
   "execution_count": 36,
   "metadata": {},
   "outputs": [],
   "source": [
    "# Напишите 2 функции, которые будут переводить сообщение посимвольно в цифры и обратно \n",
    "# Используйтпе ord и chr\n",
    "# Должно получиться что-то подобное:\n",
    "# Сообщение: Houston, we have a problem -> [72,111,117,115,..., 32,98,108,101,109]\n",
    "# [72,111,117,115,..., 32,98,108,101,109] -> Houston, we have a problem\n",
    "\n"
   ]
  },
  {
   "cell_type": "markdown",
   "metadata": {},
   "source": [
    "### Анонимные функции "
   ]
  },
  {
   "cell_type": "code",
   "execution_count": 38,
   "metadata": {},
   "outputs": [
    {
     "data": {
      "text/plain": [
       "6"
      ]
     },
     "execution_count": 38,
     "metadata": {},
     "output_type": "execute_result"
    }
   ],
   "source": [
    "lamfunc = lambda x:x*2\n",
    "lamfunc(3)"
   ]
  },
  {
   "cell_type": "code",
   "execution_count": 39,
   "metadata": {},
   "outputs": [
    {
     "data": {
      "text/plain": [
       "10"
      ]
     },
     "execution_count": 39,
     "metadata": {},
     "output_type": "execute_result"
    }
   ],
   "source": [
    "lamfunc_y = lambda x, y: x*2 + y\n",
    "lamfunc_y(3,4)"
   ]
  },
  {
   "cell_type": "code",
   "execution_count": 37,
   "metadata": {},
   "outputs": [
    {
     "data": {
      "text/plain": [
       "[('Гинес', 100), ('Шпатен', 90), ('Хугарден', 70), ('Жигулевское', 10)]"
      ]
     },
     "execution_count": 37,
     "metadata": {},
     "output_type": "execute_result"
    }
   ],
   "source": [
    "# Пример использования лямбда функции для сортировки словаря\n",
    "beers = {'Жигулевское':10, 'Гинес':100, 'Хугарден':70, 'Шпатен':90}\n",
    "sorted(beers.items(), key=lambda x:x[1], reverse=True)"
   ]
  },
  {
   "cell_type": "code",
   "execution_count": null,
   "metadata": {},
   "outputs": [],
   "source": []
  },
  {
   "cell_type": "markdown",
   "metadata": {},
   "source": [
    "### Map"
   ]
  },
  {
   "cell_type": "code",
   "execution_count": 14,
   "metadata": {},
   "outputs": [
    {
     "data": {
      "text/plain": [
       "[1, 4, 9, 16]"
      ]
     },
     "execution_count": 14,
     "metadata": {},
     "output_type": "execute_result"
    }
   ],
   "source": [
    "# map может применить функцию ко всем элеметам списка\n",
    "# Результаы можно выевести в виде списка\n",
    "list(map(lambda x:x**2, [1,2,3,4]))"
   ]
  },
  {
   "cell_type": "code",
   "execution_count": 130,
   "metadata": {},
   "outputs": [
    {
     "data": {
      "text/plain": [
       "(1, 4, 9, 16)"
      ]
     },
     "execution_count": 130,
     "metadata": {},
     "output_type": "execute_result"
    }
   ],
   "source": [
    "# Кортежа\n",
    "tuple(map(lambda x:x**2, [1,2,3,4]))"
   ]
  },
  {
   "cell_type": "code",
   "execution_count": 18,
   "metadata": {},
   "outputs": [
    {
     "data": {
      "text/plain": [
       "{1, 4, 9, 16}"
      ]
     },
     "execution_count": 18,
     "metadata": {},
     "output_type": "execute_result"
    }
   ],
   "source": [
    "# Множества\n",
    "set(map(lambda x:x**2, [1,2,3,4]))"
   ]
  },
  {
   "cell_type": "code",
   "execution_count": 19,
   "metadata": {},
   "outputs": [
    {
     "name": "stdout",
     "output_type": "stream",
     "text": [
      "[0, 0]\n",
      "[1, 2]\n",
      "[4, 4]\n",
      "[9, 6]\n",
      "[16, 8]\n"
     ]
    }
   ],
   "source": [
    "# В map можно передовать список из функций\n",
    "def multiply(x):\n",
    "    return (x*x)\n",
    "\n",
    "def add(x):\n",
    "    return (x+x)\n",
    "\n",
    "funcs = [multiply, add]\n",
    "for i in range(5):\n",
    "    value = list(map(lambda x: x(i), funcs))\n",
    "    print(value)"
   ]
  },
  {
   "cell_type": "markdown",
   "metadata": {},
   "source": [
    "### Filter"
   ]
  },
  {
   "cell_type": "code",
   "execution_count": 40,
   "metadata": {},
   "outputs": [
    {
     "name": "stdout",
     "output_type": "stream",
     "text": [
      "[-5, -4, -3, -2, -1]\n"
     ]
    }
   ],
   "source": [
    "# С помощью filter можно проверять элементы списка на выполнение условий\n",
    "# условие выполняется - True\n",
    "number_list = list(range(-5, 5))\n",
    "less_than_zero = list(filter(lambda x: x < 0, number_list))\n",
    "print(less_than_zero)"
   ]
  },
  {
   "cell_type": "markdown",
   "metadata": {},
   "source": [
    "### Reduce"
   ]
  },
  {
   "cell_type": "code",
   "execution_count": 134,
   "metadata": {},
   "outputs": [
    {
     "data": {
      "text/plain": [
       "24"
      ]
     },
     "execution_count": 134,
     "metadata": {},
     "output_type": "execute_result"
    }
   ],
   "source": [
    "# Может быть полезен когда нужно получить результат вычислений с элементами списка\n",
    "product = 1\n",
    "list = [1, 2, 3, 4]\n",
    "for num in list:\n",
    "    product = product * num\n",
    "\n",
    "product"
   ]
  },
  {
   "cell_type": "code",
   "execution_count": 135,
   "metadata": {},
   "outputs": [
    {
     "data": {
      "text/plain": [
       "24"
      ]
     },
     "execution_count": 135,
     "metadata": {},
     "output_type": "execute_result"
    }
   ],
   "source": [
    "from functools import reduce\n",
    "product = reduce((lambda x, y: x * y), [1, 2, 3, 4])\n",
    "product"
   ]
  },
  {
   "cell_type": "markdown",
   "metadata": {},
   "source": [
    "# zip "
   ]
  },
  {
   "cell_type": "code",
   "execution_count": 104,
   "metadata": {},
   "outputs": [
    {
     "data": {
      "text/plain": [
       "{'Bavaria': 10, 'Corona': 20, 'Ragegast': 30, 'Lambic': 40, 'Perroni': 50}"
      ]
     },
     "execution_count": 104,
     "metadata": {},
     "output_type": "execute_result"
    }
   ],
   "source": [
    "# для создания словарей из 2х списков удобно пользоваться функцией zip\n",
    "alist = [x for x in range(10,60,10)]\n",
    "newdict = dict(zip(beerlist, alist))\n",
    "newdict"
   ]
  },
  {
   "cell_type": "markdown",
   "metadata": {},
   "source": [
    "# Про Pandas"
   ]
  },
  {
   "cell_type": "markdown",
   "metadata": {},
   "source": [
    "<img src=\"img\\pandas_pic.jpg\" width =700 aling='left'>"
   ]
  },
  {
   "cell_type": "code",
   "execution_count": 208,
   "metadata": {},
   "outputs": [],
   "source": [
    "import pandas as pd\n",
    "import numpy as np\n",
    "pizza = pd.read_csv('Datafiniti_Pizza_Restaurants_and_the_Pizza_They_Sell_May19.csv')"
   ]
  },
  {
   "cell_type": "code",
   "execution_count": 209,
   "metadata": {},
   "outputs": [
    {
     "data": {
      "text/html": [
       "<div>\n",
       "<style scoped>\n",
       "    .dataframe tbody tr th:only-of-type {\n",
       "        vertical-align: middle;\n",
       "    }\n",
       "\n",
       "    .dataframe tbody tr th {\n",
       "        vertical-align: top;\n",
       "    }\n",
       "\n",
       "    .dataframe thead th {\n",
       "        text-align: right;\n",
       "    }\n",
       "</style>\n",
       "<table border=\"1\" class=\"dataframe\">\n",
       "  <thead>\n",
       "    <tr style=\"text-align: right;\">\n",
       "      <th></th>\n",
       "      <th>id</th>\n",
       "      <th>dateAdded</th>\n",
       "      <th>dateUpdated</th>\n",
       "      <th>address</th>\n",
       "      <th>categories</th>\n",
       "      <th>primaryCategories</th>\n",
       "      <th>city</th>\n",
       "      <th>country</th>\n",
       "      <th>keys</th>\n",
       "      <th>latitude</th>\n",
       "      <th>...</th>\n",
       "      <th>menus.currency</th>\n",
       "      <th>menus.dateSeen</th>\n",
       "      <th>menus.description</th>\n",
       "      <th>menus.name</th>\n",
       "      <th>name</th>\n",
       "      <th>postalCode</th>\n",
       "      <th>priceRangeCurrency</th>\n",
       "      <th>priceRangeMin</th>\n",
       "      <th>priceRangeMax</th>\n",
       "      <th>province</th>\n",
       "    </tr>\n",
       "  </thead>\n",
       "  <tbody>\n",
       "    <tr>\n",
       "      <th>0</th>\n",
       "      <td>AVz3Y-7h3D1zeR_xDAqm</td>\n",
       "      <td>2017-06-30T05:05:40Z</td>\n",
       "      <td>2019-05-01T15:43:09Z</td>\n",
       "      <td>4203 E Kiehl Ave</td>\n",
       "      <td>Pizza,Restaurant,American restaurants,Pizza Pl...</td>\n",
       "      <td>Accommodation &amp; Food Services</td>\n",
       "      <td>Sherwood</td>\n",
       "      <td>US</td>\n",
       "      <td>us/ar/sherwood/4203ekiehlave/-1051391616</td>\n",
       "      <td>34.832300</td>\n",
       "      <td>...</td>\n",
       "      <td>USD</td>\n",
       "      <td>2018-05-01T04:25:37.197Z,2018-04-16T04:36:02.3...</td>\n",
       "      <td>NaN</td>\n",
       "      <td>Cheese Pizza</td>\n",
       "      <td>Shotgun Dans Pizza</td>\n",
       "      <td>72120</td>\n",
       "      <td>USD</td>\n",
       "      <td>0</td>\n",
       "      <td>25</td>\n",
       "      <td>AR</td>\n",
       "    </tr>\n",
       "    <tr>\n",
       "      <th>1</th>\n",
       "      <td>AVweGPFF_7pvs4fzAAzQ</td>\n",
       "      <td>2016-04-02T04:02:49Z</td>\n",
       "      <td>2019-05-01T15:27:50Z</td>\n",
       "      <td>25 E Camelback Rd</td>\n",
       "      <td>Pizza,Pizza Place,Restaurants</td>\n",
       "      <td>Accommodation &amp; Food Services</td>\n",
       "      <td>Phoenix</td>\n",
       "      <td>US</td>\n",
       "      <td>us/az/phoenix/25ecamelbackrd/-727422936</td>\n",
       "      <td>33.509266</td>\n",
       "      <td>...</td>\n",
       "      <td>USD</td>\n",
       "      <td>2018-03-03T02:38:06.381Z,2018-01-18T20:18:10.0...</td>\n",
       "      <td>NaN</td>\n",
       "      <td>Pizza Cookie</td>\n",
       "      <td>Sauce Pizza Wine</td>\n",
       "      <td>85012</td>\n",
       "      <td>USD</td>\n",
       "      <td>0</td>\n",
       "      <td>25</td>\n",
       "      <td>AZ</td>\n",
       "    </tr>\n",
       "  </tbody>\n",
       "</table>\n",
       "<p>2 rows × 24 columns</p>\n",
       "</div>"
      ],
      "text/plain": [
       "                     id             dateAdded           dateUpdated  \\\n",
       "0  AVz3Y-7h3D1zeR_xDAqm  2017-06-30T05:05:40Z  2019-05-01T15:43:09Z   \n",
       "1  AVweGPFF_7pvs4fzAAzQ  2016-04-02T04:02:49Z  2019-05-01T15:27:50Z   \n",
       "\n",
       "             address                                         categories  \\\n",
       "0   4203 E Kiehl Ave  Pizza,Restaurant,American restaurants,Pizza Pl...   \n",
       "1  25 E Camelback Rd                      Pizza,Pizza Place,Restaurants   \n",
       "\n",
       "               primaryCategories      city country  \\\n",
       "0  Accommodation & Food Services  Sherwood      US   \n",
       "1  Accommodation & Food Services   Phoenix      US   \n",
       "\n",
       "                                       keys   latitude  ...  menus.currency  \\\n",
       "0  us/ar/sherwood/4203ekiehlave/-1051391616  34.832300  ...             USD   \n",
       "1   us/az/phoenix/25ecamelbackrd/-727422936  33.509266  ...             USD   \n",
       "\n",
       "                                      menus.dateSeen  menus.description  \\\n",
       "0  2018-05-01T04:25:37.197Z,2018-04-16T04:36:02.3...                NaN   \n",
       "1  2018-03-03T02:38:06.381Z,2018-01-18T20:18:10.0...                NaN   \n",
       "\n",
       "     menus.name                name postalCode priceRangeCurrency  \\\n",
       "0  Cheese Pizza  Shotgun Dans Pizza      72120                USD   \n",
       "1  Pizza Cookie    Sauce Pizza Wine      85012                USD   \n",
       "\n",
       "  priceRangeMin priceRangeMax province  \n",
       "0             0            25       AR  \n",
       "1             0            25       AZ  \n",
       "\n",
       "[2 rows x 24 columns]"
      ]
     },
     "execution_count": 209,
     "metadata": {},
     "output_type": "execute_result"
    }
   ],
   "source": [
    "# Первые строчки таблицы\n",
    "pizza.head(2)"
   ]
  },
  {
   "cell_type": "code",
   "execution_count": 210,
   "metadata": {},
   "outputs": [
    {
     "name": "stdout",
     "output_type": "stream",
     "text": [
      "<class 'pandas.core.frame.DataFrame'>\n",
      "RangeIndex: 10000 entries, 0 to 9999\n",
      "Data columns (total 24 columns):\n",
      "id                    10000 non-null object\n",
      "dateAdded             10000 non-null object\n",
      "dateUpdated           10000 non-null object\n",
      "address               10000 non-null object\n",
      "categories            10000 non-null object\n",
      "primaryCategories     10000 non-null object\n",
      "city                  10000 non-null object\n",
      "country               10000 non-null object\n",
      "keys                  10000 non-null object\n",
      "latitude              10000 non-null float64\n",
      "longitude             10000 non-null float64\n",
      "menuPageURL           1679 non-null object\n",
      "menus.amountMax       10000 non-null float64\n",
      "menus.amountMin       10000 non-null float64\n",
      "menus.currency        10000 non-null object\n",
      "menus.dateSeen        10000 non-null object\n",
      "menus.description     3718 non-null object\n",
      "menus.name            10000 non-null object\n",
      "name                  10000 non-null object\n",
      "postalCode            9996 non-null object\n",
      "priceRangeCurrency    10000 non-null object\n",
      "priceRangeMin         10000 non-null int64\n",
      "priceRangeMax         10000 non-null int64\n",
      "province              10000 non-null object\n",
      "dtypes: float64(4), int64(2), object(18)\n",
      "memory usage: 1.8+ MB\n"
     ]
    }
   ],
   "source": [
    "# Информация о таблице\n",
    "pizza.info()"
   ]
  },
  {
   "cell_type": "code",
   "execution_count": 211,
   "metadata": {},
   "outputs": [],
   "source": [
    "# Если нужно удалить колонки\n",
    "pizza = pizza.drop('menus.dateSeen', axis=1)"
   ]
  },
  {
   "cell_type": "code",
   "execution_count": 212,
   "metadata": {},
   "outputs": [
    {
     "data": {
      "text/plain": [
       "Index(['id', 'dateAdded', 'dateUpdated', 'address', 'categories',\n",
       "       'primaryCategories', 'city', 'country', 'keys', 'latitude', 'longitude',\n",
       "       'menuPageURL', 'menus.amountMax', 'menus.amountMin', 'menus.currency',\n",
       "       'menus.description', 'menus.name', 'name', 'postalCode',\n",
       "       'priceRangeCurrency', 'priceRangeMin', 'priceRangeMax', 'province'],\n",
       "      dtype='object')"
      ]
     },
     "execution_count": 212,
     "metadata": {},
     "output_type": "execute_result"
    }
   ],
   "source": [
    "# Выводим названия колонок\n",
    "pizza.columns"
   ]
  },
  {
   "cell_type": "code",
   "execution_count": 213,
   "metadata": {},
   "outputs": [
    {
     "data": {
      "text/plain": [
       "1827"
      ]
     },
     "execution_count": 213,
     "metadata": {},
     "output_type": "execute_result"
    }
   ],
   "source": [
    "# Количество уникальных значений\n",
    "pizza.name.nunique()"
   ]
  },
  {
   "cell_type": "code",
   "execution_count": 214,
   "metadata": {},
   "outputs": [
    {
     "data": {
      "text/plain": [
       "array(['US'], dtype=object)"
      ]
     },
     "execution_count": 214,
     "metadata": {},
     "output_type": "execute_result"
    }
   ],
   "source": [
    "# Уникальные значения в колонке\n",
    "pizza.country.unique()"
   ]
  },
  {
   "cell_type": "code",
   "execution_count": 216,
   "metadata": {},
   "outputs": [],
   "source": [
    "# Группируем с помощью groupby\n",
    "# количество уникальных названий по регионам \n",
    "pizzaz_by_province = pizza.groupby('province')['name'].nunique().reset_index()"
   ]
  },
  {
   "cell_type": "code",
   "execution_count": 217,
   "metadata": {},
   "outputs": [
    {
     "data": {
      "text/plain": [
       "Index(['province', 'name'], dtype='object')"
      ]
     },
     "execution_count": 217,
     "metadata": {},
     "output_type": "execute_result"
    }
   ],
   "source": [
    "# проверяем названия колонок\n",
    "pizzaz_by_province.columns"
   ]
  },
  {
   "cell_type": "code",
   "execution_count": 218,
   "metadata": {},
   "outputs": [],
   "source": [
    "# Меняем названия на те что нам нравятся\n",
    "pizzaz_by_province.columns = ['province', 'quantity']"
   ]
  },
  {
   "cell_type": "code",
   "execution_count": 219,
   "metadata": {},
   "outputs": [],
   "source": [
    "# Сортируем по полю quantity\n",
    "pizzaz_by_province.sort_values(by='quantity', ascending=False, inplace=True)"
   ]
  },
  {
   "cell_type": "code",
   "execution_count": 220,
   "metadata": {},
   "outputs": [
    {
     "data": {
      "text/html": [
       "<div>\n",
       "<style scoped>\n",
       "    .dataframe tbody tr th:only-of-type {\n",
       "        vertical-align: middle;\n",
       "    }\n",
       "\n",
       "    .dataframe tbody tr th {\n",
       "        vertical-align: top;\n",
       "    }\n",
       "\n",
       "    .dataframe thead th {\n",
       "        text-align: right;\n",
       "    }\n",
       "</style>\n",
       "<table border=\"1\" class=\"dataframe\">\n",
       "  <thead>\n",
       "    <tr style=\"text-align: right;\">\n",
       "      <th></th>\n",
       "      <th>province</th>\n",
       "      <th>quantity</th>\n",
       "    </tr>\n",
       "  </thead>\n",
       "  <tbody>\n",
       "    <tr>\n",
       "      <th>30</th>\n",
       "      <td>NY</td>\n",
       "      <td>395</td>\n",
       "    </tr>\n",
       "    <tr>\n",
       "      <th>4</th>\n",
       "      <td>CA</td>\n",
       "      <td>219</td>\n",
       "    </tr>\n",
       "    <tr>\n",
       "      <th>34</th>\n",
       "      <td>PA</td>\n",
       "      <td>172</td>\n",
       "    </tr>\n",
       "    <tr>\n",
       "      <th>8</th>\n",
       "      <td>FL</td>\n",
       "      <td>145</td>\n",
       "    </tr>\n",
       "    <tr>\n",
       "      <th>38</th>\n",
       "      <td>TX</td>\n",
       "      <td>117</td>\n",
       "    </tr>\n",
       "  </tbody>\n",
       "</table>\n",
       "</div>"
      ],
      "text/plain": [
       "   province  quantity\n",
       "30       NY       395\n",
       "4        CA       219\n",
       "34       PA       172\n",
       "8        FL       145\n",
       "38       TX       117"
      ]
     },
     "execution_count": 220,
     "metadata": {},
     "output_type": "execute_result"
    }
   ],
   "source": [
    "pizzaz_by_province.head()"
   ]
  },
  {
   "cell_type": "code",
   "execution_count": 221,
   "metadata": {},
   "outputs": [],
   "source": [
    "# Размечаем те регионы, где много пиццерий с помощью numpy\n",
    "pizzaz_by_province['many_or_not_many'] = np.where(pizzaz_by_province.quantity > 100, 1, 0)\n",
    "# pizzaz_by_province['many_or_not_many'] = np.where(pizzaz_by_province.quantity > 100, 'many', 'not_many')"
   ]
  },
  {
   "cell_type": "code",
   "execution_count": 222,
   "metadata": {},
   "outputs": [],
   "source": [
    "# Размечаем те регионы, где много пиццерий с помощью pandas\n",
    "\n",
    "# Неправильный вариант\n",
    "# pizzaz_by_province[pizzaz_by_province['quantity'] > 100]['many_or_not_many_pd'] = 1\n",
    "# pizzaz_by_province[pizzaz_by_province['quantity'] <=100]['many_or_not_many_pd'] = 0\n",
    "\n",
    "# Правильный вариант\n",
    "pizzaz_by_province.loc[pizzaz_by_province['quantity'] > 100, 'many_or_not_many_pd'] = 1\n",
    "pizzaz_by_province.loc[pizzaz_by_province['quantity'] <= 100, 'many_or_not_many_pd'] = 0"
   ]
  },
  {
   "cell_type": "code",
   "execution_count": 223,
   "metadata": {},
   "outputs": [],
   "source": [
    "# Меняем тип данных в колонке\n",
    "pizzaz_by_province['many_or_not_many_pd'] = pizzaz_by_province['many_or_not_many_pd'].astype('int')"
   ]
  },
  {
   "cell_type": "code",
   "execution_count": 237,
   "metadata": {},
   "outputs": [
    {
     "data": {
      "text/plain": [
       "46.29545454545455"
      ]
     },
     "execution_count": 237,
     "metadata": {},
     "output_type": "execute_result"
    }
   ],
   "source": [
    "# Рассчитываем сумму или среднее значение по колонке\n",
    "pizzaz_by_province.quantity.sum()\n",
    "pizzaz_by_province.quantity.mean()"
   ]
  },
  {
   "cell_type": "code",
   "execution_count": null,
   "metadata": {},
   "outputs": [],
   "source": [
    "# Применение функции к элекментам колонки"
   ]
  },
  {
   "cell_type": "code",
   "execution_count": 241,
   "metadata": {},
   "outputs": [],
   "source": [
    "def qdevtwo(x):\n",
    "    if int(x) % 2 == 0:\n",
    "        return 1\n",
    "    else:\n",
    "        return 0\n",
    "        \n",
    "pizzaz_by_province['dev2'] = pizzaz_by_province.quantity.apply(lambda x: qdevtwo(x))"
   ]
  },
  {
   "cell_type": "code",
   "execution_count": 248,
   "metadata": {},
   "outputs": [],
   "source": [
    "# Другой вариант(медленный)\n",
    "dev2list = []\n",
    "for i in range(pizzaz_by_province.shape[0]):\n",
    "    val =  pizzaz_by_province.iloc[i,1]\n",
    "    dev2list.append(qdevtwo(val))\n",
    "\n",
    "pizzaz_by_province['dev2_loop'] = dev2list"
   ]
  },
  {
   "cell_type": "code",
   "execution_count": 251,
   "metadata": {},
   "outputs": [
    {
     "data": {
      "text/html": [
       "<div>\n",
       "<style scoped>\n",
       "    .dataframe tbody tr th:only-of-type {\n",
       "        vertical-align: middle;\n",
       "    }\n",
       "\n",
       "    .dataframe tbody tr th {\n",
       "        vertical-align: top;\n",
       "    }\n",
       "\n",
       "    .dataframe thead th {\n",
       "        text-align: right;\n",
       "    }\n",
       "</style>\n",
       "<table border=\"1\" class=\"dataframe\">\n",
       "  <thead>\n",
       "    <tr style=\"text-align: right;\">\n",
       "      <th></th>\n",
       "      <th>province</th>\n",
       "      <th>quantity</th>\n",
       "      <th>many_or_not_many</th>\n",
       "      <th>many_or_not_many_pd</th>\n",
       "      <th>dev2</th>\n",
       "      <th>dev2_loop</th>\n",
       "    </tr>\n",
       "  </thead>\n",
       "  <tbody>\n",
       "    <tr>\n",
       "      <th>30</th>\n",
       "      <td>NY</td>\n",
       "      <td>395</td>\n",
       "      <td>1</td>\n",
       "      <td>1</td>\n",
       "      <td>0</td>\n",
       "      <td>0</td>\n",
       "    </tr>\n",
       "    <tr>\n",
       "      <th>4</th>\n",
       "      <td>CA</td>\n",
       "      <td>219</td>\n",
       "      <td>1</td>\n",
       "      <td>1</td>\n",
       "      <td>0</td>\n",
       "      <td>0</td>\n",
       "    </tr>\n",
       "    <tr>\n",
       "      <th>34</th>\n",
       "      <td>PA</td>\n",
       "      <td>172</td>\n",
       "      <td>1</td>\n",
       "      <td>1</td>\n",
       "      <td>1</td>\n",
       "      <td>1</td>\n",
       "    </tr>\n",
       "    <tr>\n",
       "      <th>8</th>\n",
       "      <td>FL</td>\n",
       "      <td>145</td>\n",
       "      <td>1</td>\n",
       "      <td>1</td>\n",
       "      <td>0</td>\n",
       "      <td>0</td>\n",
       "    </tr>\n",
       "    <tr>\n",
       "      <th>38</th>\n",
       "      <td>TX</td>\n",
       "      <td>117</td>\n",
       "      <td>1</td>\n",
       "      <td>1</td>\n",
       "      <td>0</td>\n",
       "      <td>0</td>\n",
       "    </tr>\n",
       "  </tbody>\n",
       "</table>\n",
       "</div>"
      ],
      "text/plain": [
       "   province  quantity  many_or_not_many  many_or_not_many_pd  dev2  dev2_loop\n",
       "30       NY       395                 1                    1     0          0\n",
       "4        CA       219                 1                    1     0          0\n",
       "34       PA       172                 1                    1     1          1\n",
       "8        FL       145                 1                    1     0          0\n",
       "38       TX       117                 1                    1     0          0"
      ]
     },
     "execution_count": 251,
     "metadata": {},
     "output_type": "execute_result"
    }
   ],
   "source": [
    "pizzaz_by_province.head()"
   ]
  },
  {
   "cell_type": "markdown",
   "metadata": {},
   "source": [
    "# Практическое задание"
   ]
  },
  {
   "cell_type": "code",
   "execution_count": null,
   "metadata": {},
   "outputs": [],
   "source": [
    "#1. Взять датасет c пицериями и ублать лишние колонки :\n",
    "#   'dateAdded', 'dateUpdated', 'address', 'keys',\n",
    "#  'latitude', 'longitude','menuPageURL', 'menus.amountMax',\n",
    "#  'menus.amountMin', 'postalCode', 'priceRangeCurrency'\n",
    "\n",
    "#----- Ваш код здесь ----"
   ]
  },
  {
   "cell_type": "code",
   "execution_count": null,
   "metadata": {},
   "outputs": [],
   "source": [
    "# 2. Заменить значения в колонке country c US на RU\n",
    "#----- Ваш код здесь ----"
   ]
  },
  {
   "cell_type": "code",
   "execution_count": null,
   "metadata": {},
   "outputs": [],
   "source": [
    "# 3. Добавить значения в колонке menus.currency RUB, а в тех регионах, где пицерий меньше 10 добавить BTC\n",
    "#----- Ваш код здесь ----"
   ]
  },
  {
   "cell_type": "code",
   "execution_count": null,
   "metadata": {},
   "outputs": [],
   "source": [
    "# 4. Рассчитайте количество пицерий в городе 'Santa Barbara' в переменную sb_pizza_num\n",
    "#----- Ваш код здесь ----"
   ]
  },
  {
   "cell_type": "code",
   "execution_count": null,
   "metadata": {},
   "outputs": [],
   "source": [
    "# 5. Рассчитайте количество пицерий в Калифорнии (province == CA) в ca_pizza_num\n",
    "#----- Ваш код здесь ----"
   ]
  },
  {
   "cell_type": "code",
   "execution_count": null,
   "metadata": {},
   "outputs": [],
   "source": [
    "# 6. Рассчитайте и выведите долю 'Santa Barbara' в пицериях Калифорнии\n",
    "#----- Ваш код здесь ----"
   ]
  },
  {
   "cell_type": "code",
   "execution_count": null,
   "metadata": {},
   "outputs": [],
   "source": [
    "# 7. Рассчитайте средние значения priceRangeMin и priceRangeMax по primaryCategories\n",
    "#----- Ваш код здесь ----"
   ]
  },
  {
   "cell_type": "code",
   "execution_count": null,
   "metadata": {},
   "outputs": [],
   "source": [
    "# 8. Выведите топ-5 самых популярных названий пицц по menus.name\n",
    "#----- Ваш код здесь ----"
   ]
  },
  {
   "cell_type": "code",
   "execution_count": null,
   "metadata": {},
   "outputs": [],
   "source": [
    "# 9. Выведите самый редкий ингридиент из описания menus.description (опционально)\n",
    "#----- Ваш код здесь ----"
   ]
  },
  {
   "cell_type": "code",
   "execution_count": null,
   "metadata": {},
   "outputs": [],
   "source": [
    "# 10. Создайте директорию pizza_provinces\n",
    "#----- Ваш код здесь ----"
   ]
  },
  {
   "cell_type": "code",
   "execution_count": null,
   "metadata": {},
   "outputs": [],
   "source": [
    "# 11. Сохраните в эту директорию файлы с пицериями по регионам provinces \n",
    "# В задании важно учесть условие:\n",
    "#  Если регион начинается \"A\" то файл .xlsx, если 'N' то .csv, в остальных случаях .txt\n",
    "#  Пример: 'AR.xlsx' содержит в себе все пицерии из региона 'AR'\n",
    "\n",
    "#----- Ваш код здесь ----"
   ]
  },
  {
   "cell_type": "code",
   "execution_count": null,
   "metadata": {},
   "outputs": [],
   "source": [
    "# 12. Напишите функцию, которая на вход будет принимать регион, а на выходе выдавать город, где больше всего пцццерий\n",
    "#----- Ваш код здесь ----"
   ]
  },
  {
   "cell_type": "code",
   "execution_count": 226,
   "metadata": {},
   "outputs": [],
   "source": [
    "# 13. Рассчитайте и запишите в колонку city_len количество символов в названии города 2мя способами\n",
    "#----- Ваш код здесь ----"
   ]
  }
 ],
 "metadata": {
  "kernelspec": {
   "display_name": "Python 3",
   "language": "python",
   "name": "python3"
  },
  "language_info": {
   "codemirror_mode": {
    "name": "ipython",
    "version": 3
   },
   "file_extension": ".py",
   "mimetype": "text/x-python",
   "name": "python",
   "nbconvert_exporter": "python",
   "pygments_lexer": "ipython3",
   "version": "3.7.3"
  }
 },
 "nbformat": 4,
 "nbformat_minor": 2
}
