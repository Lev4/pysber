{
 "cells": [
  {
   "cell_type": "markdown",
   "metadata": {},
   "source": [
    "# Циклы, тернарные операторы, функции"
   ]
  },
  {
   "cell_type": "markdown",
   "metadata": {},
   "source": [
    "### Логические операторы"
   ]
  },
  {
   "cell_type": "markdown",
   "metadata": {},
   "source": [
    "* and \n",
    "* or \n",
    "* not \n",
    "* in\n",
    "* not in\n",
    "* Выполняется ли равенство ==  \n",
    "* Выполняется ли неравенство !=\n",
    "* Больше или меньше  >< >= <=\n"
   ]
  },
  {
   "cell_type": "markdown",
   "metadata": {},
   "source": [
    "#### Тернарные операторы"
   ]
  },
  {
   "cell_type": "code",
   "execution_count": 1,
   "metadata": {
    "scrolled": true
   },
   "outputs": [
    {
     "data": {
      "text/plain": [
       "False"
      ]
     },
     "execution_count": 1,
     "metadata": {},
     "output_type": "execute_result"
    }
   ],
   "source": [
    "# проверят выполняется ли условие\n",
    "True != True"
   ]
  },
  {
   "cell_type": "code",
   "execution_count": 2,
   "metadata": {},
   "outputs": [
    {
     "name": "stdout",
     "output_type": "stream",
     "text": [
      "+\n"
     ]
    }
   ],
   "source": [
    "# if\n",
    "a = 10\n",
    "if a > 0:\n",
    "    print('+')"
   ]
  },
  {
   "cell_type": "code",
   "execution_count": 3,
   "metadata": {},
   "outputs": [
    {
     "name": "stdout",
     "output_type": "stream",
     "text": [
      "-\n"
     ]
    }
   ],
   "source": [
    "# Дополнительное условие elif\n",
    "a = -8\n",
    "if a > 0:\n",
    "    print('+')\n",
    "elif -10 < a < -5 :\n",
    "    print('-')"
   ]
  },
  {
   "cell_type": "code",
   "execution_count": 4,
   "metadata": {},
   "outputs": [
    {
     "name": "stdout",
     "output_type": "stream",
     "text": [
      "---\n"
     ]
    }
   ],
   "source": [
    "# Еще одно дополнительное условие elif\n",
    "a = -10\n",
    "if a > 0:\n",
    "    print('+')\n",
    "elif -10 < a < -5 :\n",
    "    print('-')\n",
    "elif -15 < a <= -10  :\n",
    "    print('---')"
   ]
  },
  {
   "cell_type": "code",
   "execution_count": 5,
   "metadata": {},
   "outputs": [
    {
     "name": "stdout",
     "output_type": "stream",
     "text": [
      "...\n"
     ]
    }
   ],
   "source": [
    "# Альтернативное условие else\n",
    "a = 0\n",
    "if a > 0:\n",
    "    print('+')\n",
    "elif -10 < a < -5 :\n",
    "    print('-')\n",
    "elif -15 < a <= -10  :\n",
    "    print('---')\n",
    "else :\n",
    "    print('...')"
   ]
  },
  {
   "cell_type": "code",
   "execution_count": 6,
   "metadata": {},
   "outputs": [
    {
     "name": "stdout",
     "output_type": "stream",
     "text": [
      "Bavaria - Ой не забыть быть чипсоны\n",
      "Corona - Ой надо купить буррито!\n",
      "Ragegast - Ой не забыть быть чипсоны\n",
      "Lambic - Ой не забыть быть чипсоны\n",
      "Perroni - Ой надо взять пиццу\n"
     ]
    }
   ],
   "source": [
    "# пример использвоания if в цикле\n",
    "beerlist = ['Bavaria', 'Corona', 'Ragegast','Lambic', 'Perroni']\n",
    "for beer in beerlist:\n",
    "    if beer == 'Corona':\n",
    "        print('{} - Ой надо купить буррито!'.format(beer))\n",
    "    elif beer == 'Perroni':\n",
    "        print('{} - Ой надо взять пиццу'.format(beer))\n",
    "    else:\n",
    "        print('{} - Ой не забыть быть чипсоны'.format(beer))"
   ]
  },
  {
   "cell_type": "markdown",
   "metadata": {
    "collapsed": true
   },
   "source": [
    "### Циклы"
   ]
  },
  {
   "cell_type": "markdown",
   "metadata": {},
   "source": [
    "<img src=\"img\\eat_sleep.png\" align='left'>"
   ]
  },
  {
   "cell_type": "code",
   "execution_count": 7,
   "metadata": {},
   "outputs": [
    {
     "name": "stdout",
     "output_type": "stream",
     "text": [
      "fruit =  apple\n",
      "fruit =  banana\n",
      "fruit =  mango\n"
     ]
    }
   ],
   "source": [
    "# Для поочередного перебора элементов ЛЮБОЙ последовательности в Python есть специальный цикл\n",
    "# переменной fruit при каждой итерации(полном обороте) цикла присваиваются элементы поочереди\n",
    "fruits = ['apple','banana','mango']\n",
    "for fruit in fruits:  \n",
    "    print('fruit = ', fruit)"
   ]
  },
  {
   "cell_type": "code",
   "execution_count": 8,
   "metadata": {},
   "outputs": [
    {
     "name": "stdout",
     "output_type": "stream",
     "text": [
      "el =  H\n",
      "el =  e\n",
      "el =  l\n",
      "el =  l\n",
      "el =  o\n"
     ]
    }
   ],
   "source": [
    "# со строкой тоже работает\n",
    "for el in 'Hello':  \n",
    "    print('el = ', el)\n"
   ]
  },
  {
   "cell_type": "code",
   "execution_count": 9,
   "metadata": {},
   "outputs": [
    {
     "name": "stdout",
     "output_type": "stream",
     "text": [
      "t_el =  1\n",
      "t_el =  2\n",
      "t_el =  3\n",
      "t_el =  4\n",
      "t_el =  5\n",
      "t_el =  10\n"
     ]
    }
   ],
   "source": [
    "# и с кортежем\n",
    "for t_el in (1, 2, 3, 4, 5, 10):  \n",
    "    print('t_el = ', t_el)\n"
   ]
  },
  {
   "cell_type": "code",
   "execution_count": 10,
   "metadata": {},
   "outputs": [
    {
     "name": "stdout",
     "output_type": "stream",
     "text": [
      "el =  1\n"
     ]
    }
   ],
   "source": [
    "#  break позволяет выйти из цикла до его завершения\n",
    "for el in [1, 2, 'Hello', 4]:\n",
    "    print('el = ', el)\n",
    "    break"
   ]
  },
  {
   "cell_type": "code",
   "execution_count": 11,
   "metadata": {},
   "outputs": [
    {
     "name": "stdout",
     "output_type": "stream",
     "text": [
      "hheellll  wwrrlldd"
     ]
    }
   ],
   "source": [
    "# continue позволяет пропустить итерацию\n",
    "for i in 'hello world':\n",
    "    if i == 'o':\n",
    "        continue\n",
    "    print(i * 2, end='')"
   ]
  },
  {
   "cell_type": "code",
   "execution_count": 12,
   "metadata": {},
   "outputs": [
    {
     "name": "stdout",
     "output_type": "stream",
     "text": [
      "Буквы a в строке нет\n"
     ]
    }
   ],
   "source": [
    "# else может проверить выход из цикла с помощью break и выполнить инструкцию в этом случае\n",
    "for i in 'hello world':\n",
    "#     print(i)\n",
    "    if i == 'a':\n",
    "        break\n",
    "else:\n",
    "    print('Буквы a в строке нет')"
   ]
  },
  {
   "cell_type": "markdown",
   "metadata": {},
   "source": [
    "### Генератор последовательности range"
   ]
  },
  {
   "cell_type": "code",
   "execution_count": 13,
   "metadata": {},
   "outputs": [
    {
     "data": {
      "text/plain": [
       "range(0, 10)"
      ]
     },
     "execution_count": 13,
     "metadata": {},
     "output_type": "execute_result"
    }
   ],
   "source": [
    "x = range(10)\n",
    "x"
   ]
  },
  {
   "cell_type": "code",
   "execution_count": 14,
   "metadata": {},
   "outputs": [
    {
     "data": {
      "text/plain": [
       "range"
      ]
     },
     "execution_count": 14,
     "metadata": {},
     "output_type": "execute_result"
    }
   ],
   "source": [
    "type(x)"
   ]
  },
  {
   "cell_type": "code",
   "execution_count": 15,
   "metadata": {},
   "outputs": [
    {
     "data": {
      "text/plain": [
       "[10, 12, 14, 16, 18]"
      ]
     },
     "execution_count": 15,
     "metadata": {},
     "output_type": "execute_result"
    }
   ],
   "source": [
    "x = range(10, 20, 2)\n",
    "list(x)"
   ]
  },
  {
   "cell_type": "code",
   "execution_count": 16,
   "metadata": {},
   "outputs": [
    {
     "data": {
      "text/plain": [
       "[20, 18, 16, 14, 12]"
      ]
     },
     "execution_count": 16,
     "metadata": {},
     "output_type": "execute_result"
    }
   ],
   "source": [
    "x = range(20, 10, -2)\n",
    "list(x)"
   ]
  },
  {
   "cell_type": "code",
   "execution_count": 17,
   "metadata": {},
   "outputs": [
    {
     "name": "stdout",
     "output_type": "stream",
     "text": [
      "10\n",
      "8\n",
      "6\n",
      "4\n",
      "2\n"
     ]
    }
   ],
   "source": [
    "# for\n",
    "for i in range(10, 1, -2):\n",
    "    print(i)"
   ]
  },
  {
   "cell_type": "code",
   "execution_count": 18,
   "metadata": {},
   "outputs": [
    {
     "name": "stdout",
     "output_type": "stream",
     "text": [
      "[10, 20, 30, 40, 50]\n"
     ]
    }
   ],
   "source": [
    "alist = []\n",
    "for i in range(10,60,10):   \n",
    "    alist.append(i)\n",
    "print(alist)"
   ]
  },
  {
   "cell_type": "code",
   "execution_count": 19,
   "metadata": {},
   "outputs": [
    {
     "name": "stdout",
     "output_type": "stream",
     "text": [
      "fruit =  apple\n",
      "fruit =  banana\n",
      "fruit =  mango\n"
     ]
    }
   ],
   "source": [
    "# Перебор элементов по индексам\n",
    "fruits = ['apple', 'banana', 'mango']\n",
    "i = 0\n",
    "while len(fruits) > i:\n",
    "    print('fruit = ', fruits[i])\n",
    "    i += 1\n",
    "#     i = i + 1"
   ]
  },
  {
   "cell_type": "code",
   "execution_count": 20,
   "metadata": {},
   "outputs": [
    {
     "name": "stdout",
     "output_type": "stream",
     "text": [
      "9\n",
      "8\n",
      "7\n"
     ]
    }
   ],
   "source": [
    "n = 10\n",
    "while n > 0:\n",
    "    n -= 1\n",
    "    if n == 6:\n",
    "        continue\n",
    "    elif n == 5 :\n",
    "        break\n",
    "    print(n)"
   ]
  },
  {
   "cell_type": "code",
   "execution_count": 21,
   "metadata": {},
   "outputs": [
    {
     "name": "stdout",
     "output_type": "stream",
     "text": [
      "fruit =  apple\n",
      "fruit =  banana\n",
      "fruit =  mango\n"
     ]
    }
   ],
   "source": [
    "# переменной fruit при каждой итерации(полном обороте) цикла присваиваются элементы поочереди\n",
    "for fruit in fruits:  \n",
    "    print('fruit = ', fruit)"
   ]
  },
  {
   "cell_type": "code",
   "execution_count": 22,
   "metadata": {},
   "outputs": [
    {
     "name": "stdout",
     "output_type": "stream",
     "text": [
      "Bavaria\n",
      "Corona\n",
      "Ragegast\n",
      "Lambic\n",
      "Perroni\n"
     ]
    }
   ],
   "source": [
    "# С помощью цикла можно пройти по всем элементам списка\n",
    "beerlist = ['Bavaria', 'Corona', 'Ragegast','Lambic', 'Perroni']\n",
    "for beer in beerlist:\n",
    "    print(beer)"
   ]
  },
  {
   "cell_type": "code",
   "execution_count": 23,
   "metadata": {},
   "outputs": [
    {
     "name": "stdout",
     "output_type": "stream",
     "text": [
      "Bavaria\n",
      "Corona\n",
      "Ragegast\n",
      "Lambic\n",
      "Perroni\n"
     ]
    }
   ],
   "source": [
    "# В цикле можно использовать индекс для вывода элементов списка\n",
    "for i in range(len(beerlist)):\n",
    "    print(beerlist[i])"
   ]
  },
  {
   "cell_type": "code",
   "execution_count": 24,
   "metadata": {},
   "outputs": [
    {
     "name": "stdout",
     "output_type": "stream",
     "text": [
      "0 Bavaria\n",
      "1 Corona\n",
      "2 Ragegast\n",
      "3 Lambic\n",
      "4 Perroni\n"
     ]
    }
   ],
   "source": [
    "# Итерируясь по списку можно выводить и индекс элемента\n",
    "for i, beer in enumerate(beerlist):\n",
    "    print(i, beer)"
   ]
  },
  {
   "cell_type": "code",
   "execution_count": 25,
   "metadata": {},
   "outputs": [
    {
     "data": {
      "text/plain": [
       "[(0, 'Bavaria'), (1, 'Corona'), (2, 'Ragegast'), (3, 'Lambic'), (4, 'Perroni')]"
      ]
     },
     "execution_count": 25,
     "metadata": {},
     "output_type": "execute_result"
    }
   ],
   "source": [
    "# enumerate выводить список кортежей из элементов списка\n",
    "list(enumerate(beerlist))"
   ]
  },
  {
   "cell_type": "code",
   "execution_count": 26,
   "metadata": {},
   "outputs": [],
   "source": [
    "# Сделаем словарь для примера\n",
    "newdict = dict(zip(beerlist,list(range(50,100,10))))\n"
   ]
  },
  {
   "cell_type": "code",
   "execution_count": 27,
   "metadata": {},
   "outputs": [
    {
     "name": "stdout",
     "output_type": "stream",
     "text": [
      "Марка: Bavaria\n",
      "Марка: Corona\n",
      "Марка: Ragegast\n",
      "Марка: Lambic\n",
      "Марка: Perroni\n"
     ]
    }
   ],
   "source": [
    "# По словарю можно проходить циклом по ключам\n",
    "for key in newdict.keys():\n",
    "    print('Марка: {}'.format(key))"
   ]
  },
  {
   "cell_type": "code",
   "execution_count": 28,
   "metadata": {},
   "outputs": [
    {
     "name": "stdout",
     "output_type": "stream",
     "text": [
      "купить 50 бутылок или...\n",
      "купить 60 бутылок или...\n",
      "купить 70 бутылок или...\n",
      "купить 80 бутылок или...\n",
      "купить 90 бутылок или...\n"
     ]
    }
   ],
   "source": [
    "# По словарю можно проходить циклом по значениям\n",
    "for val in newdict.values():\n",
    "    print('купить {} бутылок или...'.format(val))"
   ]
  },
  {
   "cell_type": "code",
   "execution_count": 29,
   "metadata": {},
   "outputs": [
    {
     "data": {
      "text/plain": [
       "['Bavaria', 'Corona', 'Ragegast', 'Lambic', 'Perroni']"
      ]
     },
     "execution_count": 29,
     "metadata": {},
     "output_type": "execute_result"
    }
   ],
   "source": [
    "beerlist"
   ]
  },
  {
   "cell_type": "code",
   "execution_count": 30,
   "metadata": {},
   "outputs": [
    {
     "data": {
      "text/plain": [
       "[50, 60, 70, 80, 90]"
      ]
     },
     "execution_count": 30,
     "metadata": {},
     "output_type": "execute_result"
    }
   ],
   "source": [
    "list(range(50,100,10))"
   ]
  },
  {
   "cell_type": "code",
   "execution_count": 31,
   "metadata": {},
   "outputs": [
    {
     "data": {
      "text/plain": [
       "{'Bavaria': 50, 'Corona': 60, 'Ragegast': 70, 'Lambic': 80, 'Perroni': 90}"
      ]
     },
     "execution_count": 31,
     "metadata": {},
     "output_type": "execute_result"
    }
   ],
   "source": [
    "newdict"
   ]
  },
  {
   "cell_type": "code",
   "execution_count": 32,
   "metadata": {},
   "outputs": [
    {
     "name": "stdout",
     "output_type": "stream",
     "text": [
      "Марка: Bavaria, купить 50 бутылок\n",
      "Марка: Corona, купить 60 бутылок\n",
      "Марка: Ragegast, купить 70 бутылок\n",
      "Марка: Lambic, купить 80 бутылок\n",
      "Марка: Perroni, купить 90 бутылок\n"
     ]
    }
   ],
   "source": [
    "# По словарю можно проходить циклом по ключам и значениям\n",
    "for key, value in newdict.items():\n",
    "    print('Марка: {}, купить {} бутылок'.format(key,value))"
   ]
  },
  {
   "cell_type": "code",
   "execution_count": 33,
   "metadata": {},
   "outputs": [
    {
     "name": "stdout",
     "output_type": "stream",
     "text": [
      "0\n",
      "1\n",
      "2\n"
     ]
    }
   ],
   "source": [
    "# Если мы используем круглые скобки и range, то мы создаем гененератор\n",
    "seq =(x for x in range(10))\n",
    "# Функция next() позволяет переходить к следующему элементу генератора\n",
    "print(next(seq))\n",
    "print(next(seq))\n",
    "print(next(seq))"
   ]
  },
  {
   "cell_type": "markdown",
   "metadata": {},
   "source": [
    "# List comprehension (или  сладенькое)"
   ]
  },
  {
   "cell_type": "code",
   "execution_count": 34,
   "metadata": {},
   "outputs": [],
   "source": [
    "# Допустим у нас есть список \n",
    "nums = [2, 4, 6, 8, 10]"
   ]
  },
  {
   "cell_type": "code",
   "execution_count": 35,
   "metadata": {},
   "outputs": [
    {
     "data": {
      "text/plain": [
       "[2, 4, 6, 8, 10]"
      ]
     },
     "execution_count": 35,
     "metadata": {},
     "output_type": "execute_result"
    }
   ],
   "source": [
    "# Обычный цикл\n",
    "nums_new = []\n",
    "for i in range(1, 6):\n",
    "    nums_new.append(2*i)\n",
    "nums_new"
   ]
  },
  {
   "cell_type": "code",
   "execution_count": 36,
   "metadata": {},
   "outputs": [
    {
     "data": {
      "text/plain": [
       "[2, 4, 6, 8, 10]"
      ]
     },
     "execution_count": 36,
     "metadata": {},
     "output_type": "execute_result"
    }
   ],
   "source": [
    "[(2*i) for i in range(1,6)]"
   ]
  },
  {
   "cell_type": "code",
   "execution_count": 37,
   "metadata": {},
   "outputs": [
    {
     "data": {
      "text/plain": [
       "{2, 4, 6, 8, 10}"
      ]
     },
     "execution_count": 37,
     "metadata": {},
     "output_type": "execute_result"
    }
   ],
   "source": [
    "{(2*i) for i in range(1,6)}"
   ]
  },
  {
   "cell_type": "code",
   "execution_count": 38,
   "metadata": {},
   "outputs": [
    {
     "data": {
      "text/plain": [
       "[1, 2, 3, 4, 5, 6, 7, 8, 9, 10]"
      ]
     },
     "execution_count": 38,
     "metadata": {},
     "output_type": "execute_result"
    }
   ],
   "source": [
    "[num for num in range(1, 11)]"
   ]
  },
  {
   "cell_type": "code",
   "execution_count": 39,
   "metadata": {},
   "outputs": [
    {
     "data": {
      "text/plain": [
       "[2, 4, 6, 8, 10]"
      ]
     },
     "execution_count": 39,
     "metadata": {},
     "output_type": "execute_result"
    }
   ],
   "source": [
    "# Добавим условие\n",
    "[num for num in range(1, 11) if num % 2 == 0]"
   ]
  },
  {
   "cell_type": "code",
   "execution_count": 40,
   "metadata": {},
   "outputs": [
    {
     "data": {
      "text/plain": [
       "['_', 2, '_', 4, '_', 6, '_', 8, '_', 10]"
      ]
     },
     "execution_count": 40,
     "metadata": {},
     "output_type": "execute_result"
    }
   ],
   "source": [
    "# Добавим альтернативное условие\n",
    "[num if num % 2 == 0 else '_' for num in range(1, 11)]"
   ]
  },
  {
   "cell_type": "code",
   "execution_count": 41,
   "metadata": {},
   "outputs": [
    {
     "data": {
      "text/plain": [
       "[(1, 'a'),\n",
       " (1, 'b'),\n",
       " (1, 'c'),\n",
       " (2, 'a'),\n",
       " (2, 'b'),\n",
       " (2, 'c'),\n",
       " (3, 'a'),\n",
       " (3, 'b'),\n",
       " (3, 'c')]"
      ]
     },
     "execution_count": 41,
     "metadata": {},
     "output_type": "execute_result"
    }
   ],
   "source": [
    "# Циклы в цикле\n",
    "numbers = [1, 2, 3]\n",
    "letters = ['a','b','c']\n",
    "[(i, j) for i in numbers for j in letters]"
   ]
  },
  {
   "cell_type": "code",
   "execution_count": 42,
   "metadata": {},
   "outputs": [],
   "source": [
    "# Когда циклов много\n",
    "# [(i, j, k) for i in numbers for j in letters for k in range(3)]"
   ]
  },
  {
   "cell_type": "code",
   "execution_count": 43,
   "metadata": {},
   "outputs": [
    {
     "data": {
      "text/plain": [
       "[[(1, 'a'), (2, 'a'), (3, 'a')],\n",
       " [(1, 'b'), (2, 'b'), (3, 'b')],\n",
       " [(1, 'c'), (2, 'c'), (3, 'c')]]"
      ]
     },
     "execution_count": 43,
     "metadata": {},
     "output_type": "execute_result"
    }
   ],
   "source": [
    "# Если на выходе нужен  список в списке\n",
    "[[(i, j) for i in numbers] for j in letters]"
   ]
  },
  {
   "cell_type": "code",
   "execution_count": 44,
   "metadata": {},
   "outputs": [
    {
     "data": {
      "text/plain": [
       "{'a': 97,\n",
       " 'b': 98,\n",
       " 'c': 99,\n",
       " 'd': 100,\n",
       " 'e': 101,\n",
       " 'f': 102,\n",
       " 'g': 103,\n",
       " 'h': 104,\n",
       " 'i': 105,\n",
       " 'j': 106,\n",
       " 'k': 107,\n",
       " 'l': 108,\n",
       " 'm': 109,\n",
       " 'n': 110,\n",
       " 'o': 111,\n",
       " 'p': 112,\n",
       " 'q': 113,\n",
       " 'r': 114,\n",
       " 's': 115,\n",
       " 't': 116,\n",
       " 'u': 117,\n",
       " 'v': 118,\n",
       " 'w': 119,\n",
       " 'x': 120,\n",
       " 'y': 121,\n",
       " 'z': 122}"
      ]
     },
     "execution_count": 44,
     "metadata": {},
     "output_type": "execute_result"
    }
   ],
   "source": [
    "# Генератор словарей\n",
    "{chr(num): num for num in range(97,123)}"
   ]
  },
  {
   "cell_type": "markdown",
   "metadata": {},
   "source": [
    "### tqdm"
   ]
  },
  {
   "cell_type": "code",
   "execution_count": 45,
   "metadata": {},
   "outputs": [
    {
     "data": {
      "application/vnd.jupyter.widget-view+json": {
       "model_id": "e036dec0bf8d483cac70e20d47c662bf",
       "version_major": 2,
       "version_minor": 0
      },
      "text/plain": [
       "HBox(children=(IntProgress(value=0, max=1000), HTML(value='')))"
      ]
     },
     "metadata": {},
     "output_type": "display_data"
    },
    {
     "name": "stdout",
     "output_type": "stream",
     "text": [
      "\n"
     ]
    }
   ],
   "source": [
    "# Прогресс бар \n",
    "from tqdm import tqdm_notebook\n",
    "x = [x**y for x in tqdm_notebook(range(1000)) for y in range(1000)]"
   ]
  },
  {
   "cell_type": "markdown",
   "metadata": {},
   "source": [
    "# Практика "
   ]
  },
  {
   "cell_type": "code",
   "execution_count": 46,
   "metadata": {},
   "outputs": [
    {
     "data": {
      "text/plain": [
       "[1, 4, 9, 16, 25, 36, 49, 64, 81, 100]"
      ]
     },
     "execution_count": 46,
     "metadata": {},
     "output_type": "execute_result"
    }
   ],
   "source": [
    "# Создайте список  squares из значений последовательности возведеных в квадрат чисел\n",
    "# Например: от 1 до 10\n",
    "squares = [x**2 for x in range(1,11)]\n",
    "squares"
   ]
  },
  {
   "cell_type": "code",
   "execution_count": 47,
   "metadata": {},
   "outputs": [
    {
     "data": {
      "text/plain": [
       "[[0, 0, 0, 0, 0],\n",
       " [0, 0, 0, 0, 0],\n",
       " [0, 0, 0, 0, 0],\n",
       " [0, 0, 0, 0, 0],\n",
       " [0, 0, 0, 0, 0]]"
      ]
     },
     "execution_count": 47,
     "metadata": {},
     "output_type": "execute_result"
    }
   ],
   "source": [
    "# Создайте матрицу 5 на 5 используя список в списке\n",
    "# С помощью лист комперхеншена\n",
    "[[0 for y in range(5)] for x in range(5)]"
   ]
  },
  {
   "cell_type": "code",
   "execution_count": 48,
   "metadata": {},
   "outputs": [
    {
     "name": "stdout",
     "output_type": "stream",
     "text": [
      "0\n",
      "1\n",
      "2\n",
      "3\n",
      "4\n",
      "5\n",
      "6\n",
      "7\n",
      "8\n",
      "9\n",
      "10\n",
      "11\n",
      "12\n",
      "13\n",
      "14\n",
      "15\n",
      "16\n",
      "17\n",
      "18\n",
      "19\n",
      "20\n",
      "21\n",
      "22\n",
      "23\n",
      "24\n",
      "25\n",
      "26\n",
      "27\n",
      "28\n",
      "29\n"
     ]
    }
   ],
   "source": [
    "# Создайте генератор из последовательности элементов от 0 до 30 в \n",
    "# Сохраните ее в переменную result\n",
    "#----- Ваш код здесь ----\n",
    "result = (x for x in range(30))\n",
    "# Выведите первые 5 элементов result с помощью функции next()\n",
    "print(next(result))\n",
    "print(next(result))\n",
    "print(next(result))\n",
    "print(next(result))\n",
    "print(next(result))\n",
    "\n",
    "# Выведете оставшиеся элементы с помощью цикла\n",
    "for el in result:\n",
    "    print(el)"
   ]
  },
  {
   "cell_type": "code",
   "execution_count": 49,
   "metadata": {},
   "outputs": [
    {
     "data": {
      "text/plain": [
       "['samwise', 'aragorn', 'legolas', 'boromir']"
      ]
     },
     "execution_count": 49,
     "metadata": {},
     "output_type": "execute_result"
    }
   ],
   "source": [
    "# Дан список fellowship \n",
    "fellowship = ['frodo', 'samwise', 'merry', 'aragorn', 'legolas', 'boromir', 'gimli']\n",
    "\n",
    "# Создайте новый список new_fellowship из fellowship если длина элемента больше или равна 7\n",
    "new_fellowship = [x for x in fellowship if len(x) >= 7 ]\n",
    "\n",
    "# Выведите new_fellowship\n",
    "new_fellowship\n"
   ]
  },
  {
   "cell_type": "code",
   "execution_count": 50,
   "metadata": {},
   "outputs": [
    {
     "name": "stdout",
     "output_type": "stream",
     "text": [
      "6\n",
      "5\n",
      "5\n",
      "6\n",
      "7\n"
     ]
    }
   ],
   "source": [
    "# Данн список строк\n",
    "lannister = ['cersei', 'jaime', 'tywin', 'tyrion', 'joffrey']\n",
    "\n",
    "# Создайте объект lengths - генератор из длин елементов списка \n",
    "lengths = (len(x) for x in lannister)\n",
    "\n",
    "# Выведите значения lengths с помощью цикла\n",
    "for el in lengths:\n",
    "    print(el)"
   ]
  },
  {
   "cell_type": "markdown",
   "metadata": {},
   "source": [
    "### Функции"
   ]
  },
  {
   "cell_type": "markdown",
   "metadata": {},
   "source": [
    "<img src=\"img\\func.png\" width=400 align=left>"
   ]
  },
  {
   "cell_type": "code",
   "execution_count": 51,
   "metadata": {},
   "outputs": [],
   "source": [
    "# Пример функции без аргументов\n",
    "def hello_maker():\n",
    "    \n",
    "    \"\"\"\n",
    "    Функция выдает приветствие\n",
    "    \"\"\"\n",
    "    print('hello')"
   ]
  },
  {
   "cell_type": "code",
   "execution_count": 52,
   "metadata": {},
   "outputs": [
    {
     "data": {
      "text/plain": [
       "25"
      ]
     },
     "execution_count": 52,
     "metadata": {},
     "output_type": "execute_result"
    }
   ],
   "source": [
    "# Пример функции с аргументом\n",
    "def plus10(x):\n",
    "    a = x + 10\n",
    "    return a\n",
    "\n",
    "result = plus10(15)\n",
    "result"
   ]
  },
  {
   "cell_type": "code",
   "execution_count": 53,
   "metadata": {},
   "outputs": [
    {
     "data": {
      "text/plain": [
       "15"
      ]
     },
     "execution_count": 53,
     "metadata": {},
     "output_type": "execute_result"
    }
   ],
   "source": [
    "# Пример функции с аргмунтом, заданным по умолчанию\n",
    "def plus10(x=5):\n",
    "    a = x + 10\n",
    "    return a\n",
    "\n",
    "result = plus10()\n",
    "result"
   ]
  },
  {
   "cell_type": "code",
   "execution_count": 54,
   "metadata": {},
   "outputs": [
    {
     "name": "stdout",
     "output_type": "stream",
     "text": [
      "hello\n",
      "hello\n",
      "hello\n"
     ]
    }
   ],
   "source": [
    "# Пример функции в цикле\n",
    "# Переменная в виде _ задана символично. \n",
    "# Она используется только для итерирования по последовательности\n",
    "for _ in range(3):\n",
    "    hello_maker()"
   ]
  },
  {
   "cell_type": "code",
   "execution_count": 55,
   "metadata": {},
   "outputs": [],
   "source": [
    "zoo_animals = ['monkey', 'lion', 'elephant', 'bear']\n",
    "\n",
    "# Пример функции с двумя аргументами\n",
    "def zoo_checker(zoo, animal):\n",
    "    if animal in zoo:\n",
    "        print('{} live in the zoo'.format(animal))\n",
    "    else:\n",
    "        print('{} live in the jungle'.format(animal))"
   ]
  },
  {
   "cell_type": "code",
   "execution_count": 56,
   "metadata": {},
   "outputs": [
    {
     "name": "stdout",
     "output_type": "stream",
     "text": [
      "monkey live in the zoo\n",
      "python live in the jungle\n"
     ]
    }
   ],
   "source": [
    "zoo_checker(zoo=['monkey', 'lion', 'elephant', 'bear'], animal='monkey')\n",
    "zoo_checker(zoo_animals, 'python')"
   ]
  },
  {
   "cell_type": "code",
   "execution_count": 57,
   "metadata": {},
   "outputs": [
    {
     "name": "stdout",
     "output_type": "stream",
     "text": [
      "Hi Peter\n",
      "Hi John\n",
      "Hi Jack\n",
      "Hi Everybody\n"
     ]
    }
   ],
   "source": [
    "# Когда мы не знаем все аргументы, которые передаются в функцию\n",
    "# Мы указываем *args в качестве аргумента\n",
    "# В этом случае функция получает на вход список\n",
    "def hello_maker2(*args):\n",
    "    for name in args:\n",
    "        print('Hi {}'.format(name))\n",
    "\n",
    "hello_maker2('Peter', 'John', 'Jack', 'Everybody')"
   ]
  },
  {
   "cell_type": "code",
   "execution_count": 58,
   "metadata": {},
   "outputs": [
    {
     "name": "stdout",
     "output_type": "stream",
     "text": [
      "name : Peter\n",
      "car : Tesla\n",
      "food : vegan\n",
      "country : EU\n"
     ]
    }
   ],
   "source": [
    "# Когда мы не знаем все именованные аргументы, которые передаются в функцию\n",
    "# Нужно использовать **kwargs в качестве аргумента\n",
    "# В этом случае функция получает на вход словарь\n",
    "\n",
    "def man_info(**kwargs):\n",
    "    for k,v in kwargs.items():\n",
    "        print('{} : {}'.format(k,v))\n",
    "        \n",
    "man_info(name='Peter', car='Tesla', food='vegan', country='EU')"
   ]
  },
  {
   "cell_type": "code",
   "execution_count": 59,
   "metadata": {},
   "outputs": [],
   "source": [
    "# В функциях важно прописывать комментарии в docstring\n",
    "# Это может в будущем разобраться коде\n",
    "def hello_maker2(*args):\n",
    "    \n",
    "    \"\"\"\n",
    "    Приветсвует всех по передаваемым в качестве аргументов именам\n",
    "    \"\"\"\n",
    "    for name in args:\n",
    "        print('Hi {}'.format(name))"
   ]
  },
  {
   "cell_type": "code",
   "execution_count": 60,
   "metadata": {},
   "outputs": [
    {
     "name": "stdout",
     "output_type": "stream",
     "text": [
      "Hi Dude\n"
     ]
    }
   ],
   "source": [
    "hello_maker2('Dude')"
   ]
  },
  {
   "cell_type": "code",
   "execution_count": 61,
   "metadata": {},
   "outputs": [],
   "source": [
    "# Напишите 2 функции, которые будут переводить сообщение посимвольно в цифры и обратно \n",
    "# Используйтпе ord и chr\n",
    "# Должно получиться что-то подобное:\n",
    "# Сообщение: Houston, we have a problem -> [72,111,117,115,..., 32,98,108,101,109]\n",
    "# [72,111,117,115,..., 32,98,108,101,109] -> Houston, we have a problem\n",
    "def symbols2nums(s):\n",
    "    nums = [ord(x) for x in s]\n",
    "    return nums\n",
    "\n",
    "def nums2symbols(nlist):\n",
    "    sym = ''.join([chr(x) for x in nlist])\n",
    "    return sym"
   ]
  },
  {
   "cell_type": "code",
   "execution_count": 62,
   "metadata": {},
   "outputs": [
    {
     "data": {
      "text/plain": [
       "'Housto'"
      ]
     },
     "execution_count": 62,
     "metadata": {},
     "output_type": "execute_result"
    }
   ],
   "source": [
    "nums2symbols([72,111,117,115,116,111])"
   ]
  },
  {
   "cell_type": "markdown",
   "metadata": {},
   "source": [
    "### Анонимные функции "
   ]
  },
  {
   "cell_type": "code",
   "execution_count": 63,
   "metadata": {},
   "outputs": [
    {
     "data": {
      "text/plain": [
       "6"
      ]
     },
     "execution_count": 63,
     "metadata": {},
     "output_type": "execute_result"
    }
   ],
   "source": [
    "lamfunc = lambda x:x*2\n",
    "lamfunc(3)"
   ]
  },
  {
   "cell_type": "code",
   "execution_count": 64,
   "metadata": {},
   "outputs": [
    {
     "data": {
      "text/plain": [
       "10"
      ]
     },
     "execution_count": 64,
     "metadata": {},
     "output_type": "execute_result"
    }
   ],
   "source": [
    "lamfunc_y = lambda x, y: x*2 + y\n",
    "lamfunc_y(3,4)"
   ]
  },
  {
   "cell_type": "code",
   "execution_count": 65,
   "metadata": {},
   "outputs": [
    {
     "data": {
      "text/plain": [
       "[('Гинес', 100), ('Шпатен', 90), ('Хугарден', 70), ('Жигулевское', 10)]"
      ]
     },
     "execution_count": 65,
     "metadata": {},
     "output_type": "execute_result"
    }
   ],
   "source": [
    "# Пример использования лямбда функции для сортировки словаря\n",
    "beers = {'Жигулевское':10, 'Гинес':100, 'Хугарден':70, 'Шпатен':90}\n",
    "sorted(beers.items(), key=lambda x:x[1], reverse=True)"
   ]
  },
  {
   "cell_type": "markdown",
   "metadata": {},
   "source": [
    "### Map"
   ]
  },
  {
   "cell_type": "code",
   "execution_count": 66,
   "metadata": {},
   "outputs": [
    {
     "data": {
      "text/plain": [
       "[1, 4, 9, 16]"
      ]
     },
     "execution_count": 66,
     "metadata": {},
     "output_type": "execute_result"
    }
   ],
   "source": [
    "# map может применить функцию ко всем элеметам списка\n",
    "# Результаы можно выевести в виде списка\n",
    "list(map(lambda x:x**2, [1,2,3,4]))"
   ]
  },
  {
   "cell_type": "code",
   "execution_count": 67,
   "metadata": {},
   "outputs": [
    {
     "data": {
      "text/plain": [
       "(1, 4, 9, 16)"
      ]
     },
     "execution_count": 67,
     "metadata": {},
     "output_type": "execute_result"
    }
   ],
   "source": [
    "# Кортежа\n",
    "tuple(map(lambda x:x**2, [1,2,3,4]))"
   ]
  },
  {
   "cell_type": "code",
   "execution_count": 68,
   "metadata": {},
   "outputs": [
    {
     "data": {
      "text/plain": [
       "{1, 4, 9, 16}"
      ]
     },
     "execution_count": 68,
     "metadata": {},
     "output_type": "execute_result"
    }
   ],
   "source": [
    "# Множества\n",
    "set(map(lambda x:x**2, [1,2,3,4]))"
   ]
  },
  {
   "cell_type": "code",
   "execution_count": 69,
   "metadata": {},
   "outputs": [
    {
     "name": "stdout",
     "output_type": "stream",
     "text": [
      "[0, 0]\n",
      "[1, 2]\n",
      "[4, 4]\n",
      "[9, 6]\n",
      "[16, 8]\n"
     ]
    }
   ],
   "source": [
    "# В map можно передовать список из функций\n",
    "def multiply(x):\n",
    "    return (x*x)\n",
    "\n",
    "def add(x):\n",
    "    return (x+x)\n",
    "\n",
    "funcs = [multiply, add]\n",
    "for i in range(5):\n",
    "    value = list(map(lambda x: x(i), funcs))\n",
    "    print(value)"
   ]
  },
  {
   "cell_type": "markdown",
   "metadata": {},
   "source": [
    "### Filter"
   ]
  },
  {
   "cell_type": "code",
   "execution_count": 70,
   "metadata": {},
   "outputs": [
    {
     "name": "stdout",
     "output_type": "stream",
     "text": [
      "[-5, -4, -3, -2, -1]\n"
     ]
    }
   ],
   "source": [
    "# С помощью filter можно проверять элементы списка на выполнение условий\n",
    "# условие выполняется - True\n",
    "number_list = list(range(-5, 5))\n",
    "less_than_zero = list(filter(lambda x: x < 0, number_list))\n",
    "print(less_than_zero)"
   ]
  },
  {
   "cell_type": "markdown",
   "metadata": {},
   "source": [
    "### Reduce"
   ]
  },
  {
   "cell_type": "code",
   "execution_count": 71,
   "metadata": {},
   "outputs": [
    {
     "data": {
      "text/plain": [
       "24"
      ]
     },
     "execution_count": 71,
     "metadata": {},
     "output_type": "execute_result"
    }
   ],
   "source": [
    "# Может быть полезен когда нужно получить результат вычислений с элементами списка\n",
    "product = 1\n",
    "somelist = [1, 2, 3, 4]\n",
    "for num in somelist:\n",
    "    product = product * num\n",
    "\n",
    "product"
   ]
  },
  {
   "cell_type": "code",
   "execution_count": 72,
   "metadata": {},
   "outputs": [
    {
     "data": {
      "text/plain": [
       "24"
      ]
     },
     "execution_count": 72,
     "metadata": {},
     "output_type": "execute_result"
    }
   ],
   "source": [
    "from functools import reduce\n",
    "product = reduce((lambda x, y: x * y), [1, 2, 3, 4])\n",
    "product"
   ]
  },
  {
   "cell_type": "markdown",
   "metadata": {},
   "source": [
    "# zip "
   ]
  },
  {
   "cell_type": "code",
   "execution_count": null,
   "metadata": {},
   "outputs": [],
   "source": []
  },
  {
   "cell_type": "code",
   "execution_count": 73,
   "metadata": {},
   "outputs": [
    {
     "data": {
      "text/plain": [
       "((0, 10, 20),\n",
       " (1, 11, 21),\n",
       " (2, 12, 22),\n",
       " (3, 13, 23),\n",
       " (4, 14, 24),\n",
       " (5, 15, 25),\n",
       " (6, 16, 26),\n",
       " (7, 17, 27),\n",
       " (8, 18, 28),\n",
       " (9, 19, 29))"
      ]
     },
     "execution_count": 73,
     "metadata": {},
     "output_type": "execute_result"
    }
   ],
   "source": [
    "# Функция zip собирает сочетания элементов списков по их индексам\n",
    "# Первый с первым, второй со вторым и так далее\n",
    "a = list(range(10))\n",
    "b = list(range(10,20))\n",
    "c = list(range(20,30))\n",
    "tuple(zip(a,b,c))"
   ]
  },
  {
   "cell_type": "code",
   "execution_count": 74,
   "metadata": {},
   "outputs": [
    {
     "data": {
      "text/plain": [
       "[(0, 10, 20),\n",
       " (1, 11, 21),\n",
       " (2, 12, 22),\n",
       " (3, 13, 23),\n",
       " (4, 14, 24),\n",
       " (5, 15, 25),\n",
       " (6, 16, 26),\n",
       " (7, 17, 27),\n",
       " (8, 18, 28),\n",
       " (9, 19, 29)]"
      ]
     },
     "execution_count": 74,
     "metadata": {},
     "output_type": "execute_result"
    }
   ],
   "source": [
    "list(zip(a,b,c))"
   ]
  },
  {
   "cell_type": "code",
   "execution_count": 9,
   "metadata": {},
   "outputs": [
    {
     "data": {
      "text/plain": [
       "{'Bavaria': 10, 'Corona': 20, 'Ragegast': 30, 'Lambic': 40, 'Perroni': 50}"
      ]
     },
     "execution_count": 9,
     "metadata": {},
     "output_type": "execute_result"
    }
   ],
   "source": [
    "# для создания словарей из 2х списков удобно пользоваться функцией zip\n",
    "beerlist = ['Bavaria', 'Corona', 'Ragegast','Lambic', 'Perroni']\n",
    "alist = [x for x in range(10,60,10)]\n",
    "newdict = dict(zip(beerlist, alist))\n",
    "newdict"
   ]
  },
  {
   "cell_type": "markdown",
   "metadata": {},
   "source": [
    "# Про Pandas"
   ]
  },
  {
   "cell_type": "markdown",
   "metadata": {},
   "source": [
    "<img src=\"img\\pandas_pic.jpg\" width =400 align=left>"
   ]
  },
  {
   "cell_type": "code",
   "execution_count": 82,
   "metadata": {},
   "outputs": [],
   "source": [
    "# Подгружем пандас\n",
    "import pandas as pd\n",
    "import numpy as np\n",
    "# Загружаем датасет с помощью метода read_csv\n",
    "pizza = pd.read_csv('Datafiniti_Pizza_Restaurants_and_the_Pizza_They_Sell_May19.csv')"
   ]
  },
  {
   "cell_type": "code",
   "execution_count": 83,
   "metadata": {},
   "outputs": [
    {
     "data": {
      "text/html": [
       "<div>\n",
       "<style scoped>\n",
       "    .dataframe tbody tr th:only-of-type {\n",
       "        vertical-align: middle;\n",
       "    }\n",
       "\n",
       "    .dataframe tbody tr th {\n",
       "        vertical-align: top;\n",
       "    }\n",
       "\n",
       "    .dataframe thead th {\n",
       "        text-align: right;\n",
       "    }\n",
       "</style>\n",
       "<table border=\"1\" class=\"dataframe\">\n",
       "  <thead>\n",
       "    <tr style=\"text-align: right;\">\n",
       "      <th></th>\n",
       "      <th>id</th>\n",
       "      <th>dateAdded</th>\n",
       "      <th>dateUpdated</th>\n",
       "      <th>address</th>\n",
       "      <th>categories</th>\n",
       "      <th>primaryCategories</th>\n",
       "      <th>city</th>\n",
       "      <th>country</th>\n",
       "      <th>keys</th>\n",
       "      <th>latitude</th>\n",
       "      <th>...</th>\n",
       "      <th>menus.currency</th>\n",
       "      <th>menus.dateSeen</th>\n",
       "      <th>menus.description</th>\n",
       "      <th>menus.name</th>\n",
       "      <th>name</th>\n",
       "      <th>postalCode</th>\n",
       "      <th>priceRangeCurrency</th>\n",
       "      <th>priceRangeMin</th>\n",
       "      <th>priceRangeMax</th>\n",
       "      <th>province</th>\n",
       "    </tr>\n",
       "  </thead>\n",
       "  <tbody>\n",
       "    <tr>\n",
       "      <th>0</th>\n",
       "      <td>AVz3Y-7h3D1zeR_xDAqm</td>\n",
       "      <td>2017-06-30T05:05:40Z</td>\n",
       "      <td>2019-05-01T15:43:09Z</td>\n",
       "      <td>4203 E Kiehl Ave</td>\n",
       "      <td>Pizza,Restaurant,American restaurants,Pizza Pl...</td>\n",
       "      <td>Accommodation &amp; Food Services</td>\n",
       "      <td>Sherwood</td>\n",
       "      <td>US</td>\n",
       "      <td>us/ar/sherwood/4203ekiehlave/-1051391616</td>\n",
       "      <td>34.832300</td>\n",
       "      <td>...</td>\n",
       "      <td>USD</td>\n",
       "      <td>2018-05-01T04:25:37.197Z,2018-04-16T04:36:02.3...</td>\n",
       "      <td>NaN</td>\n",
       "      <td>Cheese Pizza</td>\n",
       "      <td>Shotgun Dans Pizza</td>\n",
       "      <td>72120</td>\n",
       "      <td>USD</td>\n",
       "      <td>0</td>\n",
       "      <td>25</td>\n",
       "      <td>AR</td>\n",
       "    </tr>\n",
       "    <tr>\n",
       "      <th>1</th>\n",
       "      <td>AVweGPFF_7pvs4fzAAzQ</td>\n",
       "      <td>2016-04-02T04:02:49Z</td>\n",
       "      <td>2019-05-01T15:27:50Z</td>\n",
       "      <td>25 E Camelback Rd</td>\n",
       "      <td>Pizza,Pizza Place,Restaurants</td>\n",
       "      <td>Accommodation &amp; Food Services</td>\n",
       "      <td>Phoenix</td>\n",
       "      <td>US</td>\n",
       "      <td>us/az/phoenix/25ecamelbackrd/-727422936</td>\n",
       "      <td>33.509266</td>\n",
       "      <td>...</td>\n",
       "      <td>USD</td>\n",
       "      <td>2018-03-03T02:38:06.381Z,2018-01-18T20:18:10.0...</td>\n",
       "      <td>NaN</td>\n",
       "      <td>Pizza Cookie</td>\n",
       "      <td>Sauce Pizza Wine</td>\n",
       "      <td>85012</td>\n",
       "      <td>USD</td>\n",
       "      <td>0</td>\n",
       "      <td>25</td>\n",
       "      <td>AZ</td>\n",
       "    </tr>\n",
       "  </tbody>\n",
       "</table>\n",
       "<p>2 rows × 24 columns</p>\n",
       "</div>"
      ],
      "text/plain": [
       "                     id             dateAdded           dateUpdated  \\\n",
       "0  AVz3Y-7h3D1zeR_xDAqm  2017-06-30T05:05:40Z  2019-05-01T15:43:09Z   \n",
       "1  AVweGPFF_7pvs4fzAAzQ  2016-04-02T04:02:49Z  2019-05-01T15:27:50Z   \n",
       "\n",
       "             address                                         categories  \\\n",
       "0   4203 E Kiehl Ave  Pizza,Restaurant,American restaurants,Pizza Pl...   \n",
       "1  25 E Camelback Rd                      Pizza,Pizza Place,Restaurants   \n",
       "\n",
       "               primaryCategories      city country  \\\n",
       "0  Accommodation & Food Services  Sherwood      US   \n",
       "1  Accommodation & Food Services   Phoenix      US   \n",
       "\n",
       "                                       keys   latitude  ...  menus.currency  \\\n",
       "0  us/ar/sherwood/4203ekiehlave/-1051391616  34.832300  ...             USD   \n",
       "1   us/az/phoenix/25ecamelbackrd/-727422936  33.509266  ...             USD   \n",
       "\n",
       "                                      menus.dateSeen  menus.description  \\\n",
       "0  2018-05-01T04:25:37.197Z,2018-04-16T04:36:02.3...                NaN   \n",
       "1  2018-03-03T02:38:06.381Z,2018-01-18T20:18:10.0...                NaN   \n",
       "\n",
       "     menus.name                name postalCode priceRangeCurrency  \\\n",
       "0  Cheese Pizza  Shotgun Dans Pizza      72120                USD   \n",
       "1  Pizza Cookie    Sauce Pizza Wine      85012                USD   \n",
       "\n",
       "  priceRangeMin priceRangeMax province  \n",
       "0             0            25       AR  \n",
       "1             0            25       AZ  \n",
       "\n",
       "[2 rows x 24 columns]"
      ]
     },
     "execution_count": 83,
     "metadata": {},
     "output_type": "execute_result"
    }
   ],
   "source": [
    "# Теперь в переменной pizza находится объект DataFrame\n",
    "# Первые строчки таблицы\n",
    "pizza.head(2)"
   ]
  },
  {
   "cell_type": "code",
   "execution_count": 84,
   "metadata": {},
   "outputs": [
    {
     "name": "stdout",
     "output_type": "stream",
     "text": [
      "<class 'pandas.core.frame.DataFrame'>\n",
      "RangeIndex: 10000 entries, 0 to 9999\n",
      "Data columns (total 24 columns):\n",
      "id                    10000 non-null object\n",
      "dateAdded             10000 non-null object\n",
      "dateUpdated           10000 non-null object\n",
      "address               10000 non-null object\n",
      "categories            10000 non-null object\n",
      "primaryCategories     10000 non-null object\n",
      "city                  10000 non-null object\n",
      "country               10000 non-null object\n",
      "keys                  10000 non-null object\n",
      "latitude              10000 non-null float64\n",
      "longitude             10000 non-null float64\n",
      "menuPageURL           1679 non-null object\n",
      "menus.amountMax       10000 non-null float64\n",
      "menus.amountMin       10000 non-null float64\n",
      "menus.currency        10000 non-null object\n",
      "menus.dateSeen        10000 non-null object\n",
      "menus.description     3718 non-null object\n",
      "menus.name            10000 non-null object\n",
      "name                  10000 non-null object\n",
      "postalCode            9996 non-null object\n",
      "priceRangeCurrency    10000 non-null object\n",
      "priceRangeMin         10000 non-null int64\n",
      "priceRangeMax         10000 non-null int64\n",
      "province              10000 non-null object\n",
      "dtypes: float64(4), int64(2), object(18)\n",
      "memory usage: 1.8+ MB\n"
     ]
    },
    {
     "data": {
      "text/plain": [
       "(10000, 24)"
      ]
     },
     "execution_count": 84,
     "metadata": {},
     "output_type": "execute_result"
    }
   ],
   "source": [
    "# Информация о таблице\n",
    "pizza.info()\n",
    "# Размеры таблицы\n",
    "pizza.shape"
   ]
  },
  {
   "cell_type": "code",
   "execution_count": 85,
   "metadata": {},
   "outputs": [],
   "source": [
    "# Если нужно удалить колонки используем метод \n",
    "pizza = pizza.drop(['menus.dateSeen'], axis=1)\n",
    "\n",
    "# Другой вариант с inplace=True\n",
    "# pizza.drop(['menus.dateSeen'], axis=1, inplace=True)"
   ]
  },
  {
   "cell_type": "code",
   "execution_count": 86,
   "metadata": {},
   "outputs": [
    {
     "data": {
      "text/plain": [
       "Index(['id', 'dateAdded', 'dateUpdated', 'address', 'categories',\n",
       "       'primaryCategories', 'city', 'country', 'keys', 'latitude', 'longitude',\n",
       "       'menuPageURL', 'menus.amountMax', 'menus.amountMin', 'menus.currency',\n",
       "       'menus.description', 'menus.name', 'name', 'postalCode',\n",
       "       'priceRangeCurrency', 'priceRangeMin', 'priceRangeMax', 'province'],\n",
       "      dtype='object')"
      ]
     },
     "execution_count": 86,
     "metadata": {},
     "output_type": "execute_result"
    }
   ],
   "source": [
    "# Выводим названия колонок с помощью атрибута columns\n",
    "pizza.columns"
   ]
  },
  {
   "cell_type": "code",
   "execution_count": 87,
   "metadata": {},
   "outputs": [
    {
     "data": {
      "text/plain": [
       "array(['Shotgun Dans Pizza', 'Sauce Pizza Wine', 'Mios Pizzeria', ...,\n",
       "       'Bella Italia', 'Wood and Fire', \"Carbone's Pizzeria\"],\n",
       "      dtype=object)"
      ]
     },
     "execution_count": 87,
     "metadata": {},
     "output_type": "execute_result"
    }
   ],
   "source": [
    "# Количество уникальных значений в колонке можно получить методом nunique()\n",
    "pizza.name.nunique()\n",
    "# Получить только уникальные значения в колонке можно с помощью метода unique()\n",
    "# Функция выдает массив тид данных array его можно перевести в список .tolist()\n",
    "pizza.name.unique()"
   ]
  },
  {
   "cell_type": "code",
   "execution_count": 88,
   "metadata": {},
   "outputs": [],
   "source": [
    "# Группируем с помощью groupby\n",
    "# количество уникальных названий по регионам \n",
    "# группируем по регионам 'province' - в круглых скобках\n",
    "# агрегируемую колонку указываем в квадратных скобках\n",
    "\n",
    "pizzaz_by_province = pizza.groupby('province')['name'].nunique()\n",
    "\n",
    "# когда колонка одна groupby выдает объект Series\n",
    "# чтобы его перевести в DataFrame используется .reset_index()\n",
    "\n",
    "pizzaz_by_province = pizzaz_by_province.reset_index()"
   ]
  },
  {
   "cell_type": "code",
   "execution_count": 89,
   "metadata": {},
   "outputs": [],
   "source": [
    "# pizza.groupby('province')['priceRangeMax'].mean()"
   ]
  },
  {
   "cell_type": "code",
   "execution_count": 90,
   "metadata": {},
   "outputs": [
    {
     "data": {
      "text/plain": [
       "Index(['province', 'name'], dtype='object')"
      ]
     },
     "execution_count": 90,
     "metadata": {},
     "output_type": "execute_result"
    }
   ],
   "source": [
    "# проверяем названия колонок\n",
    "pizzaz_by_province.columns"
   ]
  },
  {
   "cell_type": "code",
   "execution_count": 91,
   "metadata": {},
   "outputs": [],
   "source": [
    "# Меняем названия на те что нам нравятся\n",
    "pizzaz_by_province.columns = ['province', 'quantity']"
   ]
  },
  {
   "cell_type": "code",
   "execution_count": 92,
   "metadata": {},
   "outputs": [],
   "source": [
    "# pizzaz_by_province"
   ]
  },
  {
   "cell_type": "code",
   "execution_count": 93,
   "metadata": {},
   "outputs": [],
   "source": [
    "# Сортируем по полю quantity\n",
    "# с помощью метода sort_values\n",
    "pizzaz_by_province.sort_values(by='quantity', ascending=False, inplace=True)"
   ]
  },
  {
   "cell_type": "code",
   "execution_count": 94,
   "metadata": {},
   "outputs": [
    {
     "data": {
      "text/html": [
       "<div>\n",
       "<style scoped>\n",
       "    .dataframe tbody tr th:only-of-type {\n",
       "        vertical-align: middle;\n",
       "    }\n",
       "\n",
       "    .dataframe tbody tr th {\n",
       "        vertical-align: top;\n",
       "    }\n",
       "\n",
       "    .dataframe thead th {\n",
       "        text-align: right;\n",
       "    }\n",
       "</style>\n",
       "<table border=\"1\" class=\"dataframe\">\n",
       "  <thead>\n",
       "    <tr style=\"text-align: right;\">\n",
       "      <th></th>\n",
       "      <th>province</th>\n",
       "      <th>quantity</th>\n",
       "    </tr>\n",
       "  </thead>\n",
       "  <tbody>\n",
       "    <tr>\n",
       "      <th>30</th>\n",
       "      <td>NY</td>\n",
       "      <td>395</td>\n",
       "    </tr>\n",
       "    <tr>\n",
       "      <th>4</th>\n",
       "      <td>CA</td>\n",
       "      <td>219</td>\n",
       "    </tr>\n",
       "    <tr>\n",
       "      <th>34</th>\n",
       "      <td>PA</td>\n",
       "      <td>172</td>\n",
       "    </tr>\n",
       "  </tbody>\n",
       "</table>\n",
       "</div>"
      ],
      "text/plain": [
       "   province  quantity\n",
       "30       NY       395\n",
       "4        CA       219\n",
       "34       PA       172"
      ]
     },
     "execution_count": 94,
     "metadata": {},
     "output_type": "execute_result"
    }
   ],
   "source": [
    "pizzaz_by_province.head(3)"
   ]
  },
  {
   "cell_type": "code",
   "execution_count": 95,
   "metadata": {},
   "outputs": [],
   "source": [
    "# Размечаем те регионы, где много пиццерий с помощью numpy\n",
    "pizzaz_by_province['many_or_not_many'] = np.where(pizzaz_by_province.quantity > 100, 1, 0)\n",
    "# pizzaz_by_province['many_or_not_many'] = np.where(pizzaz_by_province.quantity > 100, 'many', 'not_many')"
   ]
  },
  {
   "cell_type": "code",
   "execution_count": 96,
   "metadata": {},
   "outputs": [],
   "source": [
    "# Размечаем те регионы, где много пиццерий с помощью pandas\n",
    "\n",
    "# Неправильный вариант\n",
    "# pizzaz_by_province[pizzaz_by_province['quantity'] > 100]['many_or_not_many_pd'] = 1\n",
    "# pizzaz_by_province[pizzaz_by_province['quantity'] <=100]['many_or_not_many_pd'] = 0\n",
    "\n",
    "# # Правильный вариант\n",
    "pizzaz_by_province.loc[pizzaz_by_province['quantity'] > 100, 'many_or_not_many_pd'] = 1\n",
    "pizzaz_by_province.loc[pizzaz_by_province['quantity'] <= 100, 'many_or_not_many_pd'] = 0"
   ]
  },
  {
   "cell_type": "code",
   "execution_count": 97,
   "metadata": {},
   "outputs": [],
   "source": [
    "# pizzaz_by_province"
   ]
  },
  {
   "cell_type": "code",
   "execution_count": 98,
   "metadata": {},
   "outputs": [],
   "source": [
    "# Меняем тип данных в колонке с помощью метода .astype()\n",
    "pizzaz_by_province['many_or_not_many_pd'] = pizzaz_by_province['many_or_not_many_pd'].astype('int')"
   ]
  },
  {
   "cell_type": "code",
   "execution_count": 99,
   "metadata": {},
   "outputs": [
    {
     "data": {
      "text/plain": [
       "46.29545454545455"
      ]
     },
     "execution_count": 99,
     "metadata": {},
     "output_type": "execute_result"
    }
   ],
   "source": [
    "# Рассчитываем сумму или среднее значений по колонке\n",
    "pizzaz_by_province.quantity.sum()\n",
    "pizzaz_by_province.quantity.mean()"
   ]
  },
  {
   "cell_type": "code",
   "execution_count": 100,
   "metadata": {},
   "outputs": [],
   "source": [
    "# Применение функции к элекментам колонки"
   ]
  },
  {
   "cell_type": "code",
   "execution_count": 101,
   "metadata": {},
   "outputs": [],
   "source": [
    "def qdevtwo(x):\n",
    "    \n",
    "    '''\n",
    "    Функция проверяет \n",
    "        если число делится на 2 без остатка, выдает 1,\n",
    "        в противном случае выдает 0\n",
    "    '''\n",
    "    if int(x) % 2 == 0:\n",
    "        return 1\n",
    "    else:\n",
    "        return 0\n",
    "        \n",
    "pizzaz_by_province['dev2'] = pizzaz_by_province.quantity.apply(lambda x: qdevtwo(x))"
   ]
  },
  {
   "cell_type": "code",
   "execution_count": 102,
   "metadata": {},
   "outputs": [],
   "source": [
    "# Другой вариант (обычно более медленный и неудобный )\n",
    "# Цикл проходит по всем элементам колонки, используя их в качестве аргументов для qdevtwo()\n",
    "\n",
    "dev2list = []\n",
    "for i in range(pizzaz_by_province.shape[0]):\n",
    "    val =  pizzaz_by_province.iloc[i,1]\n",
    "    dev2list.append(qdevtwo(val))\n",
    "\n",
    "pizzaz_by_province['dev2_loop'] = dev2list"
   ]
  },
  {
   "cell_type": "code",
   "execution_count": 103,
   "metadata": {},
   "outputs": [
    {
     "data": {
      "text/html": [
       "<div>\n",
       "<style scoped>\n",
       "    .dataframe tbody tr th:only-of-type {\n",
       "        vertical-align: middle;\n",
       "    }\n",
       "\n",
       "    .dataframe tbody tr th {\n",
       "        vertical-align: top;\n",
       "    }\n",
       "\n",
       "    .dataframe thead th {\n",
       "        text-align: right;\n",
       "    }\n",
       "</style>\n",
       "<table border=\"1\" class=\"dataframe\">\n",
       "  <thead>\n",
       "    <tr style=\"text-align: right;\">\n",
       "      <th></th>\n",
       "      <th>province</th>\n",
       "      <th>quantity</th>\n",
       "      <th>many_or_not_many</th>\n",
       "      <th>many_or_not_many_pd</th>\n",
       "      <th>dev2</th>\n",
       "      <th>dev2_loop</th>\n",
       "    </tr>\n",
       "  </thead>\n",
       "  <tbody>\n",
       "    <tr>\n",
       "      <th>30</th>\n",
       "      <td>NY</td>\n",
       "      <td>395</td>\n",
       "      <td>1</td>\n",
       "      <td>1</td>\n",
       "      <td>0</td>\n",
       "      <td>0</td>\n",
       "    </tr>\n",
       "    <tr>\n",
       "      <th>4</th>\n",
       "      <td>CA</td>\n",
       "      <td>219</td>\n",
       "      <td>1</td>\n",
       "      <td>1</td>\n",
       "      <td>0</td>\n",
       "      <td>0</td>\n",
       "    </tr>\n",
       "    <tr>\n",
       "      <th>34</th>\n",
       "      <td>PA</td>\n",
       "      <td>172</td>\n",
       "      <td>1</td>\n",
       "      <td>1</td>\n",
       "      <td>1</td>\n",
       "      <td>1</td>\n",
       "    </tr>\n",
       "    <tr>\n",
       "      <th>8</th>\n",
       "      <td>FL</td>\n",
       "      <td>145</td>\n",
       "      <td>1</td>\n",
       "      <td>1</td>\n",
       "      <td>0</td>\n",
       "      <td>0</td>\n",
       "    </tr>\n",
       "    <tr>\n",
       "      <th>38</th>\n",
       "      <td>TX</td>\n",
       "      <td>117</td>\n",
       "      <td>1</td>\n",
       "      <td>1</td>\n",
       "      <td>0</td>\n",
       "      <td>0</td>\n",
       "    </tr>\n",
       "  </tbody>\n",
       "</table>\n",
       "</div>"
      ],
      "text/plain": [
       "   province  quantity  many_or_not_many  many_or_not_many_pd  dev2  dev2_loop\n",
       "30       NY       395                 1                    1     0          0\n",
       "4        CA       219                 1                    1     0          0\n",
       "34       PA       172                 1                    1     1          1\n",
       "8        FL       145                 1                    1     0          0\n",
       "38       TX       117                 1                    1     0          0"
      ]
     },
     "execution_count": 103,
     "metadata": {},
     "output_type": "execute_result"
    }
   ],
   "source": [
    "pizzaz_by_province.head()"
   ]
  },
  {
   "cell_type": "markdown",
   "metadata": {},
   "source": [
    "# Практическое задание"
   ]
  },
  {
   "cell_type": "code",
   "execution_count": 104,
   "metadata": {},
   "outputs": [
    {
     "data": {
      "text/html": [
       "<div>\n",
       "<style scoped>\n",
       "    .dataframe tbody tr th:only-of-type {\n",
       "        vertical-align: middle;\n",
       "    }\n",
       "\n",
       "    .dataframe tbody tr th {\n",
       "        vertical-align: top;\n",
       "    }\n",
       "\n",
       "    .dataframe thead th {\n",
       "        text-align: right;\n",
       "    }\n",
       "</style>\n",
       "<table border=\"1\" class=\"dataframe\">\n",
       "  <thead>\n",
       "    <tr style=\"text-align: right;\">\n",
       "      <th></th>\n",
       "      <th>id</th>\n",
       "      <th>categories</th>\n",
       "      <th>primaryCategories</th>\n",
       "      <th>city</th>\n",
       "      <th>country</th>\n",
       "      <th>menus.currency</th>\n",
       "      <th>menus.description</th>\n",
       "      <th>menus.name</th>\n",
       "      <th>name</th>\n",
       "      <th>priceRangeMin</th>\n",
       "      <th>priceRangeMax</th>\n",
       "      <th>province</th>\n",
       "    </tr>\n",
       "  </thead>\n",
       "  <tbody>\n",
       "    <tr>\n",
       "      <th>0</th>\n",
       "      <td>AVz3Y-7h3D1zeR_xDAqm</td>\n",
       "      <td>Pizza,Restaurant,American restaurants,Pizza Pl...</td>\n",
       "      <td>Accommodation &amp; Food Services</td>\n",
       "      <td>Sherwood</td>\n",
       "      <td>US</td>\n",
       "      <td>USD</td>\n",
       "      <td>NaN</td>\n",
       "      <td>Cheese Pizza</td>\n",
       "      <td>Shotgun Dans Pizza</td>\n",
       "      <td>0</td>\n",
       "      <td>25</td>\n",
       "      <td>AR</td>\n",
       "    </tr>\n",
       "    <tr>\n",
       "      <th>1</th>\n",
       "      <td>AVweGPFF_7pvs4fzAAzQ</td>\n",
       "      <td>Pizza,Pizza Place,Restaurants</td>\n",
       "      <td>Accommodation &amp; Food Services</td>\n",
       "      <td>Phoenix</td>\n",
       "      <td>US</td>\n",
       "      <td>USD</td>\n",
       "      <td>NaN</td>\n",
       "      <td>Pizza Cookie</td>\n",
       "      <td>Sauce Pizza Wine</td>\n",
       "      <td>0</td>\n",
       "      <td>25</td>\n",
       "      <td>AZ</td>\n",
       "    </tr>\n",
       "    <tr>\n",
       "      <th>2</th>\n",
       "      <td>AVwdRGa9_7pvs4fz4E3K</td>\n",
       "      <td>Restaurant,Pizza Place,Restaurants</td>\n",
       "      <td>Accommodation &amp; Food Services</td>\n",
       "      <td>Cincinnati</td>\n",
       "      <td>US</td>\n",
       "      <td>USD</td>\n",
       "      <td>a saucelessampcomma double cheese pizza with a...</td>\n",
       "      <td>Pizza Blanca</td>\n",
       "      <td>Mios Pizzeria</td>\n",
       "      <td>0</td>\n",
       "      <td>25</td>\n",
       "      <td>OH</td>\n",
       "    </tr>\n",
       "  </tbody>\n",
       "</table>\n",
       "</div>"
      ],
      "text/plain": [
       "                     id                                         categories  \\\n",
       "0  AVz3Y-7h3D1zeR_xDAqm  Pizza,Restaurant,American restaurants,Pizza Pl...   \n",
       "1  AVweGPFF_7pvs4fzAAzQ                      Pizza,Pizza Place,Restaurants   \n",
       "2  AVwdRGa9_7pvs4fz4E3K                 Restaurant,Pizza Place,Restaurants   \n",
       "\n",
       "               primaryCategories        city country menus.currency  \\\n",
       "0  Accommodation & Food Services    Sherwood      US            USD   \n",
       "1  Accommodation & Food Services     Phoenix      US            USD   \n",
       "2  Accommodation & Food Services  Cincinnati      US            USD   \n",
       "\n",
       "                                   menus.description    menus.name  \\\n",
       "0                                                NaN  Cheese Pizza   \n",
       "1                                                NaN  Pizza Cookie   \n",
       "2  a saucelessampcomma double cheese pizza with a...  Pizza Blanca   \n",
       "\n",
       "                 name  priceRangeMin  priceRangeMax province  \n",
       "0  Shotgun Dans Pizza              0             25       AR  \n",
       "1    Sauce Pizza Wine              0             25       AZ  \n",
       "2       Mios Pizzeria              0             25       OH  "
      ]
     },
     "execution_count": 104,
     "metadata": {},
     "output_type": "execute_result"
    }
   ],
   "source": [
    "#1. Взять датасет c пицериями и ублать лишние колонки :\n",
    "#   'dateAdded', 'dateUpdated', 'address', 'keys',\n",
    "#  'latitude', 'longitude','menuPageURL', 'menus.amountMax',\n",
    "#  'menus.amountMin', 'postalCode', 'priceRangeCurrency'\n",
    "\n",
    "pizzacols = pizza.columns.tolist()\n",
    "\n",
    "dropcols = ['dateAdded', 'dateUpdated', 'address',\n",
    "            'keys','latitude', 'longitude','menuPageURL',\n",
    "            'menus.amountMax','menus.amountMin', 'postalCode', 'priceRangeCurrency']\n",
    "\n",
    "# Можно использовать метод drop\n",
    "pizza.drop(dropcols, axis=1, inplace=True)\n",
    "\n",
    "# Можно просто переопределить pizza, выбрав те колонки, которые нам нужны\n",
    "# pizza = pizza[[x for x in pizzacols if x not in dropcols]]\n",
    "pizza.head(3)"
   ]
  },
  {
   "cell_type": "code",
   "execution_count": 105,
   "metadata": {},
   "outputs": [
    {
     "data": {
      "text/html": [
       "<div>\n",
       "<style scoped>\n",
       "    .dataframe tbody tr th:only-of-type {\n",
       "        vertical-align: middle;\n",
       "    }\n",
       "\n",
       "    .dataframe tbody tr th {\n",
       "        vertical-align: top;\n",
       "    }\n",
       "\n",
       "    .dataframe thead th {\n",
       "        text-align: right;\n",
       "    }\n",
       "</style>\n",
       "<table border=\"1\" class=\"dataframe\">\n",
       "  <thead>\n",
       "    <tr style=\"text-align: right;\">\n",
       "      <th></th>\n",
       "      <th>id</th>\n",
       "      <th>categories</th>\n",
       "      <th>primaryCategories</th>\n",
       "      <th>city</th>\n",
       "      <th>country</th>\n",
       "      <th>menus.currency</th>\n",
       "      <th>menus.description</th>\n",
       "      <th>menus.name</th>\n",
       "      <th>name</th>\n",
       "      <th>priceRangeMin</th>\n",
       "      <th>priceRangeMax</th>\n",
       "      <th>province</th>\n",
       "    </tr>\n",
       "  </thead>\n",
       "  <tbody>\n",
       "    <tr>\n",
       "      <th>0</th>\n",
       "      <td>AVz3Y-7h3D1zeR_xDAqm</td>\n",
       "      <td>Pizza,Restaurant,American restaurants,Pizza Pl...</td>\n",
       "      <td>Accommodation &amp; Food Services</td>\n",
       "      <td>Sherwood</td>\n",
       "      <td>RU</td>\n",
       "      <td>USD</td>\n",
       "      <td>NaN</td>\n",
       "      <td>Cheese Pizza</td>\n",
       "      <td>Shotgun Dans Pizza</td>\n",
       "      <td>0</td>\n",
       "      <td>25</td>\n",
       "      <td>AR</td>\n",
       "    </tr>\n",
       "    <tr>\n",
       "      <th>1</th>\n",
       "      <td>AVweGPFF_7pvs4fzAAzQ</td>\n",
       "      <td>Pizza,Pizza Place,Restaurants</td>\n",
       "      <td>Accommodation &amp; Food Services</td>\n",
       "      <td>Phoenix</td>\n",
       "      <td>RU</td>\n",
       "      <td>USD</td>\n",
       "      <td>NaN</td>\n",
       "      <td>Pizza Cookie</td>\n",
       "      <td>Sauce Pizza Wine</td>\n",
       "      <td>0</td>\n",
       "      <td>25</td>\n",
       "      <td>AZ</td>\n",
       "    </tr>\n",
       "    <tr>\n",
       "      <th>2</th>\n",
       "      <td>AVwdRGa9_7pvs4fz4E3K</td>\n",
       "      <td>Restaurant,Pizza Place,Restaurants</td>\n",
       "      <td>Accommodation &amp; Food Services</td>\n",
       "      <td>Cincinnati</td>\n",
       "      <td>RU</td>\n",
       "      <td>USD</td>\n",
       "      <td>a saucelessampcomma double cheese pizza with a...</td>\n",
       "      <td>Pizza Blanca</td>\n",
       "      <td>Mios Pizzeria</td>\n",
       "      <td>0</td>\n",
       "      <td>25</td>\n",
       "      <td>OH</td>\n",
       "    </tr>\n",
       "  </tbody>\n",
       "</table>\n",
       "</div>"
      ],
      "text/plain": [
       "                     id                                         categories  \\\n",
       "0  AVz3Y-7h3D1zeR_xDAqm  Pizza,Restaurant,American restaurants,Pizza Pl...   \n",
       "1  AVweGPFF_7pvs4fzAAzQ                      Pizza,Pizza Place,Restaurants   \n",
       "2  AVwdRGa9_7pvs4fz4E3K                 Restaurant,Pizza Place,Restaurants   \n",
       "\n",
       "               primaryCategories        city country menus.currency  \\\n",
       "0  Accommodation & Food Services    Sherwood      RU            USD   \n",
       "1  Accommodation & Food Services     Phoenix      RU            USD   \n",
       "2  Accommodation & Food Services  Cincinnati      RU            USD   \n",
       "\n",
       "                                   menus.description    menus.name  \\\n",
       "0                                                NaN  Cheese Pizza   \n",
       "1                                                NaN  Pizza Cookie   \n",
       "2  a saucelessampcomma double cheese pizza with a...  Pizza Blanca   \n",
       "\n",
       "                 name  priceRangeMin  priceRangeMax province  \n",
       "0  Shotgun Dans Pizza              0             25       AR  \n",
       "1    Sauce Pizza Wine              0             25       AZ  \n",
       "2       Mios Pizzeria              0             25       OH  "
      ]
     },
     "execution_count": 105,
     "metadata": {},
     "output_type": "execute_result"
    }
   ],
   "source": [
    "# 2. Заменить значения в колонке country c US на RU\n",
    "pizza.country = 'RU'\n",
    "# или то же самое только в скобках\n",
    "# pizza['country'] = 'RU'\n",
    "pizza.head(3)"
   ]
  },
  {
   "cell_type": "code",
   "execution_count": null,
   "metadata": {},
   "outputs": [],
   "source": [
    "\n"
   ]
  },
  {
   "cell_type": "code",
   "execution_count": 107,
   "metadata": {},
   "outputs": [],
   "source": [
    "# 3. Добавить значения в колонке menus.currency RUB, а в тех регионах, где пицерий меньше 10 добавить BTC\n",
    "# Читерский способ 1.\n",
    "pizza = pd.merge(pizza, pizzaz_by_province[['province','quantity']], on='province', how='inner')\n",
    "# Читерский способ 2.\n",
    "prov_qu = dict(zip(pizzaz_by_province['province'].tolist(),pizzaz_by_province['quantity'].tolist()))\n",
    "pizza['quantity'] = pizza['province'].map(prov_qu)"
   ]
  },
  {
   "cell_type": "code",
   "execution_count": 108,
   "metadata": {},
   "outputs": [],
   "source": [
    "pizza['menus.currency'] = np.where(pizza['quantity'] < 10,  'USD,RUB,BTC','USD,RUB',)"
   ]
  },
  {
   "cell_type": "code",
   "execution_count": 109,
   "metadata": {},
   "outputs": [
    {
     "data": {
      "text/html": [
       "<div>\n",
       "<style scoped>\n",
       "    .dataframe tbody tr th:only-of-type {\n",
       "        vertical-align: middle;\n",
       "    }\n",
       "\n",
       "    .dataframe tbody tr th {\n",
       "        vertical-align: top;\n",
       "    }\n",
       "\n",
       "    .dataframe thead th {\n",
       "        text-align: right;\n",
       "    }\n",
       "</style>\n",
       "<table border=\"1\" class=\"dataframe\">\n",
       "  <thead>\n",
       "    <tr style=\"text-align: right;\">\n",
       "      <th></th>\n",
       "      <th>id</th>\n",
       "      <th>categories</th>\n",
       "      <th>primaryCategories</th>\n",
       "      <th>city</th>\n",
       "      <th>country</th>\n",
       "      <th>menus.currency</th>\n",
       "      <th>menus.description</th>\n",
       "      <th>menus.name</th>\n",
       "      <th>name</th>\n",
       "      <th>priceRangeMin</th>\n",
       "      <th>priceRangeMax</th>\n",
       "      <th>province</th>\n",
       "      <th>quantity_x</th>\n",
       "      <th>quantity_y</th>\n",
       "      <th>quantity</th>\n",
       "    </tr>\n",
       "  </thead>\n",
       "  <tbody>\n",
       "    <tr>\n",
       "      <th>0</th>\n",
       "      <td>AVz3Y-7h3D1zeR_xDAqm</td>\n",
       "      <td>Pizza,Restaurant,American restaurants,Pizza Pl...</td>\n",
       "      <td>Accommodation &amp; Food Services</td>\n",
       "      <td>Sherwood</td>\n",
       "      <td>RU</td>\n",
       "      <td>USD,RUB</td>\n",
       "      <td>NaN</td>\n",
       "      <td>Cheese Pizza</td>\n",
       "      <td>Shotgun Dans Pizza</td>\n",
       "      <td>0</td>\n",
       "      <td>25</td>\n",
       "      <td>AR</td>\n",
       "      <td>10</td>\n",
       "      <td>10</td>\n",
       "      <td>10</td>\n",
       "    </tr>\n",
       "    <tr>\n",
       "      <th>1</th>\n",
       "      <td>AWEKVN4rRxPSIh2RrOUT</td>\n",
       "      <td>Pizza Place</td>\n",
       "      <td>Accommodation &amp; Food Services</td>\n",
       "      <td>Conway</td>\n",
       "      <td>RU</td>\n",
       "      <td>USD,RUB</td>\n",
       "      <td>NaN</td>\n",
       "      <td>Taco Pizza</td>\n",
       "      <td>Larrys Pizza Conway</td>\n",
       "      <td>0</td>\n",
       "      <td>25</td>\n",
       "      <td>AR</td>\n",
       "      <td>10</td>\n",
       "      <td>10</td>\n",
       "      <td>10</td>\n",
       "    </tr>\n",
       "    <tr>\n",
       "      <th>2</th>\n",
       "      <td>AVwcnkKN_7pvs4fzxHf-</td>\n",
       "      <td>Pizza,Restaurant,Karaoke,Pizza Place,Restaurants</td>\n",
       "      <td>Accommodation &amp; Food Services</td>\n",
       "      <td>Fayetteville</td>\n",
       "      <td>RU</td>\n",
       "      <td>USD,RUB</td>\n",
       "      <td>NaN</td>\n",
       "      <td>6 Personal Pizza</td>\n",
       "      <td>US Pizza Co</td>\n",
       "      <td>0</td>\n",
       "      <td>25</td>\n",
       "      <td>AR</td>\n",
       "      <td>10</td>\n",
       "      <td>10</td>\n",
       "      <td>10</td>\n",
       "    </tr>\n",
       "    <tr>\n",
       "      <th>3</th>\n",
       "      <td>AVwcnkKN_7pvs4fzxHf-</td>\n",
       "      <td>Pizza,Restaurant,Karaoke,Pizza Place,Restaurants</td>\n",
       "      <td>Accommodation &amp; Food Services</td>\n",
       "      <td>Fayetteville</td>\n",
       "      <td>RU</td>\n",
       "      <td>USD,RUB</td>\n",
       "      <td>Pizza sauce and fresh mozzarella cheese 6ampquot</td>\n",
       "      <td>Cheezy Pizza</td>\n",
       "      <td>US Pizza Co</td>\n",
       "      <td>0</td>\n",
       "      <td>25</td>\n",
       "      <td>AR</td>\n",
       "      <td>10</td>\n",
       "      <td>10</td>\n",
       "      <td>10</td>\n",
       "    </tr>\n",
       "    <tr>\n",
       "      <th>4</th>\n",
       "      <td>AVwcnkKN_7pvs4fzxHf-</td>\n",
       "      <td>Pizza,Restaurant,Karaoke,Pizza Place,Restaurants</td>\n",
       "      <td>Accommodation &amp; Food Services</td>\n",
       "      <td>Fayetteville</td>\n",
       "      <td>RU</td>\n",
       "      <td>USD,RUB</td>\n",
       "      <td>NaN</td>\n",
       "      <td>U.s. Pizza Style Wings</td>\n",
       "      <td>US Pizza Co</td>\n",
       "      <td>0</td>\n",
       "      <td>25</td>\n",
       "      <td>AR</td>\n",
       "      <td>10</td>\n",
       "      <td>10</td>\n",
       "      <td>10</td>\n",
       "    </tr>\n",
       "  </tbody>\n",
       "</table>\n",
       "</div>"
      ],
      "text/plain": [
       "                     id                                         categories  \\\n",
       "0  AVz3Y-7h3D1zeR_xDAqm  Pizza,Restaurant,American restaurants,Pizza Pl...   \n",
       "1  AWEKVN4rRxPSIh2RrOUT                                        Pizza Place   \n",
       "2  AVwcnkKN_7pvs4fzxHf-   Pizza,Restaurant,Karaoke,Pizza Place,Restaurants   \n",
       "3  AVwcnkKN_7pvs4fzxHf-   Pizza,Restaurant,Karaoke,Pizza Place,Restaurants   \n",
       "4  AVwcnkKN_7pvs4fzxHf-   Pizza,Restaurant,Karaoke,Pizza Place,Restaurants   \n",
       "\n",
       "               primaryCategories          city country menus.currency  \\\n",
       "0  Accommodation & Food Services      Sherwood      RU        USD,RUB   \n",
       "1  Accommodation & Food Services        Conway      RU        USD,RUB   \n",
       "2  Accommodation & Food Services  Fayetteville      RU        USD,RUB   \n",
       "3  Accommodation & Food Services  Fayetteville      RU        USD,RUB   \n",
       "4  Accommodation & Food Services  Fayetteville      RU        USD,RUB   \n",
       "\n",
       "                                  menus.description              menus.name  \\\n",
       "0                                               NaN            Cheese Pizza   \n",
       "1                                               NaN              Taco Pizza   \n",
       "2                                               NaN        6 Personal Pizza   \n",
       "3  Pizza sauce and fresh mozzarella cheese 6ampquot            Cheezy Pizza   \n",
       "4                                               NaN  U.s. Pizza Style Wings   \n",
       "\n",
       "                  name  priceRangeMin  priceRangeMax province  quantity_x  \\\n",
       "0   Shotgun Dans Pizza              0             25       AR          10   \n",
       "1  Larrys Pizza Conway              0             25       AR          10   \n",
       "2          US Pizza Co              0             25       AR          10   \n",
       "3          US Pizza Co              0             25       AR          10   \n",
       "4          US Pizza Co              0             25       AR          10   \n",
       "\n",
       "   quantity_y  quantity  \n",
       "0          10        10  \n",
       "1          10        10  \n",
       "2          10        10  \n",
       "3          10        10  \n",
       "4          10        10  "
      ]
     },
     "execution_count": 109,
     "metadata": {},
     "output_type": "execute_result"
    }
   ],
   "source": [
    "pizza.head()"
   ]
  },
  {
   "cell_type": "code",
   "execution_count": 110,
   "metadata": {},
   "outputs": [
    {
     "data": {
      "text/plain": [
       "2"
      ]
     },
     "execution_count": 110,
     "metadata": {},
     "output_type": "execute_result"
    }
   ],
   "source": [
    "# 4. Рассчитайте количество пицерий в городе 'Santa Barbara' в переменную sb_pizza_num\n",
    "term1 = pizza.city == 'Santa Barbara'\n",
    "term2 = pizza.province == 'CA'\n",
    "sb_pizza_num = pizza[term1 & term2].name.nunique()\n",
    "sb_pizza_num"
   ]
  },
  {
   "cell_type": "code",
   "execution_count": 111,
   "metadata": {},
   "outputs": [
    {
     "data": {
      "text/plain": [
       "219"
      ]
     },
     "execution_count": 111,
     "metadata": {},
     "output_type": "execute_result"
    }
   ],
   "source": [
    "# 5. Рассчитайте количество пицерий в Калифорнии (province == CA) в ca_pizza_num\n",
    "ca_pizza_num =  pizza[pizza.province == 'CA'].name.nunique()\n",
    "ca_pizza_num"
   ]
  },
  {
   "cell_type": "code",
   "execution_count": 112,
   "metadata": {},
   "outputs": [
    {
     "data": {
      "text/plain": [
       "0.91"
      ]
     },
     "execution_count": 112,
     "metadata": {},
     "output_type": "execute_result"
    }
   ],
   "source": [
    "# 6. Рассчитайте и выведите долю 'Santa Barbara' в пицериях Калифорнии\n",
    "round(sb_pizza_num / ca_pizza_num * 100,2)"
   ]
  },
  {
   "cell_type": "code",
   "execution_count": 113,
   "metadata": {},
   "outputs": [
    {
     "data": {
      "text/html": [
       "<div>\n",
       "<style scoped>\n",
       "    .dataframe tbody tr th:only-of-type {\n",
       "        vertical-align: middle;\n",
       "    }\n",
       "\n",
       "    .dataframe tbody tr th {\n",
       "        vertical-align: top;\n",
       "    }\n",
       "\n",
       "    .dataframe thead th {\n",
       "        text-align: right;\n",
       "    }\n",
       "</style>\n",
       "<table border=\"1\" class=\"dataframe\">\n",
       "  <thead>\n",
       "    <tr style=\"text-align: right;\">\n",
       "      <th></th>\n",
       "      <th>priceRangeMin</th>\n",
       "      <th>priceRangeMax</th>\n",
       "    </tr>\n",
       "    <tr>\n",
       "      <th>primaryCategories</th>\n",
       "      <th></th>\n",
       "      <th></th>\n",
       "    </tr>\n",
       "  </thead>\n",
       "  <tbody>\n",
       "    <tr>\n",
       "      <th>Accommodation &amp; Food Services</th>\n",
       "      <td>4.617519</td>\n",
       "      <td>27.744777</td>\n",
       "    </tr>\n",
       "    <tr>\n",
       "      <th>Accommodation &amp; Food Services,Management of Companies &amp; Enterprises</th>\n",
       "      <td>16.304348</td>\n",
       "      <td>34.782609</td>\n",
       "    </tr>\n",
       "    <tr>\n",
       "      <th>Educational Services,Accommodation &amp; Food Services</th>\n",
       "      <td>0.000000</td>\n",
       "      <td>25.000000</td>\n",
       "    </tr>\n",
       "    <tr>\n",
       "      <th>Management of Companies &amp; Enterprises</th>\n",
       "      <td>6.976744</td>\n",
       "      <td>29.186047</td>\n",
       "    </tr>\n",
       "    <tr>\n",
       "      <th>Retail</th>\n",
       "      <td>5.555556</td>\n",
       "      <td>28.333333</td>\n",
       "    </tr>\n",
       "    <tr>\n",
       "      <th>Retail,Accommodation &amp; Food Services</th>\n",
       "      <td>6.818182</td>\n",
       "      <td>25.818182</td>\n",
       "    </tr>\n",
       "    <tr>\n",
       "      <th>Wholesale Trade,Accommodation &amp; Food Services</th>\n",
       "      <td>0.000000</td>\n",
       "      <td>25.000000</td>\n",
       "    </tr>\n",
       "    <tr>\n",
       "      <th>Wholesale Trade,Accommodation &amp; Food Services,Manufacturing</th>\n",
       "      <td>0.000000</td>\n",
       "      <td>25.000000</td>\n",
       "    </tr>\n",
       "  </tbody>\n",
       "</table>\n",
       "</div>"
      ],
      "text/plain": [
       "                                                    priceRangeMin  \\\n",
       "primaryCategories                                                   \n",
       "Accommodation & Food Services                            4.617519   \n",
       "Accommodation & Food Services,Management of Com...      16.304348   \n",
       "Educational Services,Accommodation & Food Services       0.000000   \n",
       "Management of Companies & Enterprises                    6.976744   \n",
       "Retail                                                   5.555556   \n",
       "Retail,Accommodation & Food Services                     6.818182   \n",
       "Wholesale Trade,Accommodation & Food Services            0.000000   \n",
       "Wholesale Trade,Accommodation & Food Services,M...       0.000000   \n",
       "\n",
       "                                                    priceRangeMax  \n",
       "primaryCategories                                                  \n",
       "Accommodation & Food Services                           27.744777  \n",
       "Accommodation & Food Services,Management of Com...      34.782609  \n",
       "Educational Services,Accommodation & Food Services      25.000000  \n",
       "Management of Companies & Enterprises                   29.186047  \n",
       "Retail                                                  28.333333  \n",
       "Retail,Accommodation & Food Services                    25.818182  \n",
       "Wholesale Trade,Accommodation & Food Services           25.000000  \n",
       "Wholesale Trade,Accommodation & Food Services,M...      25.000000  "
      ]
     },
     "execution_count": 113,
     "metadata": {},
     "output_type": "execute_result"
    }
   ],
   "source": [
    "# 7. Рассчитайте средние значения priceRangeMin и priceRangeMax по primaryCategories\n",
    "pizza.groupby('primaryCategories')['priceRangeMin','priceRangeMax'].mean()"
   ]
  },
  {
   "cell_type": "code",
   "execution_count": 114,
   "metadata": {},
   "outputs": [
    {
     "data": {
      "text/html": [
       "<div>\n",
       "<style scoped>\n",
       "    .dataframe tbody tr th:only-of-type {\n",
       "        vertical-align: middle;\n",
       "    }\n",
       "\n",
       "    .dataframe tbody tr th {\n",
       "        vertical-align: top;\n",
       "    }\n",
       "\n",
       "    .dataframe thead th {\n",
       "        text-align: right;\n",
       "    }\n",
       "</style>\n",
       "<table border=\"1\" class=\"dataframe\">\n",
       "  <thead>\n",
       "    <tr style=\"text-align: right;\">\n",
       "      <th></th>\n",
       "      <th>menus.name</th>\n",
       "      <th>id</th>\n",
       "    </tr>\n",
       "  </thead>\n",
       "  <tbody>\n",
       "    <tr>\n",
       "      <th>1106</th>\n",
       "      <td>Cheese Pizza</td>\n",
       "      <td>299</td>\n",
       "    </tr>\n",
       "    <tr>\n",
       "      <th>4628</th>\n",
       "      <td>White Pizza</td>\n",
       "      <td>225</td>\n",
       "    </tr>\n",
       "    <tr>\n",
       "      <th>1943</th>\n",
       "      <td>Hawaiian Pizza</td>\n",
       "      <td>149</td>\n",
       "    </tr>\n",
       "    <tr>\n",
       "      <th>960</th>\n",
       "      <td>Buffalo Chicken Pizza</td>\n",
       "      <td>112</td>\n",
       "    </tr>\n",
       "    <tr>\n",
       "      <th>3052</th>\n",
       "      <td>Pizza</td>\n",
       "      <td>111</td>\n",
       "    </tr>\n",
       "  </tbody>\n",
       "</table>\n",
       "</div>"
      ],
      "text/plain": [
       "                 menus.name   id\n",
       "1106           Cheese Pizza  299\n",
       "4628            White Pizza  225\n",
       "1943         Hawaiian Pizza  149\n",
       "960   Buffalo Chicken Pizza  112\n",
       "3052                  Pizza  111"
      ]
     },
     "execution_count": 114,
     "metadata": {},
     "output_type": "execute_result"
    }
   ],
   "source": [
    "# 8. Выведите топ-5 самых популярных названий пицц по menus.name\n",
    "# Группируем по пиццам и считаем по количество по id\n",
    "pizza_g = pizza.groupby('menus.name')['id'].count()\n",
    "# Переводим в DataFrame\n",
    "pizza_g = pizza_g.reset_index()\n",
    "# Сортируем по убыванию\n",
    "pizza_g = pizza_g.sort_values(by='id', ascending=False)\n",
    "# Выводим первые 5 строк отсортированной таблицы\n",
    "pizza_g.head()\n"
   ]
  },
  {
   "cell_type": "code",
   "execution_count": 115,
   "metadata": {},
   "outputs": [
    {
     "data": {
      "text/plain": [
       "'pepperoni'"
      ]
     },
     "execution_count": 115,
     "metadata": {},
     "output_type": "execute_result"
    }
   ],
   "source": [
    "# 9. Выведите самый редкий ингридиент из описания menus.description (опционально)\n",
    "pizza_content =  pizza[~pizza['menus.description'].isnull()]['menus.description'].tolist()\n",
    "pizza_content = [x.replace('ampcomma',',') for x in pizza_content]\n",
    "pizza_content = [x.replace('ampamp','') for x in pizza_content]\n",
    "pizza_content = [x.replace('6ampquot','') for x in pizza_content]\n",
    "pizza_content = [x.split(',') for x in pizza_content]\n",
    "pizza_content_all_in_one = []\n",
    "\n",
    "for p in pizza_content:\n",
    "    pizza_content_all_in_one.extend(p)\n",
    "pizza_content_all_in_one = [x.strip().lower() for x in pizza_content_all_in_one] \n",
    "\n",
    "from collections import Counter\n",
    "pizza_dict = Counter(pizza_content_all_in_one)\n",
    "top4ik = sorted(pizza_dict.items(),\n",
    "                key=lambda x: x[1],\n",
    "               reverse=True) \n",
    "top4ik[0][0]"
   ]
  },
  {
   "cell_type": "code",
   "execution_count": 118,
   "metadata": {},
   "outputs": [
    {
     "data": {
      "text/plain": [
       "[('pepperoni', 209),\n",
       " ('mushrooms', 184),\n",
       " ('onions', 173),\n",
       " ('mozzarella', 137),\n",
       " ('green peppers', 121)]"
      ]
     },
     "execution_count": 118,
     "metadata": {},
     "output_type": "execute_result"
    }
   ],
   "source": [
    "top4ik[:5]"
   ]
  },
  {
   "cell_type": "code",
   "execution_count": 119,
   "metadata": {},
   "outputs": [],
   "source": [
    "# 10. Создайте директорию pizza_provinces\n",
    "# Вариант №1 создать ее руками"
   ]
  },
  {
   "cell_type": "code",
   "execution_count": 120,
   "metadata": {},
   "outputs": [],
   "source": [
    "# Вариант №2 с использованием консольной команды mkdir\n",
    "# !mkdir pizza_provinces\n",
    "# !ls выводим файлы и папки, проверяем есть ли pizza_provinces\n",
    "# !rm -r pizza_provinces удаляем при необходимости"
   ]
  },
  {
   "cell_type": "code",
   "execution_count": 121,
   "metadata": {},
   "outputs": [],
   "source": [
    "# Вариант №3 с помощью пакета os\n",
    "import os\n",
    "# os.mkdir('pizza_provinces')  создает директорию\n",
    "# os.listdir() показывает содержимое текущей директории"
   ]
  },
  {
   "cell_type": "code",
   "execution_count": 122,
   "metadata": {},
   "outputs": [],
   "source": [
    "# фантазия на эту тему...\n",
    "from shutil import rmtree\n",
    "def make_new_dir(dirname):\n",
    "    \n",
    "    \"\"\"\n",
    "    Функция создает новую директорию dirname. Если такая директория уже существует, предлагает удалить ее и создать заново.\n",
    "    - dirname str\n",
    "    \"\"\"\n",
    "    \n",
    "    if os.path.isdir(dirname):\n",
    "\n",
    "        x = input('Такая директория уже существует! \\nУдалить {} и создать заново ? да(y) или нет(n)\\n'.format(dirname))\n",
    "        if x == 'y':\n",
    "            rmtree(dirname) # удалит директорию и все что в ней есть\n",
    "            os.mkdir(dirname)\n",
    "            print('Сделано! Директория {} создана.'.format(dirname))\n",
    "        elif x == 'n':\n",
    "            print('ОК! Не трогаем {}'.format(dirname))\n",
    "        else:\n",
    "            'Моя твоя не понимать, введи либо y либо n'\n",
    "    else:\n",
    "        os.mkdir(dirname)\n",
    "        print('Директория {} создана'.format(dirname))"
   ]
  },
  {
   "cell_type": "code",
   "execution_count": 123,
   "metadata": {},
   "outputs": [
    {
     "name": "stdout",
     "output_type": "stream",
     "text": [
      "Такая директория уже существует! \n",
      "Удалить pizza_provinces и создать заново ? да(y) или нет(n)\n",
      "y\n",
      "Сделано! Директория pizza_provinces создана.\n"
     ]
    }
   ],
   "source": [
    "make_new_dir(dirname='pizza_provinces')"
   ]
  },
  {
   "cell_type": "code",
   "execution_count": 124,
   "metadata": {},
   "outputs": [
    {
     "data": {
      "application/vnd.jupyter.widget-view+json": {
       "model_id": "adde14db8ae24ff59a618013d8cdad91",
       "version_major": 2,
       "version_minor": 0
      },
      "text/plain": [
       "HBox(children=(IntProgress(value=0, max=44), HTML(value='')))"
      ]
     },
     "metadata": {},
     "output_type": "display_data"
    },
    {
     "name": "stdout",
     "output_type": "stream",
     "text": [
      "\n"
     ]
    }
   ],
   "source": [
    "# 11. Сохраните в эту директорию файлы с пицериями по регионам provinces \n",
    "# В задании важно учесть условие:\n",
    "#  Если регион начинается \"A\" то файл .xlsx, если 'N' то .csv, в остальных случаях .txt\n",
    "#  Пример: 'AR.xlsx' содержит в себе все пицерии из региона 'AR'\n",
    "\n",
    "from tqdm import tqdm_notebook\n",
    "provinces = pizza.province.unique().tolist()\n",
    "for prov in tqdm_notebook(provinces):\n",
    "    if prov.startswith('A'): # для проверки содержания начала строки удобно использовать метод startswith('A') \n",
    "        filename = ''.join([prov,'.xlsx']) \n",
    "        fpth = os.path.join('pizza_provinces',filename)\n",
    "        pizza[pizza.province == prov].to_excel(fpth, index=False)\n",
    "    \n",
    "    elif prov[0] == 'N': # или можно взять 1й символ из строки\n",
    "        filename = ''.join([prov,'.csv']) \n",
    "        fpth = os.path.join('pizza_provinces',filename)\n",
    "        pizza[pizza.province == prov].to_csv(fpth)\n",
    "    else:\n",
    "        filename = ''.join([prov,'.txt']) \n",
    "        fpth = os.path.join('pizza_provinces',filename)\n",
    "        pizza[pizza.province == prov].to_csv(fpth)"
   ]
  },
  {
   "cell_type": "code",
   "execution_count": 125,
   "metadata": {},
   "outputs": [],
   "source": [
    "# 12. Напишите функцию, которая на вход будет принимать регион, а на выходе выдавать город, где больше всего пцццерий\n",
    "provinces = pizza.province.unique().tolist()\n",
    "def max_pizza_city(df, region):\n",
    "    '''\n",
    "    Функция выводит город, где больше всего пицерий\n",
    "    df: DataFrame с пиццами и пиццериями\n",
    "    region: str, регион, в котором проверяем пиццерии\n",
    "    '''\n",
    "    pizzareg = df[df.province == region] # выбираем регион из большой таблицы\n",
    "    pizzareg_group = pizzareg.groupby('city')['name'].nunique() # считаем пиццы по городам\n",
    "    pizzareg_group = pizzareg_group.reset_index() # переводим Series в DataFrame\n",
    "    pizzareg_group = pizzareg_group.sort_values(by='name', ascending=False) # сортируем по убыванию\n",
    "    top_city = pizzareg_group.city.tolist()[0] # переводим в список, из которого берем 1й элемент\n",
    "    return top_city"
   ]
  },
  {
   "cell_type": "code",
   "execution_count": 126,
   "metadata": {},
   "outputs": [
    {
     "data": {
      "text/plain": [
       "'Los Angeles'"
      ]
     },
     "execution_count": 126,
     "metadata": {},
     "output_type": "execute_result"
    }
   ],
   "source": [
    "max_pizza_city(pizza, 'CA')"
   ]
  },
  {
   "cell_type": "code",
   "execution_count": 127,
   "metadata": {},
   "outputs": [],
   "source": [
    "# 13. Рассчитайте и запишите в колонку city_len количество символов в названии города 2мя способами\n",
    "# Способ 1й (быстрый)\n",
    "pizza['city_len'] = pizza.city.apply(lambda x: len(x))"
   ]
  },
  {
   "cell_type": "code",
   "execution_count": 128,
   "metadata": {},
   "outputs": [
    {
     "data": {
      "application/vnd.jupyter.widget-view+json": {
       "model_id": "00e21d5bc5ff45c699f589103355c9d7",
       "version_major": 2,
       "version_minor": 0
      },
      "text/plain": [
       "HBox(children=(IntProgress(value=0, max=10000), HTML(value='')))"
      ]
     },
     "metadata": {},
     "output_type": "display_data"
    },
    {
     "name": "stdout",
     "output_type": "stream",
     "text": [
      "\n"
     ]
    }
   ],
   "source": [
    "# Способ 2й (помедленнее)\n",
    "pizza['city_len'] = 0 # создаем колонку\n",
    "for i in tqdm_notebook(range(pizza.shape[0])): \n",
    "    city = pizza.iloc[i,3] # выбираем город\n",
    "    city_len = len(city) # считаем длину \n",
    "    pizza.iloc[i,12] = city_len # записываем в таблицу"
   ]
  },
  {
   "cell_type": "code",
   "execution_count": null,
   "metadata": {},
   "outputs": [],
   "source": []
  },
  {
   "cell_type": "code",
   "execution_count": null,
   "metadata": {},
   "outputs": [],
   "source": []
  }
 ],
 "metadata": {
  "kernelspec": {
   "display_name": "Python 3",
   "language": "python",
   "name": "python3"
  },
  "language_info": {
   "codemirror_mode": {
    "name": "ipython",
    "version": 3
   },
   "file_extension": ".py",
   "mimetype": "text/x-python",
   "name": "python",
   "nbconvert_exporter": "python",
   "pygments_lexer": "ipython3",
   "version": "3.7.3"
  }
 },
 "nbformat": 4,
 "nbformat_minor": 2
}
