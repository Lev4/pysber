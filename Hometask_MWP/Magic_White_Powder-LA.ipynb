{
 "cells": [
  {
   "cell_type": "code",
   "execution_count": 1,
   "metadata": {},
   "outputs": [],
   "source": [
    "%matplotlib inline\n",
    "import os\n",
    "import shutil\n",
    "import yfinance as yf\n",
    "import pandas as pd\n",
    "import matplotlib.pyplot as plt\n",
    "import seaborn; seaborn.set()\n",
    "from pandas_datareader import data as pdr\n",
    "from bs4 import BeautifulSoup\n"
   ]
  },
  {
   "cell_type": "markdown",
   "metadata": {},
   "source": [
    "# Задание 1.\n",
    "\n",
    "Вы - менеджер по продажам в нефтехимической компании. Вы ведете несколько ключевых клиентов, которые закупают продукты вашей компании. Ваша компания запускает новый продукт - \"Волшебный белый порошок\" (ВБП), который по своим свойствам похож на тот, что уже есть на рынке. Ваши клиенты предпочитают формульный подход к ценообразованию. Вам нужно предложить клиентам формулу расчета цены на ВБП. В зависимости от объемов, которые покупают клиенты, им может быть предложена скидка.\n",
    "\n",
    "### Дополнительные вводные:\n",
    "\n",
    "Так как продукт Б новый, возможно стоит предложить дисконт от цены Продукта А. Продукт производиться из нефти. Один из известных способов производства предполагает что из 16 баррелей нефти сделают одну тонну ВБП, а затраты на производство в районе 400 евро."
   ]
  },
  {
   "cell_type": "code",
   "execution_count": 2,
   "metadata": {},
   "outputs": [],
   "source": [
    "# Из данных есть:\n",
    "# Цены на продукт А, который уже есть на рынке Европы\n",
    "# ----- октябрь 2018 - 1600 eur\n",
    "# ----- ноябрь 2018 - 1550 eur\n",
    "# ----- февраль 2019 - 1300 eur\n",
    "\n",
    "# Котировки нефти, курс eur/usd\n",
    "dbc = pd.read_excel('cur_oil.xlsx')\n",
    "\n",
    "# Затраты на производство\n",
    "PRODUCTION_COST = 400 # (EUR)\n",
    "\n",
    "# Расходы на логистику\n",
    "EU_LOGISTIC_COST_EUR = 30 # в Европу в евро\n",
    "CN_LOGISTIC_COST_USD = 130 # в Китай в долларах\n",
    "\n",
    "# * Справочная информация по клиентам(объемы, локации, комментарии) \n",
    "customers = {\n",
    "    'Monty':{\n",
    "        'location':'EU',\n",
    "        'volumes':200,\n",
    "        'comment':'moving_average'\n",
    "    },\n",
    "    \n",
    "    'Triangle':{\n",
    "        'location':'CN',\n",
    "        'volumes': 30,\n",
    "        'comment': 'monthly'\n",
    "    },\n",
    "    'Stone':{\n",
    "        'location':'EU',\n",
    "        'volumes': 150,\n",
    "        'comment': 'moving_average'\n",
    "    },\n",
    "    'Poly':{\n",
    "        'location':'EU',\n",
    "        'volumes': 70,\n",
    "        'comment': 'monthly'\n",
    "    }\n",
    "}\n",
    "# Скидки\n",
    "discounts = {'up to 100': 0.01, # 1%\n",
    "             'up to 300': 0.05, # 5%\n",
    "             '300 plus': 0.1}   #10%\n"
   ]
  },
  {
   "cell_type": "markdown",
   "metadata": {},
   "source": [
    "### Что нужно сделать?\n",
    "\n",
    "1. Проанализировать имеющиеся данные.\n",
    "2. Определить базовую формулу цены на условиях FCA (цена на заводе). То есть как бы выглядела цена на исторических данных.\n",
    "3. Отобразить на графике.\n",
    "4. Сделать расчет возможной цены по формуле для каждого из клиентов на условиях DDP (цена с доставкой). Записать все в один эксель файл, на разных листах. Каждый лист - название клиента.\n",
    "5. Предложить формулу цены каждому из клиентов на условиях DDP (цена с доставкой).\n",
    "- Создать директорию «для клиентов» и в ней сложить  файлы с расчетами.\n",
    "- Каждый клиент - отдельный файл (любой из docx, xlsx, pptx, pdf)  с именем клиента… \n",
    "\n",
    "### В результате должно быть 3 файла:\n",
    "1. Ноутбук с расчетами и графиками. \n",
    "2. Скрипт, который делает расчет цены для каждого клиента в одном файле\n",
    "2. Скрипт, который делает расчет цены для каждого клиента в отельном файле"
   ]
  },
  {
   "cell_type": "code",
   "execution_count": 27,
   "metadata": {},
   "outputs": [
    {
     "name": "stdout",
     "output_type": "stream",
     "text": [
      "[*********************100%***********************]  1 of 1 downloaded\n"
     ]
    }
   ],
   "source": [
    "yf.pdr_override() \n",
    "df_oil= pdr.get_data_yahoo(\"OIL\", start=\"2018-01-01\", end=\"2019-04-30\")"
   ]
  },
  {
   "cell_type": "code",
   "execution_count": 29,
   "metadata": {},
   "outputs": [],
   "source": [
    "# df_oil"
   ]
  },
  {
   "cell_type": "code",
   "execution_count": 36,
   "metadata": {},
   "outputs": [],
   "source": [
    "# df_cur = pdr.get_data_yahoo('EURUSD=X ',start=\"2018-01-01\", end=\"2019-04-30\")"
   ]
  },
  {
   "cell_type": "code",
   "execution_count": 37,
   "metadata": {},
   "outputs": [],
   "source": [
    "# df_cur"
   ]
  },
  {
   "cell_type": "code",
   "execution_count": 47,
   "metadata": {},
   "outputs": [
    {
     "name": "stdout",
     "output_type": "stream",
     "text": [
      "\r",
      "[                       0%                       ]"
     ]
    },
    {
     "ename": "KeyboardInterrupt",
     "evalue": "",
     "output_type": "error",
     "traceback": [
      "\u001b[0;31m---------------------------------------------------------------------------\u001b[0m",
      "\u001b[0;31mKeyboardInterrupt\u001b[0m                         Traceback (most recent call last)",
      "\u001b[0;32m<ipython-input-47-2c3932cc5d6a>\u001b[0m in \u001b[0;36m<module>\u001b[0;34m\u001b[0m\n\u001b[0;32m----> 1\u001b[0;31m \u001b[0mdf_both\u001b[0m \u001b[0;34m=\u001b[0m \u001b[0mpdr\u001b[0m\u001b[0;34m.\u001b[0m\u001b[0mget_data_yahoo\u001b[0m\u001b[0;34m(\u001b[0m\u001b[0;34m'EURUSD=X OIL'\u001b[0m\u001b[0;34m,\u001b[0m\u001b[0mstart\u001b[0m\u001b[0;34m=\u001b[0m\u001b[0;34m\"2018-01-01\"\u001b[0m\u001b[0;34m,\u001b[0m \u001b[0mend\u001b[0m\u001b[0;34m=\u001b[0m\u001b[0;34m\"2019-04-30\"\u001b[0m\u001b[0;34m)\u001b[0m\u001b[0;34m\u001b[0m\u001b[0;34m\u001b[0m\u001b[0m\n\u001b[0m",
      "\u001b[0;32m~/Applications/anaconda/anaconda3/lib/python3.7/site-packages/yfinance/__init__.py\u001b[0m in \u001b[0;36mdownload\u001b[0;34m(tickers, start, end, actions, threads, group_by, auto_adjust, progress, period, interval, prepost, proxy, **kwargs)\u001b[0m\n\u001b[1;32m    586\u001b[0m                                    progress=(progress and i > 0), proxy=proxy)\n\u001b[1;32m    587\u001b[0m         \u001b[0;32mwhile\u001b[0m \u001b[0mlen\u001b[0m\u001b[0;34m(\u001b[0m\u001b[0m_DFS\u001b[0m\u001b[0;34m)\u001b[0m \u001b[0;34m<\u001b[0m \u001b[0mlen\u001b[0m\u001b[0;34m(\u001b[0m\u001b[0mtickers\u001b[0m\u001b[0;34m)\u001b[0m\u001b[0;34m:\u001b[0m\u001b[0;34m\u001b[0m\u001b[0;34m\u001b[0m\u001b[0m\n\u001b[0;32m--> 588\u001b[0;31m             \u001b[0m_time\u001b[0m\u001b[0;34m.\u001b[0m\u001b[0msleep\u001b[0m\u001b[0;34m(\u001b[0m\u001b[0;36m0.01\u001b[0m\u001b[0;34m)\u001b[0m\u001b[0;34m\u001b[0m\u001b[0;34m\u001b[0m\u001b[0m\n\u001b[0m\u001b[1;32m    589\u001b[0m \u001b[0;34m\u001b[0m\u001b[0m\n\u001b[1;32m    590\u001b[0m     \u001b[0;31m# download synchronously\u001b[0m\u001b[0;34m\u001b[0m\u001b[0;34m\u001b[0m\u001b[0;34m\u001b[0m\u001b[0m\n",
      "\u001b[0;31mKeyboardInterrupt\u001b[0m: "
     ]
    }
   ],
   "source": [
    "df_both = pdr.get_data_yahoo('EURUSD=X OIL',start=\"2018-01-01\", end=\"2019-04-30\")"
   ]
  },
  {
   "cell_type": "code",
   "execution_count": 44,
   "metadata": {},
   "outputs": [],
   "source": [
    "df_both['Close'] = df_both['Close'].copy()"
   ]
  },
  {
   "cell_type": "code",
   "execution_count": null,
   "metadata": {},
   "outputs": [],
   "source": []
  },
  {
   "cell_type": "code",
   "execution_count": 48,
   "metadata": {},
   "outputs": [],
   "source": [
    "df_both.columns  = [pair[0] + '_' + pair[1] for pair in df_both.columns]"
   ]
  },
  {
   "cell_type": "code",
   "execution_count": 52,
   "metadata": {},
   "outputs": [],
   "source": [
    "df_both = df_both[['Close_EURUSD=X','Close_OIL']].copy()"
   ]
  },
  {
   "cell_type": "code",
   "execution_count": null,
   "metadata": {},
   "outputs": [],
   "source": []
  },
  {
   "cell_type": "code",
   "execution_count": null,
   "metadata": {},
   "outputs": [],
   "source": []
  },
  {
   "cell_type": "code",
   "execution_count": 4,
   "metadata": {},
   "outputs": [],
   "source": [
    "# df_both['Close'].to_excel('cur_oil.xlsx')\n",
    "df_both = pd.read_excel('cur_oil.xlsx', parse_dates=True,)\n",
    "df_both = df_both.set_index('Date')"
   ]
  },
  {
   "cell_type": "code",
   "execution_count": 5,
   "metadata": {},
   "outputs": [
    {
     "data": {
      "text/html": [
       "<div>\n",
       "<style scoped>\n",
       "    .dataframe tbody tr th:only-of-type {\n",
       "        vertical-align: middle;\n",
       "    }\n",
       "\n",
       "    .dataframe tbody tr th {\n",
       "        vertical-align: top;\n",
       "    }\n",
       "\n",
       "    .dataframe thead th {\n",
       "        text-align: right;\n",
       "    }\n",
       "</style>\n",
       "<table border=\"1\" class=\"dataframe\">\n",
       "  <thead>\n",
       "    <tr style=\"text-align: right;\">\n",
       "      <th></th>\n",
       "      <th>EURUSD=X</th>\n",
       "      <th>OIL</th>\n",
       "    </tr>\n",
       "    <tr>\n",
       "      <th>Date</th>\n",
       "      <th></th>\n",
       "      <th></th>\n",
       "    </tr>\n",
       "  </thead>\n",
       "  <tbody>\n",
       "    <tr>\n",
       "      <th>2018-01-01</th>\n",
       "      <td>1.2005</td>\n",
       "      <td>NaN</td>\n",
       "    </tr>\n",
       "    <tr>\n",
       "      <th>2018-01-02</th>\n",
       "      <td>1.2012</td>\n",
       "      <td>59.15</td>\n",
       "    </tr>\n",
       "    <tr>\n",
       "      <th>2018-01-03</th>\n",
       "      <td>1.2063</td>\n",
       "      <td>59.15</td>\n",
       "    </tr>\n",
       "    <tr>\n",
       "      <th>2018-01-04</th>\n",
       "      <td>1.2010</td>\n",
       "      <td>59.15</td>\n",
       "    </tr>\n",
       "    <tr>\n",
       "      <th>2018-01-05</th>\n",
       "      <td>1.2069</td>\n",
       "      <td>60.44</td>\n",
       "    </tr>\n",
       "  </tbody>\n",
       "</table>\n",
       "</div>"
      ],
      "text/plain": [
       "            EURUSD=X    OIL\n",
       "Date                       \n",
       "2018-01-01    1.2005    NaN\n",
       "2018-01-02    1.2012  59.15\n",
       "2018-01-03    1.2063  59.15\n",
       "2018-01-04    1.2010  59.15\n",
       "2018-01-05    1.2069  60.44"
      ]
     },
     "execution_count": 5,
     "metadata": {},
     "output_type": "execute_result"
    }
   ],
   "source": [
    "df_both.head()"
   ]
  },
  {
   "cell_type": "code",
   "execution_count": 6,
   "metadata": {},
   "outputs": [],
   "source": [
    "dbc_mean = df_both.resample('M').mean()"
   ]
  },
  {
   "cell_type": "code",
   "execution_count": 7,
   "metadata": {},
   "outputs": [
    {
     "data": {
      "text/html": [
       "<div>\n",
       "<style scoped>\n",
       "    .dataframe tbody tr th:only-of-type {\n",
       "        vertical-align: middle;\n",
       "    }\n",
       "\n",
       "    .dataframe tbody tr th {\n",
       "        vertical-align: top;\n",
       "    }\n",
       "\n",
       "    .dataframe thead th {\n",
       "        text-align: right;\n",
       "    }\n",
       "</style>\n",
       "<table border=\"1\" class=\"dataframe\">\n",
       "  <thead>\n",
       "    <tr style=\"text-align: right;\">\n",
       "      <th></th>\n",
       "      <th>EURUSD=X</th>\n",
       "      <th>OIL</th>\n",
       "    </tr>\n",
       "    <tr>\n",
       "      <th>Date</th>\n",
       "      <th></th>\n",
       "      <th></th>\n",
       "    </tr>\n",
       "  </thead>\n",
       "  <tbody>\n",
       "    <tr>\n",
       "      <th>2018-01-31</th>\n",
       "      <td>1.217691</td>\n",
       "      <td>62.261429</td>\n",
       "    </tr>\n",
       "    <tr>\n",
       "      <th>2018-02-28</th>\n",
       "      <td>1.235620</td>\n",
       "      <td>61.415789</td>\n",
       "    </tr>\n",
       "    <tr>\n",
       "      <th>2018-03-31</th>\n",
       "      <td>1.233427</td>\n",
       "      <td>62.140000</td>\n",
       "    </tr>\n",
       "    <tr>\n",
       "      <th>2018-04-30</th>\n",
       "      <td>1.228700</td>\n",
       "      <td>65.806190</td>\n",
       "    </tr>\n",
       "    <tr>\n",
       "      <th>2018-05-31</th>\n",
       "      <td>1.183278</td>\n",
       "      <td>69.606818</td>\n",
       "    </tr>\n",
       "    <tr>\n",
       "      <th>2018-06-30</th>\n",
       "      <td>1.167586</td>\n",
       "      <td>67.040952</td>\n",
       "    </tr>\n",
       "    <tr>\n",
       "      <th>2018-07-31</th>\n",
       "      <td>1.168768</td>\n",
       "      <td>70.948095</td>\n",
       "    </tr>\n",
       "    <tr>\n",
       "      <th>2018-08-31</th>\n",
       "      <td>1.155183</td>\n",
       "      <td>69.428696</td>\n",
       "    </tr>\n",
       "    <tr>\n",
       "      <th>2018-09-30</th>\n",
       "      <td>1.166070</td>\n",
       "      <td>72.302632</td>\n",
       "    </tr>\n",
       "    <tr>\n",
       "      <th>2018-10-31</th>\n",
       "      <td>1.149539</td>\n",
       "      <td>73.293913</td>\n",
       "    </tr>\n",
       "    <tr>\n",
       "      <th>2018-11-30</th>\n",
       "      <td>1.136550</td>\n",
       "      <td>58.798095</td>\n",
       "    </tr>\n",
       "    <tr>\n",
       "      <th>2018-12-31</th>\n",
       "      <td>1.137548</td>\n",
       "      <td>50.771053</td>\n",
       "    </tr>\n",
       "    <tr>\n",
       "      <th>2019-01-31</th>\n",
       "      <td>1.142530</td>\n",
       "      <td>53.353810</td>\n",
       "    </tr>\n",
       "    <tr>\n",
       "      <th>2019-02-28</th>\n",
       "      <td>1.135395</td>\n",
       "      <td>56.600526</td>\n",
       "    </tr>\n",
       "    <tr>\n",
       "      <th>2019-03-31</th>\n",
       "      <td>1.130976</td>\n",
       "      <td>59.495238</td>\n",
       "    </tr>\n",
       "    <tr>\n",
       "      <th>2019-04-30</th>\n",
       "      <td>1.123733</td>\n",
       "      <td>65.234500</td>\n",
       "    </tr>\n",
       "  </tbody>\n",
       "</table>\n",
       "</div>"
      ],
      "text/plain": [
       "            EURUSD=X        OIL\n",
       "Date                           \n",
       "2018-01-31  1.217691  62.261429\n",
       "2018-02-28  1.235620  61.415789\n",
       "2018-03-31  1.233427  62.140000\n",
       "2018-04-30  1.228700  65.806190\n",
       "2018-05-31  1.183278  69.606818\n",
       "2018-06-30  1.167586  67.040952\n",
       "2018-07-31  1.168768  70.948095\n",
       "2018-08-31  1.155183  69.428696\n",
       "2018-09-30  1.166070  72.302632\n",
       "2018-10-31  1.149539  73.293913\n",
       "2018-11-30  1.136550  58.798095\n",
       "2018-12-31  1.137548  50.771053\n",
       "2019-01-31  1.142530  53.353810\n",
       "2019-02-28  1.135395  56.600526\n",
       "2019-03-31  1.130976  59.495238\n",
       "2019-04-30  1.123733  65.234500"
      ]
     },
     "execution_count": 7,
     "metadata": {},
     "output_type": "execute_result"
    }
   ],
   "source": [
    "dbc_mean"
   ]
  },
  {
   "cell_type": "code",
   "execution_count": 8,
   "metadata": {},
   "outputs": [],
   "source": [
    "# dbc_mean.columns = [pair[0]+ '_' + pair[1] for pair in dbc_mean.columns]\n",
    "# dbc_mean[['Close_EURUSD=X','Close_OIL' ]]\n",
    "dbc_mean['EXR_Shifted'] = dbc_mean['EURUSD=X'].shift(1)"
   ]
  },
  {
   "cell_type": "code",
   "execution_count": 9,
   "metadata": {},
   "outputs": [
    {
     "data": {
      "text/html": [
       "<div>\n",
       "<style scoped>\n",
       "    .dataframe tbody tr th:only-of-type {\n",
       "        vertical-align: middle;\n",
       "    }\n",
       "\n",
       "    .dataframe tbody tr th {\n",
       "        vertical-align: top;\n",
       "    }\n",
       "\n",
       "    .dataframe thead th {\n",
       "        text-align: right;\n",
       "    }\n",
       "</style>\n",
       "<table border=\"1\" class=\"dataframe\">\n",
       "  <thead>\n",
       "    <tr style=\"text-align: right;\">\n",
       "      <th></th>\n",
       "      <th>EURUSD=X</th>\n",
       "      <th>OIL</th>\n",
       "      <th>EXR_Shifted</th>\n",
       "    </tr>\n",
       "    <tr>\n",
       "      <th>Date</th>\n",
       "      <th></th>\n",
       "      <th></th>\n",
       "      <th></th>\n",
       "    </tr>\n",
       "  </thead>\n",
       "  <tbody>\n",
       "    <tr>\n",
       "      <th>2018-01-31</th>\n",
       "      <td>1.217691</td>\n",
       "      <td>62.261429</td>\n",
       "      <td>NaN</td>\n",
       "    </tr>\n",
       "    <tr>\n",
       "      <th>2018-02-28</th>\n",
       "      <td>1.235620</td>\n",
       "      <td>61.415789</td>\n",
       "      <td>1.217691</td>\n",
       "    </tr>\n",
       "    <tr>\n",
       "      <th>2018-03-31</th>\n",
       "      <td>1.233427</td>\n",
       "      <td>62.140000</td>\n",
       "      <td>1.235620</td>\n",
       "    </tr>\n",
       "    <tr>\n",
       "      <th>2018-04-30</th>\n",
       "      <td>1.228700</td>\n",
       "      <td>65.806190</td>\n",
       "      <td>1.233427</td>\n",
       "    </tr>\n",
       "    <tr>\n",
       "      <th>2018-05-31</th>\n",
       "      <td>1.183278</td>\n",
       "      <td>69.606818</td>\n",
       "      <td>1.228700</td>\n",
       "    </tr>\n",
       "    <tr>\n",
       "      <th>2018-06-30</th>\n",
       "      <td>1.167586</td>\n",
       "      <td>67.040952</td>\n",
       "      <td>1.183278</td>\n",
       "    </tr>\n",
       "    <tr>\n",
       "      <th>2018-07-31</th>\n",
       "      <td>1.168768</td>\n",
       "      <td>70.948095</td>\n",
       "      <td>1.167586</td>\n",
       "    </tr>\n",
       "    <tr>\n",
       "      <th>2018-08-31</th>\n",
       "      <td>1.155183</td>\n",
       "      <td>69.428696</td>\n",
       "      <td>1.168768</td>\n",
       "    </tr>\n",
       "    <tr>\n",
       "      <th>2018-09-30</th>\n",
       "      <td>1.166070</td>\n",
       "      <td>72.302632</td>\n",
       "      <td>1.155183</td>\n",
       "    </tr>\n",
       "    <tr>\n",
       "      <th>2018-10-31</th>\n",
       "      <td>1.149539</td>\n",
       "      <td>73.293913</td>\n",
       "      <td>1.166070</td>\n",
       "    </tr>\n",
       "    <tr>\n",
       "      <th>2018-11-30</th>\n",
       "      <td>1.136550</td>\n",
       "      <td>58.798095</td>\n",
       "      <td>1.149539</td>\n",
       "    </tr>\n",
       "    <tr>\n",
       "      <th>2018-12-31</th>\n",
       "      <td>1.137548</td>\n",
       "      <td>50.771053</td>\n",
       "      <td>1.136550</td>\n",
       "    </tr>\n",
       "    <tr>\n",
       "      <th>2019-01-31</th>\n",
       "      <td>1.142530</td>\n",
       "      <td>53.353810</td>\n",
       "      <td>1.137548</td>\n",
       "    </tr>\n",
       "    <tr>\n",
       "      <th>2019-02-28</th>\n",
       "      <td>1.135395</td>\n",
       "      <td>56.600526</td>\n",
       "      <td>1.142530</td>\n",
       "    </tr>\n",
       "    <tr>\n",
       "      <th>2019-03-31</th>\n",
       "      <td>1.130976</td>\n",
       "      <td>59.495238</td>\n",
       "      <td>1.135395</td>\n",
       "    </tr>\n",
       "    <tr>\n",
       "      <th>2019-04-30</th>\n",
       "      <td>1.123733</td>\n",
       "      <td>65.234500</td>\n",
       "      <td>1.130976</td>\n",
       "    </tr>\n",
       "  </tbody>\n",
       "</table>\n",
       "</div>"
      ],
      "text/plain": [
       "            EURUSD=X        OIL  EXR_Shifted\n",
       "Date                                        \n",
       "2018-01-31  1.217691  62.261429          NaN\n",
       "2018-02-28  1.235620  61.415789     1.217691\n",
       "2018-03-31  1.233427  62.140000     1.235620\n",
       "2018-04-30  1.228700  65.806190     1.233427\n",
       "2018-05-31  1.183278  69.606818     1.228700\n",
       "2018-06-30  1.167586  67.040952     1.183278\n",
       "2018-07-31  1.168768  70.948095     1.167586\n",
       "2018-08-31  1.155183  69.428696     1.168768\n",
       "2018-09-30  1.166070  72.302632     1.155183\n",
       "2018-10-31  1.149539  73.293913     1.166070\n",
       "2018-11-30  1.136550  58.798095     1.149539\n",
       "2018-12-31  1.137548  50.771053     1.136550\n",
       "2019-01-31  1.142530  53.353810     1.137548\n",
       "2019-02-28  1.135395  56.600526     1.142530\n",
       "2019-03-31  1.130976  59.495238     1.135395\n",
       "2019-04-30  1.123733  65.234500     1.130976"
      ]
     },
     "execution_count": 9,
     "metadata": {},
     "output_type": "execute_result"
    }
   ],
   "source": [
    "dbc_mean"
   ]
  },
  {
   "cell_type": "code",
   "execution_count": 10,
   "metadata": {},
   "outputs": [],
   "source": [
    "dbc_mean['OIL_Shifted'] = dbc_mean['OIL'].shift(1)"
   ]
  },
  {
   "cell_type": "code",
   "execution_count": 11,
   "metadata": {},
   "outputs": [],
   "source": [
    "dbc_mean['VBP_PRICE_EUR'] = dbc_mean['OIL_Shifted']/ dbc_mean['EXR_Shifted'] * 16 + PRODUCTION_COST"
   ]
  },
  {
   "cell_type": "code",
   "execution_count": 13,
   "metadata": {},
   "outputs": [],
   "source": [
    "# dbc_mean"
   ]
  },
  {
   "cell_type": "code",
   "execution_count": 14,
   "metadata": {},
   "outputs": [
    {
     "data": {
      "image/png": "[encoded data removed]",
      "text/plain": [
       "<Figure size 720x360 with 1 Axes>"
      ]
     },
     "metadata": {
      "needs_background": "light"
     },
     "output_type": "display_data"
    }
   ],
   "source": [
    "dbc_mean = dbc_mean[['VBP_PRICE_EUR']]\n",
    "\n",
    "dbc_mean.VBP_PRICE_EUR.plot(figsize=(10,5)) \n",
    "plt.title('Волшебный белый порошок')\n",
    "plt.ylabel(\"евро за тонну\")\n",
    "plt.show()"
   ]
  },
  {
   "cell_type": "code",
   "execution_count": null,
   "metadata": {},
   "outputs": [],
   "source": [
    "dbc_mean"
   ]
  },
  {
   "cell_type": "code",
   "execution_count": null,
   "metadata": {},
   "outputs": [],
   "source": [
    "customers"
   ]
  },
  {
   "cell_type": "code",
   "execution_count": 16,
   "metadata": {},
   "outputs": [],
   "source": [
    "client_info = {'location': 'EU', 'volumes': 200, 'comment': 'moving_average'}\n",
    "discounts = {'up to 100': 0.01, # 1%\n",
    "             'up to 300': 0.05, # 5%\n",
    "             '300 plus': 0.1}\n",
    "# Затраты на производство\n",
    "PRODUCTION_COST = 400 # (EUR)\n",
    "# Расходы на логистику\n",
    "EU_LOGISTIC_COST_EUR = 30 # в Европу в евро\n",
    "CN_LOGISTIC_COST_USD = 130 # в Китай в долларах\n",
    "\n",
    "dop_info = {'pr_cost': PRODUCTION_COST,\n",
    "            'logistic_eu':EU_LOGISTIC_COST_EUR,\n",
    "            'logistic_cn':CN_LOGISTIC_COST_USD\n",
    "            }"
   ]
  },
  {
   "cell_type": "code",
   "execution_count": 17,
   "metadata": {},
   "outputs": [],
   "source": [
    "def price_generator(client_info, data, dop_info=dop_info, discounts=discounts):\n",
    "    if client_info['volumes'] < 100:\n",
    "        discount = discounts['up to 100']\n",
    "    elif 100 <= client_info['volumes'] < 300:\n",
    "        discount = discounts['up to 300']\n",
    "    elif client_info['volumes'] >= 300:\n",
    "        discount = discounts['up to 300']\n",
    "        \n",
    "    if client_info['location'] =='EU':\n",
    "        dbc_mean = data.resample('M').mean()\n",
    "        dbc_mean['EXR_Shifted'] = dbc_mean['EURUSD=X'].shift(1)\n",
    "        dbc_mean['OIL_Shifted'] = dbc_mean['OIL'].shift(1)\n",
    "        dbc_mean['VBP_PRICE_EUR'] = dbc_mean['OIL_Shifted']/ dbc_mean['EXR_Shifted'] * 16 + dop_info['pr_cost']\n",
    "        dbc_mean['VBP_PRICE_EUR_discount'] = dbc_mean['VBP_PRICE_EUR'] * (1-discount)\n",
    "        dbc_mean['VBP_PRICE_EUR_discount_log'] = dbc_mean['VBP_PRICE_EUR_discount'] + dop_info['logistic_eu']\n",
    "    elif client_info['location'] =='CN':\n",
    "        dbc_mean = data.resample('M').mean()\n",
    "        dbc_mean['EXR_Shifted'] = dbc_mean['EURUSD=X'].shift(1)\n",
    "        dbc_mean['OIL_Shifted'] = dbc_mean['OIL'].shift(1)\n",
    "        dbc_mean['VBP_PRICE_USD'] = dbc_mean['OIL_Shifted'] * 16 + dop_info['pr_cost'] * dbc_mean['EXR_Shifted'] \n",
    "        dbc_mean['VBP_PRICE_USD_discount'] = dbc_mean['VBP_PRICE_USD'] * (1-discount)\n",
    "        dbc_mean['VBP_PRICE_USD_discount_log'] = dbc_mean['VBP_PRICE_USD_discount'] + dop_info['logistic_cn']\n",
    "    return dbc_mean"
   ]
  },
  {
   "cell_type": "code",
   "execution_count": 19,
   "metadata": {},
   "outputs": [
    {
     "name": "stdout",
     "output_type": "stream",
     "text": [
      "mkdir: result: File exists\r\n"
     ]
    }
   ],
   "source": [
    "!mkdir result"
   ]
  },
  {
   "cell_type": "code",
   "execution_count": 21,
   "metadata": {},
   "outputs": [],
   "source": [
    "# tabsdict = dict.fromkeys(customers.keys(), pd.DataFrame())\n",
    "tabsdict = {k: price_generator(v, df_both) for k, v in customers.items()}\n"
   ]
  },
  {
   "cell_type": "code",
   "execution_count": null,
   "metadata": {},
   "outputs": [],
   "source": []
  },
  {
   "cell_type": "code",
   "execution_count": 25,
   "metadata": {},
   "outputs": [],
   "source": [
    "def create_one_output_file(tabsdict):\n",
    "    \"\"\"\n",
    "    Записываем все в один файл\n",
    "    \"\"\"\n",
    "    result_fpth = 'result/prices.xlsx'\n",
    "    with pd.ExcelWriter(result_fpth, engine='xlsxwriter') as writer:\n",
    "        for k, tab in tabsdict.items():\n",
    "            tab.to_excel(writer, sheet_name=k)"
   ]
  },
  {
   "cell_type": "code",
   "execution_count": 26,
   "metadata": {},
   "outputs": [],
   "source": [
    "create_one_output_file(tabsdict)"
   ]
  },
  {
   "cell_type": "code",
   "execution_count": null,
   "metadata": {},
   "outputs": [],
   "source": [
    "def create_one_output_file(tabsdict):\n",
    "    \"\"\"\n",
    "    Записываем все в один файл\n",
    "    \"\"\"\n",
    "    result_fpth = 'result/customers/prices.xlsx'\n",
    "    with pd.ExcelWriter(result_fpth, engine='xlsxwriter') as writer:\n",
    "        for k, tab in tabsdict.items():\n",
    "            tab.T.to_excel(writer, sheet_name=k)"
   ]
  },
  {
   "cell_type": "code",
   "execution_count": null,
   "metadata": {},
   "outputs": [],
   "source": [
    "def dir_maker(dirname):\n",
    "    if os.path.isdir(dirname):\n",
    "        print('Директория {} уже существует'.format(dirname))\n",
    "        question = input('Перезаписать? да(y)/(n)')\n",
    "        if question =='y':\n",
    "            shutil.rmtree(dirname)\n",
    "            os.mkdir(dirname)\n",
    "            print('Директория {} пераезаписана'.format(dirname))\n",
    "        elif question == 'n':\n",
    "            break\n",
    "        else:\n",
    "            raise ValueError('Ошибка! Введите либо y либо n.')\n",
    "    else:\n",
    "        os.mkdir(dirname)\n",
    "        print('Директория {} создана'.format(dirname))"
   ]
  },
  {
   "cell_type": "code",
   "execution_count": null,
   "metadata": {},
   "outputs": [],
   "source": [
    "dir_maker('newdir')"
   ]
  },
  {
   "cell_type": "code",
   "execution_count": null,
   "metadata": {},
   "outputs": [],
   "source": [
    "def dir_maker(dirname):\n",
    "    if os.path.isdir(dirname):\n",
    "        print('Директория {} уже существует'.format(dirname))\n",
    "        question = input('Перезаписать? да(y)/(n)')\n",
    "        try:\n",
    "            if question =='y':\n",
    "               pass\n",
    "            elif question == 'n':\n",
    "                pass\n",
    "            else:\n",
    "                raise('Введено неверное значение. Укажите y либо n')\n",
    "        except:\n",
    "            print('wtf')\n",
    "            \n",
    "    else:\n",
    "        os.mkdir(dirname)\n",
    "        print('Директория {}'.format(dirname))\n",
    "\n",
    "\n",
    "\n",
    "def create_output(tabsdict,one_file=True, files_for_clients=False):\n",
    "    \n",
    "    \n",
    "    \n",
    "    \"\"\"\n",
    "    Записываем все в один файл\n",
    "    \"\"\"\n",
    "    result_fpth = 'result/customers/prices.xlsx'\n",
    "    with pd.ExcelWriter(result_fpth, engine='xlsxwriter') as writer:\n",
    "        for k, tab in tabsdict.items():\n",
    "            tab.T.to_excel(writer, sheet_name=k)"
   ]
  },
  {
   "cell_type": "code",
   "execution_count": null,
   "metadata": {},
   "outputs": [],
   "source": []
  },
  {
   "cell_type": "markdown",
   "metadata": {},
   "source": [
    "# Задание 2. Продолжение"
   ]
  },
  {
   "cell_type": "markdown",
   "metadata": {},
   "source": [
    "Клиенты согласились на ваше предложение. \n",
    "Вам нужно сделать написать скрипт, с помощью которого можно автоматом рассчитывать цены для всех клиентов одновременно. \n",
    "Важный момент: данные для расчета скрипт должен подтягивать сам.\n",
    "\n",
    "В результате должно быть 3 файла\n",
    "1. Ноутбук с расчетами и графиками (чтобы данные подтягивались туда)\n",
    "2. Скрипт, который делает расчет цены для клиента (чтобы данные подтягивались туда сами)"
   ]
  },
  {
   "cell_type": "code",
   "execution_count": null,
   "metadata": {},
   "outputs": [],
   "source": [
    "# \n"
   ]
  },
  {
   "cell_type": "markdown",
   "metadata": {},
   "source": [
    "# Задание 3. Back to Russia\n",
    "\n",
    "К вам пришел новый клиент из России. Который использует продукт А и готов регулярно закупать ВБП для того, чтобы не быть привязанным к одному поставщику. Клиент готов забирать ВБП с завода самостоятельно.\n",
    "1. На основе тех данных, которые уже есть предложите цену новому клиенту. \n",
    "2. Подготовьте скрипт, который будет использовать курс публикуемый на <a href='http://www.cbr.ru/currency_base/dynamics/'> сайте ЦБ РФ</a>.\n"
   ]
  },
  {
   "cell_type": "code",
   "execution_count": null,
   "metadata": {},
   "outputs": [],
   "source": [
    "# "
   ]
  },
  {
   "cell_type": "markdown",
   "metadata": {},
   "source": [
    "# Задание 4. Check it"
   ]
  },
  {
   "cell_type": "markdown",
   "metadata": {},
   "source": [
    "* Подумайте, как можно проверить корректность работы алгоритма? \n",
    "* Какие возможны ошибки?\n",
    "* Придумайте тесты для проверки алгоритма\n"
   ]
  },
  {
   "cell_type": "code",
   "execution_count": null,
   "metadata": {},
   "outputs": [],
   "source": [
    "# "
   ]
  }
 ],
 "metadata": {
  "kernelspec": {
   "display_name": "Python 3",
   "language": "python",
   "name": "python3"
  },
  "language_info": {
   "codemirror_mode": {
    "name": "ipython",
    "version": 3
   },
   "file_extension": ".py",
   "mimetype": "text/x-python",
   "name": "python",
   "nbconvert_exporter": "python",
   "pygments_lexer": "ipython3",
   "version": "3.7.3"
  }
 },
 "nbformat": 4,
 "nbformat_minor": 2
}
