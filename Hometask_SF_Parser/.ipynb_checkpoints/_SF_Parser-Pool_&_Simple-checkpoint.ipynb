{
 "cells": [
  {
   "cell_type": "code",
   "execution_count": 18,
   "metadata": {},
   "outputs": [],
   "source": [
    "import requests\n",
    "import pandas as pd\n",
    "from bs4 import BeautifulSoup\n",
    "from tqdm import tqdm_notebook\n",
    "from multiprocessing import Pool\n",
    "import pickle"
   ]
  },
  {
   "cell_type": "code",
   "execution_count": 3,
   "metadata": {},
   "outputs": [],
   "source": [
    "def get_vacs(fpth):\n",
    "    vacs = pd.read_excel(fpth)\n",
    "    vacs = vacs.ids.astype('str').unique().tolist()\n",
    "    vacs = [x for x in vacs if x.isdigit()]\n",
    "    return vacs"
   ]
  },
  {
   "cell_type": "code",
   "execution_count": 6,
   "metadata": {},
   "outputs": [],
   "source": [
    "def links_maker(vacs):\n",
    "    links = []\n",
    "    links_dict = {}\n",
    "    for v_id in vacs:\n",
    "        \n",
    "        url = 'https://career18.sapsf.com/career?'\n",
    "        url += 'career_ns=job_listing&company=paosberbanP2&navBarLevel=JOB_SEARCH&rcm_site_locale=ru_RU&'\n",
    "        url += 'career_job_req_id={}&selected_lang=ru_RU&jobAlertController_jobAlertId'.format(v_id)\n",
    "        url += '=&jobAlertCon=troller_jobAlertName=&_s.crb=ihl8rnb5dyInCnbwshM%2b3Ks%2b%2bCg%3d'\n",
    "        links.append(url)\n",
    "        links_dict[v_id] = url\n",
    "    \n",
    "    return links, links_dict"
   ]
  },
  {
   "cell_type": "code",
   "execution_count": 9,
   "metadata": {},
   "outputs": [],
   "source": [
    "def get_info(url):\n",
    "    res = requests.get(url)\n",
    "    page = res.content\n",
    "    soup = BeautifulSoup(page,'html.parser')\n",
    "    result = soup.find_all(['h1','b','li','ul'])\n",
    "    vac_description = []\n",
    "    for el in result:\n",
    "        vac_description.append(el.text)\n",
    "    return vac_description\n"
   ]
  },
  {
   "cell_type": "code",
   "execution_count": 7,
   "metadata": {},
   "outputs": [],
   "source": [
    "fpth = 'vac_id.xlsx'\n",
    "vacs = get_vacs(fpth)"
   ]
  },
  {
   "cell_type": "code",
   "execution_count": 10,
   "metadata": {},
   "outputs": [],
   "source": [
    "sf_links, sf_links_dict = links_maker(vacs)"
   ]
  },
  {
   "cell_type": "code",
   "execution_count": 14,
   "metadata": {},
   "outputs": [
    {
     "data": {
      "application/vnd.jupyter.widget-view+json": {
       "model_id": "3dbc1e3f0afd49d79d41a71eb9745d47",
       "version_major": 2,
       "version_minor": 0
      },
      "text/plain": [
       "HBox(children=(IntProgress(value=0, max=30), HTML(value='')))"
      ]
     },
     "metadata": {},
     "output_type": "display_data"
    },
    {
     "name": "stdout",
     "output_type": "stream",
     "text": [
      "\n"
     ]
    }
   ],
   "source": [
    "data = []\n",
    "for url in tqdm_notebook(sf_links[:30]):\n",
    "    data.append(get_info(url))"
   ]
  },
  {
   "cell_type": "code",
   "execution_count": 15,
   "metadata": {},
   "outputs": [],
   "source": [
    "with Pool(10) as p:\n",
    "    records = p.map(get_info, sf_links[:30])"
   ]
  },
  {
   "cell_type": "code",
   "execution_count": 21,
   "metadata": {},
   "outputs": [],
   "source": [
    "with open('vacs_records.pkl', 'wb') as f:\n",
    "    pickle.dump(records,f)"
   ]
  },
  {
   "cell_type": "code",
   "execution_count": null,
   "metadata": {},
   "outputs": [],
   "source": []
  }
 ],
 "metadata": {
  "anaconda-cloud": {},
  "kernelspec": {
   "display_name": "Python 3",
   "language": "python",
   "name": "python3"
  },
  "language_info": {
   "codemirror_mode": {
    "name": "ipython",
    "version": 3
   },
   "file_extension": ".py",
   "mimetype": "text/x-python",
   "name": "python",
   "nbconvert_exporter": "python",
   "pygments_lexer": "ipython3",
   "version": "3.7.3"
  }
 },
 "nbformat": 4,
 "nbformat_minor": 1
}
