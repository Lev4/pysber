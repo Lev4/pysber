{
 "cells": [
  {
   "cell_type": "code",
   "execution_count": 12,
   "metadata": {},
   "outputs": [],
   "source": [
    "import requests\n",
    "import pandas as pd\n",
    "from bs4 import BeautifulSoup\n",
    "from tqdm import tqdm_notebook\n",
    "from multiprocessing import Pool"
   ]
  },
  {
   "cell_type": "code",
   "execution_count": 4,
   "metadata": {},
   "outputs": [],
   "source": [
    "vacs = pd.read_excel('vac_id.xlsx')\n",
    "vacs = vacs.ids.astype('str').unique().tolist()\n",
    "vacs = [x for x in vacs if x.isdigit()]"
   ]
  },
  {
   "cell_type": "code",
   "execution_count": null,
   "metadata": {},
   "outputs": [],
   "source": [
    "def links_maker(vacs):\n",
    "    links = []\n",
    "    links_dict = {}\n",
    "    for v_id in vacs:\n",
    "        \n",
    "        url = 'https://career18.sapsf.com/career?'\n",
    "        url += 'career_ns=job_listing&company=paosberbanP2&navBarLevel=JOB_SEARCH&rcm_site_locale=ru_RU&'\n",
    "        url += 'career_job_req_id={}&selected_lang=ru_RU&jobAlertController_jobAlertId'.format(v_id)\n",
    "        url += '=&jobAlertCon=troller_jobAlertName=&_s.crb=ihl8rnb5dyInCnbwshM%2b3Ks%2b%2bCg%3d'\n",
    "        links.append(url)\n",
    "        links_dict[v_id] = url\n",
    "    \n",
    "    return links, links_dict"
   ]
  },
  {
   "cell_type": "code",
   "execution_count": 6,
   "metadata": {},
   "outputs": [],
   "source": [
    "sf_links, sf_links_dict = links_maker(vacs)"
   ]
  },
  {
   "cell_type": "code",
   "execution_count": 9,
   "metadata": {},
   "outputs": [],
   "source": [
    "def get_info(url):\n",
    "    res = requests.get(url)\n",
    "    page = res.content\n",
    "    soup = BeautifulSoup(page,'html.parser')\n",
    "    result = soup.find_all(['h1','b','li','ul'])\n",
    "    vac_description = []\n",
    "    for el in result:\n",
    "        vac_description.append(el.text)\n",
    "    return vac_description\n"
   ]
  },
  {
   "cell_type": "code",
   "execution_count": 11,
   "metadata": {},
   "outputs": [],
   "source": [
    "# get_info(sf_links[1])"
   ]
  },
  {
   "cell_type": "code",
   "execution_count": null,
   "metadata": {},
   "outputs": [],
   "source": [
    "# p = Pool(10)  # Pool tells how many at a time\n",
    "# records = p.map(parse, cars_links)\n",
    "# p.terminate()\n",
    "# p.join()"
   ]
  },
  {
   "cell_type": "code",
   "execution_count": 13,
   "metadata": {},
   "outputs": [],
   "source": [
    "with Pool(10) as p:\n",
    "    records = p.map(get_info, sf_links)"
   ]
  },
  {
   "cell_type": "code",
   "execution_count": 15,
   "metadata": {},
   "outputs": [
    {
     "data": {
      "text/plain": [
       "4036"
      ]
     },
     "execution_count": 15,
     "metadata": {},
     "output_type": "execute_result"
    }
   ],
   "source": [
    "len(records)"
   ]
  },
  {
   "cell_type": "code",
   "execution_count": null,
   "metadata": {},
   "outputs": [],
   "source": []
  }
 ],
 "metadata": {
  "anaconda-cloud": {},
  "kernelspec": {
   "display_name": "Python 3",
   "language": "python",
   "name": "python3"
  },
  "language_info": {
   "codemirror_mode": {
    "name": "ipython",
    "version": 3
   },
   "file_extension": ".py",
   "mimetype": "text/x-python",
   "name": "python",
   "nbconvert_exporter": "python",
   "pygments_lexer": "ipython3",
   "version": "3.7.3"
  }
 },
 "nbformat": 4,
 "nbformat_minor": 1
}
