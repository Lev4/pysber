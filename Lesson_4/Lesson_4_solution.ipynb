{
 "cells": [
  {
   "cell_type": "markdown",
   "metadata": {},
   "source": [
    "# Модули и пакеты\n",
    "* Создание собственного модуля\n",
    "* Создание пакета\n",
    "* Подсистема pip\n",
    "* Краткий обзор стандартной библиотеки\n",
    "* Установка стороннего модуля"
   ]
  },
  {
   "cell_type": "markdown",
   "metadata": {},
   "source": [
    "# Скрипт или модуль ?"
   ]
  },
  {
   "cell_type": "markdown",
   "metadata": {},
   "source": [
    "* Скрипт - это файл с программой, который запускается автономно\n",
    "* Модуль - это файл, который подгружается, чтобы расширить функциональные возмжоности скрипта(программы)"
   ]
  },
  {
   "cell_type": "markdown",
   "metadata": {},
   "source": [
    "<img src=\"img\\run_script.PNG\" width =500 align=left>"
   ]
  },
  {
   "cell_type": "code",
   "execution_count": 42,
   "metadata": {},
   "outputs": [
    {
     "name": "stdout",
     "output_type": "stream",
     "text": [
      "BooBooBoo1\r\n",
      "BooBooBoo2\r\n",
      "BooBooBoo3\r\n"
     ]
    }
   ],
   "source": [
    "!python my_script2.py\n"
   ]
  },
  {
   "cell_type": "code",
   "execution_count": 1,
   "metadata": {},
   "outputs": [],
   "source": [
    "import my_script3"
   ]
  },
  {
   "cell_type": "code",
   "execution_count": 2,
   "metadata": {},
   "outputs": [
    {
     "name": "stdout",
     "output_type": "stream",
     "text": [
      "hello\n"
     ]
    }
   ],
   "source": [
    "my_script3.print_hello()"
   ]
  },
  {
   "cell_type": "code",
   "execution_count": null,
   "metadata": {},
   "outputs": [],
   "source": []
  },
  {
   "cell_type": "code",
   "execution_count": 5,
   "metadata": {},
   "outputs": [
    {
     "name": "stdout",
     "output_type": "stream",
     "text": [
      "Lesson_4.ipynb \u001b[34mimg\u001b[m\u001b[m            my_script.py   my_script3.py  somescript.py\r\n",
      "\u001b[34m__pycache__\u001b[m\u001b[m    my_module.py   my_script2.py  price.html\r\n"
     ]
    }
   ],
   "source": [
    "!ls my_script3.py"
   ]
  },
  {
   "cell_type": "code",
   "execution_count": null,
   "metadata": {},
   "outputs": [],
   "source": [
    "my_script3.py"
   ]
  },
  {
   "cell_type": "code",
   "execution_count": null,
   "metadata": {},
   "outputs": [],
   "source": []
  },
  {
   "cell_type": "markdown",
   "metadata": {},
   "source": [
    "# Модуль или пакет?"
   ]
  },
  {
   "cell_type": "markdown",
   "metadata": {},
   "source": [
    "<img src=\"img\\import-python.jpg\" width =500 align=left>"
   ]
  },
  {
   "cell_type": "markdown",
   "metadata": {},
   "source": [
    "* модуль - это файл с набором функций\n",
    "* пакет - это каталог с одним и более модулями"
   ]
  },
  {
   "cell_type": "code",
   "execution_count": 3,
   "metadata": {},
   "outputs": [],
   "source": [
    "# Пакеты и модули подгружаются командой import\n",
    "# Это можно сделать только 1 раз\n",
    "import pandas"
   ]
  },
  {
   "cell_type": "code",
   "execution_count": 4,
   "metadata": {},
   "outputs": [],
   "source": [
    "# Подгружаемый модуль можно назвать так чтобы было удобно кодить\n",
    "import pandas as pd"
   ]
  },
  {
   "cell_type": "code",
   "execution_count": 5,
   "metadata": {},
   "outputs": [],
   "source": [
    "# Отдельные объекты из пакета можно выгрузить с помощью from ... import ...\n",
    "from datetime import datetime as dt"
   ]
  },
  {
   "cell_type": "code",
   "execution_count": 6,
   "metadata": {},
   "outputs": [],
   "source": [
    "from my_script3 import print_hello"
   ]
  },
  {
   "cell_type": "code",
   "execution_count": 7,
   "metadata": {},
   "outputs": [
    {
     "name": "stdout",
     "output_type": "stream",
     "text": [
      "hello\n"
     ]
    }
   ],
   "source": [
    "print_hello()"
   ]
  },
  {
   "cell_type": "code",
   "execution_count": null,
   "metadata": {},
   "outputs": [],
   "source": []
  },
  {
   "cell_type": "code",
   "execution_count": 26,
   "metadata": {},
   "outputs": [],
   "source": [
    "# Из своего модуля можно также выгрузить нужный объект\n",
    "from my_module import print_boo"
   ]
  },
  {
   "cell_type": "code",
   "execution_count": 1,
   "metadata": {},
   "outputs": [],
   "source": [
    "# Когда мы хотим выгрузить из модуля все, то используем *\n",
    "# Важно! это противоречит дзену питона \n",
    "from my_module import *"
   ]
  },
  {
   "cell_type": "code",
   "execution_count": 3,
   "metadata": {},
   "outputs": [
    {
     "name": "stdout",
     "output_type": "stream",
     "text": [
      "hello\n"
     ]
    }
   ],
   "source": [
    "print_hello()"
   ]
  },
  {
   "cell_type": "markdown",
   "metadata": {},
   "source": [
    "<img src=\"img\\paket_s_paketami.jpeg\" width =500 align=left>"
   ]
  },
  {
   "cell_type": "code",
   "execution_count": null,
   "metadata": {},
   "outputs": [],
   "source": [
    "# В пакете могут быть еще пакеты, например:\n",
    "from sklearn.metrics.pairwise import cosine_similarity"
   ]
  },
  {
   "cell_type": "markdown",
   "metadata": {},
   "source": [
    "\n",
    "<a href=https://scikit-learn.org/stable/modules/classes.html#module-sklearn.base>Подробнее о scikit-learn</a>"
   ]
  },
  {
   "cell_type": "markdown",
   "metadata": {},
   "source": [
    "# Поиск модулей "
   ]
  },
  {
   "cell_type": "markdown",
   "metadata": {},
   "source": [
    "* домашняя директория\n",
    "* директории, указанные в переменной окружения PYTHONPATH\n",
    "* директории Standard library\n",
    "* пути прописанные в .pth файлах\n",
    "* пакеты сторонних разработчиков"
   ]
  },
  {
   "cell_type": "code",
   "execution_count": 4,
   "metadata": {},
   "outputs": [
    {
     "data": {
      "text/plain": [
       "['/Users/lev4/Projects/pycourse/L4',\n",
       " '/Users/lev4/Applications/anaconda/anaconda3/lib/python37.zip',\n",
       " '/Users/lev4/Applications/anaconda/anaconda3/lib/python3.7',\n",
       " '/Users/lev4/Applications/anaconda/anaconda3/lib/python3.7/lib-dynload',\n",
       " '',\n",
       " '/Users/lev4/Applications/anaconda/anaconda3/lib/python3.7/site-packages',\n",
       " '/Users/lev4/Applications/anaconda/anaconda3/lib/python3.7/site-packages/aeosa',\n",
       " '/Users/lev4/Applications/anaconda/anaconda3/lib/python3.7/site-packages/IPython/extensions',\n",
       " '/Users/lev4/.ipython']"
      ]
     },
     "execution_count": 4,
     "metadata": {},
     "output_type": "execute_result"
    }
   ],
   "source": [
    "import sys\n",
    "sys.path"
   ]
  },
  {
   "cell_type": "markdown",
   "metadata": {},
   "source": [
    "# Краткий обзор стандартной библиотеки"
   ]
  },
  {
   "cell_type": "markdown",
   "metadata": {},
   "source": [
    "<a href=https://docs.python.org/3/library/index.html>Подробнее о Стандартной библиотеке</a>"
   ]
  },
  {
   "cell_type": "code",
   "execution_count": null,
   "metadata": {},
   "outputs": [],
   "source": [
    "# pip install .  \n",
    "# из директории в которой находится setup.py\n"
   ]
  },
  {
   "cell_type": "markdown",
   "metadata": {},
   "source": [
    "# Что такое pip?"
   ]
  },
  {
   "cell_type": "markdown",
   "metadata": {},
   "source": [
    "* python install package"
   ]
  },
  {
   "cell_type": "markdown",
   "metadata": {},
   "source": [
    "Большинство пакетов устанавливается с помощью команды pip install из консоли <br>\n",
    " pip install названиебиблиотеки\n"
   ]
  },
  {
   "cell_type": "code",
   "execution_count": null,
   "metadata": {},
   "outputs": [],
   "source": []
  },
  {
   "cell_type": "markdown",
   "metadata": {},
   "source": [
    "* Чтобы установить свой пакет нужно в папке с модулями создать пустой файл __init__.py\n",
    "* в директории, где находится каталог пакета создать файл setup.py\n",
    "* setup.py содержит следующие данные"
   ]
  },
  {
   "cell_type": "markdown",
   "metadata": {},
   "source": [
    "from setuptools import setup <br>\n",
    "<br>\n",
    "setup(name='black',  <br> \n",
    "    version='0.0.1',<br>\n",
    "    description='', <br>\n",
    "    author_email = '', <br>\n",
    "    packages=['black'], <br>\n",
    "    install_requires = [])<br>\n",
    "<hr>\n",
    "* name - это название модуля\n",
    "*"
   ]
  },
  {
   "cell_type": "markdown",
   "metadata": {},
   "source": [
    "# Как установить библиотеки для Python в Сбере?"
   ]
  },
  {
   "cell_type": "markdown",
   "metadata": {},
   "source": [
    "#### Pip Magic words Sigma\n",
    "<hr>\n",
    "pip install --trusted-host pypi.org --trusted-host files.pythonhosted.org имябиблиотеки\n",
    "<hr>\n",
    "\n",
    "####  Pip Magic Alpha\n",
    "\n",
    "\n",
    "1. Создать папку  pip в скрытом каталоге\n",
    "\n",
    "C:\\пользователи\\User\\AppData\\Roaming\n",
    "\n",
    "2. В папке создать файл pip.ini  в котором прописать\n",
    "\n",
    "[global]<br>\n",
    "default-timeout = 60 <br>\n",
    "trusted-host = mirror.ca.sbrf.ru<br>\n",
    "index-url = http://mirror.ca.sbrf.ru/pypi/simple<br>\n",
    "download-cache = /tmp <br>"
   ]
  },
  {
   "cell_type": "markdown",
   "metadata": {},
   "source": [
    "# Практическая часть"
   ]
  },
  {
   "cell_type": "code",
   "execution_count": 9,
   "metadata": {},
   "outputs": [
    {
     "name": "stdout",
     "output_type": "stream",
     "text": [
      "BooBooBoo1\r\n",
      "BooBooBoo2\r\n",
      "BooBooBoo3\r\n"
     ]
    }
   ],
   "source": [
    "# Написать скрипт, который принимает в качестве аргументов длину и ширину\n",
    "# Рассчитвает площадь и выдает значение площади\n",
    "!python my_script2.py"
   ]
  },
  {
   "cell_type": "code",
   "execution_count": 5,
   "metadata": {},
   "outputs": [],
   "source": [
    "def area_calc(a,b):\n",
    "    area = a * b\n",
    "    return area"
   ]
  },
  {
   "cell_type": "code",
   "execution_count": 6,
   "metadata": {},
   "outputs": [
    {
     "data": {
      "text/plain": [
       "50"
      ]
     },
     "execution_count": 6,
     "metadata": {},
     "output_type": "execute_result"
    }
   ],
   "source": [
    "area_calc(5,10)"
   ]
  },
  {
   "cell_type": "code",
   "execution_count": 7,
   "metadata": {},
   "outputs": [],
   "source": [
    "from calc import area_calc"
   ]
  },
  {
   "cell_type": "code",
   "execution_count": 8,
   "metadata": {},
   "outputs": [],
   "source": [
    "import calc"
   ]
  },
  {
   "cell_type": "code",
   "execution_count": 9,
   "metadata": {},
   "outputs": [
    {
     "name": "stdout",
     "output_type": "stream",
     "text": [
      "Lesson_4.ipynb calc.py        my_script.py   price.html\r\n",
      "\u001b[34m__pycache__\u001b[m\u001b[m    \u001b[34mimg\u001b[m\u001b[m            my_script2.py  somescript.py\r\n",
      "\u001b[34mblack\u001b[m\u001b[m          my_module.py   my_script3.py\r\n"
     ]
    }
   ],
   "source": [
    "!ls "
   ]
  },
  {
   "cell_type": "code",
   "execution_count": 10,
   "metadata": {},
   "outputs": [],
   "source": [
    "!cd img"
   ]
  },
  {
   "cell_type": "code",
   "execution_count": 11,
   "metadata": {},
   "outputs": [
    {
     "name": "stdout",
     "output_type": "stream",
     "text": [
      "Lesson_4.ipynb calc.py        my_script.py   price.html\r\n",
      "\u001b[34m__pycache__\u001b[m\u001b[m    \u001b[34mimg\u001b[m\u001b[m            my_script2.py  somescript.py\r\n",
      "\u001b[34mblack\u001b[m\u001b[m          my_module.py   my_script3.py\r\n"
     ]
    }
   ],
   "source": [
    "!ls"
   ]
  },
  {
   "cell_type": "code",
   "execution_count": null,
   "metadata": {},
   "outputs": [],
   "source": [
    "# Написать модуль, который можно будет подгрузить в ноутбук для расчета площади"
   ]
  },
  {
   "cell_type": "code",
   "execution_count": 39,
   "metadata": {},
   "outputs": [],
   "source": [
    "# Создать пакет из которого можно будет подгрузить данный модуль"
   ]
  },
  {
   "cell_type": "markdown",
   "metadata": {},
   "source": [
    "# Pandas & BeutifulSoup"
   ]
  },
  {
   "cell_type": "markdown",
   "metadata": {},
   "source": [
    "<img src=\"img\\soup.png\" width =500 align=left>"
   ]
  },
  {
   "cell_type": "code",
   "execution_count": 12,
   "metadata": {},
   "outputs": [],
   "source": [
    "from bs4 import BeautifulSoup"
   ]
  },
  {
   "cell_type": "code",
   "execution_count": 15,
   "metadata": {},
   "outputs": [],
   "source": [
    "with open('price.html', 'r', encoding='cp1251') as f:\n",
    "    page = f.read()"
   ]
  },
  {
   "cell_type": "code",
   "execution_count": 16,
   "metadata": {},
   "outputs": [],
   "source": [
    "# BeautifulSoup - позволяет доставать текст из HTML из XML тегов\n",
    "soup = BeautifulSoup(page, 'html.parser')"
   ]
  },
  {
   "cell_type": "code",
   "execution_count": 20,
   "metadata": {},
   "outputs": [],
   "source": [
    "# page\n",
    "# soup.prettify"
   ]
  },
  {
   "cell_type": "code",
   "execution_count": 32,
   "metadata": {},
   "outputs": [
    {
     "data": {
      "text/plain": [
       "'1000000001227           \\nБейсболка с логотипом Сбербанк (Белый)\\n63\\n1 000 руб.\\n'"
      ]
     },
     "execution_count": 32,
     "metadata": {},
     "output_type": "execute_result"
    }
   ],
   "source": [
    "soup.find_all('tr')[5].text"
   ]
  },
  {
   "cell_type": "code",
   "execution_count": 64,
   "metadata": {},
   "outputs": [
    {
     "data": {
      "text/plain": [
       "['1000000001227           ',\n",
       " 'Бейсболка с логотипом Сбербанк (Белый)',\n",
       " '63',\n",
       " '1 000 руб.',\n",
       " '']"
      ]
     },
     "execution_count": 64,
     "metadata": {},
     "output_type": "execute_result"
    }
   ],
   "source": [
    "'1000000001227           \\nБейсболка с логотипом Сбербанк (Белый)\\n63\\n1 000 руб.\\n'.split('\\n')"
   ]
  },
  {
   "cell_type": "markdown",
   "metadata": {},
   "source": [
    "# Практическая часть"
   ]
  },
  {
   "cell_type": "code",
   "execution_count": 36,
   "metadata": {},
   "outputs": [],
   "source": [
    "# Сформировать из файла таблицу в пандас\n",
    "# Сделать колонки категория и дата \n",
    "# В них вставить катигории товаров и дату формирования прайса\n",
    "# Цену перевести в числовой формат (убрать руб и пробелы)\n",
    "# Убрать товары, у которых нет остатков\n",
    "# Сохранить табличку в эксель-файл\n",
    "# Посчитать средние цены по категориям\n",
    "# Составить рейтинг самых дорогих товаров по категориям\n",
    "# Посчитать количество товаров у которых есть Сбербанк в названии"
   ]
  },
  {
   "cell_type": "code",
   "execution_count": null,
   "metadata": {},
   "outputs": [],
   "source": [
    "# Написать скрипт, который будет формировать таблицу из price.html и сохранять ее в xlsx файл "
   ]
  },
  {
   "cell_type": "code",
   "execution_count": 33,
   "metadata": {},
   "outputs": [],
   "source": [
    "datalist = []\n",
    "for el in soup.find_all('tr'):\n",
    "    txt = el.text.strip()\n",
    "    datalist.append(txt)"
   ]
  },
  {
   "cell_type": "code",
   "execution_count": 69,
   "metadata": {},
   "outputs": [
    {
     "data": {
      "text/plain": [
       "'Дата формирования 05.09.2019'"
      ]
     },
     "execution_count": 69,
     "metadata": {},
     "output_type": "execute_result"
    }
   ],
   "source": [
    "datalist[1]"
   ]
  },
  {
   "cell_type": "code",
   "execution_count": 36,
   "metadata": {},
   "outputs": [],
   "source": [
    "data_split = [x.split('\\n') for x in datalist]"
   ]
  },
  {
   "cell_type": "code",
   "execution_count": 38,
   "metadata": {},
   "outputs": [],
   "source": [
    "data_split = data_split[4:]"
   ]
  },
  {
   "cell_type": "code",
   "execution_count": 71,
   "metadata": {},
   "outputs": [
    {
     "data": {
      "text/plain": [
       "['1000000001227           ',\n",
       " 'Бейсболка с логотипом Сбербанк (Белый)',\n",
       " '63',\n",
       " '1 000 руб.']"
      ]
     },
     "execution_count": 71,
     "metadata": {},
     "output_type": "execute_result"
    }
   ],
   "source": [
    "data_split[1]"
   ]
  },
  {
   "cell_type": "code",
   "execution_count": 44,
   "metadata": {},
   "outputs": [],
   "source": [
    "tab_dict = {'id':[],'cat':[], 'name':[], 'avail':[],'price':[], 'date':[]}\n",
    "date = '05.09.2019'\n",
    "for el in data_split:\n",
    "#     print(len(el))\n",
    "    if len(el) == 4:\n",
    "        tab_dict['id'].append(el[0].strip())\n",
    "        tab_dict['cat'].append(cat)\n",
    "        tab_dict['name'].append(el[1].strip())\n",
    "        tab_dict['avail'].append(el[2].strip())\n",
    "        tab_dict['price'].append(el[3].strip())\n",
    "        tab_dict['date'].append(date)\n",
    "    elif len(el) == 1:\n",
    "        cat = el[0].strip()\n",
    "    else:\n",
    "        print('check', el)"
   ]
  },
  {
   "cell_type": "code",
   "execution_count": 48,
   "metadata": {},
   "outputs": [],
   "source": [
    "import pandas as pd\n",
    "tab = pd.DataFrame(tab_dict)"
   ]
  },
  {
   "cell_type": "code",
   "execution_count": 60,
   "metadata": {},
   "outputs": [
    {
     "data": {
      "text/html": [
       "<div>\n",
       "<style scoped>\n",
       "    .dataframe tbody tr th:only-of-type {\n",
       "        vertical-align: middle;\n",
       "    }\n",
       "\n",
       "    .dataframe tbody tr th {\n",
       "        vertical-align: top;\n",
       "    }\n",
       "\n",
       "    .dataframe thead th {\n",
       "        text-align: right;\n",
       "    }\n",
       "</style>\n",
       "<table border=\"1\" class=\"dataframe\">\n",
       "  <thead>\n",
       "    <tr style=\"text-align: right;\">\n",
       "      <th></th>\n",
       "      <th>id</th>\n",
       "      <th>cat</th>\n",
       "      <th>name</th>\n",
       "      <th>avail</th>\n",
       "      <th>price</th>\n",
       "      <th>date</th>\n",
       "    </tr>\n",
       "  </thead>\n",
       "  <tbody>\n",
       "    <tr>\n",
       "      <th>0</th>\n",
       "      <td>1000000001227</td>\n",
       "      <td>Аксессуары</td>\n",
       "      <td>Бейсболка с логотипом Сбербанк (Белый)</td>\n",
       "      <td>63</td>\n",
       "      <td>1000</td>\n",
       "      <td>05.09.2019</td>\n",
       "    </tr>\n",
       "    <tr>\n",
       "      <th>1</th>\n",
       "      <td>1000000001228</td>\n",
       "      <td>Аксессуары</td>\n",
       "      <td>Бейсболка с логотипом Сбербанк (Черный)</td>\n",
       "      <td>152</td>\n",
       "      <td>1000</td>\n",
       "      <td>05.09.2019</td>\n",
       "    </tr>\n",
       "    <tr>\n",
       "      <th>2</th>\n",
       "      <td>4600001233641</td>\n",
       "      <td>Аксессуары</td>\n",
       "      <td>Галстук мужской Сбербанк</td>\n",
       "      <td>36</td>\n",
       "      <td>2000</td>\n",
       "      <td>05.09.2019</td>\n",
       "    </tr>\n",
       "    <tr>\n",
       "      <th>3</th>\n",
       "      <td>1000000000666</td>\n",
       "      <td>Аксессуары</td>\n",
       "      <td>Шапка</td>\n",
       "      <td>6</td>\n",
       "      <td>700</td>\n",
       "      <td>05.09.2019</td>\n",
       "    </tr>\n",
       "    <tr>\n",
       "      <th>4</th>\n",
       "      <td>1000000000667</td>\n",
       "      <td>Аксессуары</td>\n",
       "      <td>Шарф</td>\n",
       "      <td>25</td>\n",
       "      <td>900</td>\n",
       "      <td>05.09.2019</td>\n",
       "    </tr>\n",
       "  </tbody>\n",
       "</table>\n",
       "</div>"
      ],
      "text/plain": [
       "              id         cat  ... price        date\n",
       "0  1000000001227  Аксессуары  ...  1000  05.09.2019\n",
       "1  1000000001228  Аксессуары  ...  1000  05.09.2019\n",
       "2  4600001233641  Аксессуары  ...  2000  05.09.2019\n",
       "3  1000000000666  Аксессуары  ...   700  05.09.2019\n",
       "4  1000000000667  Аксессуары  ...   900  05.09.2019\n",
       "\n",
       "[5 rows x 6 columns]"
      ]
     },
     "execution_count": 60,
     "metadata": {},
     "output_type": "execute_result"
    }
   ],
   "source": [
    "tab.head()"
   ]
  },
  {
   "cell_type": "code",
   "execution_count": 52,
   "metadata": {},
   "outputs": [],
   "source": [
    "tab.price = tab.price.apply(lambda x:x.replace('руб.',''))"
   ]
  },
  {
   "cell_type": "code",
   "execution_count": 55,
   "metadata": {},
   "outputs": [],
   "source": [
    "tab.price = tab.price.apply(lambda x:int(''.join(x.split(' '))))"
   ]
  },
  {
   "cell_type": "code",
   "execution_count": 58,
   "metadata": {},
   "outputs": [],
   "source": [
    "tab = tab[tab.avail != '-']"
   ]
  },
  {
   "cell_type": "code",
   "execution_count": 59,
   "metadata": {},
   "outputs": [],
   "source": [
    "tab.to_excel('price.xlsx', index=False)"
   ]
  },
  {
   "cell_type": "code",
   "execution_count": 73,
   "metadata": {},
   "outputs": [
    {
     "data": {
      "text/html": [
       "<div>\n",
       "<style scoped>\n",
       "    .dataframe tbody tr th:only-of-type {\n",
       "        vertical-align: middle;\n",
       "    }\n",
       "\n",
       "    .dataframe tbody tr th {\n",
       "        vertical-align: top;\n",
       "    }\n",
       "\n",
       "    .dataframe thead th {\n",
       "        text-align: right;\n",
       "    }\n",
       "</style>\n",
       "<table border=\"1\" class=\"dataframe\">\n",
       "  <thead>\n",
       "    <tr style=\"text-align: right;\">\n",
       "      <th></th>\n",
       "      <th>cat</th>\n",
       "      <th>price</th>\n",
       "    </tr>\n",
       "  </thead>\n",
       "  <tbody>\n",
       "    <tr>\n",
       "      <th>0</th>\n",
       "      <td>Ёлочные украшения</td>\n",
       "      <td>1500.000000</td>\n",
       "    </tr>\n",
       "    <tr>\n",
       "      <th>1</th>\n",
       "      <td>Аксессуары</td>\n",
       "      <td>1266.666667</td>\n",
       "    </tr>\n",
       "    <tr>\n",
       "      <th>2</th>\n",
       "      <td>Аксессуары для путешествий</td>\n",
       "      <td>1250.000000</td>\n",
       "    </tr>\n",
       "    <tr>\n",
       "      <th>3</th>\n",
       "      <td>Ароматизаторы</td>\n",
       "      <td>1500.000000</td>\n",
       "    </tr>\n",
       "    <tr>\n",
       "      <th>4</th>\n",
       "      <td>Бижутерия, ювелирные изделия</td>\n",
       "      <td>2500.000000</td>\n",
       "    </tr>\n",
       "  </tbody>\n",
       "</table>\n",
       "</div>"
      ],
      "text/plain": [
       "                            cat        price\n",
       "0             Ёлочные украшения  1500.000000\n",
       "1                    Аксессуары  1266.666667\n",
       "2    Аксессуары для путешествий  1250.000000\n",
       "3                 Ароматизаторы  1500.000000\n",
       "4  Бижутерия, ювелирные изделия  2500.000000"
      ]
     },
     "execution_count": 73,
     "metadata": {},
     "output_type": "execute_result"
    }
   ],
   "source": [
    "cat_prices = tab.groupby('cat')['price'].mean().reset_index()\n",
    "cat_prices.head()"
   ]
  },
  {
   "cell_type": "code",
   "execution_count": null,
   "metadata": {},
   "outputs": [],
   "source": []
  }
 ],
 "metadata": {
  "kernelspec": {
   "display_name": "Python 3",
   "language": "python",
   "name": "python3"
  },
  "language_info": {
   "codemirror_mode": {
    "name": "ipython",
    "version": 3
   },
   "file_extension": ".py",
   "mimetype": "text/x-python",
   "name": "python",
   "nbconvert_exporter": "python",
   "pygments_lexer": "ipython3",
   "version": "3.7.3"
  }
 },
 "nbformat": 4,
 "nbformat_minor": 2
}
