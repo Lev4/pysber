{
 "cells": [
  {
   "cell_type": "markdown",
   "metadata": {},
   "source": [
    "# Модули и пакеты\n",
    "* Создание собственного модуля\n",
    "* Создание пакета\n",
    "* Подсистема pip\n",
    "* Краткий обзор стандартной библиотеки\n",
    "* Установка стороннего модуля"
   ]
  },
  {
   "cell_type": "markdown",
   "metadata": {},
   "source": [
    "# Скрипт или модуль ?"
   ]
  },
  {
   "cell_type": "markdown",
   "metadata": {},
   "source": [
    "* Скрипт - это файл с программой, который запускается автономно\n",
    "* Модуль - это файл, который подгружается, чтобы расширить функциональные возмжоности скрипта(программы)"
   ]
  },
  {
   "cell_type": "markdown",
   "metadata": {},
   "source": [
    "<img src=\"img\\run_script.PNG\" width =500 align=left>"
   ]
  },
  {
   "cell_type": "code",
   "execution_count": null,
   "metadata": {},
   "outputs": [],
   "source": []
  },
  {
   "cell_type": "code",
   "execution_count": null,
   "metadata": {},
   "outputs": [],
   "source": []
  },
  {
   "cell_type": "markdown",
   "metadata": {},
   "source": [
    "# Модуль или пакет?"
   ]
  },
  {
   "cell_type": "markdown",
   "metadata": {},
   "source": [
    "<img src=\"img\\import-python.jpg\" width =500 align=left>"
   ]
  },
  {
   "cell_type": "markdown",
   "metadata": {},
   "source": [
    "* модуль - это файл с набором функций\n",
    "* пакет - это каталог с одним и более модулями"
   ]
  },
  {
   "cell_type": "code",
   "execution_count": 13,
   "metadata": {},
   "outputs": [],
   "source": [
    "# Пакеты и модули подгружаются командой import\n",
    "# Это можно сделать только 1 раз\n",
    "import pandas"
   ]
  },
  {
   "cell_type": "code",
   "execution_count": null,
   "metadata": {},
   "outputs": [],
   "source": [
    "# Подгружаемый модуль можно назвать так чтобы было удобно кодить\n",
    "import pandas as np"
   ]
  },
  {
   "cell_type": "code",
   "execution_count": 14,
   "metadata": {},
   "outputs": [],
   "source": [
    "# Отдельные объекты из пакета можно выгрузить с помощью from ... import ...\n",
    "from datetime import datetime as dt"
   ]
  },
  {
   "cell_type": "code",
   "execution_count": 26,
   "metadata": {},
   "outputs": [],
   "source": [
    "# Из своего модуля можно также выгрузить нужный объект\n",
    "from my_module import print_hello_it"
   ]
  },
  {
   "cell_type": "code",
   "execution_count": 28,
   "metadata": {},
   "outputs": [],
   "source": [
    "# Когда мы хотим выгрузить из модуля все, то используем *\n",
    "# Важно! это противоречит дзену питона \n",
    "from my_module import *"
   ]
  },
  {
   "cell_type": "code",
   "execution_count": 29,
   "metadata": {},
   "outputs": [
    {
     "name": "stdout",
     "output_type": "stream",
     "text": [
      "PRiVED\n"
     ]
    }
   ],
   "source": [
    "print_hello_ru() "
   ]
  },
  {
   "cell_type": "markdown",
   "metadata": {},
   "source": [
    "<img src=\"img\\paket_s_paketami.jpeg\" width =500 align=left>"
   ]
  },
  {
   "cell_type": "code",
   "execution_count": null,
   "metadata": {},
   "outputs": [],
   "source": [
    "# В пакете могут быть еще пакеты, например:\n",
    "from sklearn.metrics.pairwise import cosine_similarity"
   ]
  },
  {
   "cell_type": "markdown",
   "metadata": {},
   "source": [
    "\n",
    "<a href=https://scikit-learn.org/stable/modules/classes.html#module-sklearn.base>Подробнее о scikit-learn</a>"
   ]
  },
  {
   "cell_type": "markdown",
   "metadata": {},
   "source": [
    "# Поиск модулей "
   ]
  },
  {
   "cell_type": "markdown",
   "metadata": {},
   "source": [
    "* домашняя директория\n",
    "* директории, указанные в переменной окружения PYTHONPATH\n",
    "* директории Standard library\n",
    "* пути прописанные в .pth файлах\n",
    "* пакеты сторонних разработчиков"
   ]
  },
  {
   "cell_type": "code",
   "execution_count": 1,
   "metadata": {},
   "outputs": [
    {
     "data": {
      "text/plain": [
       "['/Users/lev4/Projects/pycourse/L4',\n",
       " '/Users/lev4/Applications/anaconda/anaconda3/lib/python37.zip',\n",
       " '/Users/lev4/Applications/anaconda/anaconda3/lib/python3.7',\n",
       " '/Users/lev4/Applications/anaconda/anaconda3/lib/python3.7/lib-dynload',\n",
       " '',\n",
       " '/Users/lev4/Applications/anaconda/anaconda3/lib/python3.7/site-packages',\n",
       " '/Users/lev4/Applications/anaconda/anaconda3/lib/python3.7/site-packages/aeosa',\n",
       " '/Users/lev4/Applications/anaconda/anaconda3/lib/python3.7/site-packages/IPython/extensions',\n",
       " '/Users/lev4/.ipython']"
      ]
     },
     "execution_count": 1,
     "metadata": {},
     "output_type": "execute_result"
    }
   ],
   "source": [
    "import sys\n",
    "sys.path"
   ]
  },
  {
   "cell_type": "markdown",
   "metadata": {},
   "source": [
    "# Краткий обзор стандартной библиотеки"
   ]
  },
  {
   "cell_type": "markdown",
   "metadata": {},
   "source": [
    "<a href=https://docs.python.org/3/library/index.html>Подробнее о Стандартной библиотеке</a>"
   ]
  },
  {
   "cell_type": "markdown",
   "metadata": {},
   "source": [
    "# Что такое pip?"
   ]
  },
  {
   "cell_type": "markdown",
   "metadata": {},
   "source": [
    "* python install package"
   ]
  },
  {
   "cell_type": "markdown",
   "metadata": {},
   "source": [
    "# Как установить библиотеки для Python в Сбере?"
   ]
  },
  {
   "cell_type": "markdown",
   "metadata": {},
   "source": [
    "#### Pip Magic words Sigma\n",
    "<hr>\n",
    "pip install --trusted-host pypi.org --trusted-host files.pythonhosted.org имябиблиотеки\n",
    "<hr>\n",
    "\n",
    "####  Pip Magic Alpha\n",
    "\n",
    "\n",
    "1. Создать папку  pip в скрытом каталоге\n",
    "\n",
    "C:\\пользователи\\User\\AppData\\Roaming\n",
    "\n",
    "2. В папке создать файл pip.ini  в котором прописать\n",
    "\n",
    "[global]<br>\n",
    "default-timeout = 60 <br>\n",
    "trusted-host = mirror.ca.sbrf.ru<br>\n",
    "index-url = http://mirror.ca.sbrf.ru/pypi/simple<br>\n",
    "download-cache = /tmp <br>"
   ]
  },
  {
   "cell_type": "markdown",
   "metadata": {},
   "source": [
    "# Практическая часть"
   ]
  },
  {
   "cell_type": "code",
   "execution_count": null,
   "metadata": {},
   "outputs": [],
   "source": [
    "# Написать скрипт, который принимает в качестве аргументов длину и ширину\n",
    "# Рассчитвает площадь и выдает значение площади"
   ]
  },
  {
   "cell_type": "code",
   "execution_count": null,
   "metadata": {},
   "outputs": [],
   "source": [
    "# Написать модуль, который можно будет подгрузить в ноутбук для расчета площади"
   ]
  },
  {
   "cell_type": "code",
   "execution_count": 39,
   "metadata": {},
   "outputs": [],
   "source": [
    "# Создать пакет из которого можно будет подгрузить данный модуль"
   ]
  },
  {
   "cell_type": "markdown",
   "metadata": {},
   "source": [
    "# Pandas & BeutifulSoup"
   ]
  },
  {
   "cell_type": "markdown",
   "metadata": {},
   "source": [
    "<img src=\"img\\soup.png\" width =500 align=left>"
   ]
  },
  {
   "cell_type": "code",
   "execution_count": 22,
   "metadata": {},
   "outputs": [],
   "source": [
    "from bs4 import BeautifulSoup"
   ]
  },
  {
   "cell_type": "code",
   "execution_count": null,
   "metadata": {},
   "outputs": [],
   "source": [
    "with open('price.html', 'r', encoding='cp1251') as f:\n",
    "    page = f.read()"
   ]
  },
  {
   "cell_type": "code",
   "execution_count": 23,
   "metadata": {},
   "outputs": [],
   "source": [
    "# BeautifulSoup - позволяет доставать текст из HTML из XML тегов\n",
    "soup = BeautifulSoup(page, 'html.parser')"
   ]
  },
  {
   "cell_type": "code",
   "execution_count": 34,
   "metadata": {},
   "outputs": [],
   "source": [
    "# page\n",
    "# soup.prettify"
   ]
  },
  {
   "cell_type": "code",
   "execution_count": 31,
   "metadata": {},
   "outputs": [
    {
     "data": {
      "text/plain": [
       "['1000000001227           ',\n",
       " 'Бейсболка с логотипом Сбербанк (Белый)',\n",
       " '63',\n",
       " '1 000 руб.']"
      ]
     },
     "execution_count": 31,
     "metadata": {},
     "output_type": "execute_result"
    }
   ],
   "source": [
    "\n",
    "soup.find_all('tr')[].text.strip().split('\\n')"
   ]
  },
  {
   "cell_type": "markdown",
   "metadata": {},
   "source": [
    "# Практическая часть"
   ]
  },
  {
   "cell_type": "code",
   "execution_count": 36,
   "metadata": {},
   "outputs": [],
   "source": [
    "# Сформировать из файла таблицу в пандас\n",
    "# Сделать колонки категория и дата \n",
    "# В них вставить катигории товаров и дату формирования прайса\n",
    "# Цену перевести в числовой формат (убрать руб и пробелы)\n",
    "# Убрать товары, у которых нет остатков\n",
    "# Сохранить табличку в эксель-файл\n",
    "# Посчитать средние цены по категориям\n",
    "# Составить рейтинг самых дорогих товаров по категориям\n",
    "# Посчитать количество товаров у которых есть Сбербанк в названии"
   ]
  },
  {
   "cell_type": "code",
   "execution_count": null,
   "metadata": {},
   "outputs": [],
   "source": [
    "# Написать скрипт, который будет формировать таблицу из price.html и сохранять ее в xlsx файл "
   ]
  }
 ],
 "metadata": {
  "kernelspec": {
   "display_name": "Python 3",
   "language": "python",
   "name": "python3"
  },
  "language_info": {
   "codemirror_mode": {
    "name": "ipython",
    "version": 3
   },
   "file_extension": ".py",
   "mimetype": "text/x-python",
   "name": "python",
   "nbconvert_exporter": "python",
   "pygments_lexer": "ipython3",
   "version": "3.7.3"
  }
 },
 "nbformat": 4,
 "nbformat_minor": 2
}
